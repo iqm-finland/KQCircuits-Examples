{
 "cells": [
  {
   "cell_type": "markdown",
   "metadata": {
    "collapsed": true,
    "pycharm": {
     "name": "#%% md\n"
    }
   },
   "source": [
    "# KQCircuits PCell Viewer\n",
    "\n",
    "Lightweight option for viewing/testing pcells under development."
   ]
  },
  {
   "cell_type": "markdown",
   "metadata": {},
   "source": [
    "## Configuration"
   ]
  },
  {
   "cell_type": "code",
   "execution_count": null,
   "metadata": {
    "pycharm": {
     "is_executing": false,
     "name": "#%%\n"
    }
   },
   "outputs": [],
   "source": [
    "# ------------------------------------------------------------\n",
    "# IMPORTS\n",
    "# ------------------------------------------------------------\n",
    "import sys\n",
    "import json\n",
    "import time\n",
    "import shutil\n",
    "import logging\n",
    "from pathlib import Path\n",
    "from importlib import import_module\n",
    "\n",
    "# Python library for handling GDSII files\n",
    "import gdspy\n",
    "# Notebook display tools\n",
    "from IPython.display import display, SVG\n",
    "# KLayout standalone Python library\n",
    "import klayout.db as pya\n",
    "\n",
    "# KQCircuits helper modules\n",
    "from kqcircuits.util import library_helper\n",
    "from kqcircuits.defaults import TMP_PATH\n",
    "\n",
    "logging.basicConfig(\n",
    "    level=logging.DEBUG,\n",
    "    stream=sys.stdout,\n",
    "    format=\"%(asctime)s:%(levelname)s:%(name)s:%(funcName)s:%(message)s\",\n",
    "    datefmt=\"%Y-%m-%d %H:%M:%S\"\n",
    ")\n",
    "\n",
    "# ------------------------------------------------------------\n",
    "# INPUT\n",
    "# ------------------------------------------------------------\n",
    "class_name = \"Chip\"\n",
    "module_name = library_helper.to_module_name(class_name)\n",
    "# Override default parameters as needed\n",
    "parameters = {}\n",
    "# View options\n",
    "use_timestamp = False\n",
    "scale = 0.05\n",
    "show_gds = False\n",
    "show_svg = True\n",
    "\n",
    "# ------------------------------------------------------------\n",
    "# VIEW CONFIGURATION\n",
    "# ------------------------------------------------------------\n",
    "library_name = library_helper.to_library_name(class_name)\n",
    "\n",
    "# import module\n",
    "try:\n",
    "    module = import_module(\"kqcircuits.elements.\" + module_name)\n",
    "except ImportError:\n",
    "    try:\n",
    "        module = import_module(\"kqcircuits.chips.\" + module_name)\n",
    "    except ImportError:\n",
    "        try:\n",
    "            module = import_module(\"kqcircuits.test_structures.\" + module_name)\n",
    "        except ImportError as e:\n",
    "            raise Exception(\"Failed to find module {}.\".format(module_name)) from e\n",
    "\n",
    "# get class\n",
    "cls = getattr(module, class_name)\n",
    "\n",
    "# get default parameters\n",
    "params = cls().get_parameters()\n",
    "defaults = {}\n",
    "for p in params:\n",
    "    defaults[p.name] = p.default if isinstance(p.default, (str, int, float, bool)) else str(p.default)\n",
    "\n",
    "# print configuration\n",
    "print(\"MODULE NAME: {}\".format(module_name))\n",
    "print(\"CLASS NAME: {}\".format(class_name))\n",
    "print(\"LIBRARY NAME: {}\".format(library_name))\n",
    "print()\n",
    "print(\"PARAMETERS\")\n",
    "print(\"----------\")\n",
    "print(\"DEFAULT: {}\".format(json.dumps(defaults, indent=2)))\n",
    "print(\"INPUT: {}\".format(json.dumps(parameters, indent=2)))\n",
    "print()\n",
    "print(\"OPTIONS\")\n",
    "print(\"----------\")\n",
    "print(\"USE TIMESTAMP: {}\".format(use_timestamp))\n",
    "print(\"SCALE: {}\".format(scale))\n",
    "print(\"SHOW GDS: {}\".format(show_gds))\n",
    "print(\"SHOW SVG: {}\".format(show_svg))\n"
   ]
  },
  {
   "cell_type": "markdown",
   "metadata": {},
   "source": [
    "## Images"
   ]
  },
  {
   "cell_type": "code",
   "execution_count": null,
   "metadata": {
    "pycharm": {
     "is_executing": false,
     "name": "#%%\n"
    },
    "scrolled": false
   },
   "outputs": [],
   "source": [
    "# ------------------------------------------------------------\n",
    "# IMAGE VARIABLES\n",
    "# ------------------------------------------------------------\n",
    "\n",
    "# Derive image directory name\n",
    "if use_timestamp:\n",
    "    timestamp = time.strftime(\"%Y%m%d-%H%M%S\")\n",
    "    dir_name = timestamp + \"_\" + module_name + \"_images\"\n",
    "else:\n",
    "    dir_name = module_name + \"_images\"\n",
    "\n",
    "# Create temporary image directory\n",
    "dir_path = Path(TMP_PATH).joinpath(dir_name)\n",
    "if dir_path.exists():\n",
    "    if dir_path.is_dir():\n",
    "        shutil.rmtree(dir_path)\n",
    "dir_path.mkdir()\n",
    "\n",
    "# Define paths for storing image files\n",
    "gds_path = dir_path.joinpath(module_name + \".gds\")\n",
    "svg_path = dir_path.joinpath(module_name + \".svg\")\n",
    "\n",
    "# ------------------------------------------------------------\n",
    "# CREATE & EXPORT LAYOUT\n",
    "# ------------------------------------------------------------\n",
    "layout = pya.Layout()\n",
    "top = layout.create_cell(\"top\")\n",
    "cell = cls.create(layout, **parameters)\n",
    "\n",
    "top.insert(pya.DCellInstArray(cell.cell_index(), pya.DTrans()))\n",
    "\n",
    "# Export to gds\n",
    "layout.write(str(gds_path))\n",
    "\n",
    "# Export to svg\n",
    "if show_svg:\n",
    "    gdspy_library = gdspy.GdsLibrary(infile=str(gds_path))\n",
    "    gdspy_library.cells[library_name.replace(\" \", \"$\")].write_svg(str(svg_path), scaling=scale)\n",
    "\n",
    "# ------------------------------------------------------------\n",
    "# VIEW SVG\n",
    "# ------------------------------------------------------------\n",
    "if show_svg:\n",
    "    svg_image = SVG(str(svg_path))\n",
    "    display(svg_image)\n",
    "\n",
    "# ------------------------------------------------------------\n",
    "# VIEW GDS\n",
    "# ------------------------------------------------------------\n",
    "if show_gds:\n",
    "    gdspy.LayoutViewer()\n",
    "\n",
    "# clean up gdspy library\n",
    "gdspy.current_library = gdspy.GdsLibrary()"
   ]
  }
 ],
 "metadata": {
  "kernelspec": {
   "display_name": "Python 3",
   "language": "python",
   "name": "python3"
  },
  "language_info": {
   "codemirror_mode": {
    "name": "ipython",
    "version": 3
   },
   "file_extension": ".py",
   "mimetype": "text/x-python",
   "name": "python",
   "nbconvert_exporter": "python",
   "pygments_lexer": "ipython3",
   "version": "3.11.1"
  },
  "pycharm": {
   "stem_cell": {
    "cell_type": "raw",
    "metadata": {
     "collapsed": false
    },
    "source": []
   }
  },
  "vscode": {
   "interpreter": {
    "hash": "3d6579f7303cea9db7b8bd3feb2e86f7be7a2c865889568472741b011634d6d8"
   }
  }
 },
 "nbformat": 4,
 "nbformat_minor": 1
}
