{
 "cells": [
  {
   "cell_type": "markdown",
   "metadata": {},
   "source": [
    "# Optimising simulations for a generic loss function\n",
    "\n",
    "This notebook showcases optimising a design for some generic loss function $\\mathcal{L}$ using an event loop calling **Elmer** or **HFSS**.\n",
    "As such, this notebook should be run on a machine with the simulation software, KLayout and necessary Python packages installed.\n",
    "This is similar to Ansys Optimetrics but more general due to supporting arbitrary KQCircuits geometry,\n",
    "Elmer and, any search algorithms and schedulers.\n",
    "The current implementation requires installing [`ray`](https://docs.ray.io/en/releases-2.0.0/index.html)\n",
    "```bash\n",
    "pip install \"ray[tune]\"==2.1.0\n",
    "```\n",
    "and the optimisers generally demand additional manual installation. For example, this notebook employs [`Optuna`](https://optuna.readthedocs.io/en/stable/) and we need to also install:\n",
    "```bash\n",
    "pip install optuna==3.0.4 botorch==0.7.3 scikit-learn==1.1.3 plotly==5.11.0\n",
    "```\n",
    "Newer versions may work but these are the ones the notebook was written with.\n",
    "\n",
    "## Workflow\n",
    "\n",
    "1. Supply your ``Simulation`` class, `sim_parameters`, and `export_parameters` as usual in the [Simulation settings](#simulation-settings)\n",
    "2. Implement fetching simulation results for your use case and a meaningful loss function $\\mathcal{L}$ in the [Loss settings](#loss-settings) section.\n",
    "3. Specify the variables that can be varied by the optimiser and their ranges in [Optimisation settings](#optimisation-settings). See [Ray Tune - Random Distributions API](https://docs.ray.io/en/releases-2.0.0/tune/api_docs/search_space.html?highlight=quniform#random-distributions-api) for possible (and custom) distributions.\n",
    "4. Select your optimiser and its settings. You can also try using a simpler framework, such as, `scipy`, `pytorch`, `tensorflow` etc. See [Ray Tune - Search Algorithms](https://docs.ray.io/en/releases-2.0.0/tune/api_docs/suggestion.html) for algorithms with support out-of-the-box.\n",
    "5. Run the optimiser (`ray` tuning)\n",
    "6. View the results! You can manipulate the DataFrame, or use [Tensorboard](https://www.tensorflow.org/tensorboard) to view the data in the same folder as this notebook:\n",
    "   ```bash\n",
    "   pip install tensorboard\n",
    "   tensorboard --logdir=./ray_results\n",
    "   ```\n",
    "\n",
    "\n",
    "The _toy example_ implemented in this notebook is optimising the qubit $C_\\Sigma$ ``DoublePads`` to be $65\\,\\text{fF}$."
   ]
  },
  {
   "cell_type": "code",
   "execution_count": 1,
   "metadata": {},
   "outputs": [],
   "source": [
    "import os\n",
    "import re\n",
    "import json\n",
    "import shutil\n",
    "import subprocess\n",
    "import importlib\n",
    "from copy import deepcopy\n",
    "from pathlib import Path\n",
    "from functools import partial\n",
    "from datetime import datetime\n",
    "\n",
    "import pandas as pd\n",
    "import ray\n",
    "import ray.air\n",
    "import ray.air.session\n",
    "from ray import tune\n",
    "\n",
    "from kqcircuits.pya_resolver import pya\n",
    "from kqcircuits.defaults import STARTUPINFO\n",
    "from kqcircuits.util.geometry_json_encoder import GeometryJsonEncoder\n",
    "from kqcircuits.simulations.export.ansys.ansys_export import export_ansys\n",
    "from kqcircuits.simulations.export.elmer.elmer_export import export_elmer\n",
    "from kqcircuits.simulations.export.simulation_export import export_simulation_oas\n",
    "from kqcircuits.util.export_helper import create_or_empty_tmp_directory, get_active_or_new_layout\n",
    "\n",
    "if os.environ.get('KQC_TMP_PATH') is None:\n",
    "    os.environ['KQC_TMP_PATH'] = os.getcwd()\n",
    "original_kqc_tmp_path = os.environ['KQC_TMP_PATH']"
   ]
  },
  {
   "cell_type": "markdown",
   "metadata": {},
   "source": [
    "### Please set the location of your interpreter for `.sh` files\n",
    "\n",
    "Some examples are given below"
   ]
  },
  {
   "cell_type": "code",
   "execution_count": 2,
   "metadata": {},
   "outputs": [],
   "source": [
    "# Please set the location of your interpreter for `.sh` files, some examples are given below.\n",
    "# The interpreter will be called with `-c SCRIPT.sh`.\n",
    "# If this does not work, try adjusting the `subprocess.run` call later in the notebook\n",
    "sh_interpreter = 'sh'\n",
    "sh_interpreter = shutil.which('bash') if os.name != 'nt' else 'wsl -e bash'  # use WSL on Windows\n",
    "sh_interpreter = r'C:\\Program Files\\Git\\bin\\bash.exe'\n",
    "\n",
    "if shutil.which(sh_interpreter) is None:\n",
    "    raise FileNotFoundError(f\"Your shell `{sh_interpreter=}` is not found! Please set it to a working shell.\")\n",
    "\n",
    "tool = ['ansys', 'elmer'][1]\n",
    "# This needs to be only as high as the number of licenses when using Ansys\n",
    "n_workers = 4 if tool == 'elmer' else 1  # first-level parellelisation\n",
    "n_processes = 4 if tool == 'elmer' else 5  # second-level parellelisation"
   ]
  },
  {
   "cell_type": "markdown",
   "metadata": {},
   "source": [
    "## Implement helper functions"
   ]
  },
  {
   "cell_type": "code",
   "execution_count": 3,
   "metadata": {},
   "outputs": [],
   "source": [
    "def create_and_export_sim(params, sim_class, sim_parameters, export_parameters, i):\n",
    "    \"\"\"Creates and exports a :class:`.Simulation` with given parameters.\n",
    "\n",
    "    Arguments:\n",
    "        params: Iteration-specific parameters to use. Combined with ``sim_parameters``.\n",
    "        sim_class (Simulation): Given simulation. Should be loadable from a module (not anonymous).\n",
    "        sim_parameters (dict): Dict of nominal simulation parameters.\n",
    "        export_parameters (dict): Dict of simulation export parameters. May be for Ansys or Elmer\n",
    "        i (str): Unique identifier for this iteration.\n",
    "\n",
    "    Returns:\n",
    "        dir_path: Path to exported simulations folder.\n",
    "    \"\"\"\n",
    "\n",
    "    # Find corresponding class, has to be done this way to avoid pickling\n",
    "    module = importlib.import_module(sim_class[0])\n",
    "    sim_class = getattr(module, sim_class[1])\n",
    "\n",
    "    sim_parameters['name'] = sim_parameters['name'] + f\"_opt_{i}\"\n",
    "    dir_path = create_or_empty_tmp_directory(sim_parameters['name'])\n",
    "    export_parameters = {'path': dir_path, **export_parameters}\n",
    "\n",
    "    # Get layout\n",
    "    layout = get_active_or_new_layout()\n",
    "\n",
    "    # Nominal simulation\n",
    "    simulations = [sim_class(layout, **{\n",
    "        **sim_parameters,\n",
    "        **params\n",
    "    })]\n",
    "\n",
    "    if 'ansys_tool' in export_parameters:\n",
    "        export_ansys(simulations, **export_parameters)\n",
    "    else:\n",
    "        export_elmer(simulations, **export_parameters)\n",
    "\n",
    "    # Write oas files\n",
    "    export_simulation_oas(simulations, dir_path)\n",
    "\n",
    "    return dir_path"
   ]
  },
  {
   "cell_type": "markdown",
   "metadata": {},
   "source": [
    "Implement small serializer for DBoxes, as it is often needed in `sim_parameters`."
   ]
  },
  {
   "cell_type": "code",
   "execution_count": 4,
   "metadata": {},
   "outputs": [],
   "source": [
    "def dbox_serializer(dbox):\n",
    "    return GeometryJsonEncoder.encode_geometry(dbox)\n",
    "\n",
    "def dbox_deserializer(o):\n",
    "    return pya.DBox(\n",
    "        pya.DPoint(o[0][0], o[0][1]), pya.DPoint(o[1][1], o[1][1])\n",
    "    )\n",
    "\n",
    "ray.util.register_serializer(pya.DBox, serializer=dbox_serializer, deserializer=dbox_deserializer)"
   ]
  },
  {
   "cell_type": "markdown",
   "metadata": {},
   "source": [
    "## Simulation settings\n",
    "\n",
    "Specify simulation export settings as normal"
   ]
  },
  {
   "cell_type": "code",
   "execution_count": 5,
   "metadata": {},
   "outputs": [],
   "source": [
    "# pylint: disable=invalid-name,wrong-import-position\n",
    "from kqcircuits.simulations.double_pads_sim import DoublePadsSim\n",
    "\n",
    "sim_class = DoublePadsSim\n",
    "\n",
    "# Nominal simulation parameters\n",
    "sim_parameters = {\n",
    "    'name': re.sub(r'(?<!^)(?=[A-Z])', '_', sim_class.__name__).lower(),  # convert to snake_case\n",
    "    'use_internal_ports': True,\n",
    "    'use_ports': True,\n",
    "    'internal_island_ports': True,\n",
    "    'box': pya.DBox(pya.DPoint(0,0), pya.DPoint(2000, 2000)),\n",
    "    'face_stack': ['1t1'],\n",
    "}\n",
    "\n",
    "#########\n",
    "# Ansys #\n",
    "#########\n",
    "\n",
    "export_parameters_ansys_q3d = {\n",
    "    'ansys_tool': 'q3d',\n",
    "    'exit_after_run': True,\n",
    "    'percent_error': 0.3,\n",
    "    'minimum_converged_passes': 2,\n",
    "    'maximum_passes': 20,\n",
    "}\n",
    "\n",
    "# These are not used for capacitance computations\n",
    "export_parameters_ansys_epr = {\n",
    "    'ansys_tool': 'eigenmode',\n",
    "    'exit_after_run': True,\n",
    "    'max_delta_f': 0.05,\n",
    "\n",
    "    # do two passes with tight mesh\n",
    "    'gap_max_element_length': 24,\n",
    "    'maximum_passes': 15,\n",
    "    'minimum_passes': 1,\n",
    "    'minimum_converged_passes': 2,\n",
    "\n",
    "    # lossy eigenmode simulation settings\n",
    "    'n_modes': 1,\n",
    "    'frequency': 0.5,  # minimum allowed eigenfrequency\n",
    "    'simulation_flags': ['pyepr'],\n",
    "\n",
    "    # run T1 analysis with pyEPR between simulations\n",
    "    'intermediate_processing_command': 'python \"scripts/t1_estimate.py\"',\n",
    "    'participation_sheet_distance': 5e-3,  # in µm\n",
    "\n",
    "    'substrate_loss_tangent': 1e-6,\n",
    "    'dielectric_surfaces': {\n",
    "        'layerMA': {\n",
    "            'tan_delta_surf': 0.001,  # loss tangent\n",
    "            'th': 4.8e-9,  # thickness in m\n",
    "            'eps_r': 10,  # relative permittivity\n",
    "        },\n",
    "        'layerMS': {\n",
    "            'tan_delta_surf': 0.001,\n",
    "            'th': 0.3e-9,  # estimate worst case\n",
    "            'eps_r': 10,\n",
    "        },\n",
    "        'layerSA': {\n",
    "            'tan_delta_surf': 0.001,\n",
    "            'th': 2.4e-9,\n",
    "            'eps_r': 10,\n",
    "        }\n",
    "    },\n",
    "}\n",
    "\n",
    "#########\n",
    "# Elmer #\n",
    "#########\n",
    "\n",
    "export_parameters_elmer = {\n",
    "    'tool': 'capacitance',\n",
    "    'workflow': {\n",
    "        'python_executable': 'python',  # use 'kqclib' when using singularity\n",
    "        'run_gmsh_gui': False,\n",
    "        'elmer_n_processes': n_processes,  # -1 means all the physical cores\n",
    "        'gmsh_n_threads': n_processes,\n",
    "    },\n",
    "    'mesh_size': {\n",
    "        'global_max': 60.,\n",
    "        'gap&signal': [2., 4.],\n",
    "        'gap&ground': [2., 4.],\n",
    "        'port': [1., 4.],\n",
    "    },\n",
    "    'linear_system_method': 'mg',\n",
    "    'p_element_order': 2,\n",
    "}"
   ]
  },
  {
   "cell_type": "markdown",
   "metadata": {},
   "source": [
    "We choose to use Elmer for the capacitance simulations"
   ]
  },
  {
   "cell_type": "code",
   "execution_count": 6,
   "metadata": {},
   "outputs": [],
   "source": [
    "export_parameters = export_parameters_elmer  # use Elmer\n",
    "# export_parameters = export_parameters_ansys_epr  # use Ansys + pyEPR"
   ]
  },
  {
   "cell_type": "markdown",
   "metadata": {},
   "source": [
    "## Loss settings\n",
    "\n",
    "These need to be adjusted to fit your specific use case.\n",
    "The optimiser is set to minimise. If you want to maximise, you can modify $\\mathcal{L} \\to -\\mathcal{L}$.\n",
    "Furthermore, the simplest way to attain a specific value is to set the loss function to\n",
    "$$\n",
    "\\mathcal{L}(x) = \\left| x_\\text{desired} - x \\right|\n",
    "$$\n",
    "This is not differentiable at $\\mathcal{L}(x_\\text{desired})$, but appears to work decently.\n",
    "A common alternative is to use the mean squared error ($L_2$-norm)."
   ]
  },
  {
   "cell_type": "code",
   "execution_count": 7,
   "metadata": {},
   "outputs": [],
   "source": [
    "def load_results_Q(dir_path):\n",
    "    \"\"\"Function to load simulation results. Input is simulation folder path.\"\"\"\n",
    "    result_file = list(Path(dir_path).rglob('Qdata*.csv'))[0]\n",
    "    df = pd.read_csv(result_file)\n",
    "    return df.iloc[0].to_dict()\n",
    "\n",
    "\n",
    "def loss_Q(data):\n",
    "    r\"\"\"Loss function :math:`$\\mathcal(L)` to minimum loss :math:`\\delta`.\"\"\"\n",
    "    Q = data['Q_total']\n",
    "    return 1 / Q, Q\n",
    "\n",
    "\n",
    "def load_results_capacitance(dir_path):\n",
    "    \"\"\"Function to load simulation results. Input is simulation folder path.\"\"\"\n",
    "    result_file = list(Path(dir_path).rglob('*_project_results.json'))[0]\n",
    "    with open(result_file) as fp:\n",
    "        data = json.load(fp)\n",
    "    return data\n",
    "\n",
    "\n",
    "def loss_C_Sigma_two_islands(data, C):\n",
    "    r\"\"\" Data argument is a dict with `CMatrix` key of a 3x3 capacitance matrix with a coupler as the last port.\n",
    "    See “Design and modelling of long-coherence qubits using energy participation ratios”, Niko Savola, Appendix B.\n",
    "\n",
    "    Returns:\n",
    "        loss: MSE loss to target ``C``\n",
    "        C_Sigma: absolute value for :math:`C_\\Sigma`\n",
    "    \"\"\"\n",
    "    CMatrix = data['CMatrix']\n",
    "\n",
    "    C_theta = (CMatrix[0][0] + CMatrix[0][2] + CMatrix[1][1] + CMatrix[1][2])\n",
    "    C_q = CMatrix[0][1] + ((CMatrix[0][0] + CMatrix[0][2]) * (CMatrix[1][1] + CMatrix[1][2])) / C_theta\n",
    "    C_r = CMatrix[0][2] + CMatrix[1][2] + CMatrix[2][2] - (CMatrix[0][2] + CMatrix[1][2]) ** 2 / C_theta\n",
    "    C_qr = (CMatrix[0][2] * CMatrix[1][1] - CMatrix[1][2] * CMatrix[0][0]) / C_theta\n",
    "\n",
    "    C_sigma = C_q - C_qr ** 2 / C_r\n",
    "    return ((C - C_sigma) * 1e15) ** 2, C_sigma\n",
    "\n",
    "\n",
    "def loss_capacitance(data, C, i=0, j=0):\n",
    "    r\"\"\"Loss function :math:`$\\mathcal(L)` to get certain capacitance.\n",
    "\n",
    "    Arguments:\n",
    "        data: simulation results dictionary containing ``CMatrix``\n",
    "        C: desired capacitance in farads\n",
    "        i: first index for the desired capacitance from the ``CMatrix``\n",
    "        j: second index for the desired capacitance from the ``CMatrix``\n",
    "\n",
    "    Returns:\n",
    "        loss: The computed loss\n",
    "        x: Value with which the loss was computed\n",
    "\n",
    "    Usage:\n",
    "\n",
    "        .. code-block:: python\n",
    "\n",
    "            from functools import partial\n",
    "            loss = partial(lossC, C=50e-15, i=1, j=0)\n",
    "            # Do the following inside the event loop\n",
    "            results = load_results(dir_path)\n",
    "            score = loss(results)\n",
    "    \"\"\"\n",
    "    C_sim = data['CMatrix'][i][j]\n",
    "    return ((C - C_sim) * 1e15) ** 2, C_sim  # Optimiser might get confused by small numbers"
   ]
  },
  {
   "cell_type": "markdown",
   "metadata": {},
   "source": [
    "Select your loss function to use"
   ]
  },
  {
   "cell_type": "code",
   "execution_count": 8,
   "metadata": {},
   "outputs": [],
   "source": [
    "load_results = load_results_capacitance\n",
    "\n",
    "# loss = partial(loss_capacitance, C=100e-15, i=0, j=1)\n",
    "loss = partial(loss_C_Sigma_two_islands, C=65e-15)\n",
    "\n",
    "# load_results = load_results_Q\n",
    "# loss = loss_Q"
   ]
  },
  {
   "cell_type": "markdown",
   "metadata": {},
   "source": [
    "## Optimisation settings\n",
    "\n",
    "Specify parameter search spaces, optimiser (such as ``HyperOptSearch``), possible scheduler, maximum iterations,\n",
    "and parallel workers (only with Elmer)."
   ]
  },
  {
   "cell_type": "code",
   "execution_count": 9,
   "metadata": {},
   "outputs": [
    {
     "name": "stderr",
     "output_type": "stream",
     "text": [
      "C:\\Users\\NikoSavola\\AppData\\Local\\Temp\\ipykernel_18148\\3479706229.py:52: ExperimentalWarning: BoTorchSampler is experimental (supported from v2.4.0). The interface can change in the future.\n",
      "  sampler=optuna.integration.BoTorchSampler(constraints_func=constraints),\n"
     ]
    }
   ],
   "source": [
    "search_config = {\n",
    "    'params': {\n",
    "        'island1_extent_[0]': tune.uniform(200, 700),\n",
    "        'island1_extent_[1]': tune.uniform(50, 500),\n",
    "\n",
    "        'island2_extent_[0]': tune.uniform(200, 700),\n",
    "        'island2_extent_[1]': tune.uniform(50, 300),\n",
    "\n",
    "        'coupler_extent[0]': tune.uniform(40, 500),\n",
    "        'coupler_extent[1]': tune.uniform(20, 40),\n",
    "        'coupler_offset': tune.uniform(5, 50),\n",
    "\n",
    "        'ground_gap_[0]': tune.uniform(550, 1000),\n",
    "        'ground_gap_[1]': tune.uniform(400, 1000),\n",
    "\n",
    "        'squid_offset': tune.uniform(-20, 0),\n",
    "        'island1_r': tune.uniform(0, 50),\n",
    "        'island2_r': tune.uniform(0, 50),\n",
    "    },\n",
    "}\n",
    "\n",
    "def constraints(trial):\n",
    "    \"\"\" Return Sequence of (soft) constraints for the optimiser. Positive values are punished and <= 0 are ok.\n",
    "    See optuna.readthedocs.io/en/stable/reference/generated/optuna.integration.BoTorchSampler.html for details.\n",
    "    \"\"\"\n",
    "    c0 = trial.params['params/ground_gap'] + trial.params['params/r_outer'] - 150\n",
    "    c1 = trial.params['params/r_inner'] - trial.params['params/r_outer']  # negative is ok\n",
    "    return [c0, c1]  # tries to optimise equal to 0\n",
    "\n",
    "# Avoid more pickling of KLayout classes and don't show these as search params\n",
    "create_and_export = partial(\n",
    "    create_and_export_sim,\n",
    "    sim_parameters=sim_parameters,\n",
    "    export_parameters=export_parameters,\n",
    "    sim_class=(sim_class.__module__, sim_class.__name__),  # we avoid pickling the class by loading this way\n",
    ")\n",
    "\n",
    "# Import chosen optimiser and scheduler. NB: Selecting a new optimiser often requires you to install a separate package\n",
    "# See https://docs.ray.io/en/releases-2.0.0/tune/api_docs/suggestion.html\n",
    "\n",
    "# pylint: disable=wrong-import-position,ungrouped-imports\n",
    "from ray.tune.search.optuna import OptunaSearch\n",
    "import optuna\n",
    "import joblib  # shold come with Optuna\n",
    "\n",
    "\n",
    "tune_config = tune.TuneConfig(\n",
    "    metric=(metric := 'score'),\n",
    "    mode=(mode := 'min'),\n",
    "    search_alg=(optuna_search := OptunaSearch(\n",
    "        # If you want soft constraints\n",
    "        sampler=optuna.integration.BoTorchSampler(constraints_func=constraints),\n",
    "        # sampler=optuna.integration.BoTorchSampler(),\n",
    "        metric=[metric],  #, 'outer_island_width'],\n",
    "        mode=[mode]  #, 'min'],\n",
    "    )),\n",
    "    ## Examples of other possible optimisers (search algorithms)\n",
    "    # search_alg=BayesOptSearch(),\n",
    "    # search_alg=HEBOSearch(),\n",
    "    # search_alg=DragonflySearch(\n",
    "    #     metric='score',\n",
    "    #     mode='min',\n",
    "    #     optimizer='bandit',\n",
    "    #     domain='Euclidean'\n",
    "    # ),\n",
    "    max_concurrent_trials=n_workers,  # Has to be 1 for Ansys, may be more for Elmer\n",
    "    num_samples=50,  # max iterations, can be -1 for infinite\n",
    "    time_budget_s=0,  # Time after which optimisation is stopped. May be useful along with ``num_samples=-1``.\n",
    ")"
   ]
  },
  {
   "cell_type": "code",
   "execution_count": 10,
   "metadata": {},
   "outputs": [],
   "source": [
    "def event_loop(config):\n",
    "    config_edited = deepcopy(config)\n",
    "\n",
    "    # Combine parameters with the following format to single array param:\n",
    "    #   param_[0] + param_[1] -> param = [param_[0], param_[1]]\n",
    "    arr_match = r'[a-z_]+_\\[(\\d)\\]$'\n",
    "    for key in list(config['params'].keys()):\n",
    "        if re.match(arr_match, key):\n",
    "            arr_key = re.sub(r'_\\[(\\d)\\]$', '', key)\n",
    "            config_edited['params'][arr_key] = config_edited['params'].get(arr_key, []) + [config_edited['params'][key]]\n",
    "\n",
    "    dir_path = create_and_export(i=ray.air.session.get_trial_id(), **config_edited)\n",
    "    use_ansys = 'ansys_tool' in create_and_export.keywords['export_parameters']\n",
    "\n",
    "    subprocess.run(\n",
    "        ['simulation.bat'] if use_ansys else [sh_interpreter, '-c', './simulation.sh'],\n",
    "        cwd=dir_path,\n",
    "        shell=True,\n",
    "        check=True,\n",
    "        startupinfo=STARTUPINFO\n",
    "    )\n",
    "\n",
    "    results = load_results(dir_path)\n",
    "    score, x = loss(results)\n",
    "    return {'score': score, 'value': x}\n",
    "    # For multi-objective, just return the different loss functions and specify in `metric`, e.g.\n",
    "    # from math import prod\n",
    "    # return {'score': score, 'value': x, 'island1_size': math.prod(config['params']['island1_extent'])}"
   ]
  },
  {
   "cell_type": "markdown",
   "metadata": {},
   "source": [
    "## Run optimisation\n",
    "\n",
    "Start a Tune run and print the results."
   ]
  },
  {
   "cell_type": "code",
   "execution_count": 11,
   "metadata": {},
   "outputs": [
    {
     "data": {
      "text/html": [
       "<div class=\"tuneStatus\">\n",
       "  <div style=\"display: flex;flex-direction: row\">\n",
       "    <div style=\"display: flex;flex-direction: column;\">\n",
       "      <h3>Tune Status</h3>\n",
       "      <table>\n",
       "<tbody>\n",
       "<tr><td>Current time:</td><td>2023-02-23 09:47:51</td></tr>\n",
       "<tr><td>Running for: </td><td>00:18:44.34        </td></tr>\n",
       "<tr><td>Memory:      </td><td>47.9/63.8 GiB      </td></tr>\n",
       "</tbody>\n",
       "</table>\n",
       "    </div>\n",
       "    <div class=\"vDivider\"></div>\n",
       "    <div class=\"systemInfo\">\n",
       "      <h3>System Info</h3>\n",
       "      Using FIFO scheduling algorithm.<br>Resources requested: 0/20 CPUs, 0/1 GPUs, 0.0/10.96 GiB heap, 0.0/5.48 GiB objects\n",
       "    </div>\n",
       "    \n",
       "  </div>\n",
       "  <div class=\"hDivider\"></div>\n",
       "  <div class=\"trialStatus\">\n",
       "    <h3>Trial Status</h3>\n",
       "    <table>\n",
       "<thead>\n",
       "<tr><th>Trial name         </th><th>status    </th><th>loc            </th><th style=\"text-align: right;\">         params/coupler_exten\n",
       "t[0]</th><th style=\"text-align: right;\">        params/coupler_exten\n",
       "t[1]</th><th style=\"text-align: right;\">         params/coupler_offse\n",
       "t</th><th style=\"text-align: right;\">        params/ground_gap_[0\n",
       "]</th><th style=\"text-align: right;\">        params/ground_gap_[1\n",
       "]</th><th style=\"text-align: right;\">        params/island1_exten\n",
       "t_[0]</th><th style=\"text-align: right;\">         params/island1_exten\n",
       "t_[1]</th><th style=\"text-align: right;\">  params/island1_r</th><th style=\"text-align: right;\">        params/island2_exten\n",
       "t_[0]</th><th style=\"text-align: right;\">         params/island2_exten\n",
       "t_[1]</th><th style=\"text-align: right;\">  params/island2_r</th><th style=\"text-align: right;\">  params/squid_offset</th><th style=\"text-align: right;\">  iter</th><th style=\"text-align: right;\">  total time (s)</th><th style=\"text-align: right;\">       score</th><th style=\"text-align: right;\">      value</th></tr>\n",
       "</thead>\n",
       "<tbody>\n",
       "<tr><td>event_loop_823e98c5</td><td>TERMINATED</td><td>127.0.0.1:4344 </td><td style=\"text-align: right;\">209.509 </td><td style=\"text-align: right;\">20.2576</td><td style=\"text-align: right;\">27.9083 </td><td style=\"text-align: right;\">980.836</td><td style=\"text-align: right;\">500.147</td><td style=\"text-align: right;\">612.198</td><td style=\"text-align: right;\">299.446 </td><td style=\"text-align: right;\">          39.7173 </td><td style=\"text-align: right;\">347.268</td><td style=\"text-align: right;\">158.301 </td><td style=\"text-align: right;\">          39.2245 </td><td style=\"text-align: right;\">       -18.5871      </td><td style=\"text-align: right;\">     1</td><td style=\"text-align: right;\">         93.9648</td><td style=\"text-align: right;\">10.4825     </td><td style=\"text-align: right;\">6.17623e-14</td></tr>\n",
       "<tr><td>event_loop_56301854</td><td>TERMINATED</td><td>127.0.0.1:38012</td><td style=\"text-align: right;\">248.2   </td><td style=\"text-align: right;\">28.4104</td><td style=\"text-align: right;\">30.1686 </td><td style=\"text-align: right;\">848.422</td><td style=\"text-align: right;\">567.944</td><td style=\"text-align: right;\">230.71 </td><td style=\"text-align: right;\">396.079 </td><td style=\"text-align: right;\">           1.18805</td><td style=\"text-align: right;\">565.924</td><td style=\"text-align: right;\">107.273 </td><td style=\"text-align: right;\">          42.3637 </td><td style=\"text-align: right;\">       -10.052       </td><td style=\"text-align: right;\">     1</td><td style=\"text-align: right;\">         91.7877</td><td style=\"text-align: right;\"> 8.79112    </td><td style=\"text-align: right;\">6.2035e-14 </td></tr>\n",
       "<tr><td>event_loop_2a16782d</td><td>TERMINATED</td><td>127.0.0.1:38044</td><td style=\"text-align: right;\">436.94  </td><td style=\"text-align: right;\">28.4079</td><td style=\"text-align: right;\">27.4186 </td><td style=\"text-align: right;\">779.465</td><td style=\"text-align: right;\">447.487</td><td style=\"text-align: right;\">684.074</td><td style=\"text-align: right;\"> 96.3014</td><td style=\"text-align: right;\">          34.5951 </td><td style=\"text-align: right;\">267.753</td><td style=\"text-align: right;\"> 58.5735</td><td style=\"text-align: right;\">          21.2085 </td><td style=\"text-align: right;\">       -10.7541      </td><td style=\"text-align: right;\">     1</td><td style=\"text-align: right;\">         91.7674</td><td style=\"text-align: right;\"> 3.07764    </td><td style=\"text-align: right;\">6.32457e-14</td></tr>\n",
       "<tr><td>event_loop_f61dd65b</td><td>TERMINATED</td><td>127.0.0.1:38076</td><td style=\"text-align: right;\">206.252 </td><td style=\"text-align: right;\">35.6711</td><td style=\"text-align: right;\">44.9783 </td><td style=\"text-align: right;\">978.27 </td><td style=\"text-align: right;\">625.973</td><td style=\"text-align: right;\">422.699</td><td style=\"text-align: right;\">170.804 </td><td style=\"text-align: right;\">          40.3369 </td><td style=\"text-align: right;\">363.347</td><td style=\"text-align: right;\">115.216 </td><td style=\"text-align: right;\">           7.11985</td><td style=\"text-align: right;\">       -14.2288      </td><td style=\"text-align: right;\">     1</td><td style=\"text-align: right;\">         91.7594</td><td style=\"text-align: right;\">11.4717     </td><td style=\"text-align: right;\">6.1613e-14 </td></tr>\n",
       "<tr><td>event_loop_15960e5d</td><td>TERMINATED</td><td>127.0.0.1:38012</td><td style=\"text-align: right;\">288.069 </td><td style=\"text-align: right;\">23.4503</td><td style=\"text-align: right;\">19.0867 </td><td style=\"text-align: right;\">667.892</td><td style=\"text-align: right;\">733.465</td><td style=\"text-align: right;\">643.741</td><td style=\"text-align: right;\"> 91.3118</td><td style=\"text-align: right;\">           7.97314</td><td style=\"text-align: right;\">297.323</td><td style=\"text-align: right;\">218.706 </td><td style=\"text-align: right;\">          17.4162 </td><td style=\"text-align: right;\">        -5.31894     </td><td style=\"text-align: right;\">     1</td><td style=\"text-align: right;\">         94.8032</td><td style=\"text-align: right;\"> 4.00967    </td><td style=\"text-align: right;\">6.29976e-14</td></tr>\n",
       "<tr><td>event_loop_380a6cdd</td><td>TERMINATED</td><td>127.0.0.1:38044</td><td style=\"text-align: right;\">454.864 </td><td style=\"text-align: right;\">33.4984</td><td style=\"text-align: right;\">29.0367 </td><td style=\"text-align: right;\">939.157</td><td style=\"text-align: right;\">960.561</td><td style=\"text-align: right;\">666.906</td><td style=\"text-align: right;\">211.413 </td><td style=\"text-align: right;\">          26.5504 </td><td style=\"text-align: right;\">489.229</td><td style=\"text-align: right;\">133.783 </td><td style=\"text-align: right;\">           5.64099</td><td style=\"text-align: right;\">       -17.9381      </td><td style=\"text-align: right;\">     1</td><td style=\"text-align: right;\">         95.5553</td><td style=\"text-align: right;\"> 9.35747    </td><td style=\"text-align: right;\">6.1941e-14 </td></tr>\n",
       "<tr><td>event_loop_e8c6c9b5</td><td>TERMINATED</td><td>127.0.0.1:38076</td><td style=\"text-align: right;\">312.042 </td><td style=\"text-align: right;\">39.5259</td><td style=\"text-align: right;\">36.7338 </td><td style=\"text-align: right;\">993.275</td><td style=\"text-align: right;\">812.575</td><td style=\"text-align: right;\">604.206</td><td style=\"text-align: right;\">204.202 </td><td style=\"text-align: right;\">          21.3516 </td><td style=\"text-align: right;\">655.366</td><td style=\"text-align: right;\">192.271 </td><td style=\"text-align: right;\">          20.0509 </td><td style=\"text-align: right;\">        -2.26898     </td><td style=\"text-align: right;\">     1</td><td style=\"text-align: right;\">         95.4416</td><td style=\"text-align: right;\">10.2889     </td><td style=\"text-align: right;\">6.17924e-14</td></tr>\n",
       "<tr><td>event_loop_bb83199c</td><td>TERMINATED</td><td>127.0.0.1:29316</td><td style=\"text-align: right;\">191.699 </td><td style=\"text-align: right;\">35.5191</td><td style=\"text-align: right;\">38.4626 </td><td style=\"text-align: right;\">990.176</td><td style=\"text-align: right;\">567.111</td><td style=\"text-align: right;\">294.865</td><td style=\"text-align: right;\">358.75  </td><td style=\"text-align: right;\">          34.7226 </td><td style=\"text-align: right;\">618.338</td><td style=\"text-align: right;\">184.38  </td><td style=\"text-align: right;\">          38.6426 </td><td style=\"text-align: right;\">       -19.08        </td><td style=\"text-align: right;\">     1</td><td style=\"text-align: right;\">         93.0262</td><td style=\"text-align: right;\">13.6237     </td><td style=\"text-align: right;\">6.1309e-14 </td></tr>\n",
       "<tr><td>event_loop_e6dad067</td><td>TERMINATED</td><td>127.0.0.1:13080</td><td style=\"text-align: right;\">128.78  </td><td style=\"text-align: right;\">31.3855</td><td style=\"text-align: right;\">29.2718 </td><td style=\"text-align: right;\">835.946</td><td style=\"text-align: right;\">635.084</td><td style=\"text-align: right;\">495.913</td><td style=\"text-align: right;\"> 54.3099</td><td style=\"text-align: right;\">          47.8427 </td><td style=\"text-align: right;\">467.246</td><td style=\"text-align: right;\">184.122 </td><td style=\"text-align: right;\">           0.88789</td><td style=\"text-align: right;\">       -19.8971      </td><td style=\"text-align: right;\">     1</td><td style=\"text-align: right;\">         90.9472</td><td style=\"text-align: right;\">11.5748     </td><td style=\"text-align: right;\">6.15978e-14</td></tr>\n",
       "<tr><td>event_loop_f048f78d</td><td>TERMINATED</td><td>127.0.0.1:36204</td><td style=\"text-align: right;\">237.675 </td><td style=\"text-align: right;\">22.4317</td><td style=\"text-align: right;\">13.3298 </td><td style=\"text-align: right;\">609.955</td><td style=\"text-align: right;\">522.537</td><td style=\"text-align: right;\">406.119</td><td style=\"text-align: right;\">241.213 </td><td style=\"text-align: right;\">          33.1944 </td><td style=\"text-align: right;\">571.839</td><td style=\"text-align: right;\"> 68.1594</td><td style=\"text-align: right;\">          10.14   </td><td style=\"text-align: right;\">        -1.07402     </td><td style=\"text-align: right;\">     1</td><td style=\"text-align: right;\">         90.5398</td><td style=\"text-align: right;\"> 1.60815    </td><td style=\"text-align: right;\">6.37319e-14</td></tr>\n",
       "<tr><td>event_loop_28a3a46b</td><td>TERMINATED</td><td>127.0.0.1:23080</td><td style=\"text-align: right;\">445.658 </td><td style=\"text-align: right;\">32.0543</td><td style=\"text-align: right;\">47.1917 </td><td style=\"text-align: right;\">945.303</td><td style=\"text-align: right;\">582.622</td><td style=\"text-align: right;\">563.175</td><td style=\"text-align: right;\">108.686 </td><td style=\"text-align: right;\">          32.3795 </td><td style=\"text-align: right;\">364.578</td><td style=\"text-align: right;\"> 84.8089</td><td style=\"text-align: right;\">           4.6911 </td><td style=\"text-align: right;\">        -0.970639    </td><td style=\"text-align: right;\">     1</td><td style=\"text-align: right;\">         91.367 </td><td style=\"text-align: right;\"> 8.54068    </td><td style=\"text-align: right;\">6.20776e-14</td></tr>\n",
       "<tr><td>event_loop_b45e4727</td><td>TERMINATED</td><td>127.0.0.1:35028</td><td style=\"text-align: right;\">323.422 </td><td style=\"text-align: right;\">33.6007</td><td style=\"text-align: right;\">33.2605 </td><td style=\"text-align: right;\">866.616</td><td style=\"text-align: right;\">656.019</td><td style=\"text-align: right;\">695.811</td><td style=\"text-align: right;\">364.743 </td><td style=\"text-align: right;\">          31.9816 </td><td style=\"text-align: right;\">426.264</td><td style=\"text-align: right;\">269.496 </td><td style=\"text-align: right;\">          21.6049 </td><td style=\"text-align: right;\">       -18.595       </td><td style=\"text-align: right;\">     1</td><td style=\"text-align: right;\">         91.2884</td><td style=\"text-align: right;\">10.2784     </td><td style=\"text-align: right;\">6.1794e-14 </td></tr>\n",
       "<tr><td>event_loop_3b052a9c</td><td>TERMINATED</td><td>127.0.0.1:22500</td><td style=\"text-align: right;\"> 48.3881</td><td style=\"text-align: right;\">34.3054</td><td style=\"text-align: right;\">21.8738 </td><td style=\"text-align: right;\">642.67 </td><td style=\"text-align: right;\">495.235</td><td style=\"text-align: right;\">692.512</td><td style=\"text-align: right;\"> 82.7201</td><td style=\"text-align: right;\">          32.5073 </td><td style=\"text-align: right;\">585.383</td><td style=\"text-align: right;\">169.08  </td><td style=\"text-align: right;\">          25.5823 </td><td style=\"text-align: right;\">        -1.22931     </td><td style=\"text-align: right;\">     1</td><td style=\"text-align: right;\">         94.3372</td><td style=\"text-align: right;\"> 3.6527     </td><td style=\"text-align: right;\">6.30888e-14</td></tr>\n",
       "<tr><td>event_loop_349b2a9d</td><td>TERMINATED</td><td>127.0.0.1:18952</td><td style=\"text-align: right;\">261.915 </td><td style=\"text-align: right;\">22.8021</td><td style=\"text-align: right;\">14.5815 </td><td style=\"text-align: right;\">621.99 </td><td style=\"text-align: right;\">534.344</td><td style=\"text-align: right;\">453.538</td><td style=\"text-align: right;\">214.288 </td><td style=\"text-align: right;\">          30.5958 </td><td style=\"text-align: right;\">519.23 </td><td style=\"text-align: right;\"> 80.1225</td><td style=\"text-align: right;\">          11.7045 </td><td style=\"text-align: right;\">        -1.94536     </td><td style=\"text-align: right;\">     1</td><td style=\"text-align: right;\">         93.5652</td><td style=\"text-align: right;\"> 2.0608     </td><td style=\"text-align: right;\">6.35645e-14</td></tr>\n",
       "<tr><td>event_loop_1c4008b9</td><td>TERMINATED</td><td>127.0.0.1:23080</td><td style=\"text-align: right;\">260.572 </td><td style=\"text-align: right;\">22.7903</td><td style=\"text-align: right;\">14.5491 </td><td style=\"text-align: right;\">621.9  </td><td style=\"text-align: right;\">534.137</td><td style=\"text-align: right;\">451.104</td><td style=\"text-align: right;\">215.239 </td><td style=\"text-align: right;\">          30.686  </td><td style=\"text-align: right;\">521.52 </td><td style=\"text-align: right;\"> 79.6242</td><td style=\"text-align: right;\">          11.6473 </td><td style=\"text-align: right;\">        -1.91734     </td><td style=\"text-align: right;\">     1</td><td style=\"text-align: right;\">         93.9766</td><td style=\"text-align: right;\"> 1.99276    </td><td style=\"text-align: right;\">6.35883e-14</td></tr>\n",
       "<tr><td>event_loop_c50e0801</td><td>TERMINATED</td><td>127.0.0.1:38144</td><td style=\"text-align: right;\">259.818 </td><td style=\"text-align: right;\">22.7732</td><td style=\"text-align: right;\">14.4911 </td><td style=\"text-align: right;\">621.328</td><td style=\"text-align: right;\">533.862</td><td style=\"text-align: right;\">449.856</td><td style=\"text-align: right;\">215.993 </td><td style=\"text-align: right;\">          30.7422 </td><td style=\"text-align: right;\">522.93 </td><td style=\"text-align: right;\"> 79.3515</td><td style=\"text-align: right;\">          11.6145 </td><td style=\"text-align: right;\">        -1.89513     </td><td style=\"text-align: right;\">     1</td><td style=\"text-align: right;\">         91.4067</td><td style=\"text-align: right;\"> 1.93553    </td><td style=\"text-align: right;\">6.36088e-14</td></tr>\n",
       "<tr><td>event_loop_54f0f640</td><td>TERMINATED</td><td>127.0.0.1:4344 </td><td style=\"text-align: right;\">271.158 </td><td style=\"text-align: right;\">23.1664</td><td style=\"text-align: right;\">14.6062 </td><td style=\"text-align: right;\">625.082</td><td style=\"text-align: right;\">481.414</td><td style=\"text-align: right;\">430.858</td><td style=\"text-align: right;\">231.681 </td><td style=\"text-align: right;\">          36.1324 </td><td style=\"text-align: right;\">548.219</td><td style=\"text-align: right;\"> 50     </td><td style=\"text-align: right;\">          11.2494 </td><td style=\"text-align: right;\">        -1.9815      </td><td style=\"text-align: right;\">     1</td><td style=\"text-align: right;\">         94.8481</td><td style=\"text-align: right;\"> 1.54639    </td><td style=\"text-align: right;\">6.37565e-14</td></tr>\n",
       "<tr><td>event_loop_43e33d66</td><td>TERMINATED</td><td>127.0.0.1:18952</td><td style=\"text-align: right;\">196.455 </td><td style=\"text-align: right;\">24.6296</td><td style=\"text-align: right;\">14.5704 </td><td style=\"text-align: right;\">610.556</td><td style=\"text-align: right;\">513.762</td><td style=\"text-align: right;\">456.8  </td><td style=\"text-align: right;\">213.383 </td><td style=\"text-align: right;\">          33.4041 </td><td style=\"text-align: right;\">582.514</td><td style=\"text-align: right;\"> 85.5937</td><td style=\"text-align: right;\">          12.9547 </td><td style=\"text-align: right;\">        -0.816778    </td><td style=\"text-align: right;\">     1</td><td style=\"text-align: right;\">         95.8423</td><td style=\"text-align: right;\"> 1.70999    </td><td style=\"text-align: right;\">6.36923e-14</td></tr>\n",
       "<tr><td>event_loop_f72795e6</td><td>TERMINATED</td><td>127.0.0.1:38928</td><td style=\"text-align: right;\">189.472 </td><td style=\"text-align: right;\">24.6061</td><td style=\"text-align: right;\">14.987  </td><td style=\"text-align: right;\">620.717</td><td style=\"text-align: right;\">521.322</td><td style=\"text-align: right;\">442.094</td><td style=\"text-align: right;\">210.346 </td><td style=\"text-align: right;\">          32.9445 </td><td style=\"text-align: right;\">585.077</td><td style=\"text-align: right;\"> 84.4768</td><td style=\"text-align: right;\">          13.008  </td><td style=\"text-align: right;\">        -1.01479     </td><td style=\"text-align: right;\">     1</td><td style=\"text-align: right;\">         91.5577</td><td style=\"text-align: right;\"> 2.2389     </td><td style=\"text-align: right;\">6.35037e-14</td></tr>\n",
       "<tr><td>event_loop_606baa35</td><td>TERMINATED</td><td>127.0.0.1:38720</td><td style=\"text-align: right;\">187.411 </td><td style=\"text-align: right;\">23.9305</td><td style=\"text-align: right;\">13.4743 </td><td style=\"text-align: right;\">607.63 </td><td style=\"text-align: right;\">529.492</td><td style=\"text-align: right;\">439.751</td><td style=\"text-align: right;\">212.374 </td><td style=\"text-align: right;\">          31.584  </td><td style=\"text-align: right;\">579.412</td><td style=\"text-align: right;\"> 87.8612</td><td style=\"text-align: right;\">          13.4197 </td><td style=\"text-align: right;\">        -1.23742     </td><td style=\"text-align: right;\">     1</td><td style=\"text-align: right;\">         90.7004</td><td style=\"text-align: right;\"> 1.65718    </td><td style=\"text-align: right;\">6.37127e-14</td></tr>\n",
       "<tr><td>event_loop_141c2de4</td><td>TERMINATED</td><td>127.0.0.1:23340</td><td style=\"text-align: right;\">189.138 </td><td style=\"text-align: right;\">22.5268</td><td style=\"text-align: right;\">12.2479 </td><td style=\"text-align: right;\">608.816</td><td style=\"text-align: right;\">554.659</td><td style=\"text-align: right;\">404.754</td><td style=\"text-align: right;\">216.336 </td><td style=\"text-align: right;\">          29.1575 </td><td style=\"text-align: right;\">570.004</td><td style=\"text-align: right;\"> 86.7615</td><td style=\"text-align: right;\">          12.9827 </td><td style=\"text-align: right;\">        -1.79795     </td><td style=\"text-align: right;\">     1</td><td style=\"text-align: right;\">         87.5329</td><td style=\"text-align: right;\"> 1.5579     </td><td style=\"text-align: right;\">6.37518e-14</td></tr>\n",
       "<tr><td>event_loop_326c9ee4</td><td>TERMINATED</td><td>127.0.0.1:39964</td><td style=\"text-align: right;\">208.513 </td><td style=\"text-align: right;\">23.5661</td><td style=\"text-align: right;\">13.9274 </td><td style=\"text-align: right;\">631.109</td><td style=\"text-align: right;\">501.597</td><td style=\"text-align: right;\">412.663</td><td style=\"text-align: right;\">204.986 </td><td style=\"text-align: right;\">          33.4269 </td><td style=\"text-align: right;\">564.838</td><td style=\"text-align: right;\"> 54.5552</td><td style=\"text-align: right;\">          14.2804 </td><td style=\"text-align: right;\">        -2.45518     </td><td style=\"text-align: right;\">     1</td><td style=\"text-align: right;\">         87.0048</td><td style=\"text-align: right;\"> 1.87698    </td><td style=\"text-align: right;\">6.363e-14  </td></tr>\n",
       "<tr><td>event_loop_724b8e24</td><td>TERMINATED</td><td>127.0.0.1:38928</td><td style=\"text-align: right;\">207.947 </td><td style=\"text-align: right;\">23.5364</td><td style=\"text-align: right;\">14.312  </td><td style=\"text-align: right;\">634.53 </td><td style=\"text-align: right;\">501.607</td><td style=\"text-align: right;\">406.749</td><td style=\"text-align: right;\">201.624 </td><td style=\"text-align: right;\">          33.2232 </td><td style=\"text-align: right;\">565.707</td><td style=\"text-align: right;\"> 51.5462</td><td style=\"text-align: right;\">          14.1015 </td><td style=\"text-align: right;\">        -2.07794     </td><td style=\"text-align: right;\">     1</td><td style=\"text-align: right;\">         87.4802</td><td style=\"text-align: right;\"> 2.00133    </td><td style=\"text-align: right;\">6.35853e-14</td></tr>\n",
       "<tr><td>event_loop_0b792f87</td><td>TERMINATED</td><td>127.0.0.1:18400</td><td style=\"text-align: right;\">232.037 </td><td style=\"text-align: right;\">23.2875</td><td style=\"text-align: right;\">11.3272 </td><td style=\"text-align: right;\">579.054</td><td style=\"text-align: right;\">485.474</td><td style=\"text-align: right;\">468.412</td><td style=\"text-align: right;\">227.45  </td><td style=\"text-align: right;\">          34.2762 </td><td style=\"text-align: right;\">559.38 </td><td style=\"text-align: right;\"> 72.2176</td><td style=\"text-align: right;\">          13.6215 </td><td style=\"text-align: right;\">        -1.60401     </td><td style=\"text-align: right;\">     1</td><td style=\"text-align: right;\">         83.5407</td><td style=\"text-align: right;\"> 0.299225   </td><td style=\"text-align: right;\">6.4453e-14 </td></tr>\n",
       "<tr><td>event_loop_1702f632</td><td>TERMINATED</td><td>127.0.0.1:28628</td><td style=\"text-align: right;\">227.15  </td><td style=\"text-align: right;\">23.3197</td><td style=\"text-align: right;\">11.3567 </td><td style=\"text-align: right;\">580.812</td><td style=\"text-align: right;\">482.63 </td><td style=\"text-align: right;\">466.877</td><td style=\"text-align: right;\">220.326 </td><td style=\"text-align: right;\">          34.0628 </td><td style=\"text-align: right;\">558.358</td><td style=\"text-align: right;\"> 67.4143</td><td style=\"text-align: right;\">          14.1428 </td><td style=\"text-align: right;\">        -1.53464     </td><td style=\"text-align: right;\">     1</td><td style=\"text-align: right;\">         83.525 </td><td style=\"text-align: right;\"> 0.341704   </td><td style=\"text-align: right;\">6.44154e-14</td></tr>\n",
       "<tr><td>event_loop_5c66745e</td><td>TERMINATED</td><td>127.0.0.1:23340</td><td style=\"text-align: right;\">227.392 </td><td style=\"text-align: right;\">23.2488</td><td style=\"text-align: right;\">11.5254 </td><td style=\"text-align: right;\">578.75 </td><td style=\"text-align: right;\">481.444</td><td style=\"text-align: right;\">466.865</td><td style=\"text-align: right;\">215.415 </td><td style=\"text-align: right;\">          33.5464 </td><td style=\"text-align: right;\">557.079</td><td style=\"text-align: right;\"> 66.0959</td><td style=\"text-align: right;\">          14.0772 </td><td style=\"text-align: right;\">        -0.881074    </td><td style=\"text-align: right;\">     1</td><td style=\"text-align: right;\">         83.4325</td><td style=\"text-align: right;\"> 0.283302   </td><td style=\"text-align: right;\">6.44677e-14</td></tr>\n",
       "<tr><td>event_loop_71bfad3a</td><td>TERMINATED</td><td>127.0.0.1:22416</td><td style=\"text-align: right;\">226.336 </td><td style=\"text-align: right;\">23.1338</td><td style=\"text-align: right;\">11.1621 </td><td style=\"text-align: right;\">576.01 </td><td style=\"text-align: right;\">478.01 </td><td style=\"text-align: right;\">466.76 </td><td style=\"text-align: right;\">212.684 </td><td style=\"text-align: right;\">          33.69   </td><td style=\"text-align: right;\">555.041</td><td style=\"text-align: right;\"> 65.8007</td><td style=\"text-align: right;\">          14.226  </td><td style=\"text-align: right;\">        -0.946033    </td><td style=\"text-align: right;\">     1</td><td style=\"text-align: right;\">         80.9356</td><td style=\"text-align: right;\"> 0.179195   </td><td style=\"text-align: right;\">6.45767e-14</td></tr>\n",
       "<tr><td>event_loop_e26d8b9c</td><td>TERMINATED</td><td>127.0.0.1:40604</td><td style=\"text-align: right;\">208.906 </td><td style=\"text-align: right;\">22.2193</td><td style=\"text-align: right;\"> 9.11589</td><td style=\"text-align: right;\">555.4  </td><td style=\"text-align: right;\">465.305</td><td style=\"text-align: right;\">467.72 </td><td style=\"text-align: right;\">181.373 </td><td style=\"text-align: right;\">          35.0235 </td><td style=\"text-align: right;\">543.886</td><td style=\"text-align: right;\"> 65.2507</td><td style=\"text-align: right;\">          13.1732 </td><td style=\"text-align: right;\">        -0.304366    </td><td style=\"text-align: right;\">     1</td><td style=\"text-align: right;\">         79.7639</td><td style=\"text-align: right;\"> 0.11565    </td><td style=\"text-align: right;\">6.53401e-14</td></tr>\n",
       "<tr><td>event_loop_667e76f4</td><td>TERMINATED</td><td>127.0.0.1:40588</td><td style=\"text-align: right;\">207.69  </td><td style=\"text-align: right;\">22.4098</td><td style=\"text-align: right;\"> 8.50599</td><td style=\"text-align: right;\">553.512</td><td style=\"text-align: right;\">462.1  </td><td style=\"text-align: right;\">469.078</td><td style=\"text-align: right;\">185.255 </td><td style=\"text-align: right;\">          37.3524 </td><td style=\"text-align: right;\">546.95 </td><td style=\"text-align: right;\"> 88.548 </td><td style=\"text-align: right;\">          12.0713 </td><td style=\"text-align: right;\">        -1.21471     </td><td style=\"text-align: right;\">     1</td><td style=\"text-align: right;\">         81.9526</td><td style=\"text-align: right;\"> 0.157592   </td><td style=\"text-align: right;\">6.5397e-14 </td></tr>\n",
       "<tr><td>event_loop_49156c1a</td><td>TERMINATED</td><td>127.0.0.1:28628</td><td style=\"text-align: right;\">238.177 </td><td style=\"text-align: right;\">24.263 </td><td style=\"text-align: right;\"> 6.144  </td><td style=\"text-align: right;\">550    </td><td style=\"text-align: right;\">452.548</td><td style=\"text-align: right;\">472.351</td><td style=\"text-align: right;\">185.088 </td><td style=\"text-align: right;\">          31.7406 </td><td style=\"text-align: right;\">574.01 </td><td style=\"text-align: right;\"> 84.063 </td><td style=\"text-align: right;\">          12.3279 </td><td style=\"text-align: right;\">        -1.41625     </td><td style=\"text-align: right;\">     1</td><td style=\"text-align: right;\">         81.6149</td><td style=\"text-align: right;\"> 1.15702    </td><td style=\"text-align: right;\">6.60756e-14</td></tr>\n",
       "<tr><td>event_loop_915370f4</td><td>TERMINATED</td><td>127.0.0.1:22416</td><td style=\"text-align: right;\">232.859 </td><td style=\"text-align: right;\">22.9734</td><td style=\"text-align: right;\"> 8.16676</td><td style=\"text-align: right;\">550    </td><td style=\"text-align: right;\">432.357</td><td style=\"text-align: right;\">464.974</td><td style=\"text-align: right;\">210.216 </td><td style=\"text-align: right;\">          33.9435 </td><td style=\"text-align: right;\">559.077</td><td style=\"text-align: right;\">107.67  </td><td style=\"text-align: right;\">          15.3391 </td><td style=\"text-align: right;\">        -4.94066e-324</td><td style=\"text-align: right;\">     1</td><td style=\"text-align: right;\">         81.2767</td><td style=\"text-align: right;\"> 0.931217   </td><td style=\"text-align: right;\">6.5965e-14 </td></tr>\n",
       "<tr><td>event_loop_16b8dd05</td><td>TERMINATED</td><td>127.0.0.1:36560</td><td style=\"text-align: right;\">233.287 </td><td style=\"text-align: right;\">22.7577</td><td style=\"text-align: right;\"> 8.84636</td><td style=\"text-align: right;\">550    </td><td style=\"text-align: right;\">431.359</td><td style=\"text-align: right;\">452.944</td><td style=\"text-align: right;\">212.894 </td><td style=\"text-align: right;\">          33.9458 </td><td style=\"text-align: right;\">552.605</td><td style=\"text-align: right;\">105.442 </td><td style=\"text-align: right;\">          16.1994 </td><td style=\"text-align: right;\">        -0.189151    </td><td style=\"text-align: right;\">     1</td><td style=\"text-align: right;\">         77.853 </td><td style=\"text-align: right;\"> 0.8171     </td><td style=\"text-align: right;\">6.59039e-14</td></tr>\n",
       "<tr><td>event_loop_88e1b8c6</td><td>TERMINATED</td><td>127.0.0.1:38492</td><td style=\"text-align: right;\">224.427 </td><td style=\"text-align: right;\">22.2219</td><td style=\"text-align: right;\"> 8.3788 </td><td style=\"text-align: right;\">550    </td><td style=\"text-align: right;\">435.459</td><td style=\"text-align: right;\">461.458</td><td style=\"text-align: right;\">227.49  </td><td style=\"text-align: right;\">          32.099  </td><td style=\"text-align: right;\">552.277</td><td style=\"text-align: right;\">100.091 </td><td style=\"text-align: right;\">          16.9505 </td><td style=\"text-align: right;\">        -4.94066e-324</td><td style=\"text-align: right;\">     1</td><td style=\"text-align: right;\">         82.693 </td><td style=\"text-align: right;\"> 0.924076   </td><td style=\"text-align: right;\">6.59613e-14</td></tr>\n",
       "<tr><td>event_loop_4aa8cef9</td><td>TERMINATED</td><td>127.0.0.1:20040</td><td style=\"text-align: right;\">240.126 </td><td style=\"text-align: right;\">23.3921</td><td style=\"text-align: right;\"> 8.10111</td><td style=\"text-align: right;\">550    </td><td style=\"text-align: right;\">522.989</td><td style=\"text-align: right;\">511.38 </td><td style=\"text-align: right;\">196.657 </td><td style=\"text-align: right;\">          37.6294 </td><td style=\"text-align: right;\">562.617</td><td style=\"text-align: right;\"> 71.3708</td><td style=\"text-align: right;\">          13.0211 </td><td style=\"text-align: right;\">        -0.351977    </td><td style=\"text-align: right;\">     1</td><td style=\"text-align: right;\">         82.5777</td><td style=\"text-align: right;\"> 0.00322644 </td><td style=\"text-align: right;\">6.50568e-14</td></tr>\n",
       "<tr><td>event_loop_88db1e79</td><td>TERMINATED</td><td>127.0.0.1:22416</td><td style=\"text-align: right;\">204.423 </td><td style=\"text-align: right;\">21.9529</td><td style=\"text-align: right;\">11.4167 </td><td style=\"text-align: right;\">550    </td><td style=\"text-align: right;\">498.24 </td><td style=\"text-align: right;\">509.707</td><td style=\"text-align: right;\">222.223 </td><td style=\"text-align: right;\">          38.817  </td><td style=\"text-align: right;\">539.869</td><td style=\"text-align: right;\"> 73.0407</td><td style=\"text-align: right;\">          13.5237 </td><td style=\"text-align: right;\">        -0.470479    </td><td style=\"text-align: right;\">     1</td><td style=\"text-align: right;\">         82.673 </td><td style=\"text-align: right;\"> 0.00285916 </td><td style=\"text-align: right;\">6.49465e-14</td></tr>\n",
       "<tr><td>event_loop_29a02872</td><td>TERMINATED</td><td>127.0.0.1:28832</td><td style=\"text-align: right;\">207.063 </td><td style=\"text-align: right;\">22.3247</td><td style=\"text-align: right;\">12.2407 </td><td style=\"text-align: right;\">550    </td><td style=\"text-align: right;\">494.144</td><td style=\"text-align: right;\">477.062</td><td style=\"text-align: right;\">215.897 </td><td style=\"text-align: right;\">          38.5952 </td><td style=\"text-align: right;\">527.466</td><td style=\"text-align: right;\"> 71.2389</td><td style=\"text-align: right;\">          13.406  </td><td style=\"text-align: right;\">        -0.956147    </td><td style=\"text-align: right;\">     1</td><td style=\"text-align: right;\">         79.5433</td><td style=\"text-align: right;\"> 0.00568786 </td><td style=\"text-align: right;\">6.49246e-14</td></tr>\n",
       "<tr><td>event_loop_75bf1ef8</td><td>TERMINATED</td><td>127.0.0.1:38508</td><td style=\"text-align: right;\">190.616 </td><td style=\"text-align: right;\">22.1679</td><td style=\"text-align: right;\">13.0363 </td><td style=\"text-align: right;\">550    </td><td style=\"text-align: right;\">451.886</td><td style=\"text-align: right;\">471.982</td><td style=\"text-align: right;\">220.693 </td><td style=\"text-align: right;\">          35.3245 </td><td style=\"text-align: right;\">522.706</td><td style=\"text-align: right;\"> 70.0778</td><td style=\"text-align: right;\">          10.2134 </td><td style=\"text-align: right;\">        -1.62599     </td><td style=\"text-align: right;\">     1</td><td style=\"text-align: right;\">         77.5516</td><td style=\"text-align: right;\"> 0.255426   </td><td style=\"text-align: right;\">6.55054e-14</td></tr>\n",
       "<tr><td>event_loop_f1c5f1ca</td><td>TERMINATED</td><td>127.0.0.1:20040</td><td style=\"text-align: right;\">210.185 </td><td style=\"text-align: right;\">20.3635</td><td style=\"text-align: right;\">13.2222 </td><td style=\"text-align: right;\">550.096</td><td style=\"text-align: right;\">459.958</td><td style=\"text-align: right;\">497.283</td><td style=\"text-align: right;\">195.927 </td><td style=\"text-align: right;\">          35.034  </td><td style=\"text-align: right;\">556.755</td><td style=\"text-align: right;\"> 74.5027</td><td style=\"text-align: right;\">          12.0611 </td><td style=\"text-align: right;\">        -1.9992      </td><td style=\"text-align: right;\">     1</td><td style=\"text-align: right;\">         78.1498</td><td style=\"text-align: right;\"> 0.137946   </td><td style=\"text-align: right;\">6.53714e-14</td></tr>\n",
       "<tr><td>event_loop_c1dc92d4</td><td>TERMINATED</td><td>127.0.0.1:17292</td><td style=\"text-align: right;\">245.155 </td><td style=\"text-align: right;\">21.3521</td><td style=\"text-align: right;\">11.0481 </td><td style=\"text-align: right;\">554.485</td><td style=\"text-align: right;\">513.968</td><td style=\"text-align: right;\">475.945</td><td style=\"text-align: right;\">176.21  </td><td style=\"text-align: right;\">          39.1949 </td><td style=\"text-align: right;\">560.091</td><td style=\"text-align: right;\"> 72.7682</td><td style=\"text-align: right;\">          15.7226 </td><td style=\"text-align: right;\">        -1.18339     </td><td style=\"text-align: right;\">     1</td><td style=\"text-align: right;\">         75.2851</td><td style=\"text-align: right;\"> 0.161292   </td><td style=\"text-align: right;\">6.45984e-14</td></tr>\n",
       "<tr><td>event_loop_b393603b</td><td>TERMINATED</td><td>127.0.0.1:40992</td><td style=\"text-align: right;\">242.988 </td><td style=\"text-align: right;\">21.3766</td><td style=\"text-align: right;\">10.6937 </td><td style=\"text-align: right;\">556.44 </td><td style=\"text-align: right;\">516.7  </td><td style=\"text-align: right;\">474.262</td><td style=\"text-align: right;\">176.902 </td><td style=\"text-align: right;\">          39.4069 </td><td style=\"text-align: right;\">556.408</td><td style=\"text-align: right;\"> 72.0282</td><td style=\"text-align: right;\">          15.8341 </td><td style=\"text-align: right;\">        -1.15835     </td><td style=\"text-align: right;\">     1</td><td style=\"text-align: right;\">         74.056 </td><td style=\"text-align: right;\"> 0.210731   </td><td style=\"text-align: right;\">6.45409e-14</td></tr>\n",
       "<tr><td>event_loop_b1f1575a</td><td>TERMINATED</td><td>127.0.0.1:21476</td><td style=\"text-align: right;\">243.526 </td><td style=\"text-align: right;\">21.1777</td><td style=\"text-align: right;\">10.9021 </td><td style=\"text-align: right;\">556.657</td><td style=\"text-align: right;\">514.418</td><td style=\"text-align: right;\">477.289</td><td style=\"text-align: right;\">176.167 </td><td style=\"text-align: right;\">          39.202  </td><td style=\"text-align: right;\">558.052</td><td style=\"text-align: right;\"> 71.6343</td><td style=\"text-align: right;\">          15.6557 </td><td style=\"text-align: right;\">        -1.23815     </td><td style=\"text-align: right;\">     1</td><td style=\"text-align: right;\">         79.7636</td><td style=\"text-align: right;\"> 0.184032   </td><td style=\"text-align: right;\">6.4571e-14 </td></tr>\n",
       "<tr><td>event_loop_246eeee6</td><td>TERMINATED</td><td>127.0.0.1:17292</td><td style=\"text-align: right;\">247.25  </td><td style=\"text-align: right;\">22.4038</td><td style=\"text-align: right;\">11.2641 </td><td style=\"text-align: right;\">555.353</td><td style=\"text-align: right;\">491.62 </td><td style=\"text-align: right;\">505.845</td><td style=\"text-align: right;\">181.543 </td><td style=\"text-align: right;\">          39.773  </td><td style=\"text-align: right;\">551.631</td><td style=\"text-align: right;\"> 64.8047</td><td style=\"text-align: right;\">          12.5199 </td><td style=\"text-align: right;\">        -1.09851     </td><td style=\"text-align: right;\">     1</td><td style=\"text-align: right;\">         80.4275</td><td style=\"text-align: right;\"> 0.0497455  </td><td style=\"text-align: right;\">6.4777e-14 </td></tr>\n",
       "<tr><td>event_loop_4b84ea67</td><td>TERMINATED</td><td>127.0.0.1:40992</td><td style=\"text-align: right;\">237.366 </td><td style=\"text-align: right;\">23.227 </td><td style=\"text-align: right;\">11.2856 </td><td style=\"text-align: right;\">552.012</td><td style=\"text-align: right;\">486.005</td><td style=\"text-align: right;\">524.291</td><td style=\"text-align: right;\">189.395 </td><td style=\"text-align: right;\">          38.8301 </td><td style=\"text-align: right;\">543.157</td><td style=\"text-align: right;\"> 64.7562</td><td style=\"text-align: right;\">          11.075  </td><td style=\"text-align: right;\">        -0.975349    </td><td style=\"text-align: right;\">     1</td><td style=\"text-align: right;\">         79.8044</td><td style=\"text-align: right;\"> 1.16022e-05</td><td style=\"text-align: right;\">6.49966e-14</td></tr>\n",
       "<tr><td>event_loop_d94d48af</td><td>TERMINATED</td><td>127.0.0.1:12888</td><td style=\"text-align: right;\">234.712 </td><td style=\"text-align: right;\">23.2891</td><td style=\"text-align: right;\">11.7449 </td><td style=\"text-align: right;\">550    </td><td style=\"text-align: right;\">486.429</td><td style=\"text-align: right;\">517.817</td><td style=\"text-align: right;\">190.448 </td><td style=\"text-align: right;\">          38.1912 </td><td style=\"text-align: right;\">552.491</td><td style=\"text-align: right;\"> 67.6652</td><td style=\"text-align: right;\">          11.55   </td><td style=\"text-align: right;\">        -0.870084    </td><td style=\"text-align: right;\">     1</td><td style=\"text-align: right;\">         76.1145</td><td style=\"text-align: right;\"> 0.00688822 </td><td style=\"text-align: right;\">6.5083e-14 </td></tr>\n",
       "<tr><td>event_loop_26578178</td><td>TERMINATED</td><td>127.0.0.1:24328</td><td style=\"text-align: right;\">215.605 </td><td style=\"text-align: right;\">22.6069</td><td style=\"text-align: right;\">10.9482 </td><td style=\"text-align: right;\">550    </td><td style=\"text-align: right;\">511.082</td><td style=\"text-align: right;\">495.049</td><td style=\"text-align: right;\">198.2   </td><td style=\"text-align: right;\">          35.8802 </td><td style=\"text-align: right;\">552.676</td><td style=\"text-align: right;\"> 74.7459</td><td style=\"text-align: right;\">          12.6713 </td><td style=\"text-align: right;\">        -0.941349    </td><td style=\"text-align: right;\">     1</td><td style=\"text-align: right;\">         78.2862</td><td style=\"text-align: right;\"> 0.000723395</td><td style=\"text-align: right;\">6.50269e-14</td></tr>\n",
       "<tr><td>event_loop_749c6aaf</td><td>TERMINATED</td><td>127.0.0.1:40992</td><td style=\"text-align: right;\">215.699 </td><td style=\"text-align: right;\">22.51  </td><td style=\"text-align: right;\">10.8207 </td><td style=\"text-align: right;\">550    </td><td style=\"text-align: right;\">513.074</td><td style=\"text-align: right;\">495.492</td><td style=\"text-align: right;\">198.084 </td><td style=\"text-align: right;\">          35.7439 </td><td style=\"text-align: right;\">550.924</td><td style=\"text-align: right;\"> 74.8275</td><td style=\"text-align: right;\">          12.5076 </td><td style=\"text-align: right;\">        -0.964048    </td><td style=\"text-align: right;\">     1</td><td style=\"text-align: right;\">         78.6597</td><td style=\"text-align: right;\"> 0.00193495 </td><td style=\"text-align: right;\">6.5044e-14 </td></tr>\n",
       "<tr><td>event_loop_0369a32d</td><td>TERMINATED</td><td>127.0.0.1:12888</td><td style=\"text-align: right;\">216.045 </td><td style=\"text-align: right;\">22.4295</td><td style=\"text-align: right;\">10.695  </td><td style=\"text-align: right;\">550    </td><td style=\"text-align: right;\">511.729</td><td style=\"text-align: right;\">492.761</td><td style=\"text-align: right;\">199.585 </td><td style=\"text-align: right;\">          35.8297 </td><td style=\"text-align: right;\">551.246</td><td style=\"text-align: right;\"> 74.4611</td><td style=\"text-align: right;\">          12.492  </td><td style=\"text-align: right;\">        -0.931707    </td><td style=\"text-align: right;\">     1</td><td style=\"text-align: right;\">         78.1548</td><td style=\"text-align: right;\"> 0.00781287 </td><td style=\"text-align: right;\">6.50884e-14</td></tr>\n",
       "<tr><td>event_loop_3e66de3e</td><td>TERMINATED</td><td>127.0.0.1:11284</td><td style=\"text-align: right;\">218.997 </td><td style=\"text-align: right;\">21.795 </td><td style=\"text-align: right;\"> 9.80073</td><td style=\"text-align: right;\">550    </td><td style=\"text-align: right;\">518.772</td><td style=\"text-align: right;\">494.705</td><td style=\"text-align: right;\">201.863 </td><td style=\"text-align: right;\">          35.408  </td><td style=\"text-align: right;\">534.503</td><td style=\"text-align: right;\"> 74.7086</td><td style=\"text-align: right;\">          11.7699 </td><td style=\"text-align: right;\">        -1.08213     </td><td style=\"text-align: right;\">     1</td><td style=\"text-align: right;\">         74.5987</td><td style=\"text-align: right;\"> 0.00868003 </td><td style=\"text-align: right;\">6.50932e-14</td></tr>\n",
       "<tr><td>event_loop_906fa078</td><td>TERMINATED</td><td>127.0.0.1:38020</td><td style=\"text-align: right;\">233.162 </td><td style=\"text-align: right;\">22.5161</td><td style=\"text-align: right;\">10.0323 </td><td style=\"text-align: right;\">551.627</td><td style=\"text-align: right;\">482.702</td><td style=\"text-align: right;\">497.454</td><td style=\"text-align: right;\">214.159 </td><td style=\"text-align: right;\">          38.029  </td><td style=\"text-align: right;\">538.662</td><td style=\"text-align: right;\"> 65.8757</td><td style=\"text-align: right;\">          13.8915 </td><td style=\"text-align: right;\">        -0.732264    </td><td style=\"text-align: right;\">     1</td><td style=\"text-align: right;\">         49.5919</td><td style=\"text-align: right;\"> 0.00997664 </td><td style=\"text-align: right;\">6.50999e-14</td></tr>\n",
       "<tr><td>event_loop_7d2037c3</td><td>TERMINATED</td><td>127.0.0.1:11284</td><td style=\"text-align: right;\">234.483 </td><td style=\"text-align: right;\">22.4698</td><td style=\"text-align: right;\">10.0234 </td><td style=\"text-align: right;\">551.995</td><td style=\"text-align: right;\">482.319</td><td style=\"text-align: right;\">497.408</td><td style=\"text-align: right;\">214.427 </td><td style=\"text-align: right;\">          38.0296 </td><td style=\"text-align: right;\">537.289</td><td style=\"text-align: right;\"> 66.2856</td><td style=\"text-align: right;\">          13.7982 </td><td style=\"text-align: right;\">        -0.689177    </td><td style=\"text-align: right;\">     1</td><td style=\"text-align: right;\">         49.8524</td><td style=\"text-align: right;\"> 0.0153895  </td><td style=\"text-align: right;\">6.51241e-14</td></tr>\n",
       "</tbody>\n",
       "</table>\n",
       "  </div>\n",
       "</div>\n",
       "<style>\n",
       ".tuneStatus {\n",
       "  color: var(--jp-ui-font-color1);\n",
       "}\n",
       ".tuneStatus .systemInfo {\n",
       "  display: flex;\n",
       "  flex-direction: column;\n",
       "}\n",
       ".tuneStatus td {\n",
       "  white-space: nowrap;\n",
       "}\n",
       ".tuneStatus .trialStatus {\n",
       "  display: flex;\n",
       "  flex-direction: column;\n",
       "}\n",
       ".tuneStatus h3 {\n",
       "  font-weight: bold;\n",
       "}\n",
       ".tuneStatus .hDivider {\n",
       "  border-bottom-width: var(--jp-border-width);\n",
       "  border-bottom-color: var(--jp-border-color0);\n",
       "  border-bottom-style: solid;\n",
       "}\n",
       ".tuneStatus .vDivider {\n",
       "  border-left-width: var(--jp-border-width);\n",
       "  border-left-color: var(--jp-border-color0);\n",
       "  border-left-style: solid;\n",
       "  margin: 0.5em 1em 0.5em 1em;\n",
       "}\n",
       "</style>\n"
      ],
      "text/plain": [
       "<IPython.core.display.HTML object>"
      ]
     },
     "metadata": {},
     "output_type": "display_data"
    },
    {
     "name": "stdout",
     "output_type": "stream",
     "text": [
      "Saving study to D:\\LocalSimulations\\DoublePadsSim_2023-02-23_09.29.03.469245\\ray_results\\event_loop_2023-02-23_09-29-03\\study.pkl\n"
     ]
    }
   ],
   "source": [
    "# Set folder for optimisation files\n",
    "os.environ['KQC_TMP_PATH'] = (\n",
    "    Path(original_kqc_tmp_path) / (sim_class.__name__ + '_' + str(datetime.now()))\\\n",
    "        .replace(' ', '_').replace(':', '.')\n",
    ").as_posix()\n",
    "\n",
    "tuner = tune.Tuner(\n",
    "    tune.with_resources(event_loop, {\"cpu\": n_processes}),  # maximum resources given to worker\n",
    "    param_space=search_config,\n",
    "    tune_config=tune_config,\n",
    "    run_config=ray.air.RunConfig(\n",
    "        local_dir=os.environ['KQC_TMP_PATH'] + \"/ray_results\",  # needed for tensorboard\n",
    "        checkpoint_config=ray.air.CheckpointConfig(\n",
    "            checkpoint_frequency=1\n",
    "        ),\n",
    "        log_to_file=True\n",
    "    )\n",
    ")\n",
    "\n",
    "# For resuming a run\n",
    "# tuner = tune.Tuner.restore(os.environ['KQC_TMP_PATH'] + \"/ray_results\" + \"/some_folder\", restart_errored=False)\n",
    "\n",
    "results = tuner.fit()\n",
    "\n",
    "# This is specific only for the Optuna optimiser, we also save the 'study' object\n",
    "study_file = Path(results._experiment_analysis.runner_data()['_local_checkpoint_dir']) / \"study.pkl\"\n",
    "if study_file.exists():\n",
    "    print(f'Loading study from {study_file}')\n",
    "    study = joblib.load(study_file)\n",
    "else:\n",
    "    print(f'Saving study to {study_file}')\n",
    "    study = optuna_search._ot_study\n",
    "    joblib.dump(study, study_file)\n",
    "\n",
    "os.environ['KQC_TMP_PATH'] = original_kqc_tmp_path"
   ]
  },
  {
   "cell_type": "markdown",
   "metadata": {},
   "source": [
    "This is specific only for the Optuna optimiser"
   ]
  },
  {
   "cell_type": "code",
   "execution_count": 12,
   "metadata": {},
   "outputs": [
    {
     "name": "stderr",
     "output_type": "stream",
     "text": [
      "C:\\Users\\NikoSavola\\AppData\\Roaming\\Python\\Python39\\site-packages\\optuna\\visualization\\_utils.py:70: UserWarning: `target` is specified, but `target_name` is the default value, 'Objective Value'.\n",
      "  warnings.warn(\n"
     ]
    },
    {
     "data": {
      "application/vnd.plotly.v1+json": {
       "config": {
        "plotlyServerURL": "https://plot.ly"
       },
       "data": [
        {
         "cliponaxis": false,
         "hovertemplate": [
          "params/island2_extent_[0] (FloatDistribution): 0.001438235689880862<extra></extra>",
          "params/island1_extent_[1] (FloatDistribution): 0.001622594208539004<extra></extra>",
          "params/island1_r (FloatDistribution): 0.0027219215147372138<extra></extra>",
          "params/island2_extent_[1] (FloatDistribution): 0.003073831455032019<extra></extra>",
          "params/island1_extent_[0] (FloatDistribution): 0.00398073322674884<extra></extra>",
          "params/coupler_extent[0] (FloatDistribution): 0.012139445161868375<extra></extra>",
          "params/ground_gap_[1] (FloatDistribution): 0.015098959946341074<extra></extra>",
          "params/island2_r (FloatDistribution): 0.01837577392593334<extra></extra>",
          "params/coupler_extent[1] (FloatDistribution): 0.03005185740761748<extra></extra>",
          "params/squid_offset (FloatDistribution): 0.05829295355969846<extra></extra>",
          "params/ground_gap_[0] (FloatDistribution): 0.3694448103139722<extra></extra>",
          "params/coupler_offset (FloatDistribution): 0.48375888358963104<extra></extra>"
         ],
         "marker": {
          "color": "rgb(66,146,198)"
         },
         "orientation": "h",
         "text": [
          "<0.01",
          "<0.01",
          "<0.01",
          "<0.01",
          "<0.01",
          "0.01",
          "0.02",
          "0.02",
          "0.03",
          "0.06",
          "0.37",
          "0.48"
         ],
         "textposition": "outside",
         "type": "bar",
         "x": [
          0.001438235689880862,
          0.001622594208539004,
          0.0027219215147372138,
          0.003073831455032019,
          0.00398073322674884,
          0.012139445161868375,
          0.015098959946341074,
          0.01837577392593334,
          0.03005185740761748,
          0.05829295355969846,
          0.3694448103139722,
          0.48375888358963104
         ],
         "y": [
          "params/island2_extent_[0]",
          "params/island1_extent_[1]",
          "params/island1_r",
          "params/island2_extent_[1]",
          "params/island1_extent_[0]",
          "params/coupler_extent[0]",
          "params/ground_gap_[1]",
          "params/island2_r",
          "params/coupler_extent[1]",
          "params/squid_offset",
          "params/ground_gap_[0]",
          "params/coupler_offset"
         ]
        }
       ],
       "layout": {
        "showlegend": false,
        "template": {
         "data": {
          "bar": [
           {
            "error_x": {
             "color": "#2a3f5f"
            },
            "error_y": {
             "color": "#2a3f5f"
            },
            "marker": {
             "line": {
              "color": "#E5ECF6",
              "width": 0.5
             },
             "pattern": {
              "fillmode": "overlay",
              "size": 10,
              "solidity": 0.2
             }
            },
            "type": "bar"
           }
          ],
          "barpolar": [
           {
            "marker": {
             "line": {
              "color": "#E5ECF6",
              "width": 0.5
             },
             "pattern": {
              "fillmode": "overlay",
              "size": 10,
              "solidity": 0.2
             }
            },
            "type": "barpolar"
           }
          ],
          "carpet": [
           {
            "aaxis": {
             "endlinecolor": "#2a3f5f",
             "gridcolor": "white",
             "linecolor": "white",
             "minorgridcolor": "white",
             "startlinecolor": "#2a3f5f"
            },
            "baxis": {
             "endlinecolor": "#2a3f5f",
             "gridcolor": "white",
             "linecolor": "white",
             "minorgridcolor": "white",
             "startlinecolor": "#2a3f5f"
            },
            "type": "carpet"
           }
          ],
          "choropleth": [
           {
            "colorbar": {
             "outlinewidth": 0,
             "ticks": ""
            },
            "type": "choropleth"
           }
          ],
          "contour": [
           {
            "colorbar": {
             "outlinewidth": 0,
             "ticks": ""
            },
            "colorscale": [
             [
              0,
              "#0d0887"
             ],
             [
              0.1111111111111111,
              "#46039f"
             ],
             [
              0.2222222222222222,
              "#7201a8"
             ],
             [
              0.3333333333333333,
              "#9c179e"
             ],
             [
              0.4444444444444444,
              "#bd3786"
             ],
             [
              0.5555555555555556,
              "#d8576b"
             ],
             [
              0.6666666666666666,
              "#ed7953"
             ],
             [
              0.7777777777777778,
              "#fb9f3a"
             ],
             [
              0.8888888888888888,
              "#fdca26"
             ],
             [
              1,
              "#f0f921"
             ]
            ],
            "type": "contour"
           }
          ],
          "contourcarpet": [
           {
            "colorbar": {
             "outlinewidth": 0,
             "ticks": ""
            },
            "type": "contourcarpet"
           }
          ],
          "heatmap": [
           {
            "colorbar": {
             "outlinewidth": 0,
             "ticks": ""
            },
            "colorscale": [
             [
              0,
              "#0d0887"
             ],
             [
              0.1111111111111111,
              "#46039f"
             ],
             [
              0.2222222222222222,
              "#7201a8"
             ],
             [
              0.3333333333333333,
              "#9c179e"
             ],
             [
              0.4444444444444444,
              "#bd3786"
             ],
             [
              0.5555555555555556,
              "#d8576b"
             ],
             [
              0.6666666666666666,
              "#ed7953"
             ],
             [
              0.7777777777777778,
              "#fb9f3a"
             ],
             [
              0.8888888888888888,
              "#fdca26"
             ],
             [
              1,
              "#f0f921"
             ]
            ],
            "type": "heatmap"
           }
          ],
          "heatmapgl": [
           {
            "colorbar": {
             "outlinewidth": 0,
             "ticks": ""
            },
            "colorscale": [
             [
              0,
              "#0d0887"
             ],
             [
              0.1111111111111111,
              "#46039f"
             ],
             [
              0.2222222222222222,
              "#7201a8"
             ],
             [
              0.3333333333333333,
              "#9c179e"
             ],
             [
              0.4444444444444444,
              "#bd3786"
             ],
             [
              0.5555555555555556,
              "#d8576b"
             ],
             [
              0.6666666666666666,
              "#ed7953"
             ],
             [
              0.7777777777777778,
              "#fb9f3a"
             ],
             [
              0.8888888888888888,
              "#fdca26"
             ],
             [
              1,
              "#f0f921"
             ]
            ],
            "type": "heatmapgl"
           }
          ],
          "histogram": [
           {
            "marker": {
             "pattern": {
              "fillmode": "overlay",
              "size": 10,
              "solidity": 0.2
             }
            },
            "type": "histogram"
           }
          ],
          "histogram2d": [
           {
            "colorbar": {
             "outlinewidth": 0,
             "ticks": ""
            },
            "colorscale": [
             [
              0,
              "#0d0887"
             ],
             [
              0.1111111111111111,
              "#46039f"
             ],
             [
              0.2222222222222222,
              "#7201a8"
             ],
             [
              0.3333333333333333,
              "#9c179e"
             ],
             [
              0.4444444444444444,
              "#bd3786"
             ],
             [
              0.5555555555555556,
              "#d8576b"
             ],
             [
              0.6666666666666666,
              "#ed7953"
             ],
             [
              0.7777777777777778,
              "#fb9f3a"
             ],
             [
              0.8888888888888888,
              "#fdca26"
             ],
             [
              1,
              "#f0f921"
             ]
            ],
            "type": "histogram2d"
           }
          ],
          "histogram2dcontour": [
           {
            "colorbar": {
             "outlinewidth": 0,
             "ticks": ""
            },
            "colorscale": [
             [
              0,
              "#0d0887"
             ],
             [
              0.1111111111111111,
              "#46039f"
             ],
             [
              0.2222222222222222,
              "#7201a8"
             ],
             [
              0.3333333333333333,
              "#9c179e"
             ],
             [
              0.4444444444444444,
              "#bd3786"
             ],
             [
              0.5555555555555556,
              "#d8576b"
             ],
             [
              0.6666666666666666,
              "#ed7953"
             ],
             [
              0.7777777777777778,
              "#fb9f3a"
             ],
             [
              0.8888888888888888,
              "#fdca26"
             ],
             [
              1,
              "#f0f921"
             ]
            ],
            "type": "histogram2dcontour"
           }
          ],
          "mesh3d": [
           {
            "colorbar": {
             "outlinewidth": 0,
             "ticks": ""
            },
            "type": "mesh3d"
           }
          ],
          "parcoords": [
           {
            "line": {
             "colorbar": {
              "outlinewidth": 0,
              "ticks": ""
             }
            },
            "type": "parcoords"
           }
          ],
          "pie": [
           {
            "automargin": true,
            "type": "pie"
           }
          ],
          "scatter": [
           {
            "fillpattern": {
             "fillmode": "overlay",
             "size": 10,
             "solidity": 0.2
            },
            "type": "scatter"
           }
          ],
          "scatter3d": [
           {
            "line": {
             "colorbar": {
              "outlinewidth": 0,
              "ticks": ""
             }
            },
            "marker": {
             "colorbar": {
              "outlinewidth": 0,
              "ticks": ""
             }
            },
            "type": "scatter3d"
           }
          ],
          "scattercarpet": [
           {
            "marker": {
             "colorbar": {
              "outlinewidth": 0,
              "ticks": ""
             }
            },
            "type": "scattercarpet"
           }
          ],
          "scattergeo": [
           {
            "marker": {
             "colorbar": {
              "outlinewidth": 0,
              "ticks": ""
             }
            },
            "type": "scattergeo"
           }
          ],
          "scattergl": [
           {
            "marker": {
             "colorbar": {
              "outlinewidth": 0,
              "ticks": ""
             }
            },
            "type": "scattergl"
           }
          ],
          "scattermapbox": [
           {
            "marker": {
             "colorbar": {
              "outlinewidth": 0,
              "ticks": ""
             }
            },
            "type": "scattermapbox"
           }
          ],
          "scatterpolar": [
           {
            "marker": {
             "colorbar": {
              "outlinewidth": 0,
              "ticks": ""
             }
            },
            "type": "scatterpolar"
           }
          ],
          "scatterpolargl": [
           {
            "marker": {
             "colorbar": {
              "outlinewidth": 0,
              "ticks": ""
             }
            },
            "type": "scatterpolargl"
           }
          ],
          "scatterternary": [
           {
            "marker": {
             "colorbar": {
              "outlinewidth": 0,
              "ticks": ""
             }
            },
            "type": "scatterternary"
           }
          ],
          "surface": [
           {
            "colorbar": {
             "outlinewidth": 0,
             "ticks": ""
            },
            "colorscale": [
             [
              0,
              "#0d0887"
             ],
             [
              0.1111111111111111,
              "#46039f"
             ],
             [
              0.2222222222222222,
              "#7201a8"
             ],
             [
              0.3333333333333333,
              "#9c179e"
             ],
             [
              0.4444444444444444,
              "#bd3786"
             ],
             [
              0.5555555555555556,
              "#d8576b"
             ],
             [
              0.6666666666666666,
              "#ed7953"
             ],
             [
              0.7777777777777778,
              "#fb9f3a"
             ],
             [
              0.8888888888888888,
              "#fdca26"
             ],
             [
              1,
              "#f0f921"
             ]
            ],
            "type": "surface"
           }
          ],
          "table": [
           {
            "cells": {
             "fill": {
              "color": "#EBF0F8"
             },
             "line": {
              "color": "white"
             }
            },
            "header": {
             "fill": {
              "color": "#C8D4E3"
             },
             "line": {
              "color": "white"
             }
            },
            "type": "table"
           }
          ]
         },
         "layout": {
          "annotationdefaults": {
           "arrowcolor": "#2a3f5f",
           "arrowhead": 0,
           "arrowwidth": 1
          },
          "autotypenumbers": "strict",
          "coloraxis": {
           "colorbar": {
            "outlinewidth": 0,
            "ticks": ""
           }
          },
          "colorscale": {
           "diverging": [
            [
             0,
             "#8e0152"
            ],
            [
             0.1,
             "#c51b7d"
            ],
            [
             0.2,
             "#de77ae"
            ],
            [
             0.3,
             "#f1b6da"
            ],
            [
             0.4,
             "#fde0ef"
            ],
            [
             0.5,
             "#f7f7f7"
            ],
            [
             0.6,
             "#e6f5d0"
            ],
            [
             0.7,
             "#b8e186"
            ],
            [
             0.8,
             "#7fbc41"
            ],
            [
             0.9,
             "#4d9221"
            ],
            [
             1,
             "#276419"
            ]
           ],
           "sequential": [
            [
             0,
             "#0d0887"
            ],
            [
             0.1111111111111111,
             "#46039f"
            ],
            [
             0.2222222222222222,
             "#7201a8"
            ],
            [
             0.3333333333333333,
             "#9c179e"
            ],
            [
             0.4444444444444444,
             "#bd3786"
            ],
            [
             0.5555555555555556,
             "#d8576b"
            ],
            [
             0.6666666666666666,
             "#ed7953"
            ],
            [
             0.7777777777777778,
             "#fb9f3a"
            ],
            [
             0.8888888888888888,
             "#fdca26"
            ],
            [
             1,
             "#f0f921"
            ]
           ],
           "sequentialminus": [
            [
             0,
             "#0d0887"
            ],
            [
             0.1111111111111111,
             "#46039f"
            ],
            [
             0.2222222222222222,
             "#7201a8"
            ],
            [
             0.3333333333333333,
             "#9c179e"
            ],
            [
             0.4444444444444444,
             "#bd3786"
            ],
            [
             0.5555555555555556,
             "#d8576b"
            ],
            [
             0.6666666666666666,
             "#ed7953"
            ],
            [
             0.7777777777777778,
             "#fb9f3a"
            ],
            [
             0.8888888888888888,
             "#fdca26"
            ],
            [
             1,
             "#f0f921"
            ]
           ]
          },
          "colorway": [
           "#636efa",
           "#EF553B",
           "#00cc96",
           "#ab63fa",
           "#FFA15A",
           "#19d3f3",
           "#FF6692",
           "#B6E880",
           "#FF97FF",
           "#FECB52"
          ],
          "font": {
           "color": "#2a3f5f"
          },
          "geo": {
           "bgcolor": "white",
           "lakecolor": "white",
           "landcolor": "#E5ECF6",
           "showlakes": true,
           "showland": true,
           "subunitcolor": "white"
          },
          "hoverlabel": {
           "align": "left"
          },
          "hovermode": "closest",
          "mapbox": {
           "style": "light"
          },
          "paper_bgcolor": "white",
          "plot_bgcolor": "#E5ECF6",
          "polar": {
           "angularaxis": {
            "gridcolor": "white",
            "linecolor": "white",
            "ticks": ""
           },
           "bgcolor": "#E5ECF6",
           "radialaxis": {
            "gridcolor": "white",
            "linecolor": "white",
            "ticks": ""
           }
          },
          "scene": {
           "xaxis": {
            "backgroundcolor": "#E5ECF6",
            "gridcolor": "white",
            "gridwidth": 2,
            "linecolor": "white",
            "showbackground": true,
            "ticks": "",
            "zerolinecolor": "white"
           },
           "yaxis": {
            "backgroundcolor": "#E5ECF6",
            "gridcolor": "white",
            "gridwidth": 2,
            "linecolor": "white",
            "showbackground": true,
            "ticks": "",
            "zerolinecolor": "white"
           },
           "zaxis": {
            "backgroundcolor": "#E5ECF6",
            "gridcolor": "white",
            "gridwidth": 2,
            "linecolor": "white",
            "showbackground": true,
            "ticks": "",
            "zerolinecolor": "white"
           }
          },
          "shapedefaults": {
           "line": {
            "color": "#2a3f5f"
           }
          },
          "ternary": {
           "aaxis": {
            "gridcolor": "white",
            "linecolor": "white",
            "ticks": ""
           },
           "baxis": {
            "gridcolor": "white",
            "linecolor": "white",
            "ticks": ""
           },
           "bgcolor": "#E5ECF6",
           "caxis": {
            "gridcolor": "white",
            "linecolor": "white",
            "ticks": ""
           }
          },
          "title": {
           "x": 0.05
          },
          "xaxis": {
           "automargin": true,
           "gridcolor": "white",
           "linecolor": "white",
           "ticks": "",
           "title": {
            "standoff": 15
           },
           "zerolinecolor": "white",
           "zerolinewidth": 2
          },
          "yaxis": {
           "automargin": true,
           "gridcolor": "white",
           "linecolor": "white",
           "ticks": "",
           "title": {
            "standoff": 15
           },
           "zerolinecolor": "white",
           "zerolinewidth": 2
          }
         }
        },
        "title": {
         "text": "Hyperparameter Importances"
        },
        "xaxis": {
         "title": {
          "text": "Importance for Objective Value"
         }
        },
        "yaxis": {
         "title": {
          "text": "Hyperparameter"
         }
        }
       }
      }
     },
     "metadata": {},
     "output_type": "display_data"
    },
    {
     "name": "stderr",
     "output_type": "stream",
     "text": [
      "C:\\Users\\NikoSavola\\AppData\\Roaming\\Python\\Python39\\site-packages\\optuna\\visualization\\_utils.py:70: UserWarning:\n",
      "\n",
      "`target` is specified, but `target_name` is the default value, 'Objective Value'.\n",
      "\n"
     ]
    },
    {
     "data": {
      "application/vnd.plotly.v1+json": {
       "config": {
        "plotlyServerURL": "https://plot.ly"
       },
       "data": [
        {
         "dimensions": [
          {
           "label": "Objective Value",
           "range": [
            0.000011602186401381055,
            13.623701318752566
           ],
           "values": [
            10.482478634260197,
            8.79112454878453,
            3.077638982427273,
            11.471736188248396,
            4.009674323899245,
            9.357472554505975,
            10.288914661161371,
            13.623701318752566,
            11.574816273806176,
            1.60814941498259,
            8.540680777883763,
            10.278410127504529,
            3.652703024007421,
            2.0608023231904355,
            1.9927611710471025,
            1.935528393320276,
            1.5463857169442423,
            1.7099868850890378,
            2.238898869660175,
            1.6571817027064648,
            1.5579045579857642,
            1.8769817489180982,
            2.00132523353574,
            0.29922507185319325,
            0.3417040266756057,
            0.28330246469537357,
            0.1791954998802133,
            0.11564974625152208,
            0.15759197016064383,
            1.1570150829159456,
            0.9312169954445364,
            0.8171000027087206,
            0.9240763750445887,
            0.0032264411058754443,
            0.002859155273921258,
            0.005687857242902068,
            0.2554257515699742,
            0.137946437690422,
            0.16129202933519346,
            0.21073112580610223,
            0.18403208497757226,
            0.04974545318642695,
            0.000011602186401381055,
            0.00688821991467203,
            0.0007233950147745478,
            0.001934952941373802,
            0.00781287384805816,
            0.008680033099883615,
            0.009976642223676533,
            0.01538948461612805
           ]
          },
          {
           "label": "params/coupler_ex...",
           "range": [
            48.38805426728261,
            454.8635218124557
           ],
           "values": [
            209.50888507514688,
            248.19997255806862,
            436.9400309620716,
            206.25245854397164,
            288.06924188927553,
            454.8635218124557,
            312.04154789081826,
            191.6993093890008,
            128.78040099722946,
            237.6753222777253,
            445.6584772813385,
            323.42237268591856,
            48.38805426728261,
            261.9148409893716,
            260.57152784068467,
            259.8177685861167,
            271.1581489060791,
            196.45463329012213,
            189.4720865580019,
            187.4109470299053,
            189.13849476469298,
            208.51324975842493,
            207.9473480306456,
            232.03680160167227,
            227.14965729287846,
            227.39214612273307,
            226.33553878729896,
            208.90575132851868,
            207.6896910256867,
            238.17746099412216,
            232.8589954783433,
            233.28709498836744,
            224.42707898782535,
            240.12623355814173,
            204.4230062777596,
            207.063264072266,
            190.61622062916186,
            210.18543202779318,
            245.15541230828947,
            242.98786004221967,
            243.5260149440256,
            247.25033519393287,
            237.36599856925082,
            234.712341448833,
            215.60524966007085,
            215.6990619683017,
            216.04480850882902,
            218.99720457162374,
            233.16238327963194,
            234.48255888321225
           ]
          },
          {
           "label": "params/coupler_ex...",
           "range": [
            20.257584669286754,
            39.52587261060175
           ],
           "values": [
            20.257584669286754,
            28.410353405153366,
            28.40787977784177,
            35.67108420597315,
            23.450316509074966,
            33.49839317285417,
            39.52587261060175,
            35.51913924043596,
            31.385516259580555,
            22.43166294685085,
            32.05428465958187,
            33.600716838380116,
            34.30544568202093,
            22.802113517111135,
            22.79034395329645,
            22.773215487647647,
            23.166394997703993,
            24.629569733334442,
            24.606075984994536,
            23.93052150112116,
            22.52677101611165,
            23.566138171543063,
            23.536379244713647,
            23.287475575971563,
            23.31967514675757,
            23.248779674691427,
            23.133757324763792,
            22.219314471651877,
            22.409801803580898,
            24.262992831980338,
            22.97335660207471,
            22.757749617871603,
            22.221875673862087,
            23.39208499870625,
            21.952902713597666,
            22.324716775376316,
            22.167895904958456,
            20.363528560764696,
            21.352097558602342,
            21.37662565471332,
            21.177711098032038,
            22.403804609614696,
            23.226950733465802,
            23.289134402750793,
            22.606902323633776,
            22.50995090572706,
            22.429543870399083,
            21.794966337773946,
            22.516145421364612,
            22.46976929240606
           ]
          },
          {
           "label": "params/coupler_of...",
           "range": [
            6.143999411769124,
            47.19170292536945
           ],
           "values": [
            27.9082837164848,
            30.168588608955467,
            27.41864962054548,
            44.978300064535524,
            19.08669223436059,
            29.03672782636104,
            36.73380167161507,
            38.46260086115831,
            29.27178629574471,
            13.329813314015814,
            47.19170292536945,
            33.260528007920804,
            21.873846442652066,
            14.581479719640802,
            14.549076692707622,
            14.491113116997639,
            14.606231333479176,
            14.570377535990952,
            14.986965473651543,
            13.474264620584565,
            12.247859459608222,
            13.927433783800963,
            14.311958179577122,
            11.327220638225654,
            11.35672212848932,
            11.525365150797246,
            11.16213860525163,
            9.115887595385978,
            8.505994646262895,
            6.143999411769124,
            8.166761249055233,
            8.8463565921043,
            8.378798755509743,
            8.101108976454425,
            11.41670593301755,
            12.24074643370135,
            13.036301063398449,
            13.222245187108145,
            11.048122909067825,
            10.693727546695506,
            10.90211763447243,
            11.264125001347445,
            11.285557368465366,
            11.744916892707021,
            10.948156623655041,
            10.82068915573883,
            10.695000125532456,
            9.800732976166495,
            10.032318832539783,
            10.023408116956702
           ]
          },
          {
           "label": "params/ground_gap...",
           "range": [
            550,
            993.2745080086073
           ],
           "values": [
            980.8364736002194,
            848.4217074705316,
            779.4646026126419,
            978.270403397958,
            667.8916832357255,
            939.1568586197382,
            993.2745080086073,
            990.1757989719185,
            835.9457097514908,
            609.9545595573327,
            945.3028154615835,
            866.6162434901828,
            642.6701148219223,
            621.9904743826371,
            621.8998724345205,
            621.3283073343431,
            625.0819776077626,
            610.5561543421068,
            620.7173331800955,
            607.6295988941482,
            608.8156964451766,
            631.1094396262519,
            634.5302989376028,
            579.0540238217301,
            580.8116636845739,
            578.7495954503008,
            576.0095273447881,
            555.3999163548116,
            553.5118977557755,
            550,
            550,
            550,
            550,
            550,
            550,
            550,
            550,
            550.0964741141651,
            554.4854796596561,
            556.4402510231324,
            556.6568156080048,
            555.3532942099398,
            552.0120393443678,
            550,
            550,
            550,
            550,
            550,
            551.6267788238983,
            551.9949145752053
           ]
          },
          {
           "label": "params/ground_gap...",
           "range": [
            431.3585146518433,
            960.5606708196499
           ],
           "values": [
            500.147391274649,
            567.9436397134159,
            447.48688294036594,
            625.973262681876,
            733.4652052159815,
            960.5606708196499,
            812.5751881896422,
            567.1108758301542,
            635.0841936528211,
            522.5370316878546,
            582.62242312022,
            656.0186017636611,
            495.23517411667507,
            534.3437174104542,
            534.1374598169837,
            533.8621801562085,
            481.4142044006439,
            513.761577282454,
            521.3220822356004,
            529.4923935458248,
            554.6589186339139,
            501.59669289817265,
            501.60736559182186,
            485.47363321593167,
            482.63026265687313,
            481.44353902850924,
            478.010302948535,
            465.30520351073005,
            462.09981341324584,
            452.5476489046052,
            432.35715775908676,
            431.3585146518433,
            435.45871547154997,
            522.9886732285952,
            498.2399594212435,
            494.1440415815665,
            451.88635362797805,
            459.95816899176043,
            513.9681426414662,
            516.7002200440415,
            514.4179492868548,
            491.6203861848513,
            486.00491041980274,
            486.42876096696887,
            511.08188800192784,
            513.0738287437553,
            511.72948360379746,
            518.7719234382283,
            482.70218951062105,
            482.31870559012236
           ]
          },
          {
           "label": "params/island1_ex...",
           "range": [
            230.7102355465459,
            695.8105530337391
           ],
           "values": [
            612.1977510945464,
            230.7102355465459,
            684.0739201245588,
            422.6993202770227,
            643.7409153965431,
            666.9061518861106,
            604.2057132947687,
            294.86539543632557,
            495.9128066085724,
            406.11855141592594,
            563.1753735849111,
            695.8105530337391,
            692.5115998969345,
            453.5375532478451,
            451.10444894926627,
            449.8556360451657,
            430.8582761025672,
            456.8000505653233,
            442.0939148200732,
            439.751488696973,
            404.75357835248604,
            412.66313611917616,
            406.7492591063085,
            468.41191464528515,
            466.87650112946056,
            466.8650183413371,
            466.7600080667585,
            467.72025774075684,
            469.0777963698431,
            472.3506848959898,
            464.97423562468094,
            452.94351367470415,
            461.4576614662532,
            511.38011286870704,
            509.7072297317169,
            477.06211433757784,
            471.98186964669094,
            497.28315590658053,
            475.9451933231922,
            474.26227090123604,
            477.28866743596757,
            505.84467958750537,
            524.2909325188749,
            517.8171270813793,
            495.0485207556199,
            495.4921397924164,
            492.7610606296913,
            494.7051867769063,
            497.45411339752826,
            497.408109809951
           ]
          },
          {
           "label": "params/island1_ex...",
           "range": [
            54.309897937312606,
            396.0792436859433
           ],
           "values": [
            299.4460619036654,
            396.0792436859433,
            96.3013898350602,
            170.80401701007304,
            91.31178094558625,
            211.41342006892043,
            204.20154373120016,
            358.7496565165384,
            54.309897937312606,
            241.2133577550147,
            108.68593447691102,
            364.7430402283126,
            82.72009434346487,
            214.28807928743808,
            215.23918313504262,
            215.99286555981539,
            231.68055045436438,
            213.38287390024038,
            210.3456696320995,
            212.3736199634371,
            216.33577660764172,
            204.98598957788883,
            201.6235843338653,
            227.44997454953239,
            220.32649589894146,
            215.41505348306336,
            212.6836486648806,
            181.3729574049479,
            185.2550744746623,
            185.0880398770618,
            210.21561678214962,
            212.89408487094002,
            227.4904502317893,
            196.65744636388075,
            222.2233418501165,
            215.8966751017894,
            220.69260848334918,
            195.9267242159703,
            176.20966582796598,
            176.90201437056618,
            176.1669485181009,
            181.5433005021219,
            189.39516609617917,
            190.44773682887075,
            198.20026227283196,
            198.08416866619945,
            199.58488480861345,
            201.86279423972516,
            214.15929344397492,
            214.4270903742821
           ]
          },
          {
           "label": "params/island1_r",
           "range": [
            1.1880549468071488,
            47.84267689244715
           ],
           "values": [
            39.71731992088594,
            1.1880549468071488,
            34.59505307228004,
            40.33689626204844,
            7.973143740768402,
            26.550374104261692,
            21.351640416822992,
            34.72261557171936,
            47.84267689244715,
            33.194389506869875,
            32.37950654082687,
            31.98164980242599,
            32.50730157285761,
            30.595822799662002,
            30.686010017062067,
            30.742162050791507,
            36.13237246740469,
            33.40409550927721,
            32.94445119114935,
            31.584049788226153,
            29.157505103555327,
            33.426915247375604,
            33.223161778177676,
            34.27615154197867,
            34.06277172968754,
            33.54644503875487,
            33.69000755552079,
            35.023488932214946,
            37.35240872858993,
            31.740618580357037,
            33.943548946889344,
            33.945810297099165,
            32.098952305185776,
            37.629385054563066,
            38.81702701659974,
            38.59516623847009,
            35.32448117503715,
            35.034032334109774,
            39.194934549210366,
            39.406939942104096,
            39.20195140726751,
            39.773006350651904,
            38.83005701863951,
            38.19121507721376,
            35.88016787177677,
            35.74385968144288,
            35.82971646301726,
            35.40796871896833,
            38.02902596391201,
            38.02957028645498
           ]
          },
          {
           "label": "params/island2_ex...",
           "range": [
            267.7530457611758,
            655.3661467187986
           ],
           "values": [
            347.26802722067094,
            565.9243835183609,
            267.7530457611758,
            363.3474136714933,
            297.3231563354476,
            489.2287887424025,
            655.3661467187986,
            618.3376599968026,
            467.2458235650506,
            571.839020327151,
            364.57832033810496,
            426.2638118851205,
            585.3830660716606,
            519.2296371099148,
            521.5195372698997,
            522.9295066170866,
            548.2192304660932,
            582.5142914510423,
            585.0767006200828,
            579.4119106924886,
            570.0035689967125,
            564.83764920892,
            565.7070603435094,
            559.3801019502935,
            558.3583514215117,
            557.0789613117691,
            555.0408441600788,
            543.8861950267648,
            546.9500339518793,
            574.0101530720167,
            559.0769678185618,
            552.6054755651198,
            552.2770780632834,
            562.6172939230544,
            539.8694720974917,
            527.4656117090271,
            522.7055259178096,
            556.7548192268887,
            560.091344154632,
            556.4079247146016,
            558.0518911402885,
            551.6306734445468,
            543.1565443954432,
            552.4909608785623,
            552.6761174680346,
            550.9237841425324,
            551.2461143857468,
            534.5034481679072,
            538.6624551008914,
            537.2891999482054
           ]
          },
          {
           "label": "params/island2_ex...",
           "range": [
            50,
            269.4963209252131
           ],
           "values": [
            158.30144789425157,
            107.27323619451397,
            58.573526421136876,
            115.21634138832103,
            218.70565237453687,
            133.78346114294314,
            192.27075300771284,
            184.3800385538517,
            184.12150791811044,
            68.1594369912099,
            84.80887484236605,
            269.4963209252131,
            169.07989823504184,
            80.12250198089913,
            79.62417576076959,
            79.35150380949747,
            50,
            85.59372433577985,
            84.4767823619404,
            87.86116821704148,
            86.76152202727953,
            54.55523869256124,
            51.5461664473146,
            72.21763905669668,
            67.41429373348262,
            66.0959488156674,
            65.80070846834288,
            65.25073508636888,
            88.54801835846817,
            84.06298058207184,
            107.6695852905545,
            105.44240283286719,
            100.09074920541805,
            71.37076259374466,
            73.04073357924887,
            71.23892144901637,
            70.07784413784069,
            74.50267314635889,
            72.76815049300711,
            72.02822328656498,
            71.63432783652794,
            64.80465977757085,
            64.75618358331897,
            67.66519548631297,
            74.74585032677983,
            74.82751546319068,
            74.46106196790844,
            74.70860269348182,
            65.87573188045953,
            66.28564020822691
           ]
          },
          {
           "label": "params/island2_r",
           "range": [
            0.8878898721794315,
            42.36365192514743
           ],
           "values": [
            39.22449785185045,
            42.36365192514743,
            21.208529118983293,
            7.119851533483384,
            17.41624094022226,
            5.640992535415112,
            20.050857529631717,
            38.64255947815131,
            0.8878898721794315,
            10.140015052107016,
            4.691098263472032,
            21.60488832237722,
            25.582328450079444,
            11.70454449100082,
            11.647301195480667,
            11.614515198615537,
            11.249438296468387,
            12.954653244108341,
            13.007976430795903,
            13.419699763737006,
            12.982727361990612,
            14.280410364698074,
            14.101547509080905,
            13.621498336553714,
            14.142823654714398,
            14.077185401138227,
            14.226028353484077,
            13.173235089038815,
            12.071335514591407,
            12.327853070536849,
            15.339138995237029,
            16.19939061163847,
            16.950468468089426,
            13.021077771247128,
            13.523693015173855,
            13.405993928668881,
            10.213426960108762,
            12.06107695909143,
            15.722601316922477,
            15.834089874001078,
            15.655655543253308,
            12.519949483023291,
            11.0749634538422,
            11.549965953607,
            12.67131309435846,
            12.507591858931436,
            12.492019964610531,
            11.769929230509995,
            13.891485005477033,
            13.7982456748471
           ]
          },
          {
           "label": "params/squid_offset",
           "range": [
            -19.89711384152994,
            -5e-324
           ],
           "values": [
            -18.587050461202328,
            -10.052045486486348,
            -10.754077554769472,
            -14.228828352523767,
            -5.318944299162373,
            -17.938070185914434,
            -2.268975675418453,
            -19.080021510576536,
            -19.89711384152994,
            -1.0740182327247503,
            -0.9706386887696468,
            -18.59503158186125,
            -1.2293062107939043,
            -1.9453608274055938,
            -1.9173390070279126,
            -1.8951290206490903,
            -1.9815048979346415,
            -0.8167775886107655,
            -1.0147887436721312,
            -1.23742208028386,
            -1.797954890537877,
            -2.4551844854655123,
            -2.077936330028191,
            -1.6040083489740304,
            -1.53464353924441,
            -0.8810740162789976,
            -0.9460332380070646,
            -0.3043659066779192,
            -1.2147109734908348,
            -1.4162537562216535,
            -5e-324,
            -0.18915068494522203,
            -5e-324,
            -0.35197719052571586,
            -0.47047908570871044,
            -0.95614691753957,
            -1.6259875103783799,
            -1.999196143310641,
            -1.1833911436421012,
            -1.1583517742335268,
            -1.238147832180399,
            -1.098507755747292,
            -0.9753492573896594,
            -0.8700840492181747,
            -0.9413488983175355,
            -0.964047907226437,
            -0.931707133424311,
            -1.08213069879276,
            -0.7322636040776551,
            -0.6891767710058403
           ]
          }
         ],
         "labelangle": 30,
         "labelside": "top",
         "line": {
          "color": [
           10.482478634260197,
           8.79112454878453,
           3.077638982427273,
           11.471736188248396,
           4.009674323899245,
           9.357472554505975,
           10.288914661161371,
           13.623701318752566,
           11.574816273806176,
           1.60814941498259,
           8.540680777883763,
           10.278410127504529,
           3.652703024007421,
           2.0608023231904355,
           1.9927611710471025,
           1.935528393320276,
           1.5463857169442423,
           1.7099868850890378,
           2.238898869660175,
           1.6571817027064648,
           1.5579045579857642,
           1.8769817489180982,
           2.00132523353574,
           0.29922507185319325,
           0.3417040266756057,
           0.28330246469537357,
           0.1791954998802133,
           0.11564974625152208,
           0.15759197016064383,
           1.1570150829159456,
           0.9312169954445364,
           0.8171000027087206,
           0.9240763750445887,
           0.0032264411058754443,
           0.002859155273921258,
           0.005687857242902068,
           0.2554257515699742,
           0.137946437690422,
           0.16129202933519346,
           0.21073112580610223,
           0.18403208497757226,
           0.04974545318642695,
           0.000011602186401381055,
           0.00688821991467203,
           0.0007233950147745478,
           0.001934952941373802,
           0.00781287384805816,
           0.008680033099883615,
           0.009976642223676533,
           0.01538948461612805
          ],
          "colorbar": {
           "title": {
            "text": ""
           }
          },
          "colorscale": [
           [
            0,
            "rgb(158,1,66)"
           ],
           [
            0.1,
            "rgb(213,62,79)"
           ],
           [
            0.2,
            "rgb(244,109,67)"
           ],
           [
            0.3,
            "rgb(253,174,97)"
           ],
           [
            0.4,
            "rgb(254,224,139)"
           ],
           [
            0.5,
            "rgb(255,255,191)"
           ],
           [
            0.6,
            "rgb(230,245,152)"
           ],
           [
            0.7,
            "rgb(171,221,164)"
           ],
           [
            0.8,
            "rgb(102,194,165)"
           ],
           [
            0.9,
            "rgb(50,136,189)"
           ],
           [
            1,
            "rgb(94,79,162)"
           ]
          ],
          "reversescale": true,
          "showscale": true
         },
         "type": "parcoords"
        }
       ],
       "layout": {
        "template": {
         "data": {
          "bar": [
           {
            "error_x": {
             "color": "#2a3f5f"
            },
            "error_y": {
             "color": "#2a3f5f"
            },
            "marker": {
             "line": {
              "color": "#E5ECF6",
              "width": 0.5
             },
             "pattern": {
              "fillmode": "overlay",
              "size": 10,
              "solidity": 0.2
             }
            },
            "type": "bar"
           }
          ],
          "barpolar": [
           {
            "marker": {
             "line": {
              "color": "#E5ECF6",
              "width": 0.5
             },
             "pattern": {
              "fillmode": "overlay",
              "size": 10,
              "solidity": 0.2
             }
            },
            "type": "barpolar"
           }
          ],
          "carpet": [
           {
            "aaxis": {
             "endlinecolor": "#2a3f5f",
             "gridcolor": "white",
             "linecolor": "white",
             "minorgridcolor": "white",
             "startlinecolor": "#2a3f5f"
            },
            "baxis": {
             "endlinecolor": "#2a3f5f",
             "gridcolor": "white",
             "linecolor": "white",
             "minorgridcolor": "white",
             "startlinecolor": "#2a3f5f"
            },
            "type": "carpet"
           }
          ],
          "choropleth": [
           {
            "colorbar": {
             "outlinewidth": 0,
             "ticks": ""
            },
            "type": "choropleth"
           }
          ],
          "contour": [
           {
            "colorbar": {
             "outlinewidth": 0,
             "ticks": ""
            },
            "colorscale": [
             [
              0,
              "#0d0887"
             ],
             [
              0.1111111111111111,
              "#46039f"
             ],
             [
              0.2222222222222222,
              "#7201a8"
             ],
             [
              0.3333333333333333,
              "#9c179e"
             ],
             [
              0.4444444444444444,
              "#bd3786"
             ],
             [
              0.5555555555555556,
              "#d8576b"
             ],
             [
              0.6666666666666666,
              "#ed7953"
             ],
             [
              0.7777777777777778,
              "#fb9f3a"
             ],
             [
              0.8888888888888888,
              "#fdca26"
             ],
             [
              1,
              "#f0f921"
             ]
            ],
            "type": "contour"
           }
          ],
          "contourcarpet": [
           {
            "colorbar": {
             "outlinewidth": 0,
             "ticks": ""
            },
            "type": "contourcarpet"
           }
          ],
          "heatmap": [
           {
            "colorbar": {
             "outlinewidth": 0,
             "ticks": ""
            },
            "colorscale": [
             [
              0,
              "#0d0887"
             ],
             [
              0.1111111111111111,
              "#46039f"
             ],
             [
              0.2222222222222222,
              "#7201a8"
             ],
             [
              0.3333333333333333,
              "#9c179e"
             ],
             [
              0.4444444444444444,
              "#bd3786"
             ],
             [
              0.5555555555555556,
              "#d8576b"
             ],
             [
              0.6666666666666666,
              "#ed7953"
             ],
             [
              0.7777777777777778,
              "#fb9f3a"
             ],
             [
              0.8888888888888888,
              "#fdca26"
             ],
             [
              1,
              "#f0f921"
             ]
            ],
            "type": "heatmap"
           }
          ],
          "heatmapgl": [
           {
            "colorbar": {
             "outlinewidth": 0,
             "ticks": ""
            },
            "colorscale": [
             [
              0,
              "#0d0887"
             ],
             [
              0.1111111111111111,
              "#46039f"
             ],
             [
              0.2222222222222222,
              "#7201a8"
             ],
             [
              0.3333333333333333,
              "#9c179e"
             ],
             [
              0.4444444444444444,
              "#bd3786"
             ],
             [
              0.5555555555555556,
              "#d8576b"
             ],
             [
              0.6666666666666666,
              "#ed7953"
             ],
             [
              0.7777777777777778,
              "#fb9f3a"
             ],
             [
              0.8888888888888888,
              "#fdca26"
             ],
             [
              1,
              "#f0f921"
             ]
            ],
            "type": "heatmapgl"
           }
          ],
          "histogram": [
           {
            "marker": {
             "pattern": {
              "fillmode": "overlay",
              "size": 10,
              "solidity": 0.2
             }
            },
            "type": "histogram"
           }
          ],
          "histogram2d": [
           {
            "colorbar": {
             "outlinewidth": 0,
             "ticks": ""
            },
            "colorscale": [
             [
              0,
              "#0d0887"
             ],
             [
              0.1111111111111111,
              "#46039f"
             ],
             [
              0.2222222222222222,
              "#7201a8"
             ],
             [
              0.3333333333333333,
              "#9c179e"
             ],
             [
              0.4444444444444444,
              "#bd3786"
             ],
             [
              0.5555555555555556,
              "#d8576b"
             ],
             [
              0.6666666666666666,
              "#ed7953"
             ],
             [
              0.7777777777777778,
              "#fb9f3a"
             ],
             [
              0.8888888888888888,
              "#fdca26"
             ],
             [
              1,
              "#f0f921"
             ]
            ],
            "type": "histogram2d"
           }
          ],
          "histogram2dcontour": [
           {
            "colorbar": {
             "outlinewidth": 0,
             "ticks": ""
            },
            "colorscale": [
             [
              0,
              "#0d0887"
             ],
             [
              0.1111111111111111,
              "#46039f"
             ],
             [
              0.2222222222222222,
              "#7201a8"
             ],
             [
              0.3333333333333333,
              "#9c179e"
             ],
             [
              0.4444444444444444,
              "#bd3786"
             ],
             [
              0.5555555555555556,
              "#d8576b"
             ],
             [
              0.6666666666666666,
              "#ed7953"
             ],
             [
              0.7777777777777778,
              "#fb9f3a"
             ],
             [
              0.8888888888888888,
              "#fdca26"
             ],
             [
              1,
              "#f0f921"
             ]
            ],
            "type": "histogram2dcontour"
           }
          ],
          "mesh3d": [
           {
            "colorbar": {
             "outlinewidth": 0,
             "ticks": ""
            },
            "type": "mesh3d"
           }
          ],
          "parcoords": [
           {
            "line": {
             "colorbar": {
              "outlinewidth": 0,
              "ticks": ""
             }
            },
            "type": "parcoords"
           }
          ],
          "pie": [
           {
            "automargin": true,
            "type": "pie"
           }
          ],
          "scatter": [
           {
            "fillpattern": {
             "fillmode": "overlay",
             "size": 10,
             "solidity": 0.2
            },
            "type": "scatter"
           }
          ],
          "scatter3d": [
           {
            "line": {
             "colorbar": {
              "outlinewidth": 0,
              "ticks": ""
             }
            },
            "marker": {
             "colorbar": {
              "outlinewidth": 0,
              "ticks": ""
             }
            },
            "type": "scatter3d"
           }
          ],
          "scattercarpet": [
           {
            "marker": {
             "colorbar": {
              "outlinewidth": 0,
              "ticks": ""
             }
            },
            "type": "scattercarpet"
           }
          ],
          "scattergeo": [
           {
            "marker": {
             "colorbar": {
              "outlinewidth": 0,
              "ticks": ""
             }
            },
            "type": "scattergeo"
           }
          ],
          "scattergl": [
           {
            "marker": {
             "colorbar": {
              "outlinewidth": 0,
              "ticks": ""
             }
            },
            "type": "scattergl"
           }
          ],
          "scattermapbox": [
           {
            "marker": {
             "colorbar": {
              "outlinewidth": 0,
              "ticks": ""
             }
            },
            "type": "scattermapbox"
           }
          ],
          "scatterpolar": [
           {
            "marker": {
             "colorbar": {
              "outlinewidth": 0,
              "ticks": ""
             }
            },
            "type": "scatterpolar"
           }
          ],
          "scatterpolargl": [
           {
            "marker": {
             "colorbar": {
              "outlinewidth": 0,
              "ticks": ""
             }
            },
            "type": "scatterpolargl"
           }
          ],
          "scatterternary": [
           {
            "marker": {
             "colorbar": {
              "outlinewidth": 0,
              "ticks": ""
             }
            },
            "type": "scatterternary"
           }
          ],
          "surface": [
           {
            "colorbar": {
             "outlinewidth": 0,
             "ticks": ""
            },
            "colorscale": [
             [
              0,
              "#0d0887"
             ],
             [
              0.1111111111111111,
              "#46039f"
             ],
             [
              0.2222222222222222,
              "#7201a8"
             ],
             [
              0.3333333333333333,
              "#9c179e"
             ],
             [
              0.4444444444444444,
              "#bd3786"
             ],
             [
              0.5555555555555556,
              "#d8576b"
             ],
             [
              0.6666666666666666,
              "#ed7953"
             ],
             [
              0.7777777777777778,
              "#fb9f3a"
             ],
             [
              0.8888888888888888,
              "#fdca26"
             ],
             [
              1,
              "#f0f921"
             ]
            ],
            "type": "surface"
           }
          ],
          "table": [
           {
            "cells": {
             "fill": {
              "color": "#EBF0F8"
             },
             "line": {
              "color": "white"
             }
            },
            "header": {
             "fill": {
              "color": "#C8D4E3"
             },
             "line": {
              "color": "white"
             }
            },
            "type": "table"
           }
          ]
         },
         "layout": {
          "annotationdefaults": {
           "arrowcolor": "#2a3f5f",
           "arrowhead": 0,
           "arrowwidth": 1
          },
          "autotypenumbers": "strict",
          "coloraxis": {
           "colorbar": {
            "outlinewidth": 0,
            "ticks": ""
           }
          },
          "colorscale": {
           "diverging": [
            [
             0,
             "#8e0152"
            ],
            [
             0.1,
             "#c51b7d"
            ],
            [
             0.2,
             "#de77ae"
            ],
            [
             0.3,
             "#f1b6da"
            ],
            [
             0.4,
             "#fde0ef"
            ],
            [
             0.5,
             "#f7f7f7"
            ],
            [
             0.6,
             "#e6f5d0"
            ],
            [
             0.7,
             "#b8e186"
            ],
            [
             0.8,
             "#7fbc41"
            ],
            [
             0.9,
             "#4d9221"
            ],
            [
             1,
             "#276419"
            ]
           ],
           "sequential": [
            [
             0,
             "#0d0887"
            ],
            [
             0.1111111111111111,
             "#46039f"
            ],
            [
             0.2222222222222222,
             "#7201a8"
            ],
            [
             0.3333333333333333,
             "#9c179e"
            ],
            [
             0.4444444444444444,
             "#bd3786"
            ],
            [
             0.5555555555555556,
             "#d8576b"
            ],
            [
             0.6666666666666666,
             "#ed7953"
            ],
            [
             0.7777777777777778,
             "#fb9f3a"
            ],
            [
             0.8888888888888888,
             "#fdca26"
            ],
            [
             1,
             "#f0f921"
            ]
           ],
           "sequentialminus": [
            [
             0,
             "#0d0887"
            ],
            [
             0.1111111111111111,
             "#46039f"
            ],
            [
             0.2222222222222222,
             "#7201a8"
            ],
            [
             0.3333333333333333,
             "#9c179e"
            ],
            [
             0.4444444444444444,
             "#bd3786"
            ],
            [
             0.5555555555555556,
             "#d8576b"
            ],
            [
             0.6666666666666666,
             "#ed7953"
            ],
            [
             0.7777777777777778,
             "#fb9f3a"
            ],
            [
             0.8888888888888888,
             "#fdca26"
            ],
            [
             1,
             "#f0f921"
            ]
           ]
          },
          "colorway": [
           "#636efa",
           "#EF553B",
           "#00cc96",
           "#ab63fa",
           "#FFA15A",
           "#19d3f3",
           "#FF6692",
           "#B6E880",
           "#FF97FF",
           "#FECB52"
          ],
          "font": {
           "color": "#2a3f5f"
          },
          "geo": {
           "bgcolor": "white",
           "lakecolor": "white",
           "landcolor": "#E5ECF6",
           "showlakes": true,
           "showland": true,
           "subunitcolor": "white"
          },
          "hoverlabel": {
           "align": "left"
          },
          "hovermode": "closest",
          "mapbox": {
           "style": "light"
          },
          "paper_bgcolor": "white",
          "plot_bgcolor": "#E5ECF6",
          "polar": {
           "angularaxis": {
            "gridcolor": "white",
            "linecolor": "white",
            "ticks": ""
           },
           "bgcolor": "#E5ECF6",
           "radialaxis": {
            "gridcolor": "white",
            "linecolor": "white",
            "ticks": ""
           }
          },
          "scene": {
           "xaxis": {
            "backgroundcolor": "#E5ECF6",
            "gridcolor": "white",
            "gridwidth": 2,
            "linecolor": "white",
            "showbackground": true,
            "ticks": "",
            "zerolinecolor": "white"
           },
           "yaxis": {
            "backgroundcolor": "#E5ECF6",
            "gridcolor": "white",
            "gridwidth": 2,
            "linecolor": "white",
            "showbackground": true,
            "ticks": "",
            "zerolinecolor": "white"
           },
           "zaxis": {
            "backgroundcolor": "#E5ECF6",
            "gridcolor": "white",
            "gridwidth": 2,
            "linecolor": "white",
            "showbackground": true,
            "ticks": "",
            "zerolinecolor": "white"
           }
          },
          "shapedefaults": {
           "line": {
            "color": "#2a3f5f"
           }
          },
          "ternary": {
           "aaxis": {
            "gridcolor": "white",
            "linecolor": "white",
            "ticks": ""
           },
           "baxis": {
            "gridcolor": "white",
            "linecolor": "white",
            "ticks": ""
           },
           "bgcolor": "#E5ECF6",
           "caxis": {
            "gridcolor": "white",
            "linecolor": "white",
            "ticks": ""
           }
          },
          "title": {
           "x": 0.05
          },
          "xaxis": {
           "automargin": true,
           "gridcolor": "white",
           "linecolor": "white",
           "ticks": "",
           "title": {
            "standoff": 15
           },
           "zerolinecolor": "white",
           "zerolinewidth": 2
          },
          "yaxis": {
           "automargin": true,
           "gridcolor": "white",
           "linecolor": "white",
           "ticks": "",
           "title": {
            "standoff": 15
           },
           "zerolinecolor": "white",
           "zerolinewidth": 2
          }
         }
        },
        "title": {
         "text": "Parallel Coordinate Plot"
        }
       }
      }
     },
     "metadata": {},
     "output_type": "display_data"
    },
    {
     "name": "stdout",
     "output_type": "stream",
     "text": [
      "Not multi-objective. `plot_pareto_front` function only supports 2 or 3 objective studies when using `targets` is `None`. Please use `targets` if your objective studies have more than 3 objectives.\n"
     ]
    }
   ],
   "source": [
    "# Default 'importance' metric is fANOVA, see optuna.importance.FanovaImportanceEvaluator\n",
    "fig = optuna.visualization.plot_param_importances(study, target=lambda t: t.values[0])\n",
    "fig.show()\n",
    "\n",
    "fig = optuna.visualization.plot_parallel_coordinate(study, target=lambda t: t.values[0])\n",
    "fig.show()\n",
    "\n",
    "try:\n",
    "    fig = optuna.visualization.plot_pareto_front(study)  # or optuna.visualization.matplotlib.plot_pareto_front(study)\n",
    "    fig.show()\n",
    "except ValueError as e:\n",
    "    print('Not multi-objective.', e)"
   ]
  },
  {
   "cell_type": "code",
   "execution_count": 13,
   "metadata": {},
   "outputs": [
    {
     "data": {
      "text/html": [
       "<div>\n",
       "<style scoped>\n",
       "    .dataframe tbody tr th:only-of-type {\n",
       "        vertical-align: middle;\n",
       "    }\n",
       "\n",
       "    .dataframe tbody tr th {\n",
       "        vertical-align: top;\n",
       "    }\n",
       "\n",
       "    .dataframe thead th {\n",
       "        text-align: right;\n",
       "    }\n",
       "</style>\n",
       "<table border=\"1\" class=\"dataframe\">\n",
       "  <thead>\n",
       "    <tr style=\"text-align: right;\">\n",
       "      <th></th>\n",
       "      <th>score</th>\n",
       "      <th>value</th>\n",
       "      <th>time_this_iter_s</th>\n",
       "      <th>config/params/coupler_extent[0]</th>\n",
       "      <th>config/params/coupler_extent[1]</th>\n",
       "      <th>config/params/coupler_offset</th>\n",
       "      <th>config/params/ground_gap_[0]</th>\n",
       "      <th>config/params/ground_gap_[1]</th>\n",
       "      <th>config/params/island1_extent_[0]</th>\n",
       "      <th>config/params/island1_extent_[1]</th>\n",
       "      <th>config/params/island1_r</th>\n",
       "      <th>config/params/island2_extent_[0]</th>\n",
       "      <th>config/params/island2_extent_[1]</th>\n",
       "      <th>config/params/island2_r</th>\n",
       "      <th>config/params/squid_offset</th>\n",
       "    </tr>\n",
       "  </thead>\n",
       "  <tbody>\n",
       "    <tr>\n",
       "      <th>0</th>\n",
       "      <td>10.482479</td>\n",
       "      <td>6.176233e-14</td>\n",
       "      <td>93.964783</td>\n",
       "      <td>209.508885</td>\n",
       "      <td>20.257585</td>\n",
       "      <td>27.908284</td>\n",
       "      <td>980.836474</td>\n",
       "      <td>500.147391</td>\n",
       "      <td>612.197751</td>\n",
       "      <td>299.446062</td>\n",
       "      <td>39.717320</td>\n",
       "      <td>347.268027</td>\n",
       "      <td>158.301448</td>\n",
       "      <td>39.224498</td>\n",
       "      <td>-1.858705e+01</td>\n",
       "    </tr>\n",
       "    <tr>\n",
       "      <th>1</th>\n",
       "      <td>8.791125</td>\n",
       "      <td>6.203502e-14</td>\n",
       "      <td>91.787727</td>\n",
       "      <td>248.199973</td>\n",
       "      <td>28.410353</td>\n",
       "      <td>30.168589</td>\n",
       "      <td>848.421707</td>\n",
       "      <td>567.943640</td>\n",
       "      <td>230.710236</td>\n",
       "      <td>396.079244</td>\n",
       "      <td>1.188055</td>\n",
       "      <td>565.924384</td>\n",
       "      <td>107.273236</td>\n",
       "      <td>42.363652</td>\n",
       "      <td>-1.005205e+01</td>\n",
       "    </tr>\n",
       "    <tr>\n",
       "      <th>2</th>\n",
       "      <td>3.077639</td>\n",
       "      <td>6.324568e-14</td>\n",
       "      <td>91.767391</td>\n",
       "      <td>436.940031</td>\n",
       "      <td>28.407880</td>\n",
       "      <td>27.418650</td>\n",
       "      <td>779.464603</td>\n",
       "      <td>447.486883</td>\n",
       "      <td>684.073920</td>\n",
       "      <td>96.301390</td>\n",
       "      <td>34.595053</td>\n",
       "      <td>267.753046</td>\n",
       "      <td>58.573526</td>\n",
       "      <td>21.208529</td>\n",
       "      <td>-1.075408e+01</td>\n",
       "    </tr>\n",
       "    <tr>\n",
       "      <th>3</th>\n",
       "      <td>11.471736</td>\n",
       "      <td>6.161300e-14</td>\n",
       "      <td>91.759390</td>\n",
       "      <td>206.252459</td>\n",
       "      <td>35.671084</td>\n",
       "      <td>44.978300</td>\n",
       "      <td>978.270403</td>\n",
       "      <td>625.973263</td>\n",
       "      <td>422.699320</td>\n",
       "      <td>170.804017</td>\n",
       "      <td>40.336896</td>\n",
       "      <td>363.347414</td>\n",
       "      <td>115.216341</td>\n",
       "      <td>7.119852</td>\n",
       "      <td>-1.422883e+01</td>\n",
       "    </tr>\n",
       "    <tr>\n",
       "      <th>4</th>\n",
       "      <td>4.009674</td>\n",
       "      <td>6.299758e-14</td>\n",
       "      <td>94.803180</td>\n",
       "      <td>288.069242</td>\n",
       "      <td>23.450317</td>\n",
       "      <td>19.086692</td>\n",
       "      <td>667.891683</td>\n",
       "      <td>733.465205</td>\n",
       "      <td>643.740915</td>\n",
       "      <td>91.311781</td>\n",
       "      <td>7.973144</td>\n",
       "      <td>297.323156</td>\n",
       "      <td>218.705652</td>\n",
       "      <td>17.416241</td>\n",
       "      <td>-5.318944e+00</td>\n",
       "    </tr>\n",
       "    <tr>\n",
       "      <th>5</th>\n",
       "      <td>9.357473</td>\n",
       "      <td>6.194100e-14</td>\n",
       "      <td>95.555332</td>\n",
       "      <td>454.863522</td>\n",
       "      <td>33.498393</td>\n",
       "      <td>29.036728</td>\n",
       "      <td>939.156859</td>\n",
       "      <td>960.560671</td>\n",
       "      <td>666.906152</td>\n",
       "      <td>211.413420</td>\n",
       "      <td>26.550374</td>\n",
       "      <td>489.228789</td>\n",
       "      <td>133.783461</td>\n",
       "      <td>5.640993</td>\n",
       "      <td>-1.793807e+01</td>\n",
       "    </tr>\n",
       "    <tr>\n",
       "      <th>6</th>\n",
       "      <td>10.288915</td>\n",
       "      <td>6.179237e-14</td>\n",
       "      <td>95.441624</td>\n",
       "      <td>312.041548</td>\n",
       "      <td>39.525873</td>\n",
       "      <td>36.733802</td>\n",
       "      <td>993.274508</td>\n",
       "      <td>812.575188</td>\n",
       "      <td>604.205713</td>\n",
       "      <td>204.201544</td>\n",
       "      <td>21.351640</td>\n",
       "      <td>655.366147</td>\n",
       "      <td>192.270753</td>\n",
       "      <td>20.050858</td>\n",
       "      <td>-2.268976e+00</td>\n",
       "    </tr>\n",
       "    <tr>\n",
       "      <th>7</th>\n",
       "      <td>13.623701</td>\n",
       "      <td>6.130897e-14</td>\n",
       "      <td>93.026208</td>\n",
       "      <td>191.699309</td>\n",
       "      <td>35.519139</td>\n",
       "      <td>38.462601</td>\n",
       "      <td>990.175799</td>\n",
       "      <td>567.110876</td>\n",
       "      <td>294.865395</td>\n",
       "      <td>358.749657</td>\n",
       "      <td>34.722616</td>\n",
       "      <td>618.337660</td>\n",
       "      <td>184.380039</td>\n",
       "      <td>38.642559</td>\n",
       "      <td>-1.908002e+01</td>\n",
       "    </tr>\n",
       "    <tr>\n",
       "      <th>8</th>\n",
       "      <td>11.574816</td>\n",
       "      <td>6.159782e-14</td>\n",
       "      <td>90.947189</td>\n",
       "      <td>128.780401</td>\n",
       "      <td>31.385516</td>\n",
       "      <td>29.271786</td>\n",
       "      <td>835.945710</td>\n",
       "      <td>635.084194</td>\n",
       "      <td>495.912807</td>\n",
       "      <td>54.309898</td>\n",
       "      <td>47.842677</td>\n",
       "      <td>467.245824</td>\n",
       "      <td>184.121508</td>\n",
       "      <td>0.887890</td>\n",
       "      <td>-1.989711e+01</td>\n",
       "    </tr>\n",
       "    <tr>\n",
       "      <th>9</th>\n",
       "      <td>1.608149</td>\n",
       "      <td>6.373187e-14</td>\n",
       "      <td>90.539839</td>\n",
       "      <td>237.675322</td>\n",
       "      <td>22.431663</td>\n",
       "      <td>13.329813</td>\n",
       "      <td>609.954560</td>\n",
       "      <td>522.537032</td>\n",
       "      <td>406.118551</td>\n",
       "      <td>241.213358</td>\n",
       "      <td>33.194390</td>\n",
       "      <td>571.839020</td>\n",
       "      <td>68.159437</td>\n",
       "      <td>10.140015</td>\n",
       "      <td>-1.074018e+00</td>\n",
       "    </tr>\n",
       "    <tr>\n",
       "      <th>10</th>\n",
       "      <td>8.540681</td>\n",
       "      <td>6.207756e-14</td>\n",
       "      <td>91.367039</td>\n",
       "      <td>445.658477</td>\n",
       "      <td>32.054285</td>\n",
       "      <td>47.191703</td>\n",
       "      <td>945.302815</td>\n",
       "      <td>582.622423</td>\n",
       "      <td>563.175374</td>\n",
       "      <td>108.685934</td>\n",
       "      <td>32.379507</td>\n",
       "      <td>364.578320</td>\n",
       "      <td>84.808875</td>\n",
       "      <td>4.691098</td>\n",
       "      <td>-9.706387e-01</td>\n",
       "    </tr>\n",
       "    <tr>\n",
       "      <th>11</th>\n",
       "      <td>10.278410</td>\n",
       "      <td>6.179400e-14</td>\n",
       "      <td>91.288358</td>\n",
       "      <td>323.422373</td>\n",
       "      <td>33.600717</td>\n",
       "      <td>33.260528</td>\n",
       "      <td>866.616243</td>\n",
       "      <td>656.018602</td>\n",
       "      <td>695.810553</td>\n",
       "      <td>364.743040</td>\n",
       "      <td>31.981650</td>\n",
       "      <td>426.263812</td>\n",
       "      <td>269.496321</td>\n",
       "      <td>21.604888</td>\n",
       "      <td>-1.859503e+01</td>\n",
       "    </tr>\n",
       "    <tr>\n",
       "      <th>12</th>\n",
       "      <td>3.652703</td>\n",
       "      <td>6.308880e-14</td>\n",
       "      <td>94.337190</td>\n",
       "      <td>48.388054</td>\n",
       "      <td>34.305446</td>\n",
       "      <td>21.873846</td>\n",
       "      <td>642.670115</td>\n",
       "      <td>495.235174</td>\n",
       "      <td>692.511600</td>\n",
       "      <td>82.720094</td>\n",
       "      <td>32.507302</td>\n",
       "      <td>585.383066</td>\n",
       "      <td>169.079898</td>\n",
       "      <td>25.582328</td>\n",
       "      <td>-1.229306e+00</td>\n",
       "    </tr>\n",
       "    <tr>\n",
       "      <th>13</th>\n",
       "      <td>2.060802</td>\n",
       "      <td>6.356445e-14</td>\n",
       "      <td>93.565201</td>\n",
       "      <td>261.914841</td>\n",
       "      <td>22.802114</td>\n",
       "      <td>14.581480</td>\n",
       "      <td>621.990474</td>\n",
       "      <td>534.343717</td>\n",
       "      <td>453.537553</td>\n",
       "      <td>214.288079</td>\n",
       "      <td>30.595823</td>\n",
       "      <td>519.229637</td>\n",
       "      <td>80.122502</td>\n",
       "      <td>11.704544</td>\n",
       "      <td>-1.945361e+00</td>\n",
       "    </tr>\n",
       "    <tr>\n",
       "      <th>14</th>\n",
       "      <td>1.992761</td>\n",
       "      <td>6.358835e-14</td>\n",
       "      <td>93.976622</td>\n",
       "      <td>260.571528</td>\n",
       "      <td>22.790344</td>\n",
       "      <td>14.549077</td>\n",
       "      <td>621.899872</td>\n",
       "      <td>534.137460</td>\n",
       "      <td>451.104449</td>\n",
       "      <td>215.239183</td>\n",
       "      <td>30.686010</td>\n",
       "      <td>521.519537</td>\n",
       "      <td>79.624176</td>\n",
       "      <td>11.647301</td>\n",
       "      <td>-1.917339e+00</td>\n",
       "    </tr>\n",
       "    <tr>\n",
       "      <th>15</th>\n",
       "      <td>1.935528</td>\n",
       "      <td>6.360877e-14</td>\n",
       "      <td>91.406738</td>\n",
       "      <td>259.817769</td>\n",
       "      <td>22.773215</td>\n",
       "      <td>14.491113</td>\n",
       "      <td>621.328307</td>\n",
       "      <td>533.862180</td>\n",
       "      <td>449.855636</td>\n",
       "      <td>215.992866</td>\n",
       "      <td>30.742162</td>\n",
       "      <td>522.929507</td>\n",
       "      <td>79.351504</td>\n",
       "      <td>11.614515</td>\n",
       "      <td>-1.895129e+00</td>\n",
       "    </tr>\n",
       "    <tr>\n",
       "      <th>16</th>\n",
       "      <td>1.546386</td>\n",
       "      <td>6.375646e-14</td>\n",
       "      <td>94.848053</td>\n",
       "      <td>271.158149</td>\n",
       "      <td>23.166395</td>\n",
       "      <td>14.606231</td>\n",
       "      <td>625.081978</td>\n",
       "      <td>481.414204</td>\n",
       "      <td>430.858276</td>\n",
       "      <td>231.680550</td>\n",
       "      <td>36.132372</td>\n",
       "      <td>548.219230</td>\n",
       "      <td>50.000000</td>\n",
       "      <td>11.249438</td>\n",
       "      <td>-1.981505e+00</td>\n",
       "    </tr>\n",
       "    <tr>\n",
       "      <th>17</th>\n",
       "      <td>1.709987</td>\n",
       "      <td>6.369234e-14</td>\n",
       "      <td>95.842276</td>\n",
       "      <td>196.454633</td>\n",
       "      <td>24.629570</td>\n",
       "      <td>14.570378</td>\n",
       "      <td>610.556154</td>\n",
       "      <td>513.761577</td>\n",
       "      <td>456.800051</td>\n",
       "      <td>213.382874</td>\n",
       "      <td>33.404096</td>\n",
       "      <td>582.514291</td>\n",
       "      <td>85.593724</td>\n",
       "      <td>12.954653</td>\n",
       "      <td>-8.167776e-01</td>\n",
       "    </tr>\n",
       "    <tr>\n",
       "      <th>18</th>\n",
       "      <td>2.238899</td>\n",
       "      <td>6.350370e-14</td>\n",
       "      <td>91.557697</td>\n",
       "      <td>189.472087</td>\n",
       "      <td>24.606076</td>\n",
       "      <td>14.986965</td>\n",
       "      <td>620.717333</td>\n",
       "      <td>521.322082</td>\n",
       "      <td>442.093915</td>\n",
       "      <td>210.345670</td>\n",
       "      <td>32.944451</td>\n",
       "      <td>585.076701</td>\n",
       "      <td>84.476782</td>\n",
       "      <td>13.007976</td>\n",
       "      <td>-1.014789e+00</td>\n",
       "    </tr>\n",
       "    <tr>\n",
       "      <th>19</th>\n",
       "      <td>1.657182</td>\n",
       "      <td>6.371268e-14</td>\n",
       "      <td>90.700412</td>\n",
       "      <td>187.410947</td>\n",
       "      <td>23.930522</td>\n",
       "      <td>13.474265</td>\n",
       "      <td>607.629599</td>\n",
       "      <td>529.492394</td>\n",
       "      <td>439.751489</td>\n",
       "      <td>212.373620</td>\n",
       "      <td>31.584050</td>\n",
       "      <td>579.411911</td>\n",
       "      <td>87.861168</td>\n",
       "      <td>13.419700</td>\n",
       "      <td>-1.237422e+00</td>\n",
       "    </tr>\n",
       "    <tr>\n",
       "      <th>20</th>\n",
       "      <td>1.557905</td>\n",
       "      <td>6.375184e-14</td>\n",
       "      <td>87.532896</td>\n",
       "      <td>189.138495</td>\n",
       "      <td>22.526771</td>\n",
       "      <td>12.247859</td>\n",
       "      <td>608.815696</td>\n",
       "      <td>554.658919</td>\n",
       "      <td>404.753578</td>\n",
       "      <td>216.335777</td>\n",
       "      <td>29.157505</td>\n",
       "      <td>570.003569</td>\n",
       "      <td>86.761522</td>\n",
       "      <td>12.982727</td>\n",
       "      <td>-1.797955e+00</td>\n",
       "    </tr>\n",
       "    <tr>\n",
       "      <th>21</th>\n",
       "      <td>1.876982</td>\n",
       "      <td>6.362997e-14</td>\n",
       "      <td>87.004804</td>\n",
       "      <td>208.513250</td>\n",
       "      <td>23.566138</td>\n",
       "      <td>13.927434</td>\n",
       "      <td>631.109440</td>\n",
       "      <td>501.596693</td>\n",
       "      <td>412.663136</td>\n",
       "      <td>204.985990</td>\n",
       "      <td>33.426915</td>\n",
       "      <td>564.837649</td>\n",
       "      <td>54.555239</td>\n",
       "      <td>14.280410</td>\n",
       "      <td>-2.455184e+00</td>\n",
       "    </tr>\n",
       "    <tr>\n",
       "      <th>22</th>\n",
       "      <td>2.001325</td>\n",
       "      <td>6.358532e-14</td>\n",
       "      <td>87.480185</td>\n",
       "      <td>207.947348</td>\n",
       "      <td>23.536379</td>\n",
       "      <td>14.311958</td>\n",
       "      <td>634.530299</td>\n",
       "      <td>501.607366</td>\n",
       "      <td>406.749259</td>\n",
       "      <td>201.623584</td>\n",
       "      <td>33.223162</td>\n",
       "      <td>565.707060</td>\n",
       "      <td>51.546166</td>\n",
       "      <td>14.101548</td>\n",
       "      <td>-2.077936e+00</td>\n",
       "    </tr>\n",
       "    <tr>\n",
       "      <th>23</th>\n",
       "      <td>0.299225</td>\n",
       "      <td>6.445299e-14</td>\n",
       "      <td>83.540659</td>\n",
       "      <td>232.036802</td>\n",
       "      <td>23.287476</td>\n",
       "      <td>11.327221</td>\n",
       "      <td>579.054024</td>\n",
       "      <td>485.473633</td>\n",
       "      <td>468.411915</td>\n",
       "      <td>227.449975</td>\n",
       "      <td>34.276152</td>\n",
       "      <td>559.380102</td>\n",
       "      <td>72.217639</td>\n",
       "      <td>13.621498</td>\n",
       "      <td>-1.604008e+00</td>\n",
       "    </tr>\n",
       "    <tr>\n",
       "      <th>24</th>\n",
       "      <td>0.341704</td>\n",
       "      <td>6.441545e-14</td>\n",
       "      <td>83.525021</td>\n",
       "      <td>227.149657</td>\n",
       "      <td>23.319675</td>\n",
       "      <td>11.356722</td>\n",
       "      <td>580.811664</td>\n",
       "      <td>482.630263</td>\n",
       "      <td>466.876501</td>\n",
       "      <td>220.326496</td>\n",
       "      <td>34.062772</td>\n",
       "      <td>558.358351</td>\n",
       "      <td>67.414294</td>\n",
       "      <td>14.142824</td>\n",
       "      <td>-1.534644e+00</td>\n",
       "    </tr>\n",
       "    <tr>\n",
       "      <th>25</th>\n",
       "      <td>0.283302</td>\n",
       "      <td>6.446774e-14</td>\n",
       "      <td>83.432545</td>\n",
       "      <td>227.392146</td>\n",
       "      <td>23.248780</td>\n",
       "      <td>11.525365</td>\n",
       "      <td>578.749595</td>\n",
       "      <td>481.443539</td>\n",
       "      <td>466.865018</td>\n",
       "      <td>215.415053</td>\n",
       "      <td>33.546445</td>\n",
       "      <td>557.078961</td>\n",
       "      <td>66.095949</td>\n",
       "      <td>14.077185</td>\n",
       "      <td>-8.810740e-01</td>\n",
       "    </tr>\n",
       "    <tr>\n",
       "      <th>26</th>\n",
       "      <td>0.179195</td>\n",
       "      <td>6.457669e-14</td>\n",
       "      <td>80.935596</td>\n",
       "      <td>226.335539</td>\n",
       "      <td>23.133757</td>\n",
       "      <td>11.162139</td>\n",
       "      <td>576.009527</td>\n",
       "      <td>478.010303</td>\n",
       "      <td>466.760008</td>\n",
       "      <td>212.683649</td>\n",
       "      <td>33.690008</td>\n",
       "      <td>555.040844</td>\n",
       "      <td>65.800708</td>\n",
       "      <td>14.226028</td>\n",
       "      <td>-9.460332e-01</td>\n",
       "    </tr>\n",
       "    <tr>\n",
       "      <th>27</th>\n",
       "      <td>0.115650</td>\n",
       "      <td>6.534007e-14</td>\n",
       "      <td>79.763891</td>\n",
       "      <td>208.905751</td>\n",
       "      <td>22.219314</td>\n",
       "      <td>9.115888</td>\n",
       "      <td>555.399916</td>\n",
       "      <td>465.305204</td>\n",
       "      <td>467.720258</td>\n",
       "      <td>181.372957</td>\n",
       "      <td>35.023489</td>\n",
       "      <td>543.886195</td>\n",
       "      <td>65.250735</td>\n",
       "      <td>13.173235</td>\n",
       "      <td>-3.043659e-01</td>\n",
       "    </tr>\n",
       "    <tr>\n",
       "      <th>28</th>\n",
       "      <td>0.157592</td>\n",
       "      <td>6.539698e-14</td>\n",
       "      <td>81.952573</td>\n",
       "      <td>207.689691</td>\n",
       "      <td>22.409802</td>\n",
       "      <td>8.505995</td>\n",
       "      <td>553.511898</td>\n",
       "      <td>462.099813</td>\n",
       "      <td>469.077796</td>\n",
       "      <td>185.255074</td>\n",
       "      <td>37.352409</td>\n",
       "      <td>546.950034</td>\n",
       "      <td>88.548018</td>\n",
       "      <td>12.071336</td>\n",
       "      <td>-1.214711e+00</td>\n",
       "    </tr>\n",
       "    <tr>\n",
       "      <th>29</th>\n",
       "      <td>1.157015</td>\n",
       "      <td>6.607565e-14</td>\n",
       "      <td>81.614947</td>\n",
       "      <td>238.177461</td>\n",
       "      <td>24.262993</td>\n",
       "      <td>6.143999</td>\n",
       "      <td>550.000000</td>\n",
       "      <td>452.547649</td>\n",
       "      <td>472.350685</td>\n",
       "      <td>185.088040</td>\n",
       "      <td>31.740619</td>\n",
       "      <td>574.010153</td>\n",
       "      <td>84.062981</td>\n",
       "      <td>12.327853</td>\n",
       "      <td>-1.416254e+00</td>\n",
       "    </tr>\n",
       "    <tr>\n",
       "      <th>30</th>\n",
       "      <td>0.931217</td>\n",
       "      <td>6.596500e-14</td>\n",
       "      <td>81.276736</td>\n",
       "      <td>232.858995</td>\n",
       "      <td>22.973357</td>\n",
       "      <td>8.166761</td>\n",
       "      <td>550.000000</td>\n",
       "      <td>432.357158</td>\n",
       "      <td>464.974236</td>\n",
       "      <td>210.215617</td>\n",
       "      <td>33.943549</td>\n",
       "      <td>559.076968</td>\n",
       "      <td>107.669585</td>\n",
       "      <td>15.339139</td>\n",
       "      <td>-4.940656e-324</td>\n",
       "    </tr>\n",
       "    <tr>\n",
       "      <th>31</th>\n",
       "      <td>0.817100</td>\n",
       "      <td>6.590394e-14</td>\n",
       "      <td>77.853022</td>\n",
       "      <td>233.287095</td>\n",
       "      <td>22.757750</td>\n",
       "      <td>8.846357</td>\n",
       "      <td>550.000000</td>\n",
       "      <td>431.358515</td>\n",
       "      <td>452.943514</td>\n",
       "      <td>212.894085</td>\n",
       "      <td>33.945810</td>\n",
       "      <td>552.605476</td>\n",
       "      <td>105.442403</td>\n",
       "      <td>16.199391</td>\n",
       "      <td>-1.891507e-01</td>\n",
       "    </tr>\n",
       "    <tr>\n",
       "      <th>32</th>\n",
       "      <td>0.924076</td>\n",
       "      <td>6.596129e-14</td>\n",
       "      <td>82.692984</td>\n",
       "      <td>224.427079</td>\n",
       "      <td>22.221876</td>\n",
       "      <td>8.378799</td>\n",
       "      <td>550.000000</td>\n",
       "      <td>435.458715</td>\n",
       "      <td>461.457661</td>\n",
       "      <td>227.490450</td>\n",
       "      <td>32.098952</td>\n",
       "      <td>552.277078</td>\n",
       "      <td>100.090749</td>\n",
       "      <td>16.950468</td>\n",
       "      <td>-4.940656e-324</td>\n",
       "    </tr>\n",
       "    <tr>\n",
       "      <th>33</th>\n",
       "      <td>0.003226</td>\n",
       "      <td>6.505680e-14</td>\n",
       "      <td>82.577661</td>\n",
       "      <td>240.126234</td>\n",
       "      <td>23.392085</td>\n",
       "      <td>8.101109</td>\n",
       "      <td>550.000000</td>\n",
       "      <td>522.988673</td>\n",
       "      <td>511.380113</td>\n",
       "      <td>196.657446</td>\n",
       "      <td>37.629385</td>\n",
       "      <td>562.617294</td>\n",
       "      <td>71.370763</td>\n",
       "      <td>13.021078</td>\n",
       "      <td>-3.519772e-01</td>\n",
       "    </tr>\n",
       "    <tr>\n",
       "      <th>34</th>\n",
       "      <td>0.002859</td>\n",
       "      <td>6.494653e-14</td>\n",
       "      <td>82.673049</td>\n",
       "      <td>204.423006</td>\n",
       "      <td>21.952903</td>\n",
       "      <td>11.416706</td>\n",
       "      <td>550.000000</td>\n",
       "      <td>498.239959</td>\n",
       "      <td>509.707230</td>\n",
       "      <td>222.223342</td>\n",
       "      <td>38.817027</td>\n",
       "      <td>539.869472</td>\n",
       "      <td>73.040734</td>\n",
       "      <td>13.523693</td>\n",
       "      <td>-4.704791e-01</td>\n",
       "    </tr>\n",
       "    <tr>\n",
       "      <th>35</th>\n",
       "      <td>0.005688</td>\n",
       "      <td>6.492458e-14</td>\n",
       "      <td>79.543310</td>\n",
       "      <td>207.063264</td>\n",
       "      <td>22.324717</td>\n",
       "      <td>12.240746</td>\n",
       "      <td>550.000000</td>\n",
       "      <td>494.144042</td>\n",
       "      <td>477.062114</td>\n",
       "      <td>215.896675</td>\n",
       "      <td>38.595166</td>\n",
       "      <td>527.465612</td>\n",
       "      <td>71.238921</td>\n",
       "      <td>13.405994</td>\n",
       "      <td>-9.561469e-01</td>\n",
       "    </tr>\n",
       "    <tr>\n",
       "      <th>36</th>\n",
       "      <td>0.255426</td>\n",
       "      <td>6.550540e-14</td>\n",
       "      <td>77.551624</td>\n",
       "      <td>190.616221</td>\n",
       "      <td>22.167896</td>\n",
       "      <td>13.036301</td>\n",
       "      <td>550.000000</td>\n",
       "      <td>451.886354</td>\n",
       "      <td>471.981870</td>\n",
       "      <td>220.692608</td>\n",
       "      <td>35.324481</td>\n",
       "      <td>522.705526</td>\n",
       "      <td>70.077844</td>\n",
       "      <td>10.213427</td>\n",
       "      <td>-1.625988e+00</td>\n",
       "    </tr>\n",
       "    <tr>\n",
       "      <th>37</th>\n",
       "      <td>0.137946</td>\n",
       "      <td>6.537141e-14</td>\n",
       "      <td>78.149763</td>\n",
       "      <td>210.185432</td>\n",
       "      <td>20.363529</td>\n",
       "      <td>13.222245</td>\n",
       "      <td>550.096474</td>\n",
       "      <td>459.958169</td>\n",
       "      <td>497.283156</td>\n",
       "      <td>195.926724</td>\n",
       "      <td>35.034032</td>\n",
       "      <td>556.754819</td>\n",
       "      <td>74.502673</td>\n",
       "      <td>12.061077</td>\n",
       "      <td>-1.999196e+00</td>\n",
       "    </tr>\n",
       "    <tr>\n",
       "      <th>38</th>\n",
       "      <td>0.161292</td>\n",
       "      <td>6.459839e-14</td>\n",
       "      <td>75.285062</td>\n",
       "      <td>245.155412</td>\n",
       "      <td>21.352098</td>\n",
       "      <td>11.048123</td>\n",
       "      <td>554.485480</td>\n",
       "      <td>513.968143</td>\n",
       "      <td>475.945193</td>\n",
       "      <td>176.209666</td>\n",
       "      <td>39.194935</td>\n",
       "      <td>560.091344</td>\n",
       "      <td>72.768150</td>\n",
       "      <td>15.722601</td>\n",
       "      <td>-1.183391e+00</td>\n",
       "    </tr>\n",
       "    <tr>\n",
       "      <th>39</th>\n",
       "      <td>0.210731</td>\n",
       "      <td>6.454095e-14</td>\n",
       "      <td>74.056041</td>\n",
       "      <td>242.987860</td>\n",
       "      <td>21.376626</td>\n",
       "      <td>10.693728</td>\n",
       "      <td>556.440251</td>\n",
       "      <td>516.700220</td>\n",
       "      <td>474.262271</td>\n",
       "      <td>176.902014</td>\n",
       "      <td>39.406940</td>\n",
       "      <td>556.407925</td>\n",
       "      <td>72.028223</td>\n",
       "      <td>15.834090</td>\n",
       "      <td>-1.158352e+00</td>\n",
       "    </tr>\n",
       "    <tr>\n",
       "      <th>40</th>\n",
       "      <td>0.184032</td>\n",
       "      <td>6.457101e-14</td>\n",
       "      <td>79.763636</td>\n",
       "      <td>243.526015</td>\n",
       "      <td>21.177711</td>\n",
       "      <td>10.902118</td>\n",
       "      <td>556.656816</td>\n",
       "      <td>514.417949</td>\n",
       "      <td>477.288667</td>\n",
       "      <td>176.166949</td>\n",
       "      <td>39.201951</td>\n",
       "      <td>558.051891</td>\n",
       "      <td>71.634328</td>\n",
       "      <td>15.655656</td>\n",
       "      <td>-1.238148e+00</td>\n",
       "    </tr>\n",
       "    <tr>\n",
       "      <th>41</th>\n",
       "      <td>0.049745</td>\n",
       "      <td>6.477696e-14</td>\n",
       "      <td>80.427540</td>\n",
       "      <td>247.250335</td>\n",
       "      <td>22.403805</td>\n",
       "      <td>11.264125</td>\n",
       "      <td>555.353294</td>\n",
       "      <td>491.620386</td>\n",
       "      <td>505.844680</td>\n",
       "      <td>181.543301</td>\n",
       "      <td>39.773006</td>\n",
       "      <td>551.630673</td>\n",
       "      <td>64.804660</td>\n",
       "      <td>12.519949</td>\n",
       "      <td>-1.098508e+00</td>\n",
       "    </tr>\n",
       "    <tr>\n",
       "      <th>42</th>\n",
       "      <td>0.000012</td>\n",
       "      <td>6.499659e-14</td>\n",
       "      <td>79.804375</td>\n",
       "      <td>237.365999</td>\n",
       "      <td>23.226951</td>\n",
       "      <td>11.285557</td>\n",
       "      <td>552.012039</td>\n",
       "      <td>486.004910</td>\n",
       "      <td>524.290933</td>\n",
       "      <td>189.395166</td>\n",
       "      <td>38.830057</td>\n",
       "      <td>543.156544</td>\n",
       "      <td>64.756184</td>\n",
       "      <td>11.074963</td>\n",
       "      <td>-9.753493e-01</td>\n",
       "    </tr>\n",
       "    <tr>\n",
       "      <th>43</th>\n",
       "      <td>0.006888</td>\n",
       "      <td>6.508300e-14</td>\n",
       "      <td>76.114485</td>\n",
       "      <td>234.712341</td>\n",
       "      <td>23.289134</td>\n",
       "      <td>11.744917</td>\n",
       "      <td>550.000000</td>\n",
       "      <td>486.428761</td>\n",
       "      <td>517.817127</td>\n",
       "      <td>190.447737</td>\n",
       "      <td>38.191215</td>\n",
       "      <td>552.490961</td>\n",
       "      <td>67.665195</td>\n",
       "      <td>11.549966</td>\n",
       "      <td>-8.700840e-01</td>\n",
       "    </tr>\n",
       "    <tr>\n",
       "      <th>44</th>\n",
       "      <td>0.000723</td>\n",
       "      <td>6.502690e-14</td>\n",
       "      <td>78.286160</td>\n",
       "      <td>215.605250</td>\n",
       "      <td>22.606902</td>\n",
       "      <td>10.948157</td>\n",
       "      <td>550.000000</td>\n",
       "      <td>511.081888</td>\n",
       "      <td>495.048521</td>\n",
       "      <td>198.200262</td>\n",
       "      <td>35.880168</td>\n",
       "      <td>552.676117</td>\n",
       "      <td>74.745850</td>\n",
       "      <td>12.671313</td>\n",
       "      <td>-9.413489e-01</td>\n",
       "    </tr>\n",
       "    <tr>\n",
       "      <th>45</th>\n",
       "      <td>0.001935</td>\n",
       "      <td>6.504399e-14</td>\n",
       "      <td>78.659680</td>\n",
       "      <td>215.699062</td>\n",
       "      <td>22.509951</td>\n",
       "      <td>10.820689</td>\n",
       "      <td>550.000000</td>\n",
       "      <td>513.073829</td>\n",
       "      <td>495.492140</td>\n",
       "      <td>198.084169</td>\n",
       "      <td>35.743860</td>\n",
       "      <td>550.923784</td>\n",
       "      <td>74.827515</td>\n",
       "      <td>12.507592</td>\n",
       "      <td>-9.640479e-01</td>\n",
       "    </tr>\n",
       "    <tr>\n",
       "      <th>46</th>\n",
       "      <td>0.007813</td>\n",
       "      <td>6.508839e-14</td>\n",
       "      <td>78.154804</td>\n",
       "      <td>216.044809</td>\n",
       "      <td>22.429544</td>\n",
       "      <td>10.695000</td>\n",
       "      <td>550.000000</td>\n",
       "      <td>511.729484</td>\n",
       "      <td>492.761061</td>\n",
       "      <td>199.584885</td>\n",
       "      <td>35.829716</td>\n",
       "      <td>551.246114</td>\n",
       "      <td>74.461062</td>\n",
       "      <td>12.492020</td>\n",
       "      <td>-9.317071e-01</td>\n",
       "    </tr>\n",
       "    <tr>\n",
       "      <th>47</th>\n",
       "      <td>0.008680</td>\n",
       "      <td>6.509317e-14</td>\n",
       "      <td>74.598670</td>\n",
       "      <td>218.997205</td>\n",
       "      <td>21.794966</td>\n",
       "      <td>9.800733</td>\n",
       "      <td>550.000000</td>\n",
       "      <td>518.771923</td>\n",
       "      <td>494.705187</td>\n",
       "      <td>201.862794</td>\n",
       "      <td>35.407969</td>\n",
       "      <td>534.503448</td>\n",
       "      <td>74.708603</td>\n",
       "      <td>11.769929</td>\n",
       "      <td>-1.082131e+00</td>\n",
       "    </tr>\n",
       "    <tr>\n",
       "      <th>48</th>\n",
       "      <td>0.009977</td>\n",
       "      <td>6.509988e-14</td>\n",
       "      <td>49.591864</td>\n",
       "      <td>233.162383</td>\n",
       "      <td>22.516145</td>\n",
       "      <td>10.032319</td>\n",
       "      <td>551.626779</td>\n",
       "      <td>482.702190</td>\n",
       "      <td>497.454113</td>\n",
       "      <td>214.159293</td>\n",
       "      <td>38.029026</td>\n",
       "      <td>538.662455</td>\n",
       "      <td>65.875732</td>\n",
       "      <td>13.891485</td>\n",
       "      <td>-7.322636e-01</td>\n",
       "    </tr>\n",
       "    <tr>\n",
       "      <th>49</th>\n",
       "      <td>0.015389</td>\n",
       "      <td>6.512405e-14</td>\n",
       "      <td>49.852403</td>\n",
       "      <td>234.482559</td>\n",
       "      <td>22.469769</td>\n",
       "      <td>10.023408</td>\n",
       "      <td>551.994915</td>\n",
       "      <td>482.318706</td>\n",
       "      <td>497.408110</td>\n",
       "      <td>214.427090</td>\n",
       "      <td>38.029570</td>\n",
       "      <td>537.289200</td>\n",
       "      <td>66.285640</td>\n",
       "      <td>13.798246</td>\n",
       "      <td>-6.891768e-01</td>\n",
       "    </tr>\n",
       "  </tbody>\n",
       "</table>\n",
       "</div>"
      ],
      "text/plain": [
       "        score         value  time_this_iter_s  \\\n",
       "0   10.482479  6.176233e-14         93.964783   \n",
       "1    8.791125  6.203502e-14         91.787727   \n",
       "2    3.077639  6.324568e-14         91.767391   \n",
       "3   11.471736  6.161300e-14         91.759390   \n",
       "4    4.009674  6.299758e-14         94.803180   \n",
       "5    9.357473  6.194100e-14         95.555332   \n",
       "6   10.288915  6.179237e-14         95.441624   \n",
       "7   13.623701  6.130897e-14         93.026208   \n",
       "8   11.574816  6.159782e-14         90.947189   \n",
       "9    1.608149  6.373187e-14         90.539839   \n",
       "10   8.540681  6.207756e-14         91.367039   \n",
       "11  10.278410  6.179400e-14         91.288358   \n",
       "12   3.652703  6.308880e-14         94.337190   \n",
       "13   2.060802  6.356445e-14         93.565201   \n",
       "14   1.992761  6.358835e-14         93.976622   \n",
       "15   1.935528  6.360877e-14         91.406738   \n",
       "16   1.546386  6.375646e-14         94.848053   \n",
       "17   1.709987  6.369234e-14         95.842276   \n",
       "18   2.238899  6.350370e-14         91.557697   \n",
       "19   1.657182  6.371268e-14         90.700412   \n",
       "20   1.557905  6.375184e-14         87.532896   \n",
       "21   1.876982  6.362997e-14         87.004804   \n",
       "22   2.001325  6.358532e-14         87.480185   \n",
       "23   0.299225  6.445299e-14         83.540659   \n",
       "24   0.341704  6.441545e-14         83.525021   \n",
       "25   0.283302  6.446774e-14         83.432545   \n",
       "26   0.179195  6.457669e-14         80.935596   \n",
       "27   0.115650  6.534007e-14         79.763891   \n",
       "28   0.157592  6.539698e-14         81.952573   \n",
       "29   1.157015  6.607565e-14         81.614947   \n",
       "30   0.931217  6.596500e-14         81.276736   \n",
       "31   0.817100  6.590394e-14         77.853022   \n",
       "32   0.924076  6.596129e-14         82.692984   \n",
       "33   0.003226  6.505680e-14         82.577661   \n",
       "34   0.002859  6.494653e-14         82.673049   \n",
       "35   0.005688  6.492458e-14         79.543310   \n",
       "36   0.255426  6.550540e-14         77.551624   \n",
       "37   0.137946  6.537141e-14         78.149763   \n",
       "38   0.161292  6.459839e-14         75.285062   \n",
       "39   0.210731  6.454095e-14         74.056041   \n",
       "40   0.184032  6.457101e-14         79.763636   \n",
       "41   0.049745  6.477696e-14         80.427540   \n",
       "42   0.000012  6.499659e-14         79.804375   \n",
       "43   0.006888  6.508300e-14         76.114485   \n",
       "44   0.000723  6.502690e-14         78.286160   \n",
       "45   0.001935  6.504399e-14         78.659680   \n",
       "46   0.007813  6.508839e-14         78.154804   \n",
       "47   0.008680  6.509317e-14         74.598670   \n",
       "48   0.009977  6.509988e-14         49.591864   \n",
       "49   0.015389  6.512405e-14         49.852403   \n",
       "\n",
       "    config/params/coupler_extent[0]  config/params/coupler_extent[1]  \\\n",
       "0                        209.508885                        20.257585   \n",
       "1                        248.199973                        28.410353   \n",
       "2                        436.940031                        28.407880   \n",
       "3                        206.252459                        35.671084   \n",
       "4                        288.069242                        23.450317   \n",
       "5                        454.863522                        33.498393   \n",
       "6                        312.041548                        39.525873   \n",
       "7                        191.699309                        35.519139   \n",
       "8                        128.780401                        31.385516   \n",
       "9                        237.675322                        22.431663   \n",
       "10                       445.658477                        32.054285   \n",
       "11                       323.422373                        33.600717   \n",
       "12                        48.388054                        34.305446   \n",
       "13                       261.914841                        22.802114   \n",
       "14                       260.571528                        22.790344   \n",
       "15                       259.817769                        22.773215   \n",
       "16                       271.158149                        23.166395   \n",
       "17                       196.454633                        24.629570   \n",
       "18                       189.472087                        24.606076   \n",
       "19                       187.410947                        23.930522   \n",
       "20                       189.138495                        22.526771   \n",
       "21                       208.513250                        23.566138   \n",
       "22                       207.947348                        23.536379   \n",
       "23                       232.036802                        23.287476   \n",
       "24                       227.149657                        23.319675   \n",
       "25                       227.392146                        23.248780   \n",
       "26                       226.335539                        23.133757   \n",
       "27                       208.905751                        22.219314   \n",
       "28                       207.689691                        22.409802   \n",
       "29                       238.177461                        24.262993   \n",
       "30                       232.858995                        22.973357   \n",
       "31                       233.287095                        22.757750   \n",
       "32                       224.427079                        22.221876   \n",
       "33                       240.126234                        23.392085   \n",
       "34                       204.423006                        21.952903   \n",
       "35                       207.063264                        22.324717   \n",
       "36                       190.616221                        22.167896   \n",
       "37                       210.185432                        20.363529   \n",
       "38                       245.155412                        21.352098   \n",
       "39                       242.987860                        21.376626   \n",
       "40                       243.526015                        21.177711   \n",
       "41                       247.250335                        22.403805   \n",
       "42                       237.365999                        23.226951   \n",
       "43                       234.712341                        23.289134   \n",
       "44                       215.605250                        22.606902   \n",
       "45                       215.699062                        22.509951   \n",
       "46                       216.044809                        22.429544   \n",
       "47                       218.997205                        21.794966   \n",
       "48                       233.162383                        22.516145   \n",
       "49                       234.482559                        22.469769   \n",
       "\n",
       "    config/params/coupler_offset  config/params/ground_gap_[0]  \\\n",
       "0                      27.908284                    980.836474   \n",
       "1                      30.168589                    848.421707   \n",
       "2                      27.418650                    779.464603   \n",
       "3                      44.978300                    978.270403   \n",
       "4                      19.086692                    667.891683   \n",
       "5                      29.036728                    939.156859   \n",
       "6                      36.733802                    993.274508   \n",
       "7                      38.462601                    990.175799   \n",
       "8                      29.271786                    835.945710   \n",
       "9                      13.329813                    609.954560   \n",
       "10                     47.191703                    945.302815   \n",
       "11                     33.260528                    866.616243   \n",
       "12                     21.873846                    642.670115   \n",
       "13                     14.581480                    621.990474   \n",
       "14                     14.549077                    621.899872   \n",
       "15                     14.491113                    621.328307   \n",
       "16                     14.606231                    625.081978   \n",
       "17                     14.570378                    610.556154   \n",
       "18                     14.986965                    620.717333   \n",
       "19                     13.474265                    607.629599   \n",
       "20                     12.247859                    608.815696   \n",
       "21                     13.927434                    631.109440   \n",
       "22                     14.311958                    634.530299   \n",
       "23                     11.327221                    579.054024   \n",
       "24                     11.356722                    580.811664   \n",
       "25                     11.525365                    578.749595   \n",
       "26                     11.162139                    576.009527   \n",
       "27                      9.115888                    555.399916   \n",
       "28                      8.505995                    553.511898   \n",
       "29                      6.143999                    550.000000   \n",
       "30                      8.166761                    550.000000   \n",
       "31                      8.846357                    550.000000   \n",
       "32                      8.378799                    550.000000   \n",
       "33                      8.101109                    550.000000   \n",
       "34                     11.416706                    550.000000   \n",
       "35                     12.240746                    550.000000   \n",
       "36                     13.036301                    550.000000   \n",
       "37                     13.222245                    550.096474   \n",
       "38                     11.048123                    554.485480   \n",
       "39                     10.693728                    556.440251   \n",
       "40                     10.902118                    556.656816   \n",
       "41                     11.264125                    555.353294   \n",
       "42                     11.285557                    552.012039   \n",
       "43                     11.744917                    550.000000   \n",
       "44                     10.948157                    550.000000   \n",
       "45                     10.820689                    550.000000   \n",
       "46                     10.695000                    550.000000   \n",
       "47                      9.800733                    550.000000   \n",
       "48                     10.032319                    551.626779   \n",
       "49                     10.023408                    551.994915   \n",
       "\n",
       "    config/params/ground_gap_[1]  config/params/island1_extent_[0]  \\\n",
       "0                     500.147391                        612.197751   \n",
       "1                     567.943640                        230.710236   \n",
       "2                     447.486883                        684.073920   \n",
       "3                     625.973263                        422.699320   \n",
       "4                     733.465205                        643.740915   \n",
       "5                     960.560671                        666.906152   \n",
       "6                     812.575188                        604.205713   \n",
       "7                     567.110876                        294.865395   \n",
       "8                     635.084194                        495.912807   \n",
       "9                     522.537032                        406.118551   \n",
       "10                    582.622423                        563.175374   \n",
       "11                    656.018602                        695.810553   \n",
       "12                    495.235174                        692.511600   \n",
       "13                    534.343717                        453.537553   \n",
       "14                    534.137460                        451.104449   \n",
       "15                    533.862180                        449.855636   \n",
       "16                    481.414204                        430.858276   \n",
       "17                    513.761577                        456.800051   \n",
       "18                    521.322082                        442.093915   \n",
       "19                    529.492394                        439.751489   \n",
       "20                    554.658919                        404.753578   \n",
       "21                    501.596693                        412.663136   \n",
       "22                    501.607366                        406.749259   \n",
       "23                    485.473633                        468.411915   \n",
       "24                    482.630263                        466.876501   \n",
       "25                    481.443539                        466.865018   \n",
       "26                    478.010303                        466.760008   \n",
       "27                    465.305204                        467.720258   \n",
       "28                    462.099813                        469.077796   \n",
       "29                    452.547649                        472.350685   \n",
       "30                    432.357158                        464.974236   \n",
       "31                    431.358515                        452.943514   \n",
       "32                    435.458715                        461.457661   \n",
       "33                    522.988673                        511.380113   \n",
       "34                    498.239959                        509.707230   \n",
       "35                    494.144042                        477.062114   \n",
       "36                    451.886354                        471.981870   \n",
       "37                    459.958169                        497.283156   \n",
       "38                    513.968143                        475.945193   \n",
       "39                    516.700220                        474.262271   \n",
       "40                    514.417949                        477.288667   \n",
       "41                    491.620386                        505.844680   \n",
       "42                    486.004910                        524.290933   \n",
       "43                    486.428761                        517.817127   \n",
       "44                    511.081888                        495.048521   \n",
       "45                    513.073829                        495.492140   \n",
       "46                    511.729484                        492.761061   \n",
       "47                    518.771923                        494.705187   \n",
       "48                    482.702190                        497.454113   \n",
       "49                    482.318706                        497.408110   \n",
       "\n",
       "    config/params/island1_extent_[1]  config/params/island1_r  \\\n",
       "0                         299.446062                39.717320   \n",
       "1                         396.079244                 1.188055   \n",
       "2                          96.301390                34.595053   \n",
       "3                         170.804017                40.336896   \n",
       "4                          91.311781                 7.973144   \n",
       "5                         211.413420                26.550374   \n",
       "6                         204.201544                21.351640   \n",
       "7                         358.749657                34.722616   \n",
       "8                          54.309898                47.842677   \n",
       "9                         241.213358                33.194390   \n",
       "10                        108.685934                32.379507   \n",
       "11                        364.743040                31.981650   \n",
       "12                         82.720094                32.507302   \n",
       "13                        214.288079                30.595823   \n",
       "14                        215.239183                30.686010   \n",
       "15                        215.992866                30.742162   \n",
       "16                        231.680550                36.132372   \n",
       "17                        213.382874                33.404096   \n",
       "18                        210.345670                32.944451   \n",
       "19                        212.373620                31.584050   \n",
       "20                        216.335777                29.157505   \n",
       "21                        204.985990                33.426915   \n",
       "22                        201.623584                33.223162   \n",
       "23                        227.449975                34.276152   \n",
       "24                        220.326496                34.062772   \n",
       "25                        215.415053                33.546445   \n",
       "26                        212.683649                33.690008   \n",
       "27                        181.372957                35.023489   \n",
       "28                        185.255074                37.352409   \n",
       "29                        185.088040                31.740619   \n",
       "30                        210.215617                33.943549   \n",
       "31                        212.894085                33.945810   \n",
       "32                        227.490450                32.098952   \n",
       "33                        196.657446                37.629385   \n",
       "34                        222.223342                38.817027   \n",
       "35                        215.896675                38.595166   \n",
       "36                        220.692608                35.324481   \n",
       "37                        195.926724                35.034032   \n",
       "38                        176.209666                39.194935   \n",
       "39                        176.902014                39.406940   \n",
       "40                        176.166949                39.201951   \n",
       "41                        181.543301                39.773006   \n",
       "42                        189.395166                38.830057   \n",
       "43                        190.447737                38.191215   \n",
       "44                        198.200262                35.880168   \n",
       "45                        198.084169                35.743860   \n",
       "46                        199.584885                35.829716   \n",
       "47                        201.862794                35.407969   \n",
       "48                        214.159293                38.029026   \n",
       "49                        214.427090                38.029570   \n",
       "\n",
       "    config/params/island2_extent_[0]  config/params/island2_extent_[1]  \\\n",
       "0                         347.268027                        158.301448   \n",
       "1                         565.924384                        107.273236   \n",
       "2                         267.753046                         58.573526   \n",
       "3                         363.347414                        115.216341   \n",
       "4                         297.323156                        218.705652   \n",
       "5                         489.228789                        133.783461   \n",
       "6                         655.366147                        192.270753   \n",
       "7                         618.337660                        184.380039   \n",
       "8                         467.245824                        184.121508   \n",
       "9                         571.839020                         68.159437   \n",
       "10                        364.578320                         84.808875   \n",
       "11                        426.263812                        269.496321   \n",
       "12                        585.383066                        169.079898   \n",
       "13                        519.229637                         80.122502   \n",
       "14                        521.519537                         79.624176   \n",
       "15                        522.929507                         79.351504   \n",
       "16                        548.219230                         50.000000   \n",
       "17                        582.514291                         85.593724   \n",
       "18                        585.076701                         84.476782   \n",
       "19                        579.411911                         87.861168   \n",
       "20                        570.003569                         86.761522   \n",
       "21                        564.837649                         54.555239   \n",
       "22                        565.707060                         51.546166   \n",
       "23                        559.380102                         72.217639   \n",
       "24                        558.358351                         67.414294   \n",
       "25                        557.078961                         66.095949   \n",
       "26                        555.040844                         65.800708   \n",
       "27                        543.886195                         65.250735   \n",
       "28                        546.950034                         88.548018   \n",
       "29                        574.010153                         84.062981   \n",
       "30                        559.076968                        107.669585   \n",
       "31                        552.605476                        105.442403   \n",
       "32                        552.277078                        100.090749   \n",
       "33                        562.617294                         71.370763   \n",
       "34                        539.869472                         73.040734   \n",
       "35                        527.465612                         71.238921   \n",
       "36                        522.705526                         70.077844   \n",
       "37                        556.754819                         74.502673   \n",
       "38                        560.091344                         72.768150   \n",
       "39                        556.407925                         72.028223   \n",
       "40                        558.051891                         71.634328   \n",
       "41                        551.630673                         64.804660   \n",
       "42                        543.156544                         64.756184   \n",
       "43                        552.490961                         67.665195   \n",
       "44                        552.676117                         74.745850   \n",
       "45                        550.923784                         74.827515   \n",
       "46                        551.246114                         74.461062   \n",
       "47                        534.503448                         74.708603   \n",
       "48                        538.662455                         65.875732   \n",
       "49                        537.289200                         66.285640   \n",
       "\n",
       "    config/params/island2_r  config/params/squid_offset  \n",
       "0                 39.224498               -1.858705e+01  \n",
       "1                 42.363652               -1.005205e+01  \n",
       "2                 21.208529               -1.075408e+01  \n",
       "3                  7.119852               -1.422883e+01  \n",
       "4                 17.416241               -5.318944e+00  \n",
       "5                  5.640993               -1.793807e+01  \n",
       "6                 20.050858               -2.268976e+00  \n",
       "7                 38.642559               -1.908002e+01  \n",
       "8                  0.887890               -1.989711e+01  \n",
       "9                 10.140015               -1.074018e+00  \n",
       "10                 4.691098               -9.706387e-01  \n",
       "11                21.604888               -1.859503e+01  \n",
       "12                25.582328               -1.229306e+00  \n",
       "13                11.704544               -1.945361e+00  \n",
       "14                11.647301               -1.917339e+00  \n",
       "15                11.614515               -1.895129e+00  \n",
       "16                11.249438               -1.981505e+00  \n",
       "17                12.954653               -8.167776e-01  \n",
       "18                13.007976               -1.014789e+00  \n",
       "19                13.419700               -1.237422e+00  \n",
       "20                12.982727               -1.797955e+00  \n",
       "21                14.280410               -2.455184e+00  \n",
       "22                14.101548               -2.077936e+00  \n",
       "23                13.621498               -1.604008e+00  \n",
       "24                14.142824               -1.534644e+00  \n",
       "25                14.077185               -8.810740e-01  \n",
       "26                14.226028               -9.460332e-01  \n",
       "27                13.173235               -3.043659e-01  \n",
       "28                12.071336               -1.214711e+00  \n",
       "29                12.327853               -1.416254e+00  \n",
       "30                15.339139              -4.940656e-324  \n",
       "31                16.199391               -1.891507e-01  \n",
       "32                16.950468              -4.940656e-324  \n",
       "33                13.021078               -3.519772e-01  \n",
       "34                13.523693               -4.704791e-01  \n",
       "35                13.405994               -9.561469e-01  \n",
       "36                10.213427               -1.625988e+00  \n",
       "37                12.061077               -1.999196e+00  \n",
       "38                15.722601               -1.183391e+00  \n",
       "39                15.834090               -1.158352e+00  \n",
       "40                15.655656               -1.238148e+00  \n",
       "41                12.519949               -1.098508e+00  \n",
       "42                11.074963               -9.753493e-01  \n",
       "43                11.549966               -8.700840e-01  \n",
       "44                12.671313               -9.413489e-01  \n",
       "45                12.507592               -9.640479e-01  \n",
       "46                12.492020               -9.317071e-01  \n",
       "47                11.769929               -1.082131e+00  \n",
       "48                13.891485               -7.322636e-01  \n",
       "49                13.798246               -6.891768e-01  "
      ]
     },
     "metadata": {},
     "output_type": "display_data"
    },
    {
     "name": "stdout",
     "output_type": "stream",
     "text": [
      "best.metrics['value']=6.499659380176716e-14 {'params': {'island1_extent_[0]': 524.2909325188749, 'island1_extent_[1]': 189.39516609617917, 'island2_extent_[0]': 543.1565443954432, 'island2_extent_[1]': 64.75618358331897, 'coupler_extent[0]': 237.36599856925082, 'coupler_extent[1]': 23.226950733465802, 'coupler_offset': 11.285557368465366, 'ground_gap_[0]': 552.0120393443678, 'ground_gap_[1]': 486.00491041980274, 'squid_offset': -0.9753492573896594, 'island1_r': 38.83005701863951, 'island2_r': 11.0749634538422}}\n"
     ]
    }
   ],
   "source": [
    "df = results.get_dataframe()\n",
    "best = results.get_best_result(metric=\"score\", mode=\"min\")\n",
    "\n",
    "display(df.filter(regex='(score|value|time_this|config)'))\n",
    "print(f\"{best.metrics['value']=}\", best.config)"
   ]
  }
 ],
 "metadata": {
  "kernelspec": {
   "display_name": "Python 3.9.13 64-bit",
   "language": "python",
   "name": "python3"
  },
  "language_info": {
   "codemirror_mode": {
    "name": "ipython",
    "version": 3
   },
   "file_extension": ".py",
   "mimetype": "text/x-python",
   "name": "python",
   "nbconvert_exporter": "python",
   "pygments_lexer": "ipython3",
   "version": "3.9.13"
  },
  "orig_nbformat": 4,
  "vscode": {
   "interpreter": {
    "hash": "11938c6bc6919ae2720b4d5011047913343b08a43b18698fd82dedb0d4417594"
   }
  }
 },
 "nbformat": 4,
 "nbformat_minor": 2
}
