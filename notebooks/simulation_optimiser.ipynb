{
 "cells": [
  {
   "cell_type": "markdown",
   "metadata": {},
   "source": [
    "# Optimising simulations for a generic loss function\n",
    "\n",
    "This notebook showcases optimising a design for some generic loss function $\\mathcal{L}$ using an event loop calling **Elmer** or **HFSS**.\n",
    "As such, this notebook should be run on a machine with the simulation software, KLayout and necessary Python packages installed.\n",
    "This is similar to Ansys Optimetrics but more general due to supporting arbitrary KQCircuits geometry,\n",
    "Elmer and, any search algorithms and schedulers.\n",
    "The current implementation requires installing [`ray`](https://docs.ray.io/en/releases-2.0.0/index.html)\n",
    "```bash\n",
    "pip install \"ray[tune]\"==2.1.0\n",
    "```\n",
    "and the optimisers generally demand additional manual installation. For example, this notebook employs [`Optuna`](https://optuna.readthedocs.io/en/stable/) and we need to also install:\n",
    "```bash\n",
    "pip install optuna==3.0.4 botorch==0.7.3 scikit-learn==1.1.3 plotly==5.11.0\n",
    "```\n",
    "Newer versions may work but these are the ones the notebook was written with.\n",
    "\n",
    "## Workflow\n",
    "\n",
    "1. Supply your ``Simulation`` class, `sim_parameters`, and `export_parameters` as usual in the [Simulation settings](#simulation-settings)\n",
    "2. Implement fetching simulation results for your use case and a meaningful loss function $\\mathcal{L}$ in the [Loss settings](#loss-settings) section.\n",
    "3. Specify the variables that can be varied by the optimiser and their ranges in [Optimisation settings](#optimisation-settings). See [Ray Tune - Random Distributions API](https://docs.ray.io/en/releases-2.0.0/tune/api_docs/search_space.html?highlight=quniform#random-distributions-api) for possible (and custom) distributions.\n",
    "4. Select your optimiser and its settings. You can also try using a simpler framework, such as, `scipy`, `pytorch`, `tensorflow` etc. See [Ray Tune - Search Algorithms](https://docs.ray.io/en/releases-2.0.0/tune/api_docs/suggestion.html) for algorithms with support out-of-the-box.\n",
    "5. Run the optimiser (`ray` tuning)\n",
    "6. View the results! You can manipulate the DataFrame, or use [Tensorboard](https://www.tensorflow.org/tensorboard) to view the data in the same folder as this notebook:\n",
    "   ```bash\n",
    "   pip install tensorboard\n",
    "   tensorboard --logdir=./ray_results\n",
    "   ```\n",
    "\n",
    "\n",
    "The _toy example_ implemented in this notebook is optimising the qubit $C_\\Sigma$ ``DoublePads`` to be $65\\,\\text{fF}$."
   ]
  },
  {
   "cell_type": "code",
   "execution_count": 1,
   "metadata": {},
   "outputs": [],
   "source": [
    "import os\n",
    "import re\n",
    "import json\n",
    "import shutil\n",
    "import subprocess\n",
    "import importlib\n",
    "from pathlib import Path\n",
    "from functools import partial\n",
    "from datetime import datetime\n",
    "\n",
    "import pandas as pd\n",
    "import ray\n",
    "import ray.air\n",
    "import ray.air.session\n",
    "from ray import tune\n",
    "\n",
    "from kqcircuits.pya_resolver import pya\n",
    "from kqcircuits.defaults import STARTUPINFO\n",
    "from kqcircuits.util.geometry_json_encoder import GeometryJsonEncoder\n",
    "from kqcircuits.simulations.export.ansys.ansys_export import export_ansys\n",
    "from kqcircuits.simulations.export.elmer.elmer_export import export_elmer\n",
    "from kqcircuits.simulations.export.simulation_export import export_simulation_oas\n",
    "from kqcircuits.util.export_helper import create_or_empty_tmp_directory, get_active_or_new_layout\n",
    "\n",
    "if os.environ.get('KQC_TMP_PATH') is None:\n",
    "    os.environ['KQC_TMP_PATH'] = os.getcwd()\n",
    "original_kqc_tmp_path = os.environ['KQC_TMP_PATH']"
   ]
  },
  {
   "cell_type": "markdown",
   "metadata": {},
   "source": [
    "### Please set the location of your interpreter for `.sh` files\n",
    "\n",
    "Some examples are given below"
   ]
  },
  {
   "cell_type": "code",
   "execution_count": 2,
   "metadata": {},
   "outputs": [],
   "source": [
    "# Please set the location of your interpreter for `.sh` files, some examples are given below.\n",
    "# The interpreter will be called with `-c SCRIPT.sh`.\n",
    "# If this does not work, try adjusting the `subprocess.run` call later in the notebook\n",
    "sh_interpreter = 'sh'\n",
    "sh_interpreter = shutil.which('bash') if os.name != 'nt' else 'wsl -e bash'  # use WSL on Windows\n",
    "sh_interpreter = r'C:\\Program Files\\Git\\bin\\bash.exe'\n",
    "\n",
    "if shutil.which(sh_interpreter) is None:\n",
    "    raise FileNotFoundError(f\"Your shell `{sh_interpreter=}` is not found! Please set it to a working shell.\")\n",
    "\n",
    "tool = ['ansys', 'elmer'][1]\n",
    "# This needs to be only as high as the number of licenses when using Ansys\n",
    "n_workers = 5 if tool == 'elmer' else 1  # first-level parellelisation\n",
    "n_processes = 4 if tool == 'elmer' else 5  # second-level parellelisation"
   ]
  },
  {
   "cell_type": "markdown",
   "metadata": {},
   "source": [
    "## Implement helper functions"
   ]
  },
  {
   "cell_type": "code",
   "execution_count": 3,
   "metadata": {},
   "outputs": [],
   "source": [
    "def create_and_export_sim(params, sim_class, sim_parameters, export_parameters, i):\n",
    "    \"\"\"Creates and exports a :class:`.Simulation` with given parameters.\n",
    "\n",
    "    Arguments:\n",
    "        params: Iteration-specific parameters to use. Combined with ``sim_parameters``.\n",
    "        sim_class (Simulation): Given simulation. Should be loadable from a module (not anonymous).\n",
    "        sim_parameters (dict): Dict of nominal simulation parameters.\n",
    "        export_parameters (dict): Dict of simulation export parameters. May be for Ansys or Elmer\n",
    "        i (str): Unique identifier for this iteration.\n",
    "\n",
    "    Returns:\n",
    "        dir_path: Path to exported simulations folder.\n",
    "    \"\"\"\n",
    "\n",
    "    # Find corresponding class, has to be done this way to avoid pickling\n",
    "    module = importlib.import_module(sim_class[0])\n",
    "    sim_class = getattr(module, sim_class[1])\n",
    "\n",
    "    dir_path = create_or_empty_tmp_directory(sim_parameters['name'] + f\"_opt_{i}\")\n",
    "    export_parameters = {'path': dir_path, **export_parameters}\n",
    "\n",
    "    # Get layout\n",
    "    layout = get_active_or_new_layout()\n",
    "\n",
    "    # Nominal simulation\n",
    "    simulations = [sim_class(layout, **{\n",
    "        **sim_parameters,\n",
    "        **params\n",
    "    })]\n",
    "\n",
    "    if 'ansys_tool' in export_parameters:\n",
    "        export_ansys(simulations, **export_parameters)\n",
    "    else:\n",
    "        export_elmer(simulations, **export_parameters)\n",
    "\n",
    "    # Write oas files\n",
    "    export_simulation_oas(simulations, dir_path)\n",
    "\n",
    "    return dir_path"
   ]
  },
  {
   "cell_type": "markdown",
   "metadata": {},
   "source": [
    "Implement small serializer for DBoxes, as it is often needed in `sim_parameters`."
   ]
  },
  {
   "cell_type": "code",
   "execution_count": 4,
   "metadata": {},
   "outputs": [],
   "source": [
    "def dbox_serializer(dbox):\n",
    "    return GeometryJsonEncoder.encode_geometry(dbox)\n",
    "\n",
    "def dbox_deserializer(o):\n",
    "    return pya.DBox(\n",
    "        pya.DPoint(o[0][0], o[0][1]), pya.DPoint(o[1][1], o[1][1])\n",
    "    )\n",
    "\n",
    "ray.util.register_serializer(pya.DBox, serializer=dbox_serializer, deserializer=dbox_deserializer)"
   ]
  },
  {
   "cell_type": "markdown",
   "metadata": {},
   "source": [
    "## Simulation settings\n",
    "\n",
    "Specify simulation export settings as normal"
   ]
  },
  {
   "cell_type": "code",
   "execution_count": 5,
   "metadata": {},
   "outputs": [],
   "source": [
    "# pylint: disable=invalid-name,wrong-import-position\n",
    "from kqcircuits.simulations.double_pads import DoublePadsSim\n",
    "\n",
    "sim_class = DoublePadsSim\n",
    "\n",
    "# Nominal simulation parameters\n",
    "sim_parameters = {\n",
    "    'name': re.sub(r'(?<!^)(?=[A-Z])', '_', sim_class.__name__).lower(),  # convert to snake_case\n",
    "    'use_internal_ports': True,\n",
    "    'use_ports': True,\n",
    "    'internal_island_ports': True,\n",
    "    'box': pya.DBox(pya.DPoint(0,0), pya.DPoint(2000, 2000)),\n",
    "    'wafer_stack_type': 'planar'\n",
    "}\n",
    "\n",
    "#########\n",
    "# Ansys #\n",
    "#########\n",
    "\n",
    "export_parameters_ansys_q3d = {\n",
    "    'ansys_tool': 'q3d',\n",
    "    'exit_after_run': True,\n",
    "    'percent_error': 0.3,\n",
    "    'minimum_converged_passes': 2,\n",
    "    'maximum_passes': 20,\n",
    "}\n",
    "\n",
    "export_parameters_ansys_epr = {\n",
    "    'ansys_tool': 'eigenmode',\n",
    "    'exit_after_run': True,\n",
    "    'max_delta_f': 0.5,\n",
    "\n",
    "    # do two passes with tight mesh\n",
    "    'gap_max_element_length': 20,\n",
    "    'maximum_passes': 2,\n",
    "    'minimum_passes': 1,\n",
    "    'minimum_converged_passes': 1,\n",
    "\n",
    "    # lossy eigenmode simulation settings\n",
    "    'n_modes': 1,\n",
    "    'frequency': 0.5,  # minimum allowed eigenfrequency\n",
    "    'simulation_flags': ['pyepr'],\n",
    "    'substrate_loss_tangent': 1e-6,\n",
    "\n",
    "    # run T1 analysis with pyEPR between simulations\n",
    "    'intermediate_processing_command': 'python \"scripts/t1_estimate.py\"',\n",
    "    'participation_sheet_distance': 5e-3,  # in µm\n",
    "    'dielectric_surfaces': {\n",
    "        'layerMA': {\n",
    "            'tan_delta_surf': 0.001,  # loss tangent\n",
    "            'th': 4.8e-9,  # thickness\n",
    "            'eps_r': 10,  # relative permittivity\n",
    "        },\n",
    "        'layerMS': {\n",
    "            'tan_delta_surf': 0.001,\n",
    "            'th': 0.3e-9,  # estimate worst case\n",
    "            'eps_r': 10,\n",
    "        },\n",
    "        'layerSA': {\n",
    "            'tan_delta_surf': 0.001,\n",
    "            'th': 2.4e-9,\n",
    "            'eps_r': 10,\n",
    "        }\n",
    "    },\n",
    "}\n",
    "\n",
    "#########\n",
    "# Elmer #\n",
    "#########\n",
    "\n",
    "export_parameters_elmer = {\n",
    "    'tool': 'capacitance',\n",
    "    'workflow': {\n",
    "        'python_executable': 'python',  # use 'kqclib' when using singularity\n",
    "        'run_gmsh_gui': False,\n",
    "        'elmer_n_processes': n_processes,  # -1 means all the physical cores\n",
    "        'gmsh_n_threads': n_processes,\n",
    "    },\n",
    "    'gmsh_params': {\n",
    "        'default_mesh_size': 100.,\n",
    "        'gap_min_mesh_size': 2.,\n",
    "        'gap_min_dist': 4.,\n",
    "        'gap_max_dist': 200.,\n",
    "        'port_min_mesh_size': 1.,\n",
    "        'port_min_dist': 4.,\n",
    "        'port_max_dist': 200.,\n",
    "        'algorithm': 5,\n",
    "    }\n",
    "}"
   ]
  },
  {
   "cell_type": "markdown",
   "metadata": {},
   "source": [
    "We choose to use Elmer for the capacitance simulations"
   ]
  },
  {
   "cell_type": "code",
   "execution_count": 6,
   "metadata": {},
   "outputs": [],
   "source": [
    "export_parameters = export_parameters_elmer  # use Elmer\n",
    "# export_parameters = export_parameters_ansys_epr  # use Ansys + pyEPR"
   ]
  },
  {
   "cell_type": "markdown",
   "metadata": {},
   "source": [
    "## Loss settings\n",
    "\n",
    "These need to be adjusted to fit your specific use case.\n",
    "The optimiser is set to minimise. If you want to maximise, you can modify $\\mathcal{L} \\to -\\mathcal{L}$.\n",
    "Furthermore, the simplest way to attain a specific value is to set the loss function to\n",
    "$$\n",
    "\\mathcal{L}(x) = \\left| x_\\text{desired} - x \\right|\n",
    "$$\n",
    "This is not differentiable at $\\mathcal{L}(x_\\text{desired})$, but appears to work decently.\n",
    "A common alternative is to use the mean squared error ($L_2$-norm)."
   ]
  },
  {
   "cell_type": "code",
   "execution_count": 7,
   "metadata": {},
   "outputs": [],
   "source": [
    "def load_results_Q(dir_path):\n",
    "    \"\"\"Function to load simulation results. Input is simulation folder path.\"\"\"\n",
    "    result_file = list(Path(dir_path).rglob('Qdata*.csv'))[0]\n",
    "    df = pd.read_csv(result_file)\n",
    "    return df.iloc[0].to_dict()\n",
    "\n",
    "\n",
    "def loss_Q(data):\n",
    "    r\"\"\"Loss function :math:`$\\mathcal(L)` to minimum loss :math:`\\delta`.\"\"\"\n",
    "    Q = data['Q_total']\n",
    "    return 1 / Q, Q\n",
    "\n",
    "\n",
    "def load_results_capacitance(dir_path):\n",
    "    \"\"\"Function to load simulation results. Input is simulation folder path.\"\"\"\n",
    "    result_file = list(Path(dir_path).rglob('*_project_results.json'))[0]\n",
    "    with open(result_file) as fp:\n",
    "        data = json.load(fp)\n",
    "    return data\n",
    "\n",
    "\n",
    "def loss_C_Sigma_two_islands(data, C):\n",
    "    r\"\"\" Data argument is a dict with `CMatrix` key of a 3x3 capacitance matrix with a coupler as the last port.\n",
    "\n",
    "    Returns:\n",
    "        loss: MSE loss to target ``C``\n",
    "        C_Sigma: absolute value for :math:`C_\\Sigma`\n",
    "    \"\"\"\n",
    "    def _reciprocal_sum(*args):\n",
    "        return 1 / sum((1 / e for e in args))\n",
    "\n",
    "    C_sim = data['CMatrix']\n",
    "    C_first_island = C_sim[0][0] + _reciprocal_sum(C_sim[0][2], C_sim[2][2])\n",
    "    C_second_island = C_sim[1][1] + _reciprocal_sum(C_sim[1][2], C_sim[2][2])\n",
    "    C_sigma = C_sim[0][1] + _reciprocal_sum(C_first_island, C_second_island)\n",
    "    return ((C - C_sigma) * 1e15) ** 2, C_sigma\n",
    "\n",
    "\n",
    "def loss_capacitance(data, C, i=0, j=0):\n",
    "    r\"\"\"Loss function :math:`$\\mathcal(L)` to get certain capacitance.\n",
    "\n",
    "    Arguments:\n",
    "        data: simulation results dictionary containing ``CMatrix``\n",
    "        C: desired capacitance in farads\n",
    "        i: first index for the desired capacitance from the ``CMatrix``\n",
    "        j: second index for the desired capacitance from the ``CMatrix``\n",
    "\n",
    "    Returns:\n",
    "        loss: The computed loss\n",
    "        x: Value with which the loss was computed\n",
    "\n",
    "    Usage:\n",
    "\n",
    "        .. code-block:: python\n",
    "\n",
    "            from functools import partial\n",
    "            loss = partial(lossC, C=50e-15, i=1, j=0)\n",
    "            # Do the following inside the event loop\n",
    "            results = load_results(dir_path)\n",
    "            score = loss(results)\n",
    "    \"\"\"\n",
    "    C_sim = data['CMatrix'][i][j]\n",
    "    return ((C - C_sim) * 1e15) ** 2, C_sim  # Optimiser might get confused by small numbers"
   ]
  },
  {
   "cell_type": "markdown",
   "metadata": {},
   "source": [
    "Select your loss function to use"
   ]
  },
  {
   "cell_type": "code",
   "execution_count": 8,
   "metadata": {},
   "outputs": [],
   "source": [
    "load_results = load_results_capacitance\n",
    "\n",
    "# loss = partial(loss_capacitance, C=100e-15, i=0, j=1)\n",
    "loss = partial(loss_C_Sigma_two_islands, C=65e-15)\n",
    "\n",
    "# load_results = load_results_Q\n",
    "# loss = loss_Q"
   ]
  },
  {
   "cell_type": "markdown",
   "metadata": {},
   "source": [
    "## Optimisation settings\n",
    "\n",
    "Specify parameter search spaces, optimiser (such as ``HyperOptSearch``), possible scheduler, maximum iterations,\n",
    "and parallel workers (only with Elmer)."
   ]
  },
  {
   "cell_type": "code",
   "execution_count": 9,
   "metadata": {},
   "outputs": [
    {
     "name": "stderr",
     "output_type": "stream",
     "text": [
      "C:\\Users\\NikoSavola\\AppData\\Local\\Temp\\ipykernel_11532\\104588506.py:52: ExperimentalWarning: BoTorchSampler is experimental (supported from v2.4.0). The interface can change in the future.\n",
      "  sampler=optuna.integration.BoTorchSampler(constraints_func=constraints),\n"
     ]
    }
   ],
   "source": [
    "search_config = {\n",
    "    'params': {\n",
    "        'island1_extent_[0]': tune.uniform(200, 700),\n",
    "        'island1_extent_[1]': tune.uniform(50, 500),\n",
    "\n",
    "        'island2_extent_[0]': tune.uniform(200, 700),\n",
    "        'island2_extent_[1]': tune.uniform(50, 300),\n",
    "\n",
    "        'coupler_extent[0]': tune.uniform(40, 500),\n",
    "        'coupler_extent[1]': tune.uniform(20, 40),\n",
    "        'coupler_offset': tune.uniform(5, 50),\n",
    "\n",
    "        'ground_gap_[0]': tune.uniform(550, 1000),\n",
    "        'ground_gap_[1]': tune.uniform(400, 1000),\n",
    "\n",
    "        'squid_offset': tune.uniform(-20, 0),\n",
    "        'island1_r': tune.uniform(0, 50),\n",
    "        'island2_r': tune.uniform(0, 50),\n",
    "    },\n",
    "}\n",
    "\n",
    "def constraints(trial):\n",
    "    \"\"\" Return Sequence of (soft) constraints for the optimiser. Positive values are punished and <= 0 are ok.\n",
    "    See optuna.readthedocs.io/en/stable/reference/generated/optuna.integration.BoTorchSampler.html for details.\n",
    "    \"\"\"\n",
    "    c0 = trial.params['params/ground_gap'] + trial.params['params/r_outer'] - 150\n",
    "    c1 = trial.params['params/r_inner'] - trial.params['params/r_outer']  # negative is ok\n",
    "    return [c0, c1]  # tries to optimise equal to 0\n",
    "\n",
    "# Avoid more pickling of KLayout classes and don't show these as search params\n",
    "create_and_export = partial(\n",
    "    create_and_export_sim,\n",
    "    sim_parameters=sim_parameters,\n",
    "    export_parameters=export_parameters,\n",
    "    sim_class=(sim_class.__module__, sim_class.__name__),  # we avoid pickling the class by loading this way\n",
    ")\n",
    "\n",
    "# Import chosen optimiser and scheduler. NB: Selecting a new optimiser often requires you to install a separate package\n",
    "# See https://docs.ray.io/en/releases-2.0.0/tune/api_docs/suggestion.html\n",
    "\n",
    "# pylint: disable=wrong-import-position,ungrouped-imports\n",
    "from ray.tune.search.optuna import OptunaSearch\n",
    "import optuna\n",
    "import joblib  # shold come with Optuna\n",
    "\n",
    "\n",
    "tune_config = tune.TuneConfig(\n",
    "    metric='score',\n",
    "    mode='min',\n",
    "    search_alg=(optuna_search := OptunaSearch(\n",
    "        # If you want soft constraints\n",
    "        sampler=optuna.integration.BoTorchSampler(constraints_func=constraints),\n",
    "        # sampler=optuna.integration.BoTorchSampler(),\n",
    "        metric=['score'],  #, 'outer_island_width'],\n",
    "        mode=['min']  #, 'min'],\n",
    "    )),\n",
    "    ## Examples of other possible optimisers (search algorihtms)\n",
    "    # search_alg=BayesOptSearch(),\n",
    "    # search_alg=HEBOSearch(),\n",
    "    # search_alg=DragonflySearch(\n",
    "    #     metric='score',\n",
    "    #     mode='min',\n",
    "    #     optimizer='bandit',\n",
    "    #     domain='Euclidean'\n",
    "    # ),\n",
    "    max_concurrent_trials=n_workers,  # Has to be 1 for Ansys, may be more for Elmer\n",
    "    num_samples=50,  # max iterations, can be -1 for infinite\n",
    "    time_budget_s=0,  # Time after which optimisation is stopped. May be useful along with ``num_samples=-1``.\n",
    ")"
   ]
  },
  {
   "cell_type": "code",
   "execution_count": 10,
   "metadata": {},
   "outputs": [],
   "source": [
    "def event_loop(config):\n",
    "\n",
    "    dir_path = create_and_export(**config, i=ray.air.session.get_trial_id())\n",
    "    use_ansys = 'ansys_tool' in create_and_export.keywords['export_parameters']\n",
    "\n",
    "    # Combine parameters with the following format to single array param:\n",
    "    #   param_[0] + param_[1] -> param = [param_[0], param_[1]]\n",
    "    arr_match = r'_\\[(\\d)\\]'\n",
    "    config['params'] |= {\n",
    "        (arr_key := re.sub(arr_match, '', key)): config['params'].get(arr_key, []) + [config['params'][key]]\n",
    "        for key in config['params']\n",
    "        if re.match(arr_match, key)\n",
    "    }\n",
    "\n",
    "    subprocess.run(\n",
    "        ['simulation.bat'] if use_ansys else [sh_interpreter, '-c', './simulation.sh'],\n",
    "        cwd=dir_path,\n",
    "        shell=True,\n",
    "        check=True,\n",
    "        startupinfo=STARTUPINFO\n",
    "    )\n",
    "\n",
    "    results = load_results(dir_path)\n",
    "    score, x = loss(results)\n",
    "    return {'score': score, 'value': x}\n",
    "    # For multi-objective, just return the different loss functions and specify in `metric`, e.g.\n",
    "    # from math import prod\n",
    "    # return {'score': score, 'value': x, 'island1_size': math.prod(config['params']['island1_extent'])}"
   ]
  },
  {
   "cell_type": "markdown",
   "metadata": {},
   "source": [
    "## Run optimisation\n",
    "\n",
    "Start a Tune run and print the results."
   ]
  },
  {
   "cell_type": "code",
   "execution_count": 11,
   "metadata": {},
   "outputs": [
    {
     "name": "stderr",
     "output_type": "stream",
     "text": [
      "2022-12-13 11:53:21,606\tINFO worker.py:1528 -- Started a local Ray instance.\n",
      "2022-12-13 11:53:23,280\tWARNING function_trainable.py:586 -- Function checkpointing is disabled. This may result in unexpected behavior when using checkpointing features or certain schedulers. To enable, set the train function arguments to be `func(config, checkpoint_dir=None)`.\n",
      "C:\\Users\\NikoSavola\\AppData\\Roaming\\Python\\Python39\\site-packages\\ray\\tune\\search\\optuna\\optuna_search.py:682: FutureWarning: UniformDistribution has been deprecated in v3.0.0. This feature will be removed in v6.0.0. See https://github.com/optuna/optuna/releases/tag/v3.0.0. Use :class:`~optuna.distributions.FloatDistribution` instead.\n",
      "  return ot.distributions.UniformDistribution(\n",
      "\u001b[32m[I 2022-12-13 11:53:23,285]\u001b[0m A new study created in memory with name: optuna\u001b[0m\n"
     ]
    },
    {
     "data": {
      "text/html": [
       "<div class=\"tuneStatus\">\n",
       "  <div style=\"display: flex;flex-direction: row\">\n",
       "    <div style=\"display: flex;flex-direction: column;\">\n",
       "      <h3>Tune Status</h3>\n",
       "      <table>\n",
       "<tbody>\n",
       "<tr><td>Current time:</td><td>2022-12-13 11:58:00</td></tr>\n",
       "<tr><td>Running for: </td><td>00:04:37.62        </td></tr>\n",
       "<tr><td>Memory:      </td><td>20.2/31.8 GiB      </td></tr>\n",
       "</tbody>\n",
       "</table>\n",
       "    </div>\n",
       "    <div class=\"vDivider\"></div>\n",
       "    <div class=\"systemInfo\">\n",
       "      <h3>System Info</h3>\n",
       "      Using FIFO scheduling algorithm.<br>Resources requested: 0/20 CPUs, 0/1 GPUs, 0.0/8.38 GiB heap, 0.0/4.19 GiB objects\n",
       "    </div>\n",
       "    \n",
       "  </div>\n",
       "  <div class=\"hDivider\"></div>\n",
       "  <div class=\"trialStatus\">\n",
       "    <h3>Trial Status</h3>\n",
       "    <table>\n",
       "<thead>\n",
       "<tr><th>Trial name         </th><th>status    </th><th>loc            </th><th style=\"text-align: right;\">         params/coupler_exten\n",
       "t[0]</th><th style=\"text-align: right;\">        params/coupler_exten\n",
       "t[1]</th><th style=\"text-align: right;\">         params/coupler_offse\n",
       "t</th><th style=\"text-align: right;\">        params/ground_gap_[0\n",
       "]</th><th style=\"text-align: right;\">        params/ground_gap_[1\n",
       "]</th><th style=\"text-align: right;\">        params/island1_exten\n",
       "t_[0]</th><th style=\"text-align: right;\">         params/island1_exten\n",
       "t_[1]</th><th style=\"text-align: right;\">  params/island1_r</th><th style=\"text-align: right;\">        params/island2_exten\n",
       "t_[0]</th><th style=\"text-align: right;\">         params/island2_exten\n",
       "t_[1]</th><th style=\"text-align: right;\">  params/island2_r</th><th style=\"text-align: right;\">  params/squid_offset</th><th style=\"text-align: right;\">  iter</th><th style=\"text-align: right;\">  total time (s)</th><th style=\"text-align: right;\">     score</th><th style=\"text-align: right;\">      value</th></tr>\n",
       "</thead>\n",
       "<tbody>\n",
       "<tr><td>event_loop_fb65958e</td><td>TERMINATED</td><td>127.0.0.1:17340</td><td style=\"text-align: right;\">184.819 </td><td style=\"text-align: right;\">32.8921</td><td style=\"text-align: right;\">11.877  </td><td style=\"text-align: right;\">902.546</td><td style=\"text-align: right;\">885.957</td><td style=\"text-align: right;\">657.323</td><td style=\"text-align: right;\"> 78.5317</td><td style=\"text-align: right;\">         0.386683 </td><td style=\"text-align: right;\">505.289</td><td style=\"text-align: right;\"> 59.8349</td><td style=\"text-align: right;\">          31.5409 </td><td style=\"text-align: right;\">            -12.6863 </td><td style=\"text-align: right;\">     1</td><td style=\"text-align: right;\">         22.942 </td><td style=\"text-align: right;\">2.54957   </td><td style=\"text-align: right;\">6.65967e-14</td></tr>\n",
       "<tr><td>event_loop_fcf13882</td><td>TERMINATED</td><td>127.0.0.1:13016</td><td style=\"text-align: right;\">262.164 </td><td style=\"text-align: right;\">21.9014</td><td style=\"text-align: right;\">10.026  </td><td style=\"text-align: right;\">941.074</td><td style=\"text-align: right;\">872.946</td><td style=\"text-align: right;\">557.518</td><td style=\"text-align: right;\"> 55.5471</td><td style=\"text-align: right;\">        33.6387   </td><td style=\"text-align: right;\">406.107</td><td style=\"text-align: right;\">172.876 </td><td style=\"text-align: right;\">          38.1469 </td><td style=\"text-align: right;\">             -3.40644</td><td style=\"text-align: right;\">     1</td><td style=\"text-align: right;\">         23.7648</td><td style=\"text-align: right;\">0.285639  </td><td style=\"text-align: right;\">6.55345e-14</td></tr>\n",
       "<tr><td>event_loop_fcf29808</td><td>TERMINATED</td><td>127.0.0.1:35760</td><td style=\"text-align: right;\">390.579 </td><td style=\"text-align: right;\">39.496 </td><td style=\"text-align: right;\"> 9.31251</td><td style=\"text-align: right;\">707.919</td><td style=\"text-align: right;\">744.302</td><td style=\"text-align: right;\">330.271</td><td style=\"text-align: right;\">145.704 </td><td style=\"text-align: right;\">         0.0906694</td><td style=\"text-align: right;\">319.115</td><td style=\"text-align: right;\">216.7   </td><td style=\"text-align: right;\">          34.5978 </td><td style=\"text-align: right;\">             -1.90886</td><td style=\"text-align: right;\">     1</td><td style=\"text-align: right;\">         23.0977</td><td style=\"text-align: right;\">2.32156   </td><td style=\"text-align: right;\">6.65237e-14</td></tr>\n",
       "<tr><td>event_loop_fcf52fcb</td><td>TERMINATED</td><td>127.0.0.1:37848</td><td style=\"text-align: right;\">252.263 </td><td style=\"text-align: right;\">35.0141</td><td style=\"text-align: right;\">19.5798 </td><td style=\"text-align: right;\">967.728</td><td style=\"text-align: right;\">601.337</td><td style=\"text-align: right;\">576.231</td><td style=\"text-align: right;\">194.29  </td><td style=\"text-align: right;\">         8.92646  </td><td style=\"text-align: right;\">582.846</td><td style=\"text-align: right;\">123.524 </td><td style=\"text-align: right;\">          11.8351 </td><td style=\"text-align: right;\">            -18.3342 </td><td style=\"text-align: right;\">     1</td><td style=\"text-align: right;\">         22.9447</td><td style=\"text-align: right;\">3.08098   </td><td style=\"text-align: right;\">6.67553e-14</td></tr>\n",
       "<tr><td>event_loop_fcf8b248</td><td>TERMINATED</td><td>127.0.0.1:18252</td><td style=\"text-align: right;\"> 95.9509</td><td style=\"text-align: right;\">28.1188</td><td style=\"text-align: right;\">23.9256 </td><td style=\"text-align: right;\">809.683</td><td style=\"text-align: right;\">971.088</td><td style=\"text-align: right;\">369.147</td><td style=\"text-align: right;\">360.973 </td><td style=\"text-align: right;\">        48.5286   </td><td style=\"text-align: right;\">204.678</td><td style=\"text-align: right;\">197.706 </td><td style=\"text-align: right;\">          49.861  </td><td style=\"text-align: right;\">             -5.33846</td><td style=\"text-align: right;\">     1</td><td style=\"text-align: right;\">         23.7487</td><td style=\"text-align: right;\">1.14094   </td><td style=\"text-align: right;\">6.39319e-14</td></tr>\n",
       "<tr><td>event_loop_0aa13ff4</td><td>TERMINATED</td><td>127.0.0.1:37912</td><td style=\"text-align: right;\">358.622 </td><td style=\"text-align: right;\">32.5417</td><td style=\"text-align: right;\">40.691  </td><td style=\"text-align: right;\">720.717</td><td style=\"text-align: right;\">741.045</td><td style=\"text-align: right;\">695.014</td><td style=\"text-align: right;\">271.086 </td><td style=\"text-align: right;\">        28.1869   </td><td style=\"text-align: right;\">641.766</td><td style=\"text-align: right;\">162.849 </td><td style=\"text-align: right;\">          27.7055 </td><td style=\"text-align: right;\">            -16.3257 </td><td style=\"text-align: right;\">     1</td><td style=\"text-align: right;\">         25.9126</td><td style=\"text-align: right;\">0.0885102 </td><td style=\"text-align: right;\">6.52975e-14</td></tr>\n",
       "<tr><td>event_loop_0d2a0d1f</td><td>TERMINATED</td><td>127.0.0.1:18252</td><td style=\"text-align: right;\">441.755 </td><td style=\"text-align: right;\">30.0863</td><td style=\"text-align: right;\">18.4582 </td><td style=\"text-align: right;\">615.763</td><td style=\"text-align: right;\">587.443</td><td style=\"text-align: right;\">492.918</td><td style=\"text-align: right;\">125.801 </td><td style=\"text-align: right;\">        10.4456   </td><td style=\"text-align: right;\">479.983</td><td style=\"text-align: right;\">195.971 </td><td style=\"text-align: right;\">          45.1547 </td><td style=\"text-align: right;\">             -4.34762</td><td style=\"text-align: right;\">     1</td><td style=\"text-align: right;\">         25.8931</td><td style=\"text-align: right;\">0.224767  </td><td style=\"text-align: right;\">6.54741e-14</td></tr>\n",
       "<tr><td>event_loop_0d2c7dad</td><td>TERMINATED</td><td>127.0.0.1:35760</td><td style=\"text-align: right;\">145.853 </td><td style=\"text-align: right;\">37.0394</td><td style=\"text-align: right;\">15.1302 </td><td style=\"text-align: right;\">946.686</td><td style=\"text-align: right;\">671.215</td><td style=\"text-align: right;\">226.104</td><td style=\"text-align: right;\">424.335 </td><td style=\"text-align: right;\">        32.7953   </td><td style=\"text-align: right;\">462.666</td><td style=\"text-align: right;\">276.241 </td><td style=\"text-align: right;\">          35.2663 </td><td style=\"text-align: right;\">            -12.0093 </td><td style=\"text-align: right;\">     1</td><td style=\"text-align: right;\">         25.8791</td><td style=\"text-align: right;\">0.181698  </td><td style=\"text-align: right;\">6.54263e-14</td></tr>\n",
       "<tr><td>event_loop_0d2ea09b</td><td>TERMINATED</td><td>127.0.0.1:13016</td><td style=\"text-align: right;\">115.966 </td><td style=\"text-align: right;\">29.1174</td><td style=\"text-align: right;\">32.318  </td><td style=\"text-align: right;\">984.626</td><td style=\"text-align: right;\">687.295</td><td style=\"text-align: right;\">280.299</td><td style=\"text-align: right;\">354.075 </td><td style=\"text-align: right;\">         7.41635  </td><td style=\"text-align: right;\">261.139</td><td style=\"text-align: right;\">269.898 </td><td style=\"text-align: right;\">          36.5519 </td><td style=\"text-align: right;\">             -2.08927</td><td style=\"text-align: right;\">     1</td><td style=\"text-align: right;\">         24.9433</td><td style=\"text-align: right;\">0.343401  </td><td style=\"text-align: right;\">6.5586e-14 </td></tr>\n",
       "<tr><td>event_loop_0d316015</td><td>TERMINATED</td><td>127.0.0.1:15204</td><td style=\"text-align: right;\">280.739 </td><td style=\"text-align: right;\">38.1046</td><td style=\"text-align: right;\">33.6943 </td><td style=\"text-align: right;\">640.325</td><td style=\"text-align: right;\">540.97 </td><td style=\"text-align: right;\">691.877</td><td style=\"text-align: right;\">352.067 </td><td style=\"text-align: right;\">        25.795    </td><td style=\"text-align: right;\">332.112</td><td style=\"text-align: right;\">138.433 </td><td style=\"text-align: right;\">           6.22697</td><td style=\"text-align: right;\">             -4.01594</td><td style=\"text-align: right;\">     1</td><td style=\"text-align: right;\">         22.636 </td><td style=\"text-align: right;\">1.86436   </td><td style=\"text-align: right;\">6.63654e-14</td></tr>\n",
       "<tr><td>event_loop_1c129f74</td><td>TERMINATED</td><td>127.0.0.1:6468 </td><td style=\"text-align: right;\">370.919 </td><td style=\"text-align: right;\">32.3995</td><td style=\"text-align: right;\">27.632  </td><td style=\"text-align: right;\">654.761</td><td style=\"text-align: right;\">828.491</td><td style=\"text-align: right;\">295.62 </td><td style=\"text-align: right;\">103.747 </td><td style=\"text-align: right;\">        42.5831   </td><td style=\"text-align: right;\">268.574</td><td style=\"text-align: right;\">147.828 </td><td style=\"text-align: right;\">          41.5938 </td><td style=\"text-align: right;\">             -5.99445</td><td style=\"text-align: right;\">     1</td><td style=\"text-align: right;\">         26.3749</td><td style=\"text-align: right;\">0.271069  </td><td style=\"text-align: right;\">6.44794e-14</td></tr>\n",
       "<tr><td>event_loop_1e031a90</td><td>TERMINATED</td><td>127.0.0.1:37912</td><td style=\"text-align: right;\">424.932 </td><td style=\"text-align: right;\">38.6469</td><td style=\"text-align: right;\"> 5.72727</td><td style=\"text-align: right;\">768.182</td><td style=\"text-align: right;\">995.56 </td><td style=\"text-align: right;\">629.483</td><td style=\"text-align: right;\">230.241 </td><td style=\"text-align: right;\">        43.6828   </td><td style=\"text-align: right;\">501.784</td><td style=\"text-align: right;\">212.443 </td><td style=\"text-align: right;\">          18.9317 </td><td style=\"text-align: right;\">            -13.2793 </td><td style=\"text-align: right;\">     1</td><td style=\"text-align: right;\">         26.1852</td><td style=\"text-align: right;\">2.05495   </td><td style=\"text-align: right;\">6.64335e-14</td></tr>\n",
       "<tr><td>event_loop_1e06280f</td><td>TERMINATED</td><td>127.0.0.1:15204</td><td style=\"text-align: right;\">490.69  </td><td style=\"text-align: right;\">27.7797</td><td style=\"text-align: right;\">40.7789 </td><td style=\"text-align: right;\">630.662</td><td style=\"text-align: right;\">678.327</td><td style=\"text-align: right;\">360.415</td><td style=\"text-align: right;\">218.111 </td><td style=\"text-align: right;\">        37.1568   </td><td style=\"text-align: right;\">450.436</td><td style=\"text-align: right;\">206.295 </td><td style=\"text-align: right;\">          40.7113 </td><td style=\"text-align: right;\">             -9.441  </td><td style=\"text-align: right;\">     1</td><td style=\"text-align: right;\">         26.308 </td><td style=\"text-align: right;\">0.256613  </td><td style=\"text-align: right;\">6.44934e-14</td></tr>\n",
       "<tr><td>event_loop_1e090aa2</td><td>TERMINATED</td><td>127.0.0.1:35760</td><td style=\"text-align: right;\"> 63.5206</td><td style=\"text-align: right;\">24.9122</td><td style=\"text-align: right;\">35.4395 </td><td style=\"text-align: right;\">630.111</td><td style=\"text-align: right;\">922.339</td><td style=\"text-align: right;\">582.235</td><td style=\"text-align: right;\">360.92  </td><td style=\"text-align: right;\">         8.55249  </td><td style=\"text-align: right;\">636.656</td><td style=\"text-align: right;\"> 80.0445</td><td style=\"text-align: right;\">          48.7405 </td><td style=\"text-align: right;\">             -2.33233</td><td style=\"text-align: right;\">     1</td><td style=\"text-align: right;\">         23.9218</td><td style=\"text-align: right;\">0.00118996</td><td style=\"text-align: right;\">6.49655e-14</td></tr>\n",
       "<tr><td>event_loop_1e0ba422</td><td>TERMINATED</td><td>127.0.0.1:29484</td><td style=\"text-align: right;\">398.016 </td><td style=\"text-align: right;\">31.0598</td><td style=\"text-align: right;\">40.3414 </td><td style=\"text-align: right;\">667.911</td><td style=\"text-align: right;\">738.23 </td><td style=\"text-align: right;\">668.367</td><td style=\"text-align: right;\">254.658 </td><td style=\"text-align: right;\">        29.116    </td><td style=\"text-align: right;\">637.883</td><td style=\"text-align: right;\">182.229 </td><td style=\"text-align: right;\">          35.0018 </td><td style=\"text-align: right;\">            -14.3016 </td><td style=\"text-align: right;\">     1</td><td style=\"text-align: right;\">         23.7586</td><td style=\"text-align: right;\">0.039355  </td><td style=\"text-align: right;\">6.51984e-14</td></tr>\n",
       "<tr><td>event_loop_2c4ff6ea</td><td>TERMINATED</td><td>127.0.0.1:34132</td><td style=\"text-align: right;\">143.994 </td><td style=\"text-align: right;\">25.5745</td><td style=\"text-align: right;\">36.1279 </td><td style=\"text-align: right;\">629.783</td><td style=\"text-align: right;\">867.008</td><td style=\"text-align: right;\">582.285</td><td style=\"text-align: right;\">337.393 </td><td style=\"text-align: right;\">        13.408    </td><td style=\"text-align: right;\">630.852</td><td style=\"text-align: right;\">111.337 </td><td style=\"text-align: right;\">          47.3026 </td><td style=\"text-align: right;\">             -3.98071</td><td style=\"text-align: right;\">     1</td><td style=\"text-align: right;\">         25.2697</td><td style=\"text-align: right;\">0.00323761</td><td style=\"text-align: right;\">6.50569e-14</td></tr>\n",
       "<tr><td>event_loop_2e8ff6de</td><td>TERMINATED</td><td>127.0.0.1:15204</td><td style=\"text-align: right;\">138.363 </td><td style=\"text-align: right;\">25.572 </td><td style=\"text-align: right;\">35.9273 </td><td style=\"text-align: right;\">632.472</td><td style=\"text-align: right;\">868.284</td><td style=\"text-align: right;\">580.986</td><td style=\"text-align: right;\">337.295 </td><td style=\"text-align: right;\">        12.9718   </td><td style=\"text-align: right;\">627.621</td><td style=\"text-align: right;\">109.33  </td><td style=\"text-align: right;\">          47.2619 </td><td style=\"text-align: right;\">             -3.86173</td><td style=\"text-align: right;\">     1</td><td style=\"text-align: right;\">         25.0273</td><td style=\"text-align: right;\">0.0277227 </td><td style=\"text-align: right;\">6.48335e-14</td></tr>\n",
       "<tr><td>event_loop_2ec44a87</td><td>TERMINATED</td><td>127.0.0.1:6468 </td><td style=\"text-align: right;\">452.419 </td><td style=\"text-align: right;\">28.3824</td><td style=\"text-align: right;\">30.2077 </td><td style=\"text-align: right;\">627.043</td><td style=\"text-align: right;\">634.047</td><td style=\"text-align: right;\">459.872</td><td style=\"text-align: right;\">175.333 </td><td style=\"text-align: right;\">        23.5324   </td><td style=\"text-align: right;\">491.368</td><td style=\"text-align: right;\">197.388 </td><td style=\"text-align: right;\">          43.4848 </td><td style=\"text-align: right;\">             -7.28722</td><td style=\"text-align: right;\">     1</td><td style=\"text-align: right;\">         25.7461</td><td style=\"text-align: right;\">0.0171831 </td><td style=\"text-align: right;\">6.51311e-14</td></tr>\n",
       "<tr><td>event_loop_2ee95a74</td><td>TERMINATED</td><td>127.0.0.1:29484</td><td style=\"text-align: right;\">427.974 </td><td style=\"text-align: right;\">29.0623</td><td style=\"text-align: right;\">29.0786 </td><td style=\"text-align: right;\">633.94 </td><td style=\"text-align: right;\">683.82 </td><td style=\"text-align: right;\">414.088</td><td style=\"text-align: right;\">148.581 </td><td style=\"text-align: right;\">        28.9428   </td><td style=\"text-align: right;\">428.463</td><td style=\"text-align: right;\">182.548 </td><td style=\"text-align: right;\">          43.8318 </td><td style=\"text-align: right;\">             -6.65114</td><td style=\"text-align: right;\">     1</td><td style=\"text-align: right;\">         25.3778</td><td style=\"text-align: right;\">0.016537  </td><td style=\"text-align: right;\">6.48714e-14</td></tr>\n",
       "<tr><td>event_loop_2f2312f0</td><td>TERMINATED</td><td>127.0.0.1:1576 </td><td style=\"text-align: right;\">425.233 </td><td style=\"text-align: right;\">29.1435</td><td style=\"text-align: right;\">31.9948 </td><td style=\"text-align: right;\">637.396</td><td style=\"text-align: right;\">678.415</td><td style=\"text-align: right;\">491.574</td><td style=\"text-align: right;\">182.172 </td><td style=\"text-align: right;\">        26.1139   </td><td style=\"text-align: right;\">504.054</td><td style=\"text-align: right;\">187.34  </td><td style=\"text-align: right;\">          42.3992 </td><td style=\"text-align: right;\">             -8.43707</td><td style=\"text-align: right;\">     1</td><td style=\"text-align: right;\">         22.3594</td><td style=\"text-align: right;\">0.020216  </td><td style=\"text-align: right;\">6.51422e-14</td></tr>\n",
       "<tr><td>event_loop_3d9daf46</td><td>TERMINATED</td><td>127.0.0.1:15204</td><td style=\"text-align: right;\">396.612 </td><td style=\"text-align: right;\">28.8058</td><td style=\"text-align: right;\">33.5191 </td><td style=\"text-align: right;\">639.638</td><td style=\"text-align: right;\">700.766</td><td style=\"text-align: right;\">507.037</td><td style=\"text-align: right;\">205.135 </td><td style=\"text-align: right;\">        25.44     </td><td style=\"text-align: right;\">525.523</td><td style=\"text-align: right;\">180.482 </td><td style=\"text-align: right;\">          42.383  </td><td style=\"text-align: right;\">             -8.45684</td><td style=\"text-align: right;\">     1</td><td style=\"text-align: right;\">         20.1008</td><td style=\"text-align: right;\">0.0104833 </td><td style=\"text-align: right;\">6.51024e-14</td></tr>\n",
       "<tr><td>event_loop_3dd1e650</td><td>TERMINATED</td><td>127.0.0.1:20600</td><td style=\"text-align: right;\">290.21  </td><td style=\"text-align: right;\">28.1279</td><td style=\"text-align: right;\">39.3548 </td><td style=\"text-align: right;\">642.741</td><td style=\"text-align: right;\">794.139</td><td style=\"text-align: right;\">593.829</td><td style=\"text-align: right;\">294.437 </td><td style=\"text-align: right;\">        23.3707   </td><td style=\"text-align: right;\">626.899</td><td style=\"text-align: right;\">149.589 </td><td style=\"text-align: right;\">          40.9264 </td><td style=\"text-align: right;\">             -9.35702</td><td style=\"text-align: right;\">     1</td><td style=\"text-align: right;\">         24.5187</td><td style=\"text-align: right;\">0.0066367 </td><td style=\"text-align: right;\">6.50815e-14</td></tr>\n",
       "<tr><td>event_loop_3e470082</td><td>TERMINATED</td><td>127.0.0.1:29484</td><td style=\"text-align: right;\">336.536 </td><td style=\"text-align: right;\">27.9509</td><td style=\"text-align: right;\">36.4788 </td><td style=\"text-align: right;\">633.107</td><td style=\"text-align: right;\">751.068</td><td style=\"text-align: right;\">540.93 </td><td style=\"text-align: right;\">254.641 </td><td style=\"text-align: right;\">        24.1307   </td><td style=\"text-align: right;\">578.002</td><td style=\"text-align: right;\">164.473 </td><td style=\"text-align: right;\">          42.8416 </td><td style=\"text-align: right;\">             -8.20527</td><td style=\"text-align: right;\">     1</td><td style=\"text-align: right;\">         24.5087</td><td style=\"text-align: right;\">0.00121624</td><td style=\"text-align: right;\">6.49651e-14</td></tr>\n",
       "<tr><td>event_loop_3fb13d11</td><td>TERMINATED</td><td>127.0.0.1:1576 </td><td style=\"text-align: right;\">329.568 </td><td style=\"text-align: right;\">28.0747</td><td style=\"text-align: right;\">36.1275 </td><td style=\"text-align: right;\">633.244</td><td style=\"text-align: right;\">766.255</td><td style=\"text-align: right;\">529.086</td><td style=\"text-align: right;\">245.256 </td><td style=\"text-align: right;\">        25.7802   </td><td style=\"text-align: right;\">563.028</td><td style=\"text-align: right;\">160.503 </td><td style=\"text-align: right;\">          43.2825 </td><td style=\"text-align: right;\">             -7.96412</td><td style=\"text-align: right;\">     1</td><td style=\"text-align: right;\">         24.2843</td><td style=\"text-align: right;\">0.00175859</td><td style=\"text-align: right;\">6.50419e-14</td></tr>\n",
       "<tr><td>event_loop_3fe6bf5d</td><td>TERMINATED</td><td>127.0.0.1:24992</td><td style=\"text-align: right;\">298.718 </td><td style=\"text-align: right;\">27.5457</td><td style=\"text-align: right;\">38.9259 </td><td style=\"text-align: right;\">630.889</td><td style=\"text-align: right;\">788.425</td><td style=\"text-align: right;\">565.613</td><td style=\"text-align: right;\">288.94  </td><td style=\"text-align: right;\">        23.9894   </td><td style=\"text-align: right;\">618.594</td><td style=\"text-align: right;\">151.653 </td><td style=\"text-align: right;\">          42.3737 </td><td style=\"text-align: right;\">             -8.57044</td><td style=\"text-align: right;\">     1</td><td style=\"text-align: right;\">         20.7768</td><td style=\"text-align: right;\">0.00196625</td><td style=\"text-align: right;\">6.50443e-14</td></tr>\n",
       "<tr><td>event_loop_49d03ed2</td><td>TERMINATED</td><td>127.0.0.1:15784</td><td style=\"text-align: right;\">272.696 </td><td style=\"text-align: right;\">27.8901</td><td style=\"text-align: right;\">40.9729 </td><td style=\"text-align: right;\">635.268</td><td style=\"text-align: right;\">814.953</td><td style=\"text-align: right;\">606.677</td><td style=\"text-align: right;\">310.759 </td><td style=\"text-align: right;\">        23.9423   </td><td style=\"text-align: right;\">655.172</td><td style=\"text-align: right;\">141.442 </td><td style=\"text-align: right;\">          40.9184 </td><td style=\"text-align: right;\">             -9.66768</td><td style=\"text-align: right;\">     1</td><td style=\"text-align: right;\">         25.1179</td><td style=\"text-align: right;\">4.9393e-07</td><td style=\"text-align: right;\">6.49993e-14</td></tr>\n",
       "<tr><td>event_loop_4e557120</td><td>TERMINATED</td><td>127.0.0.1:20600</td><td style=\"text-align: right;\">148.404 </td><td style=\"text-align: right;\">24.9836</td><td style=\"text-align: right;\">39.6414 </td><td style=\"text-align: right;\">560.582</td><td style=\"text-align: right;\">947.624</td><td style=\"text-align: right;\">583.042</td><td style=\"text-align: right;\">358.973 </td><td style=\"text-align: right;\">        15.8544   </td><td style=\"text-align: right;\">699.947</td><td style=\"text-align: right;\"> 88.9131</td><td style=\"text-align: right;\">          50      </td><td style=\"text-align: right;\">             -4.44225</td><td style=\"text-align: right;\">     1</td><td style=\"text-align: right;\">         25.3378</td><td style=\"text-align: right;\">0.0760186 </td><td style=\"text-align: right;\">6.47243e-14</td></tr>\n",
       "<tr><td>event_loop_4e90d069</td><td>TERMINATED</td><td>127.0.0.1:1576 </td><td style=\"text-align: right;\">148.871 </td><td style=\"text-align: right;\">25.1119</td><td style=\"text-align: right;\">40.1758 </td><td style=\"text-align: right;\">563.417</td><td style=\"text-align: right;\">948.228</td><td style=\"text-align: right;\">590.444</td><td style=\"text-align: right;\">361.514 </td><td style=\"text-align: right;\">        16.1515   </td><td style=\"text-align: right;\">700    </td><td style=\"text-align: right;\"> 88.8862</td><td style=\"text-align: right;\">          49.6829 </td><td style=\"text-align: right;\">             -4.83944</td><td style=\"text-align: right;\">     1</td><td style=\"text-align: right;\">         24.9655</td><td style=\"text-align: right;\">0.0446312 </td><td style=\"text-align: right;\">6.47887e-14</td></tr>\n",
       "<tr><td>event_loop_4ecbb33a</td><td>TERMINATED</td><td>127.0.0.1:24992</td><td style=\"text-align: right;\">151.733 </td><td style=\"text-align: right;\">25.0932</td><td style=\"text-align: right;\">40.1079 </td><td style=\"text-align: right;\">560.966</td><td style=\"text-align: right;\">948.526</td><td style=\"text-align: right;\">590.117</td><td style=\"text-align: right;\">359.127 </td><td style=\"text-align: right;\">        16.4154   </td><td style=\"text-align: right;\">700    </td><td style=\"text-align: right;\"> 89.567 </td><td style=\"text-align: right;\">          49.8642 </td><td style=\"text-align: right;\">             -4.8107 </td><td style=\"text-align: right;\">     1</td><td style=\"text-align: right;\">         24.5529</td><td style=\"text-align: right;\">0.10676   </td><td style=\"text-align: right;\">6.46733e-14</td></tr>\n",
       "<tr><td>event_loop_4f0aa7c0</td><td>TERMINATED</td><td>127.0.0.1:1180 </td><td style=\"text-align: right;\">144.517 </td><td style=\"text-align: right;\">25.0355</td><td style=\"text-align: right;\">39.9228 </td><td style=\"text-align: right;\">559.428</td><td style=\"text-align: right;\">950.726</td><td style=\"text-align: right;\">608.29 </td><td style=\"text-align: right;\">363.28  </td><td style=\"text-align: right;\">        15.639    </td><td style=\"text-align: right;\">700    </td><td style=\"text-align: right;\"> 92.2431</td><td style=\"text-align: right;\">          50      </td><td style=\"text-align: right;\">             -4.55588</td><td style=\"text-align: right;\">     1</td><td style=\"text-align: right;\">         21.9   </td><td style=\"text-align: right;\">0.0670318 </td><td style=\"text-align: right;\">6.47411e-14</td></tr>\n",
       "<tr><td>event_loop_5d3b2e15</td><td>TERMINATED</td><td>127.0.0.1:20600</td><td style=\"text-align: right;\">145.23  </td><td style=\"text-align: right;\">24.9507</td><td style=\"text-align: right;\">39.9683 </td><td style=\"text-align: right;\">557.67 </td><td style=\"text-align: right;\">948.092</td><td style=\"text-align: right;\">612.687</td><td style=\"text-align: right;\">364.354 </td><td style=\"text-align: right;\">        15.6014   </td><td style=\"text-align: right;\">700    </td><td style=\"text-align: right;\"> 93.9205</td><td style=\"text-align: right;\">          50      </td><td style=\"text-align: right;\">             -4.49268</td><td style=\"text-align: right;\">     1</td><td style=\"text-align: right;\">         22.795 </td><td style=\"text-align: right;\">0.103655  </td><td style=\"text-align: right;\">6.4678e-14 </td></tr>\n",
       "<tr><td>event_loop_5db12901</td><td>TERMINATED</td><td>127.0.0.1:3304 </td><td style=\"text-align: right;\">356.374 </td><td style=\"text-align: right;\">25.7645</td><td style=\"text-align: right;\">25.8159 </td><td style=\"text-align: right;\">637.878</td><td style=\"text-align: right;\">716.447</td><td style=\"text-align: right;\">545.81 </td><td style=\"text-align: right;\">146.986 </td><td style=\"text-align: right;\">        25.954    </td><td style=\"text-align: right;\">550.644</td><td style=\"text-align: right;\">184.976 </td><td style=\"text-align: right;\">          48.8112 </td><td style=\"text-align: right;\">             -3.62308</td><td style=\"text-align: right;\">     1</td><td style=\"text-align: right;\">         22.6883</td><td style=\"text-align: right;\">0.0968451 </td><td style=\"text-align: right;\">6.46888e-14</td></tr>\n",
       "<tr><td>event_loop_5df4bd72</td><td>TERMINATED</td><td>127.0.0.1:24992</td><td style=\"text-align: right;\">112.308 </td><td style=\"text-align: right;\">25.0501</td><td style=\"text-align: right;\">41.8571 </td><td style=\"text-align: right;\">633.86 </td><td style=\"text-align: right;\">890.738</td><td style=\"text-align: right;\">687.925</td><td style=\"text-align: right;\">401.77  </td><td style=\"text-align: right;\">        15.5927   </td><td style=\"text-align: right;\">687.414</td><td style=\"text-align: right;\">125.659 </td><td style=\"text-align: right;\">          48.7774 </td><td style=\"text-align: right;\">             -5.60164</td><td style=\"text-align: right;\">     1</td><td style=\"text-align: right;\">         22.6189</td><td style=\"text-align: right;\">0.0668392 </td><td style=\"text-align: right;\">6.47415e-14</td></tr>\n",
       "<tr><td>event_loop_5e36645c</td><td>TERMINATED</td><td>127.0.0.1:38540</td><td style=\"text-align: right;\">107.683 </td><td style=\"text-align: right;\">25.2294</td><td style=\"text-align: right;\">42.2538 </td><td style=\"text-align: right;\">619.981</td><td style=\"text-align: right;\">904.376</td><td style=\"text-align: right;\">561.141</td><td style=\"text-align: right;\">431.516 </td><td style=\"text-align: right;\">        10.6059   </td><td style=\"text-align: right;\">700    </td><td style=\"text-align: right;\"> 89.5253</td><td style=\"text-align: right;\">          44.3783 </td><td style=\"text-align: right;\">             -5.23192</td><td style=\"text-align: right;\">     1</td><td style=\"text-align: right;\">         23.9231</td><td style=\"text-align: right;\">0.00393936</td><td style=\"text-align: right;\">6.49372e-14</td></tr>\n",
       "<tr><td>event_loop_5f747fcf</td><td>TERMINATED</td><td>127.0.0.1:38316</td><td style=\"text-align: right;\">299.563 </td><td style=\"text-align: right;\">29.8005</td><td style=\"text-align: right;\">47.2126 </td><td style=\"text-align: right;\">712.575</td><td style=\"text-align: right;\">739.661</td><td style=\"text-align: right;\">572.595</td><td style=\"text-align: right;\">314.069 </td><td style=\"text-align: right;\">        32.4559   </td><td style=\"text-align: right;\">649.413</td><td style=\"text-align: right;\">163.936 </td><td style=\"text-align: right;\">          34.3417 </td><td style=\"text-align: right;\">            -14.3935 </td><td style=\"text-align: right;\">     1</td><td style=\"text-align: right;\">         22.7234</td><td style=\"text-align: right;\">0.0108774 </td><td style=\"text-align: right;\">6.48957e-14</td></tr>\n",
       "<tr><td>event_loop_6b4a34b0</td><td>TERMINATED</td><td>127.0.0.1:24992</td><td style=\"text-align: right;\">310.166 </td><td style=\"text-align: right;\">29.9744</td><td style=\"text-align: right;\">47.0019 </td><td style=\"text-align: right;\">706.626</td><td style=\"text-align: right;\">742.182</td><td style=\"text-align: right;\">556.594</td><td style=\"text-align: right;\">306.325 </td><td style=\"text-align: right;\">        32.2229   </td><td style=\"text-align: right;\">662.137</td><td style=\"text-align: right;\">157.245 </td><td style=\"text-align: right;\">          34.7793 </td><td style=\"text-align: right;\">            -14.6386 </td><td style=\"text-align: right;\">     1</td><td style=\"text-align: right;\">         21.2147</td><td style=\"text-align: right;\">0.0400394 </td><td style=\"text-align: right;\">6.47999e-14</td></tr>\n",
       "<tr><td>event_loop_6bb6ae29</td><td>TERMINATED</td><td>127.0.0.1:38564</td><td style=\"text-align: right;\">306.391 </td><td style=\"text-align: right;\">30.2209</td><td style=\"text-align: right;\">47.0173 </td><td style=\"text-align: right;\">707.367</td><td style=\"text-align: right;\">745.981</td><td style=\"text-align: right;\">553.561</td><td style=\"text-align: right;\">312.482 </td><td style=\"text-align: right;\">        32.2003   </td><td style=\"text-align: right;\">660.855</td><td style=\"text-align: right;\">158.817 </td><td style=\"text-align: right;\">          34.5331 </td><td style=\"text-align: right;\">            -14.5823 </td><td style=\"text-align: right;\">     1</td><td style=\"text-align: right;\">         24.3395</td><td style=\"text-align: right;\">0.0344452 </td><td style=\"text-align: right;\">6.48144e-14</td></tr>\n",
       "<tr><td>event_loop_6fca5dbb</td><td>TERMINATED</td><td>127.0.0.1:38316</td><td style=\"text-align: right;\">305.076 </td><td style=\"text-align: right;\">30.045 </td><td style=\"text-align: right;\">47.248  </td><td style=\"text-align: right;\">712.67 </td><td style=\"text-align: right;\">745.664</td><td style=\"text-align: right;\">568.595</td><td style=\"text-align: right;\">310.407 </td><td style=\"text-align: right;\">        32.6289   </td><td style=\"text-align: right;\">667.733</td><td style=\"text-align: right;\">160.513 </td><td style=\"text-align: right;\">          34.3558 </td><td style=\"text-align: right;\">            -14.6153 </td><td style=\"text-align: right;\">     1</td><td style=\"text-align: right;\">         23.916 </td><td style=\"text-align: right;\">0.0277577 </td><td style=\"text-align: right;\">6.48334e-14</td></tr>\n",
       "<tr><td>event_loop_7017ddc7</td><td>TERMINATED</td><td>127.0.0.1:38540</td><td style=\"text-align: right;\">101.597 </td><td style=\"text-align: right;\">26.5683</td><td style=\"text-align: right;\">40.6379 </td><td style=\"text-align: right;\">612.214</td><td style=\"text-align: right;\">958.429</td><td style=\"text-align: right;\">564.035</td><td style=\"text-align: right;\">415.575 </td><td style=\"text-align: right;\">         9.54447  </td><td style=\"text-align: right;\">700    </td><td style=\"text-align: right;\"> 81.1042</td><td style=\"text-align: right;\">          45.2681 </td><td style=\"text-align: right;\">             -5.24277</td><td style=\"text-align: right;\">     1</td><td style=\"text-align: right;\">         22.5558</td><td style=\"text-align: right;\">0.0123321 </td><td style=\"text-align: right;\">6.51111e-14</td></tr>\n",
       "<tr><td>event_loop_70757183</td><td>TERMINATED</td><td>127.0.0.1:34608</td><td style=\"text-align: right;\">300.4   </td><td style=\"text-align: right;\">28.4082</td><td style=\"text-align: right;\">31.4048 </td><td style=\"text-align: right;\">710.603</td><td style=\"text-align: right;\">639.467</td><td style=\"text-align: right;\">386.699</td><td style=\"text-align: right;\">219.114 </td><td style=\"text-align: right;\">        29.3319   </td><td style=\"text-align: right;\">585.237</td><td style=\"text-align: right;\">199.818 </td><td style=\"text-align: right;\">          46.4454 </td><td style=\"text-align: right;\">             -6.66938</td><td style=\"text-align: right;\">     1</td><td style=\"text-align: right;\">         20.8444</td><td style=\"text-align: right;\">0.142822  </td><td style=\"text-align: right;\">6.46221e-14</td></tr>\n",
       "<tr><td>event_loop_7860342c</td><td>TERMINATED</td><td>127.0.0.1:24060</td><td style=\"text-align: right;\">290.52  </td><td style=\"text-align: right;\">27.7424</td><td style=\"text-align: right;\">32.5102 </td><td style=\"text-align: right;\">739.988</td><td style=\"text-align: right;\">653.575</td><td style=\"text-align: right;\">426.628</td><td style=\"text-align: right;\">229.268 </td><td style=\"text-align: right;\">        29.4596   </td><td style=\"text-align: right;\">542.615</td><td style=\"text-align: right;\">221.563 </td><td style=\"text-align: right;\">          44.0868 </td><td style=\"text-align: right;\">             -6.3866 </td><td style=\"text-align: right;\">     1</td><td style=\"text-align: right;\">         27.8552</td><td style=\"text-align: right;\">0.0704582 </td><td style=\"text-align: right;\">6.47346e-14</td></tr>\n",
       "<tr><td>event_loop_7dec9c9e</td><td>TERMINATED</td><td>127.0.0.1:38564</td><td style=\"text-align: right;\">291.119 </td><td style=\"text-align: right;\">27.2936</td><td style=\"text-align: right;\">32.3553 </td><td style=\"text-align: right;\">748.098</td><td style=\"text-align: right;\">644.987</td><td style=\"text-align: right;\">427.944</td><td style=\"text-align: right;\">223.937 </td><td style=\"text-align: right;\">        29.504    </td><td style=\"text-align: right;\">534.604</td><td style=\"text-align: right;\">217.796 </td><td style=\"text-align: right;\">          43.4254 </td><td style=\"text-align: right;\">             -6.3232 </td><td style=\"text-align: right;\">     1</td><td style=\"text-align: right;\">         26.4986</td><td style=\"text-align: right;\">0.0912207 </td><td style=\"text-align: right;\">6.4698e-14 </td></tr>\n",
       "<tr><td>event_loop_7e4b532b</td><td>TERMINATED</td><td>127.0.0.1:40952</td><td style=\"text-align: right;\">288.834 </td><td style=\"text-align: right;\">27.5489</td><td style=\"text-align: right;\">32.0255 </td><td style=\"text-align: right;\">745.353</td><td style=\"text-align: right;\">644.029</td><td style=\"text-align: right;\">420.492</td><td style=\"text-align: right;\">234.852 </td><td style=\"text-align: right;\">        29.6888   </td><td style=\"text-align: right;\">540.411</td><td style=\"text-align: right;\">219.532 </td><td style=\"text-align: right;\">          43.5764 </td><td style=\"text-align: right;\">             -6.46316</td><td style=\"text-align: right;\">     1</td><td style=\"text-align: right;\">         25.7917</td><td style=\"text-align: right;\">0.0208823 </td><td style=\"text-align: right;\">6.48555e-14</td></tr>\n",
       "<tr><td>event_loop_7e939f1f</td><td>TERMINATED</td><td>127.0.0.1:34608</td><td style=\"text-align: right;\">288.079 </td><td style=\"text-align: right;\">27.6082</td><td style=\"text-align: right;\">32.1497 </td><td style=\"text-align: right;\">746.935</td><td style=\"text-align: right;\">643.271</td><td style=\"text-align: right;\">421.373</td><td style=\"text-align: right;\">235.582 </td><td style=\"text-align: right;\">        29.4498   </td><td style=\"text-align: right;\">545.406</td><td style=\"text-align: right;\">221.066 </td><td style=\"text-align: right;\">          43.4079 </td><td style=\"text-align: right;\">             -6.41031</td><td style=\"text-align: right;\">     1</td><td style=\"text-align: right;\">         27.9229</td><td style=\"text-align: right;\">0.0728628 </td><td style=\"text-align: right;\">6.47301e-14</td></tr>\n",
       "<tr><td>event_loop_7edf9d29</td><td>TERMINATED</td><td>127.0.0.1:32316</td><td style=\"text-align: right;\">314.333 </td><td style=\"text-align: right;\">29.9158</td><td style=\"text-align: right;\">47.2873 </td><td style=\"text-align: right;\">670.475</td><td style=\"text-align: right;\">826.33 </td><td style=\"text-align: right;\">700    </td><td style=\"text-align: right;\">331.744 </td><td style=\"text-align: right;\">        27.574    </td><td style=\"text-align: right;\">627.138</td><td style=\"text-align: right;\">176.254 </td><td style=\"text-align: right;\">          30.5699 </td><td style=\"text-align: right;\">            -15.8778 </td><td style=\"text-align: right;\">     1</td><td style=\"text-align: right;\">         25.1273</td><td style=\"text-align: right;\">0.0237394 </td><td style=\"text-align: right;\">6.51541e-14</td></tr>\n",
       "<tr><td>event_loop_8be058a8</td><td>TERMINATED</td><td>127.0.0.1:40712</td><td style=\"text-align: right;\">383.892 </td><td style=\"text-align: right;\">24.7484</td><td style=\"text-align: right;\">31.5077 </td><td style=\"text-align: right;\">735.821</td><td style=\"text-align: right;\">733.999</td><td style=\"text-align: right;\">479.869</td><td style=\"text-align: right;\">149.423 </td><td style=\"text-align: right;\">        27.1354   </td><td style=\"text-align: right;\">432.071</td><td style=\"text-align: right;\">176.498 </td><td style=\"text-align: right;\">          39.8412 </td><td style=\"text-align: right;\">             -4.75352</td><td style=\"text-align: right;\">     1</td><td style=\"text-align: right;\">         23.3978</td><td style=\"text-align: right;\">0.00275169</td><td style=\"text-align: right;\">6.50525e-14</td></tr>\n",
       "<tr><td>event_loop_8f82a1ec</td><td>TERMINATED</td><td>127.0.0.1:40952</td><td style=\"text-align: right;\">258.378 </td><td style=\"text-align: right;\">28.1993</td><td style=\"text-align: right;\">42.5957 </td><td style=\"text-align: right;\">694.018</td><td style=\"text-align: right;\">847.835</td><td style=\"text-align: right;\">557.799</td><td style=\"text-align: right;\">284.021 </td><td style=\"text-align: right;\">        27.1767   </td><td style=\"text-align: right;\">612.31 </td><td style=\"text-align: right;\">230.712 </td><td style=\"text-align: right;\">          36.209  </td><td style=\"text-align: right;\">             -9.90333</td><td style=\"text-align: right;\">     1</td><td style=\"text-align: right;\">         27.2883</td><td style=\"text-align: right;\">0.00261996</td><td style=\"text-align: right;\">6.50512e-14</td></tr>\n",
       "<tr><td>event_loop_8fcbc9aa</td><td>TERMINATED</td><td>127.0.0.1:40148</td><td style=\"text-align: right;\">291.913 </td><td style=\"text-align: right;\">28.1501</td><td style=\"text-align: right;\">28.4539 </td><td style=\"text-align: right;\">725.023</td><td style=\"text-align: right;\">650.299</td><td style=\"text-align: right;\">423.087</td><td style=\"text-align: right;\">364.2   </td><td style=\"text-align: right;\">        30.6063   </td><td style=\"text-align: right;\">536.174</td><td style=\"text-align: right;\">225.219 </td><td style=\"text-align: right;\">          40.1498 </td><td style=\"text-align: right;\">             -8.49645</td><td style=\"text-align: right;\">     1</td><td style=\"text-align: right;\">         23.9498</td><td style=\"text-align: right;\">0.00313866</td><td style=\"text-align: right;\">6.4944e-14 </td></tr>\n",
       "<tr><td>event_loop_903a9111</td><td>TERMINATED</td><td>127.0.0.1:32316</td><td style=\"text-align: right;\">319.776 </td><td style=\"text-align: right;\">27.5166</td><td style=\"text-align: right;\">26.9386 </td><td style=\"text-align: right;\">684.578</td><td style=\"text-align: right;\">663.534</td><td style=\"text-align: right;\">451.252</td><td style=\"text-align: right;\">332.227 </td><td style=\"text-align: right;\">        30.4491   </td><td style=\"text-align: right;\">475.44 </td><td style=\"text-align: right;\">210.233 </td><td style=\"text-align: right;\">          43.1737 </td><td style=\"text-align: right;\">             -8.9231 </td><td style=\"text-align: right;\">     1</td><td style=\"text-align: right;\">         26.4772</td><td style=\"text-align: right;\">0.0312801 </td><td style=\"text-align: right;\">6.48231e-14</td></tr>\n",
       "<tr><td>event_loop_90ab6376</td><td>TERMINATED</td><td>127.0.0.1:41148</td><td style=\"text-align: right;\">319.745 </td><td style=\"text-align: right;\">27.5709</td><td style=\"text-align: right;\">26.9744 </td><td style=\"text-align: right;\">684.564</td><td style=\"text-align: right;\">662.687</td><td style=\"text-align: right;\">452.953</td><td style=\"text-align: right;\">333.984 </td><td style=\"text-align: right;\">        30.3379   </td><td style=\"text-align: right;\">476.991</td><td style=\"text-align: right;\">210.18  </td><td style=\"text-align: right;\">          43.1016 </td><td style=\"text-align: right;\">             -8.95059</td><td style=\"text-align: right;\">     1</td><td style=\"text-align: right;\">         22.9264</td><td style=\"text-align: right;\">0.0144949 </td><td style=\"text-align: right;\">6.48796e-14</td></tr>\n",
       "</tbody>\n",
       "</table>\n",
       "  </div>\n",
       "</div>\n",
       "<style>\n",
       ".tuneStatus {\n",
       "  color: var(--jp-ui-font-color1);\n",
       "}\n",
       ".tuneStatus .systemInfo {\n",
       "  display: flex;\n",
       "  flex-direction: column;\n",
       "}\n",
       ".tuneStatus td {\n",
       "  white-space: nowrap;\n",
       "}\n",
       ".tuneStatus .trialStatus {\n",
       "  display: flex;\n",
       "  flex-direction: column;\n",
       "}\n",
       ".tuneStatus h3 {\n",
       "  font-weight: bold;\n",
       "}\n",
       ".tuneStatus .hDivider {\n",
       "  border-bottom-width: var(--jp-border-width);\n",
       "  border-bottom-color: var(--jp-border-color0);\n",
       "  border-bottom-style: solid;\n",
       "}\n",
       ".tuneStatus .vDivider {\n",
       "  border-left-width: var(--jp-border-width);\n",
       "  border-left-color: var(--jp-border-color0);\n",
       "  border-left-style: solid;\n",
       "  margin: 0.5em 1em 0.5em 1em;\n",
       "}\n",
       "</style>\n"
      ],
      "text/plain": [
       "<IPython.core.display.HTML object>"
      ]
     },
     "metadata": {},
     "output_type": "display_data"
    },
    {
     "name": "stderr",
     "output_type": "stream",
     "text": [
      "C:\\Users\\NikoSavola\\AppData\\Roaming\\Python\\Python39\\site-packages\\optuna\\distributions.py:766: FutureWarning: UniformDistribution(high=700.0, low=200.0) is deprecated and internally converted to FloatDistribution(high=700.0, log=False, low=200.0, step=None). See https://github.com/optuna/optuna/issues/2941.\n",
      "  warnings.warn(message, FutureWarning)\n",
      "C:\\Users\\NikoSavola\\AppData\\Roaming\\Python\\Python39\\site-packages\\optuna\\distributions.py:766: FutureWarning: UniformDistribution(high=500.0, low=50.0) is deprecated and internally converted to FloatDistribution(high=500.0, log=False, low=50.0, step=None). See https://github.com/optuna/optuna/issues/2941.\n",
      "  warnings.warn(message, FutureWarning)\n",
      "C:\\Users\\NikoSavola\\AppData\\Roaming\\Python\\Python39\\site-packages\\optuna\\distributions.py:766: FutureWarning: UniformDistribution(high=300.0, low=50.0) is deprecated and internally converted to FloatDistribution(high=300.0, log=False, low=50.0, step=None). See https://github.com/optuna/optuna/issues/2941.\n",
      "  warnings.warn(message, FutureWarning)\n",
      "C:\\Users\\NikoSavola\\AppData\\Roaming\\Python\\Python39\\site-packages\\optuna\\distributions.py:766: FutureWarning: UniformDistribution(high=500.0, low=40.0) is deprecated and internally converted to FloatDistribution(high=500.0, log=False, low=40.0, step=None). See https://github.com/optuna/optuna/issues/2941.\n",
      "  warnings.warn(message, FutureWarning)\n",
      "C:\\Users\\NikoSavola\\AppData\\Roaming\\Python\\Python39\\site-packages\\optuna\\distributions.py:766: FutureWarning: UniformDistribution(high=40.0, low=20.0) is deprecated and internally converted to FloatDistribution(high=40.0, log=False, low=20.0, step=None). See https://github.com/optuna/optuna/issues/2941.\n",
      "  warnings.warn(message, FutureWarning)\n",
      "C:\\Users\\NikoSavola\\AppData\\Roaming\\Python\\Python39\\site-packages\\optuna\\distributions.py:766: FutureWarning: UniformDistribution(high=50.0, low=5.0) is deprecated and internally converted to FloatDistribution(high=50.0, log=False, low=5.0, step=None). See https://github.com/optuna/optuna/issues/2941.\n",
      "  warnings.warn(message, FutureWarning)\n",
      "C:\\Users\\NikoSavola\\AppData\\Roaming\\Python\\Python39\\site-packages\\optuna\\distributions.py:766: FutureWarning: UniformDistribution(high=1000.0, low=550.0) is deprecated and internally converted to FloatDistribution(high=1000.0, log=False, low=550.0, step=None). See https://github.com/optuna/optuna/issues/2941.\n",
      "  warnings.warn(message, FutureWarning)\n",
      "C:\\Users\\NikoSavola\\AppData\\Roaming\\Python\\Python39\\site-packages\\optuna\\distributions.py:766: FutureWarning: UniformDistribution(high=1000.0, low=400.0) is deprecated and internally converted to FloatDistribution(high=1000.0, log=False, low=400.0, step=None). See https://github.com/optuna/optuna/issues/2941.\n",
      "  warnings.warn(message, FutureWarning)\n",
      "C:\\Users\\NikoSavola\\AppData\\Roaming\\Python\\Python39\\site-packages\\optuna\\distributions.py:766: FutureWarning: UniformDistribution(high=0.0, low=-20.0) is deprecated and internally converted to FloatDistribution(high=0.0, log=False, low=-20.0, step=None). See https://github.com/optuna/optuna/issues/2941.\n",
      "  warnings.warn(message, FutureWarning)\n",
      "C:\\Users\\NikoSavola\\AppData\\Roaming\\Python\\Python39\\site-packages\\optuna\\distributions.py:766: FutureWarning: UniformDistribution(high=50.0, low=0.0) is deprecated and internally converted to FloatDistribution(high=50.0, log=False, low=0.0, step=None). See https://github.com/optuna/optuna/issues/2941.\n",
      "  warnings.warn(message, FutureWarning)\n",
      "\u001b[2m\u001b[36m(event_loop pid=17340)\u001b[0m Ground location of port 1 is not determined.\n",
      "\u001b[2m\u001b[36m(event_loop pid=17340)\u001b[0m Ground location of port 2 is not determined.\n"
     ]
    },
    {
     "name": "stdout",
     "output_type": "stream",
     "text": [
      "\u001b[2m\u001b[36m(event_loop pid=17340)\u001b[0m Submitting the main script of simulation 1/1\n",
      "\u001b[2m\u001b[36m(event_loop pid=17340)\u001b[0m --------------------------------------------\n",
      "\u001b[2m\u001b[36m(event_loop pid=17340)\u001b[0m Simulation 1/1 Gmsh\n"
     ]
    },
    {
     "name": "stderr",
     "output_type": "stream",
     "text": [
      "\u001b[2m\u001b[36m(event_loop pid=13016)\u001b[0m Ground location of port 1 is not determined.\n",
      "\u001b[2m\u001b[36m(event_loop pid=13016)\u001b[0m Ground location of port 2 is not determined.\n",
      "\u001b[2m\u001b[36m(event_loop pid=35760)\u001b[0m Ground location of port 1 is not determined.\n",
      "\u001b[2m\u001b[36m(event_loop pid=35760)\u001b[0m Ground location of port 2 is not determined.\n",
      "\u001b[2m\u001b[36m(event_loop pid=37848)\u001b[0m Ground location of port 1 is not determined.\n",
      "\u001b[2m\u001b[36m(event_loop pid=37848)\u001b[0m Ground location of port 2 is not determined.\n",
      "\u001b[2m\u001b[36m(event_loop pid=18252)\u001b[0m Ground location of port 1 is not determined.\n",
      "\u001b[2m\u001b[36m(event_loop pid=18252)\u001b[0m Ground location of port 2 is not determined.\n"
     ]
    },
    {
     "name": "stdout",
     "output_type": "stream",
     "text": [
      "\u001b[2m\u001b[36m(event_loop pid=13016)\u001b[0m Submitting the main script of simulation 1/1\n",
      "\u001b[2m\u001b[36m(event_loop pid=13016)\u001b[0m --------------------------------------------\n",
      "\u001b[2m\u001b[36m(event_loop pid=13016)\u001b[0m Simulation 1/1 Gmsh\n",
      "\u001b[2m\u001b[36m(event_loop pid=37848)\u001b[0m Submitting the main script of simulation 1/1\n",
      "\u001b[2m\u001b[36m(event_loop pid=37848)\u001b[0m --------------------------------------------\n",
      "\u001b[2m\u001b[36m(event_loop pid=35760)\u001b[0m Submitting the main script of simulation 1/1\n",
      "\u001b[2m\u001b[36m(event_loop pid=35760)\u001b[0m --------------------------------------------\n",
      "\u001b[2m\u001b[36m(event_loop pid=35760)\u001b[0m Simulation 1/1 Gmsh\n",
      "\u001b[2m\u001b[36m(event_loop pid=37848)\u001b[0m Simulation 1/1 Gmsh\n",
      "\u001b[2m\u001b[36m(event_loop pid=18252)\u001b[0m Submitting the main script of simulation 1/1\n",
      "\u001b[2m\u001b[36m(event_loop pid=18252)\u001b[0m --------------------------------------------\n",
      "\u001b[2m\u001b[36m(event_loop pid=18252)\u001b[0m Simulation 1/1 Gmsh\n",
      "\u001b[2m\u001b[36m(event_loop pid=17340)\u001b[0m Simulation 1/1 ElmerGrid\n",
      "\u001b[2m\u001b[36m(event_loop pid=37848)\u001b[0m Simulation 1/1 ElmerGrid\n",
      "\u001b[2m\u001b[36m(event_loop pid=35760)\u001b[0m Simulation 1/1 ElmerGrid\n",
      "\u001b[2m\u001b[36m(event_loop pid=13016)\u001b[0m Simulation 1/1 ElmerGrid\n",
      "\u001b[2m\u001b[36m(event_loop pid=18252)\u001b[0m Simulation 1/1 ElmerGrid\n",
      "\u001b[2m\u001b[36m(event_loop pid=17340)\u001b[0m Simulation 1/1 Elmer\n",
      "\u001b[2m\u001b[36m(event_loop pid=37848)\u001b[0m Simulation 1/1 Elmer\n",
      "\u001b[2m\u001b[36m(event_loop pid=17340)\u001b[0m Simulation 1/1 Paraview\n",
      "\u001b[2m\u001b[36m(event_loop pid=35760)\u001b[0m Simulation 1/1 Elmer\n",
      "\u001b[2m\u001b[36m(event_loop pid=13016)\u001b[0m Simulation 1/1 Elmer\n",
      "\u001b[2m\u001b[36m(event_loop pid=17340)\u001b[0m Simulation 1/1 write results json\n",
      "\u001b[2m\u001b[36m(event_loop pid=37848)\u001b[0m Simulation 1/1 Paraview\n",
      "\u001b[2m\u001b[36m(event_loop pid=18252)\u001b[0m Simulation 1/1 Elmer\n",
      "\u001b[2m\u001b[36m(event_loop pid=35760)\u001b[0m Simulation 1/1 Paraview\n",
      "\u001b[2m\u001b[36m(event_loop pid=37848)\u001b[0m Simulation 1/1 write results json\n"
     ]
    },
    {
     "data": {
      "text/html": [
       "<div class=\"trialProgress\">\n",
       "  <h3>Trial Progress</h3>\n",
       "  <table>\n",
       "<thead>\n",
       "<tr><th>Trial name         </th><th>date               </th><th>done  </th><th>episodes_total  </th><th>experiment_id                   </th><th>experiment_tag                                                                                                                                                                                                                                                                                  </th><th>hostname  </th><th style=\"text-align: right;\">  iterations_since_restore</th><th>node_ip  </th><th style=\"text-align: right;\">  pid</th><th style=\"text-align: right;\">     score</th><th style=\"text-align: right;\">  time_since_restore</th><th style=\"text-align: right;\">  time_this_iter_s</th><th style=\"text-align: right;\">  time_total_s</th><th style=\"text-align: right;\">  timestamp</th><th style=\"text-align: right;\">  timesteps_since_restore</th><th>timesteps_total  </th><th style=\"text-align: right;\">  training_iteration</th><th>trial_id  </th><th style=\"text-align: right;\">      value</th><th style=\"text-align: right;\">  warmup_time</th></tr>\n",
       "</thead>\n",
       "<tbody>\n",
       "<tr><td>event_loop_0aa13ff4</td><td>2022-12-13_11-54-19</td><td>True  </td><td>                </td><td>6853a091c4db46e6ae33560a2ec87302</td><td>6_coupler_extent_0=358.6224,coupler_extent_1=32.5417,coupler_offset=40.6910,ground_gap__0=720.7165,ground_gap__1=741.0446,island1_extent__0=695.0143,island1_extent__1=271.0862,island1_r=28.1869,island2_extent__0=641.7662,island2_extent__1=162.8487,island2_r=27.7055,squid_offset=-16.3257 </td><td>8CG2026VMQ</td><td style=\"text-align: right;\">                         1</td><td>127.0.0.1</td><td style=\"text-align: right;\">37912</td><td style=\"text-align: right;\">0.0885102 </td><td style=\"text-align: right;\">             25.9126</td><td style=\"text-align: right;\">           25.9126</td><td style=\"text-align: right;\">       25.9126</td><td style=\"text-align: right;\"> 1670925259</td><td style=\"text-align: right;\">                        0</td><td>                 </td><td style=\"text-align: right;\">                   1</td><td>0aa13ff4  </td><td style=\"text-align: right;\">6.52975e-14</td><td style=\"text-align: right;\">   0.00299191</td></tr>\n",
       "<tr><td>event_loop_0d2a0d1f</td><td>2022-12-13_11-54-19</td><td>True  </td><td>                </td><td>487b04958018459588cbb78351223140</td><td>7_coupler_extent_0=441.7551,coupler_extent_1=30.0863,coupler_offset=18.4582,ground_gap__0=615.7634,ground_gap__1=587.4428,island1_extent__0=492.9178,island1_extent__1=125.8006,island1_r=10.4456,island2_extent__0=479.9834,island2_extent__1=195.9705,island2_r=45.1547,squid_offset=-4.3476  </td><td>8CG2026VMQ</td><td style=\"text-align: right;\">                         1</td><td>127.0.0.1</td><td style=\"text-align: right;\">18252</td><td style=\"text-align: right;\">0.224767  </td><td style=\"text-align: right;\">             25.8931</td><td style=\"text-align: right;\">           25.8931</td><td style=\"text-align: right;\">       25.8931</td><td style=\"text-align: right;\"> 1670925259</td><td style=\"text-align: right;\">                        0</td><td>                 </td><td style=\"text-align: right;\">                   1</td><td>0d2a0d1f  </td><td style=\"text-align: right;\">6.54741e-14</td><td style=\"text-align: right;\">   0.00399971</td></tr>\n",
       "<tr><td>event_loop_0d2c7dad</td><td>2022-12-13_11-54-19</td><td>True  </td><td>                </td><td>21831118ce6a42eda12784e12b7bc04a</td><td>8_coupler_extent_0=145.8526,coupler_extent_1=37.0394,coupler_offset=15.1302,ground_gap__0=946.6860,ground_gap__1=671.2147,island1_extent__0=226.1042,island1_extent__1=424.3348,island1_r=32.7953,island2_extent__0=462.6660,island2_extent__1=276.2405,island2_r=35.2663,squid_offset=-12.0093 </td><td>8CG2026VMQ</td><td style=\"text-align: right;\">                         1</td><td>127.0.0.1</td><td style=\"text-align: right;\">35760</td><td style=\"text-align: right;\">0.181698  </td><td style=\"text-align: right;\">             25.8791</td><td style=\"text-align: right;\">           25.8791</td><td style=\"text-align: right;\">       25.8791</td><td style=\"text-align: right;\"> 1670925259</td><td style=\"text-align: right;\">                        0</td><td>                 </td><td style=\"text-align: right;\">                   1</td><td>0d2c7dad  </td><td style=\"text-align: right;\">6.54263e-14</td><td style=\"text-align: right;\">   0.00500011</td></tr>\n",
       "<tr><td>event_loop_0d2ea09b</td><td>2022-12-13_11-54-18</td><td>True  </td><td>                </td><td>353b237b45a34d36a10d76ef8331d1e5</td><td>9_coupler_extent_0=115.9664,coupler_extent_1=29.1174,coupler_offset=32.3180,ground_gap__0=984.6263,ground_gap__1=687.2947,island1_extent__0=280.2986,island1_extent__1=354.0754,island1_r=7.4164,island2_extent__0=261.1387,island2_extent__1=269.8982,island2_r=36.5519,squid_offset=-2.0893   </td><td>8CG2026VMQ</td><td style=\"text-align: right;\">                         1</td><td>127.0.0.1</td><td style=\"text-align: right;\">13016</td><td style=\"text-align: right;\">0.343401  </td><td style=\"text-align: right;\">             24.9433</td><td style=\"text-align: right;\">           24.9433</td><td style=\"text-align: right;\">       24.9433</td><td style=\"text-align: right;\"> 1670925258</td><td style=\"text-align: right;\">                        0</td><td>                 </td><td style=\"text-align: right;\">                   1</td><td>0d2ea09b  </td><td style=\"text-align: right;\">6.5586e-14 </td><td style=\"text-align: right;\">   0.00400186</td></tr>\n",
       "<tr><td>event_loop_0d316015</td><td>2022-12-13_11-54-19</td><td>True  </td><td>                </td><td>84fe8fd75562448494dddc85621034e0</td><td>10_coupler_extent_0=280.7393,coupler_extent_1=38.1046,coupler_offset=33.6943,ground_gap__0=640.3246,ground_gap__1=540.9704,island1_extent__0=691.8775,island1_extent__1=352.0674,island1_r=25.7950,island2_extent__0=332.1120,island2_extent__1=138.4330,island2_r=6.2270,squid_offset=-4.0159  </td><td>8CG2026VMQ</td><td style=\"text-align: right;\">                         1</td><td>127.0.0.1</td><td style=\"text-align: right;\">15204</td><td style=\"text-align: right;\">1.86436   </td><td style=\"text-align: right;\">             22.636 </td><td style=\"text-align: right;\">           22.636 </td><td style=\"text-align: right;\">       22.636 </td><td style=\"text-align: right;\"> 1670925259</td><td style=\"text-align: right;\">                        0</td><td>                 </td><td style=\"text-align: right;\">                   1</td><td>0d316015  </td><td style=\"text-align: right;\">6.63654e-14</td><td style=\"text-align: right;\">   0.00499916</td></tr>\n",
       "<tr><td>event_loop_1c129f74</td><td>2022-12-13_11-54-47</td><td>True  </td><td>                </td><td>a71ef0ccf36e41108991b4ed65432efd</td><td>11_coupler_extent_0=370.9187,coupler_extent_1=32.3995,coupler_offset=27.6320,ground_gap__0=654.7608,ground_gap__1=828.4914,island1_extent__0=295.6205,island1_extent__1=103.7467,island1_r=42.5831,island2_extent__0=268.5743,island2_extent__1=147.8282,island2_r=41.5938,squid_offset=-5.9945 </td><td>8CG2026VMQ</td><td style=\"text-align: right;\">                         1</td><td>127.0.0.1</td><td style=\"text-align: right;\"> 6468</td><td style=\"text-align: right;\">0.271069  </td><td style=\"text-align: right;\">             26.3749</td><td style=\"text-align: right;\">           26.3749</td><td style=\"text-align: right;\">       26.3749</td><td style=\"text-align: right;\"> 1670925287</td><td style=\"text-align: right;\">                        0</td><td>                 </td><td style=\"text-align: right;\">                   1</td><td>1c129f74  </td><td style=\"text-align: right;\">6.44794e-14</td><td style=\"text-align: right;\">   0.00304127</td></tr>\n",
       "<tr><td>event_loop_1e031a90</td><td>2022-12-13_11-54-47</td><td>True  </td><td>                </td><td>6853a091c4db46e6ae33560a2ec87302</td><td>12_coupler_extent_0=424.9323,coupler_extent_1=38.6469,coupler_offset=5.7273,ground_gap__0=768.1821,ground_gap__1=995.5603,island1_extent__0=629.4828,island1_extent__1=230.2413,island1_r=43.6828,island2_extent__0=501.7836,island2_extent__1=212.4433,island2_r=18.9317,squid_offset=-13.2793 </td><td>8CG2026VMQ</td><td style=\"text-align: right;\">                         1</td><td>127.0.0.1</td><td style=\"text-align: right;\">37912</td><td style=\"text-align: right;\">2.05495   </td><td style=\"text-align: right;\">             26.1852</td><td style=\"text-align: right;\">           26.1852</td><td style=\"text-align: right;\">       26.1852</td><td style=\"text-align: right;\"> 1670925287</td><td style=\"text-align: right;\">                        0</td><td>                 </td><td style=\"text-align: right;\">                   1</td><td>1e031a90  </td><td style=\"text-align: right;\">6.64335e-14</td><td style=\"text-align: right;\">   0.00299191</td></tr>\n",
       "<tr><td>event_loop_1e06280f</td><td>2022-12-13_11-54-47</td><td>True  </td><td>                </td><td>84fe8fd75562448494dddc85621034e0</td><td>13_coupler_extent_0=490.6900,coupler_extent_1=27.7797,coupler_offset=40.7789,ground_gap__0=630.6619,ground_gap__1=678.3274,island1_extent__0=360.4154,island1_extent__1=218.1107,island1_r=37.1568,island2_extent__0=450.4360,island2_extent__1=206.2948,island2_r=40.7113,squid_offset=-9.4410 </td><td>8CG2026VMQ</td><td style=\"text-align: right;\">                         1</td><td>127.0.0.1</td><td style=\"text-align: right;\">15204</td><td style=\"text-align: right;\">0.256613  </td><td style=\"text-align: right;\">             26.308 </td><td style=\"text-align: right;\">           26.308 </td><td style=\"text-align: right;\">       26.308 </td><td style=\"text-align: right;\"> 1670925287</td><td style=\"text-align: right;\">                        0</td><td>                 </td><td style=\"text-align: right;\">                   1</td><td>1e06280f  </td><td style=\"text-align: right;\">6.44934e-14</td><td style=\"text-align: right;\">   0.00499916</td></tr>\n",
       "<tr><td>event_loop_1e090aa2</td><td>2022-12-13_11-54-45</td><td>True  </td><td>                </td><td>21831118ce6a42eda12784e12b7bc04a</td><td>14_coupler_extent_0=63.5206,coupler_extent_1=24.9122,coupler_offset=35.4395,ground_gap__0=630.1114,ground_gap__1=922.3395,island1_extent__0=582.2350,island1_extent__1=360.9201,island1_r=8.5525,island2_extent__0=636.6557,island2_extent__1=80.0445,island2_r=48.7405,squid_offset=-2.3323    </td><td>8CG2026VMQ</td><td style=\"text-align: right;\">                         1</td><td>127.0.0.1</td><td style=\"text-align: right;\">35760</td><td style=\"text-align: right;\">0.00118996</td><td style=\"text-align: right;\">             23.9218</td><td style=\"text-align: right;\">           23.9218</td><td style=\"text-align: right;\">       23.9218</td><td style=\"text-align: right;\"> 1670925285</td><td style=\"text-align: right;\">                        0</td><td>                 </td><td style=\"text-align: right;\">                   1</td><td>1e090aa2  </td><td style=\"text-align: right;\">6.49655e-14</td><td style=\"text-align: right;\">   0.00500011</td></tr>\n",
       "<tr><td>event_loop_1e0ba422</td><td>2022-12-13_11-54-48</td><td>True  </td><td>                </td><td>ec92aef72525410594f2407ce1c2ff05</td><td>15_coupler_extent_0=398.0164,coupler_extent_1=31.0598,coupler_offset=40.3414,ground_gap__0=667.9113,ground_gap__1=738.2296,island1_extent__0=668.3675,island1_extent__1=254.6576,island1_r=29.1160,island2_extent__0=637.8835,island2_extent__1=182.2287,island2_r=35.0018,squid_offset=-14.3016</td><td>8CG2026VMQ</td><td style=\"text-align: right;\">                         1</td><td>127.0.0.1</td><td style=\"text-align: right;\">29484</td><td style=\"text-align: right;\">0.039355  </td><td style=\"text-align: right;\">             23.7586</td><td style=\"text-align: right;\">           23.7586</td><td style=\"text-align: right;\">       23.7586</td><td style=\"text-align: right;\"> 1670925288</td><td style=\"text-align: right;\">                        0</td><td>                 </td><td style=\"text-align: right;\">                   1</td><td>1e0ba422  </td><td style=\"text-align: right;\">6.51984e-14</td><td style=\"text-align: right;\">   0.0054419 </td></tr>\n",
       "<tr><td>event_loop_2c4ff6ea</td><td>2022-12-13_11-55-14</td><td>True  </td><td>                </td><td>1f83242f66a145c88e649c84fbbb0b48</td><td>16_coupler_extent_0=143.9939,coupler_extent_1=25.5745,coupler_offset=36.1279,ground_gap__0=629.7832,ground_gap__1=867.0079,island1_extent__0=582.2848,island1_extent__1=337.3927,island1_r=13.4080,island2_extent__0=630.8519,island2_extent__1=111.3365,island2_r=47.3026,squid_offset=-3.9807 </td><td>8CG2026VMQ</td><td style=\"text-align: right;\">                         1</td><td>127.0.0.1</td><td style=\"text-align: right;\">34132</td><td style=\"text-align: right;\">0.00323761</td><td style=\"text-align: right;\">             25.2697</td><td style=\"text-align: right;\">           25.2697</td><td style=\"text-align: right;\">       25.2697</td><td style=\"text-align: right;\"> 1670925314</td><td style=\"text-align: right;\">                        0</td><td>                 </td><td style=\"text-align: right;\">                   1</td><td>2c4ff6ea  </td><td style=\"text-align: right;\">6.50569e-14</td><td style=\"text-align: right;\">   0.00300288</td></tr>\n",
       "<tr><td>event_loop_2e8ff6de</td><td>2022-12-13_11-55-14</td><td>True  </td><td>                </td><td>84fe8fd75562448494dddc85621034e0</td><td>17_coupler_extent_0=138.3631,coupler_extent_1=25.5720,coupler_offset=35.9273,ground_gap__0=632.4722,ground_gap__1=868.2840,island1_extent__0=580.9858,island1_extent__1=337.2950,island1_r=12.9718,island2_extent__0=627.6212,island2_extent__1=109.3303,island2_r=47.2619,squid_offset=-3.8617 </td><td>8CG2026VMQ</td><td style=\"text-align: right;\">                         1</td><td>127.0.0.1</td><td style=\"text-align: right;\">15204</td><td style=\"text-align: right;\">0.0277227 </td><td style=\"text-align: right;\">             25.0273</td><td style=\"text-align: right;\">           25.0273</td><td style=\"text-align: right;\">       25.0273</td><td style=\"text-align: right;\"> 1670925314</td><td style=\"text-align: right;\">                        0</td><td>                 </td><td style=\"text-align: right;\">                   1</td><td>2e8ff6de  </td><td style=\"text-align: right;\">6.48335e-14</td><td style=\"text-align: right;\">   0.00499916</td></tr>\n",
       "<tr><td>event_loop_2ec44a87</td><td>2022-12-13_11-55-15</td><td>True  </td><td>                </td><td>a71ef0ccf36e41108991b4ed65432efd</td><td>18_coupler_extent_0=452.4191,coupler_extent_1=28.3824,coupler_offset=30.2077,ground_gap__0=627.0435,ground_gap__1=634.0471,island1_extent__0=459.8716,island1_extent__1=175.3327,island1_r=23.5324,island2_extent__0=491.3676,island2_extent__1=197.3881,island2_r=43.4848,squid_offset=-7.2872 </td><td>8CG2026VMQ</td><td style=\"text-align: right;\">                         1</td><td>127.0.0.1</td><td style=\"text-align: right;\"> 6468</td><td style=\"text-align: right;\">0.0171831 </td><td style=\"text-align: right;\">             25.7461</td><td style=\"text-align: right;\">           25.7461</td><td style=\"text-align: right;\">       25.7461</td><td style=\"text-align: right;\"> 1670925315</td><td style=\"text-align: right;\">                        0</td><td>                 </td><td style=\"text-align: right;\">                   1</td><td>2ec44a87  </td><td style=\"text-align: right;\">6.51311e-14</td><td style=\"text-align: right;\">   0.00304127</td></tr>\n",
       "<tr><td>event_loop_2ee95a74</td><td>2022-12-13_11-55-15</td><td>True  </td><td>                </td><td>ec92aef72525410594f2407ce1c2ff05</td><td>19_coupler_extent_0=427.9739,coupler_extent_1=29.0623,coupler_offset=29.0786,ground_gap__0=633.9404,ground_gap__1=683.8197,island1_extent__0=414.0877,island1_extent__1=148.5807,island1_r=28.9428,island2_extent__0=428.4626,island2_extent__1=182.5482,island2_r=43.8318,squid_offset=-6.6511 </td><td>8CG2026VMQ</td><td style=\"text-align: right;\">                         1</td><td>127.0.0.1</td><td style=\"text-align: right;\">29484</td><td style=\"text-align: right;\">0.016537  </td><td style=\"text-align: right;\">             25.3778</td><td style=\"text-align: right;\">           25.3778</td><td style=\"text-align: right;\">       25.3778</td><td style=\"text-align: right;\"> 1670925315</td><td style=\"text-align: right;\">                        0</td><td>                 </td><td style=\"text-align: right;\">                   1</td><td>2ee95a74  </td><td style=\"text-align: right;\">6.48714e-14</td><td style=\"text-align: right;\">   0.0054419 </td></tr>\n",
       "<tr><td>event_loop_2f2312f0</td><td>2022-12-13_11-55-15</td><td>True  </td><td>                </td><td>5444c17efcc34e9094b9e4d720c98cde</td><td>20_coupler_extent_0=425.2325,coupler_extent_1=29.1435,coupler_offset=31.9948,ground_gap__0=637.3964,ground_gap__1=678.4154,island1_extent__0=491.5738,island1_extent__1=182.1715,island1_r=26.1139,island2_extent__0=504.0542,island2_extent__1=187.3401,island2_r=42.3992,squid_offset=-8.4371 </td><td>8CG2026VMQ</td><td style=\"text-align: right;\">                         1</td><td>127.0.0.1</td><td style=\"text-align: right;\"> 1576</td><td style=\"text-align: right;\">0.020216  </td><td style=\"text-align: right;\">             22.3594</td><td style=\"text-align: right;\">           22.3594</td><td style=\"text-align: right;\">       22.3594</td><td style=\"text-align: right;\"> 1670925315</td><td style=\"text-align: right;\">                        0</td><td>                 </td><td style=\"text-align: right;\">                   1</td><td>2f2312f0  </td><td style=\"text-align: right;\">6.51422e-14</td><td style=\"text-align: right;\">   0.00399828</td></tr>\n",
       "<tr><td>event_loop_3d9daf46</td><td>2022-12-13_11-55-34</td><td>True  </td><td>                </td><td>84fe8fd75562448494dddc85621034e0</td><td>21_coupler_extent_0=396.6120,coupler_extent_1=28.8058,coupler_offset=33.5191,ground_gap__0=639.6380,ground_gap__1=700.7658,island1_extent__0=507.0370,island1_extent__1=205.1349,island1_r=25.4400,island2_extent__0=525.5235,island2_extent__1=180.4823,island2_r=42.3830,squid_offset=-8.4568 </td><td>8CG2026VMQ</td><td style=\"text-align: right;\">                         1</td><td>127.0.0.1</td><td style=\"text-align: right;\">15204</td><td style=\"text-align: right;\">0.0104833 </td><td style=\"text-align: right;\">             20.1008</td><td style=\"text-align: right;\">           20.1008</td><td style=\"text-align: right;\">       20.1008</td><td style=\"text-align: right;\"> 1670925334</td><td style=\"text-align: right;\">                        0</td><td>                 </td><td style=\"text-align: right;\">                   1</td><td>3d9daf46  </td><td style=\"text-align: right;\">6.51024e-14</td><td style=\"text-align: right;\">   0.00499916</td></tr>\n",
       "<tr><td>event_loop_3dd1e650</td><td>2022-12-13_11-55-42</td><td>True  </td><td>                </td><td>7ba7867d214c48549a0ec6685e9f45e0</td><td>22_coupler_extent_0=290.2097,coupler_extent_1=28.1279,coupler_offset=39.3548,ground_gap__0=642.7412,ground_gap__1=794.1388,island1_extent__0=593.8291,island1_extent__1=294.4366,island1_r=23.3707,island2_extent__0=626.8993,island2_extent__1=149.5891,island2_r=40.9264,squid_offset=-9.3570 </td><td>8CG2026VMQ</td><td style=\"text-align: right;\">                         1</td><td>127.0.0.1</td><td style=\"text-align: right;\">20600</td><td style=\"text-align: right;\">0.0066367 </td><td style=\"text-align: right;\">             24.5187</td><td style=\"text-align: right;\">           24.5187</td><td style=\"text-align: right;\">       24.5187</td><td style=\"text-align: right;\"> 1670925342</td><td style=\"text-align: right;\">                        0</td><td>                 </td><td style=\"text-align: right;\">                   1</td><td>3dd1e650  </td><td style=\"text-align: right;\">6.50815e-14</td><td style=\"text-align: right;\">   0.0029161 </td></tr>\n",
       "<tr><td>event_loop_3e470082</td><td>2022-12-13_11-55-42</td><td>True  </td><td>                </td><td>ec92aef72525410594f2407ce1c2ff05</td><td>23_coupler_extent_0=336.5358,coupler_extent_1=27.9509,coupler_offset=36.4788,ground_gap__0=633.1071,ground_gap__1=751.0683,island1_extent__0=540.9300,island1_extent__1=254.6415,island1_r=24.1307,island2_extent__0=578.0023,island2_extent__1=164.4727,island2_r=42.8416,squid_offset=-8.2053 </td><td>8CG2026VMQ</td><td style=\"text-align: right;\">                         1</td><td>127.0.0.1</td><td style=\"text-align: right;\">29484</td><td style=\"text-align: right;\">0.00121624</td><td style=\"text-align: right;\">             24.5087</td><td style=\"text-align: right;\">           24.5087</td><td style=\"text-align: right;\">       24.5087</td><td style=\"text-align: right;\"> 1670925342</td><td style=\"text-align: right;\">                        0</td><td>                 </td><td style=\"text-align: right;\">                   1</td><td>3e470082  </td><td style=\"text-align: right;\">6.49651e-14</td><td style=\"text-align: right;\">   0.0054419 </td></tr>\n",
       "<tr><td>event_loop_3fb13d11</td><td>2022-12-13_11-55-42</td><td>True  </td><td>                </td><td>5444c17efcc34e9094b9e4d720c98cde</td><td>24_coupler_extent_0=329.5676,coupler_extent_1=28.0747,coupler_offset=36.1275,ground_gap__0=633.2437,ground_gap__1=766.2550,island1_extent__0=529.0859,island1_extent__1=245.2557,island1_r=25.7802,island2_extent__0=563.0279,island2_extent__1=160.5030,island2_r=43.2825,squid_offset=-7.9641 </td><td>8CG2026VMQ</td><td style=\"text-align: right;\">                         1</td><td>127.0.0.1</td><td style=\"text-align: right;\"> 1576</td><td style=\"text-align: right;\">0.00175859</td><td style=\"text-align: right;\">             24.2843</td><td style=\"text-align: right;\">           24.2843</td><td style=\"text-align: right;\">       24.2843</td><td style=\"text-align: right;\"> 1670925342</td><td style=\"text-align: right;\">                        0</td><td>                 </td><td style=\"text-align: right;\">                   1</td><td>3fb13d11  </td><td style=\"text-align: right;\">6.50419e-14</td><td style=\"text-align: right;\">   0.00399828</td></tr>\n",
       "<tr><td>event_loop_3fe6bf5d</td><td>2022-12-13_11-55-43</td><td>True  </td><td>                </td><td>d16a0ed7914c478fa38d80c1be93a468</td><td>25_coupler_extent_0=298.7177,coupler_extent_1=27.5457,coupler_offset=38.9259,ground_gap__0=630.8893,ground_gap__1=788.4248,island1_extent__0=565.6127,island1_extent__1=288.9398,island1_r=23.9894,island2_extent__0=618.5943,island2_extent__1=151.6526,island2_r=42.3737,squid_offset=-8.5704 </td><td>8CG2026VMQ</td><td style=\"text-align: right;\">                         1</td><td>127.0.0.1</td><td style=\"text-align: right;\">24992</td><td style=\"text-align: right;\">0.00196625</td><td style=\"text-align: right;\">             20.7768</td><td style=\"text-align: right;\">           20.7768</td><td style=\"text-align: right;\">       20.7768</td><td style=\"text-align: right;\"> 1670925343</td><td style=\"text-align: right;\">                        0</td><td>                 </td><td style=\"text-align: right;\">                   1</td><td>3fe6bf5d  </td><td style=\"text-align: right;\">6.50443e-14</td><td style=\"text-align: right;\">   0.00500083</td></tr>\n",
       "<tr><td>event_loop_49d03ed2</td><td>2022-12-13_11-56-07</td><td>True  </td><td>                </td><td>7abd733f45154d3384f785ff7d327f49</td><td>26_coupler_extent_0=272.6956,coupler_extent_1=27.8901,coupler_offset=40.9729,ground_gap__0=635.2676,ground_gap__1=814.9529,island1_extent__0=606.6769,island1_extent__1=310.7590,island1_r=23.9423,island2_extent__0=655.1719,island2_extent__1=141.4419,island2_r=40.9184,squid_offset=-9.6677 </td><td>8CG2026VMQ</td><td style=\"text-align: right;\">                         1</td><td>127.0.0.1</td><td style=\"text-align: right;\">15784</td><td style=\"text-align: right;\">4.9393e-07</td><td style=\"text-align: right;\">             25.1179</td><td style=\"text-align: right;\">           25.1179</td><td style=\"text-align: right;\">       25.1179</td><td style=\"text-align: right;\"> 1670925367</td><td style=\"text-align: right;\">                        0</td><td>                 </td><td style=\"text-align: right;\">                   1</td><td>49d03ed2  </td><td style=\"text-align: right;\">6.49993e-14</td><td style=\"text-align: right;\">   0.00400209</td></tr>\n",
       "<tr><td>event_loop_4e557120</td><td>2022-12-13_11-56-08</td><td>True  </td><td>                </td><td>7ba7867d214c48549a0ec6685e9f45e0</td><td>27_coupler_extent_0=148.4039,coupler_extent_1=24.9836,coupler_offset=39.6414,ground_gap__0=560.5819,ground_gap__1=947.6241,island1_extent__0=583.0416,island1_extent__1=358.9726,island1_r=15.8544,island2_extent__0=699.9473,island2_extent__1=88.9131,island2_r=50.0000,squid_offset=-4.4422  </td><td>8CG2026VMQ</td><td style=\"text-align: right;\">                         1</td><td>127.0.0.1</td><td style=\"text-align: right;\">20600</td><td style=\"text-align: right;\">0.0760186 </td><td style=\"text-align: right;\">             25.3378</td><td style=\"text-align: right;\">           25.3378</td><td style=\"text-align: right;\">       25.3378</td><td style=\"text-align: right;\"> 1670925368</td><td style=\"text-align: right;\">                        0</td><td>                 </td><td style=\"text-align: right;\">                   1</td><td>4e557120  </td><td style=\"text-align: right;\">6.47243e-14</td><td style=\"text-align: right;\">   0.0029161 </td></tr>\n",
       "<tr><td>event_loop_4e90d069</td><td>2022-12-13_11-56-08</td><td>True  </td><td>                </td><td>5444c17efcc34e9094b9e4d720c98cde</td><td>28_coupler_extent_0=148.8712,coupler_extent_1=25.1119,coupler_offset=40.1758,ground_gap__0=563.4175,ground_gap__1=948.2284,island1_extent__0=590.4439,island1_extent__1=361.5140,island1_r=16.1515,island2_extent__0=700.0000,island2_extent__1=88.8862,island2_r=49.6829,squid_offset=-4.8394  </td><td>8CG2026VMQ</td><td style=\"text-align: right;\">                         1</td><td>127.0.0.1</td><td style=\"text-align: right;\"> 1576</td><td style=\"text-align: right;\">0.0446312 </td><td style=\"text-align: right;\">             24.9655</td><td style=\"text-align: right;\">           24.9655</td><td style=\"text-align: right;\">       24.9655</td><td style=\"text-align: right;\"> 1670925368</td><td style=\"text-align: right;\">                        0</td><td>                 </td><td style=\"text-align: right;\">                   1</td><td>4e90d069  </td><td style=\"text-align: right;\">6.47887e-14</td><td style=\"text-align: right;\">   0.00399828</td></tr>\n",
       "<tr><td>event_loop_4ecbb33a</td><td>2022-12-13_11-56-08</td><td>True  </td><td>                </td><td>d16a0ed7914c478fa38d80c1be93a468</td><td>29_coupler_extent_0=151.7335,coupler_extent_1=25.0932,coupler_offset=40.1079,ground_gap__0=560.9663,ground_gap__1=948.5259,island1_extent__0=590.1172,island1_extent__1=359.1268,island1_r=16.4154,island2_extent__0=700.0000,island2_extent__1=89.5670,island2_r=49.8642,squid_offset=-4.8107  </td><td>8CG2026VMQ</td><td style=\"text-align: right;\">                         1</td><td>127.0.0.1</td><td style=\"text-align: right;\">24992</td><td style=\"text-align: right;\">0.10676   </td><td style=\"text-align: right;\">             24.5529</td><td style=\"text-align: right;\">           24.5529</td><td style=\"text-align: right;\">       24.5529</td><td style=\"text-align: right;\"> 1670925368</td><td style=\"text-align: right;\">                        0</td><td>                 </td><td style=\"text-align: right;\">                   1</td><td>4ecbb33a  </td><td style=\"text-align: right;\">6.46733e-14</td><td style=\"text-align: right;\">   0.00500083</td></tr>\n",
       "<tr><td>event_loop_4f0aa7c0</td><td>2022-12-13_11-56-08</td><td>True  </td><td>                </td><td>00c55cafec0c4c3d8db52cf7d8710114</td><td>30_coupler_extent_0=144.5169,coupler_extent_1=25.0355,coupler_offset=39.9228,ground_gap__0=559.4279,ground_gap__1=950.7260,island1_extent__0=608.2900,island1_extent__1=363.2800,island1_r=15.6390,island2_extent__0=700.0000,island2_extent__1=92.2431,island2_r=50.0000,squid_offset=-4.5559  </td><td>8CG2026VMQ</td><td style=\"text-align: right;\">                         1</td><td>127.0.0.1</td><td style=\"text-align: right;\"> 1180</td><td style=\"text-align: right;\">0.0670318 </td><td style=\"text-align: right;\">             21.9   </td><td style=\"text-align: right;\">           21.9   </td><td style=\"text-align: right;\">       21.9   </td><td style=\"text-align: right;\"> 1670925368</td><td style=\"text-align: right;\">                        0</td><td>                 </td><td style=\"text-align: right;\">                   1</td><td>4f0aa7c0  </td><td style=\"text-align: right;\">6.47411e-14</td><td style=\"text-align: right;\">   0.00506663</td></tr>\n",
       "<tr><td>event_loop_5d3b2e15</td><td>2022-12-13_11-56-31</td><td>True  </td><td>                </td><td>7ba7867d214c48549a0ec6685e9f45e0</td><td>31_coupler_extent_0=145.2303,coupler_extent_1=24.9507,coupler_offset=39.9683,ground_gap__0=557.6697,ground_gap__1=948.0923,island1_extent__0=612.6870,island1_extent__1=364.3544,island1_r=15.6014,island2_extent__0=700.0000,island2_extent__1=93.9205,island2_r=50.0000,squid_offset=-4.4927  </td><td>8CG2026VMQ</td><td style=\"text-align: right;\">                         1</td><td>127.0.0.1</td><td style=\"text-align: right;\">20600</td><td style=\"text-align: right;\">0.103655  </td><td style=\"text-align: right;\">             22.795 </td><td style=\"text-align: right;\">           22.795 </td><td style=\"text-align: right;\">       22.795 </td><td style=\"text-align: right;\"> 1670925391</td><td style=\"text-align: right;\">                        0</td><td>                 </td><td style=\"text-align: right;\">                   1</td><td>5d3b2e15  </td><td style=\"text-align: right;\">6.4678e-14 </td><td style=\"text-align: right;\">   0.0029161 </td></tr>\n",
       "<tr><td>event_loop_5db12901</td><td>2022-12-13_11-56-33</td><td>True  </td><td>                </td><td>a510847f5eed4fce8c74e3d522e12fb3</td><td>32_coupler_extent_0=356.3741,coupler_extent_1=25.7645,coupler_offset=25.8159,ground_gap__0=637.8777,ground_gap__1=716.4470,island1_extent__0=545.8097,island1_extent__1=146.9862,island1_r=25.9540,island2_extent__0=550.6444,island2_extent__1=184.9757,island2_r=48.8112,squid_offset=-3.6231 </td><td>8CG2026VMQ</td><td style=\"text-align: right;\">                         1</td><td>127.0.0.1</td><td style=\"text-align: right;\"> 3304</td><td style=\"text-align: right;\">0.0968451 </td><td style=\"text-align: right;\">             22.6883</td><td style=\"text-align: right;\">           22.6883</td><td style=\"text-align: right;\">       22.6883</td><td style=\"text-align: right;\"> 1670925393</td><td style=\"text-align: right;\">                        0</td><td>                 </td><td style=\"text-align: right;\">                   1</td><td>5db12901  </td><td style=\"text-align: right;\">6.46888e-14</td><td style=\"text-align: right;\">   0.00399876</td></tr>\n",
       "<tr><td>event_loop_5df4bd72</td><td>2022-12-13_11-56-31</td><td>True  </td><td>                </td><td>d16a0ed7914c478fa38d80c1be93a468</td><td>33_coupler_extent_0=112.3083,coupler_extent_1=25.0501,coupler_offset=41.8571,ground_gap__0=633.8603,ground_gap__1=890.7382,island1_extent__0=687.9254,island1_extent__1=401.7698,island1_r=15.5927,island2_extent__0=687.4136,island2_extent__1=125.6593,island2_r=48.7774,squid_offset=-5.6016 </td><td>8CG2026VMQ</td><td style=\"text-align: right;\">                         1</td><td>127.0.0.1</td><td style=\"text-align: right;\">24992</td><td style=\"text-align: right;\">0.0668392 </td><td style=\"text-align: right;\">             22.6189</td><td style=\"text-align: right;\">           22.6189</td><td style=\"text-align: right;\">       22.6189</td><td style=\"text-align: right;\"> 1670925391</td><td style=\"text-align: right;\">                        0</td><td>                 </td><td style=\"text-align: right;\">                   1</td><td>5df4bd72  </td><td style=\"text-align: right;\">6.47415e-14</td><td style=\"text-align: right;\">   0.00500083</td></tr>\n",
       "<tr><td>event_loop_5e36645c</td><td>2022-12-13_11-56-37</td><td>True  </td><td>                </td><td>d25a28fba32c4d309aabdea23d4d3a0b</td><td>34_coupler_extent_0=107.6829,coupler_extent_1=25.2294,coupler_offset=42.2538,ground_gap__0=619.9806,ground_gap__1=904.3759,island1_extent__0=561.1408,island1_extent__1=431.5161,island1_r=10.6059,island2_extent__0=700.0000,island2_extent__1=89.5253,island2_r=44.3783,squid_offset=-5.2319  </td><td>8CG2026VMQ</td><td style=\"text-align: right;\">                         1</td><td>127.0.0.1</td><td style=\"text-align: right;\">38540</td><td style=\"text-align: right;\">0.00393936</td><td style=\"text-align: right;\">             23.9231</td><td style=\"text-align: right;\">           23.9231</td><td style=\"text-align: right;\">       23.9231</td><td style=\"text-align: right;\"> 1670925397</td><td style=\"text-align: right;\">                        0</td><td>                 </td><td style=\"text-align: right;\">                   1</td><td>5e36645c  </td><td style=\"text-align: right;\">6.49372e-14</td><td style=\"text-align: right;\">   0.00500011</td></tr>\n",
       "<tr><td>event_loop_5f747fcf</td><td>2022-12-13_11-56-38</td><td>True  </td><td>                </td><td>6853a1eb810b42038be16fbc4429d5da</td><td>35_coupler_extent_0=299.5626,coupler_extent_1=29.8005,coupler_offset=47.2126,ground_gap__0=712.5745,ground_gap__1=739.6611,island1_extent__0=572.5946,island1_extent__1=314.0689,island1_r=32.4559,island2_extent__0=649.4125,island2_extent__1=163.9365,island2_r=34.3417,squid_offset=-14.3935</td><td>8CG2026VMQ</td><td style=\"text-align: right;\">                         1</td><td>127.0.0.1</td><td style=\"text-align: right;\">38316</td><td style=\"text-align: right;\">0.0108774 </td><td style=\"text-align: right;\">             22.7234</td><td style=\"text-align: right;\">           22.7234</td><td style=\"text-align: right;\">       22.7234</td><td style=\"text-align: right;\"> 1670925398</td><td style=\"text-align: right;\">                        0</td><td>                 </td><td style=\"text-align: right;\">                   1</td><td>5f747fcf  </td><td style=\"text-align: right;\">6.48957e-14</td><td style=\"text-align: right;\">   0.00499892</td></tr>\n",
       "<tr><td>event_loop_6b4a34b0</td><td>2022-12-13_11-56-52</td><td>True  </td><td>                </td><td>d16a0ed7914c478fa38d80c1be93a468</td><td>36_coupler_extent_0=310.1658,coupler_extent_1=29.9744,coupler_offset=47.0019,ground_gap__0=706.6260,ground_gap__1=742.1818,island1_extent__0=556.5941,island1_extent__1=306.3253,island1_r=32.2229,island2_extent__0=662.1366,island2_extent__1=157.2455,island2_r=34.7793,squid_offset=-14.6386</td><td>8CG2026VMQ</td><td style=\"text-align: right;\">                         1</td><td>127.0.0.1</td><td style=\"text-align: right;\">24992</td><td style=\"text-align: right;\">0.0400394 </td><td style=\"text-align: right;\">             21.2147</td><td style=\"text-align: right;\">           21.2147</td><td style=\"text-align: right;\">       21.2147</td><td style=\"text-align: right;\"> 1670925412</td><td style=\"text-align: right;\">                        0</td><td>                 </td><td style=\"text-align: right;\">                   1</td><td>6b4a34b0  </td><td style=\"text-align: right;\">6.47999e-14</td><td style=\"text-align: right;\">   0.00500083</td></tr>\n",
       "<tr><td>event_loop_6bb6ae29</td><td>2022-12-13_11-57-02</td><td>True  </td><td>                </td><td>f3a9ea0bbd2a420f9ac5116f1a53cd8c</td><td>37_coupler_extent_0=306.3907,coupler_extent_1=30.2209,coupler_offset=47.0173,ground_gap__0=707.3672,ground_gap__1=745.9808,island1_extent__0=553.5607,island1_extent__1=312.4825,island1_r=32.2003,island2_extent__0=660.8551,island2_extent__1=158.8171,island2_r=34.5331,squid_offset=-14.5823</td><td>8CG2026VMQ</td><td style=\"text-align: right;\">                         1</td><td>127.0.0.1</td><td style=\"text-align: right;\">38564</td><td style=\"text-align: right;\">0.0344452 </td><td style=\"text-align: right;\">             24.3395</td><td style=\"text-align: right;\">           24.3395</td><td style=\"text-align: right;\">       24.3395</td><td style=\"text-align: right;\"> 1670925422</td><td style=\"text-align: right;\">                        0</td><td>                 </td><td style=\"text-align: right;\">                   1</td><td>6bb6ae29  </td><td style=\"text-align: right;\">6.48144e-14</td><td style=\"text-align: right;\">   0.00300121</td></tr>\n",
       "<tr><td>event_loop_6fca5dbb</td><td>2022-12-13_11-57-03</td><td>True  </td><td>                </td><td>6853a1eb810b42038be16fbc4429d5da</td><td>38_coupler_extent_0=305.0755,coupler_extent_1=30.0450,coupler_offset=47.2480,ground_gap__0=712.6701,ground_gap__1=745.6636,island1_extent__0=568.5950,island1_extent__1=310.4068,island1_r=32.6289,island2_extent__0=667.7331,island2_extent__1=160.5130,island2_r=34.3558,squid_offset=-14.6153</td><td>8CG2026VMQ</td><td style=\"text-align: right;\">                         1</td><td>127.0.0.1</td><td style=\"text-align: right;\">38316</td><td style=\"text-align: right;\">0.0277577 </td><td style=\"text-align: right;\">             23.916 </td><td style=\"text-align: right;\">           23.916 </td><td style=\"text-align: right;\">       23.916 </td><td style=\"text-align: right;\"> 1670925423</td><td style=\"text-align: right;\">                        0</td><td>                 </td><td style=\"text-align: right;\">                   1</td><td>6fca5dbb  </td><td style=\"text-align: right;\">6.48334e-14</td><td style=\"text-align: right;\">   0.00499892</td></tr>\n",
       "<tr><td>event_loop_7017ddc7</td><td>2022-12-13_11-57-02</td><td>True  </td><td>                </td><td>d25a28fba32c4d309aabdea23d4d3a0b</td><td>39_coupler_extent_0=101.5971,coupler_extent_1=26.5683,coupler_offset=40.6379,ground_gap__0=612.2135,ground_gap__1=958.4294,island1_extent__0=564.0350,island1_extent__1=415.5751,island1_r=9.5445,island2_extent__0=700.0000,island2_extent__1=81.1042,island2_r=45.2681,squid_offset=-5.2428   </td><td>8CG2026VMQ</td><td style=\"text-align: right;\">                         1</td><td>127.0.0.1</td><td style=\"text-align: right;\">38540</td><td style=\"text-align: right;\">0.0123321 </td><td style=\"text-align: right;\">             22.5558</td><td style=\"text-align: right;\">           22.5558</td><td style=\"text-align: right;\">       22.5558</td><td style=\"text-align: right;\"> 1670925422</td><td style=\"text-align: right;\">                        0</td><td>                 </td><td style=\"text-align: right;\">                   1</td><td>7017ddc7  </td><td style=\"text-align: right;\">6.51111e-14</td><td style=\"text-align: right;\">   0.00500011</td></tr>\n",
       "<tr><td>event_loop_70757183</td><td>2022-12-13_11-57-03</td><td>True  </td><td>                </td><td>33510ded4dc249e797b2e9c1e290502c</td><td>40_coupler_extent_0=300.3996,coupler_extent_1=28.4082,coupler_offset=31.4048,ground_gap__0=710.6033,ground_gap__1=639.4674,island1_extent__0=386.6990,island1_extent__1=219.1143,island1_r=29.3319,island2_extent__0=585.2373,island2_extent__1=199.8181,island2_r=46.4454,squid_offset=-6.6694 </td><td>8CG2026VMQ</td><td style=\"text-align: right;\">                         1</td><td>127.0.0.1</td><td style=\"text-align: right;\">34608</td><td style=\"text-align: right;\">0.142822  </td><td style=\"text-align: right;\">             20.8444</td><td style=\"text-align: right;\">           20.8444</td><td style=\"text-align: right;\">       20.8444</td><td style=\"text-align: right;\"> 1670925423</td><td style=\"text-align: right;\">                        0</td><td>                 </td><td style=\"text-align: right;\">                   1</td><td>70757183  </td><td style=\"text-align: right;\">6.46221e-14</td><td style=\"text-align: right;\">   0.00400019</td></tr>\n",
       "<tr><td>event_loop_7860342c</td><td>2022-12-13_11-57-25</td><td>True  </td><td>                </td><td>27d3806110254cf3a1633202d37a7daa</td><td>41_coupler_extent_0=290.5200,coupler_extent_1=27.7424,coupler_offset=32.5102,ground_gap__0=739.9880,ground_gap__1=653.5745,island1_extent__0=426.6278,island1_extent__1=229.2683,island1_r=29.4596,island2_extent__0=542.6154,island2_extent__1=221.5628,island2_r=44.0868,squid_offset=-6.3866 </td><td>8CG2026VMQ</td><td style=\"text-align: right;\">                         1</td><td>127.0.0.1</td><td style=\"text-align: right;\">24060</td><td style=\"text-align: right;\">0.0704582 </td><td style=\"text-align: right;\">             27.8552</td><td style=\"text-align: right;\">           27.8552</td><td style=\"text-align: right;\">       27.8552</td><td style=\"text-align: right;\"> 1670925445</td><td style=\"text-align: right;\">                        0</td><td>                 </td><td style=\"text-align: right;\">                   1</td><td>7860342c  </td><td style=\"text-align: right;\">6.47346e-14</td><td style=\"text-align: right;\">   0.0029912 </td></tr>\n",
       "<tr><td>event_loop_7dec9c9e</td><td>2022-12-13_11-57-29</td><td>True  </td><td>                </td><td>f3a9ea0bbd2a420f9ac5116f1a53cd8c</td><td>42_coupler_extent_0=291.1194,coupler_extent_1=27.2936,coupler_offset=32.3553,ground_gap__0=748.0982,ground_gap__1=644.9870,island1_extent__0=427.9440,island1_extent__1=223.9367,island1_r=29.5040,island2_extent__0=534.6037,island2_extent__1=217.7965,island2_r=43.4254,squid_offset=-6.3232 </td><td>8CG2026VMQ</td><td style=\"text-align: right;\">                         1</td><td>127.0.0.1</td><td style=\"text-align: right;\">38564</td><td style=\"text-align: right;\">0.0912207 </td><td style=\"text-align: right;\">             26.4986</td><td style=\"text-align: right;\">           26.4986</td><td style=\"text-align: right;\">       26.4986</td><td style=\"text-align: right;\"> 1670925449</td><td style=\"text-align: right;\">                        0</td><td>                 </td><td style=\"text-align: right;\">                   1</td><td>7dec9c9e  </td><td style=\"text-align: right;\">6.4698e-14 </td><td style=\"text-align: right;\">   0.00300121</td></tr>\n",
       "<tr><td>event_loop_7e4b532b</td><td>2022-12-13_11-57-31</td><td>True  </td><td>                </td><td>71e118f201d441bc90abf82f32a8cd2a</td><td>43_coupler_extent_0=288.8344,coupler_extent_1=27.5489,coupler_offset=32.0255,ground_gap__0=745.3533,ground_gap__1=644.0288,island1_extent__0=420.4924,island1_extent__1=234.8517,island1_r=29.6888,island2_extent__0=540.4111,island2_extent__1=219.5318,island2_r=43.5764,squid_offset=-6.4632 </td><td>8CG2026VMQ</td><td style=\"text-align: right;\">                         1</td><td>127.0.0.1</td><td style=\"text-align: right;\">40952</td><td style=\"text-align: right;\">0.0208823 </td><td style=\"text-align: right;\">             25.7917</td><td style=\"text-align: right;\">           25.7917</td><td style=\"text-align: right;\">       25.7917</td><td style=\"text-align: right;\"> 1670925451</td><td style=\"text-align: right;\">                        0</td><td>                 </td><td style=\"text-align: right;\">                   1</td><td>7e4b532b  </td><td style=\"text-align: right;\">6.48555e-14</td><td style=\"text-align: right;\">   0.00400257</td></tr>\n",
       "<tr><td>event_loop_7e939f1f</td><td>2022-12-13_11-57-31</td><td>True  </td><td>                </td><td>33510ded4dc249e797b2e9c1e290502c</td><td>44_coupler_extent_0=288.0794,coupler_extent_1=27.6082,coupler_offset=32.1497,ground_gap__0=746.9355,ground_gap__1=643.2707,island1_extent__0=421.3733,island1_extent__1=235.5822,island1_r=29.4498,island2_extent__0=545.4055,island2_extent__1=221.0665,island2_r=43.4079,squid_offset=-6.4103 </td><td>8CG2026VMQ</td><td style=\"text-align: right;\">                         1</td><td>127.0.0.1</td><td style=\"text-align: right;\">34608</td><td style=\"text-align: right;\">0.0728628 </td><td style=\"text-align: right;\">             27.9229</td><td style=\"text-align: right;\">           27.9229</td><td style=\"text-align: right;\">       27.9229</td><td style=\"text-align: right;\"> 1670925451</td><td style=\"text-align: right;\">                        0</td><td>                 </td><td style=\"text-align: right;\">                   1</td><td>7e939f1f  </td><td style=\"text-align: right;\">6.47301e-14</td><td style=\"text-align: right;\">   0.00400019</td></tr>\n",
       "<tr><td>event_loop_7edf9d29</td><td>2022-12-13_11-57-32</td><td>True  </td><td>                </td><td>b6481aa09ebe40cbbdad1550b3fb6a07</td><td>45_coupler_extent_0=314.3329,coupler_extent_1=29.9158,coupler_offset=47.2873,ground_gap__0=670.4753,ground_gap__1=826.3298,island1_extent__0=700.0000,island1_extent__1=331.7442,island1_r=27.5740,island2_extent__0=627.1379,island2_extent__1=176.2544,island2_r=30.5699,squid_offset=-15.8778</td><td>8CG2026VMQ</td><td style=\"text-align: right;\">                         1</td><td>127.0.0.1</td><td style=\"text-align: right;\">32316</td><td style=\"text-align: right;\">0.0237394 </td><td style=\"text-align: right;\">             25.1273</td><td style=\"text-align: right;\">           25.1273</td><td style=\"text-align: right;\">       25.1273</td><td style=\"text-align: right;\"> 1670925452</td><td style=\"text-align: right;\">                        0</td><td>                 </td><td style=\"text-align: right;\">                   1</td><td>7edf9d29  </td><td style=\"text-align: right;\">6.51541e-14</td><td style=\"text-align: right;\">   0.00500035</td></tr>\n",
       "<tr><td>event_loop_8be058a8</td><td>2022-12-13_11-57-55</td><td>True  </td><td>                </td><td>be5f9829dd5f4ddca8feb22975fe3ad3</td><td>46_coupler_extent_0=383.8922,coupler_extent_1=24.7484,coupler_offset=31.5077,ground_gap__0=735.8212,ground_gap__1=733.9988,island1_extent__0=479.8689,island1_extent__1=149.4226,island1_r=27.1354,island2_extent__0=432.0706,island2_extent__1=176.4977,island2_r=39.8412,squid_offset=-4.7535 </td><td>8CG2026VMQ</td><td style=\"text-align: right;\">                         1</td><td>127.0.0.1</td><td style=\"text-align: right;\">40712</td><td style=\"text-align: right;\">0.00275169</td><td style=\"text-align: right;\">             23.3978</td><td style=\"text-align: right;\">           23.3978</td><td style=\"text-align: right;\">       23.3978</td><td style=\"text-align: right;\"> 1670925475</td><td style=\"text-align: right;\">                        0</td><td>                 </td><td style=\"text-align: right;\">                   1</td><td>8be058a8  </td><td style=\"text-align: right;\">6.50525e-14</td><td style=\"text-align: right;\">   0.00399995</td></tr>\n",
       "<tr><td>event_loop_8f82a1ec</td><td>2022-12-13_11-57-59</td><td>True  </td><td>                </td><td>71e118f201d441bc90abf82f32a8cd2a</td><td>47_coupler_extent_0=258.3780,coupler_extent_1=28.1993,coupler_offset=42.5957,ground_gap__0=694.0185,ground_gap__1=847.8353,island1_extent__0=557.7989,island1_extent__1=284.0212,island1_r=27.1767,island2_extent__0=612.3104,island2_extent__1=230.7115,island2_r=36.2090,squid_offset=-9.9033 </td><td>8CG2026VMQ</td><td style=\"text-align: right;\">                         1</td><td>127.0.0.1</td><td style=\"text-align: right;\">40952</td><td style=\"text-align: right;\">0.00261996</td><td style=\"text-align: right;\">             27.2883</td><td style=\"text-align: right;\">           27.2883</td><td style=\"text-align: right;\">       27.2883</td><td style=\"text-align: right;\"> 1670925479</td><td style=\"text-align: right;\">                        0</td><td>                 </td><td style=\"text-align: right;\">                   1</td><td>8f82a1ec  </td><td style=\"text-align: right;\">6.50512e-14</td><td style=\"text-align: right;\">   0.00400257</td></tr>\n",
       "<tr><td>event_loop_8fcbc9aa</td><td>2022-12-13_11-58-00</td><td>True  </td><td>                </td><td>dc244f5e684c4d4591d7ef91661643cc</td><td>48_coupler_extent_0=291.9134,coupler_extent_1=28.1501,coupler_offset=28.4539,ground_gap__0=725.0229,ground_gap__1=650.2990,island1_extent__0=423.0867,island1_extent__1=364.1997,island1_r=30.6063,island2_extent__0=536.1745,island2_extent__1=225.2186,island2_r=40.1498,squid_offset=-8.4965 </td><td>8CG2026VMQ</td><td style=\"text-align: right;\">                         1</td><td>127.0.0.1</td><td style=\"text-align: right;\">40148</td><td style=\"text-align: right;\">0.00313866</td><td style=\"text-align: right;\">             23.9498</td><td style=\"text-align: right;\">           23.9498</td><td style=\"text-align: right;\">       23.9498</td><td style=\"text-align: right;\"> 1670925480</td><td style=\"text-align: right;\">                        0</td><td>                 </td><td style=\"text-align: right;\">                   1</td><td>8fcbc9aa  </td><td style=\"text-align: right;\">6.4944e-14 </td><td style=\"text-align: right;\">   0.0040009 </td></tr>\n",
       "<tr><td>event_loop_903a9111</td><td>2022-12-13_11-58-00</td><td>True  </td><td>                </td><td>b6481aa09ebe40cbbdad1550b3fb6a07</td><td>49_coupler_extent_0=319.7763,coupler_extent_1=27.5166,coupler_offset=26.9386,ground_gap__0=684.5784,ground_gap__1=663.5344,island1_extent__0=451.2518,island1_extent__1=332.2268,island1_r=30.4491,island2_extent__0=475.4404,island2_extent__1=210.2333,island2_r=43.1737,squid_offset=-8.9231 </td><td>8CG2026VMQ</td><td style=\"text-align: right;\">                         1</td><td>127.0.0.1</td><td style=\"text-align: right;\">32316</td><td style=\"text-align: right;\">0.0312801 </td><td style=\"text-align: right;\">             26.4772</td><td style=\"text-align: right;\">           26.4772</td><td style=\"text-align: right;\">       26.4772</td><td style=\"text-align: right;\"> 1670925480</td><td style=\"text-align: right;\">                        0</td><td>                 </td><td style=\"text-align: right;\">                   1</td><td>903a9111  </td><td style=\"text-align: right;\">6.48231e-14</td><td style=\"text-align: right;\">   0.00500035</td></tr>\n",
       "<tr><td>event_loop_90ab6376</td><td>2022-12-13_11-58-00</td><td>True  </td><td>                </td><td>2dcc1a2478b2484b9d9b0f6e6234ad30</td><td>50_coupler_extent_0=319.7451,coupler_extent_1=27.5709,coupler_offset=26.9744,ground_gap__0=684.5645,ground_gap__1=662.6872,island1_extent__0=452.9532,island1_extent__1=333.9840,island1_r=30.3379,island2_extent__0=476.9906,island2_extent__1=210.1800,island2_r=43.1016,squid_offset=-8.9506 </td><td>8CG2026VMQ</td><td style=\"text-align: right;\">                         1</td><td>127.0.0.1</td><td style=\"text-align: right;\">41148</td><td style=\"text-align: right;\">0.0144949 </td><td style=\"text-align: right;\">             22.9264</td><td style=\"text-align: right;\">           22.9264</td><td style=\"text-align: right;\">       22.9264</td><td style=\"text-align: right;\"> 1670925480</td><td style=\"text-align: right;\">                        0</td><td>                 </td><td style=\"text-align: right;\">                   1</td><td>90ab6376  </td><td style=\"text-align: right;\">6.48796e-14</td><td style=\"text-align: right;\">   0.00500751</td></tr>\n",
       "<tr><td>event_loop_fb65958e</td><td>2022-12-13_11-53-48</td><td>True  </td><td>                </td><td>775e3ca423ca42f0ab8545581ab87d24</td><td>1_coupler_extent_0=184.8194,coupler_extent_1=32.8921,coupler_offset=11.8770,ground_gap__0=902.5456,ground_gap__1=885.9573,island1_extent__0=657.3231,island1_extent__1=78.5317,island1_r=0.3867,island2_extent__0=505.2889,island2_extent__1=59.8349,island2_r=31.5409,squid_offset=-12.6863    </td><td>8CG2026VMQ</td><td style=\"text-align: right;\">                         1</td><td>127.0.0.1</td><td style=\"text-align: right;\">17340</td><td style=\"text-align: right;\">2.54957   </td><td style=\"text-align: right;\">             22.942 </td><td style=\"text-align: right;\">           22.942 </td><td style=\"text-align: right;\">       22.942 </td><td style=\"text-align: right;\"> 1670925228</td><td style=\"text-align: right;\">                        0</td><td>                 </td><td style=\"text-align: right;\">                   1</td><td>fb65958e  </td><td style=\"text-align: right;\">6.65967e-14</td><td style=\"text-align: right;\">   0.00299978</td></tr>\n",
       "<tr><td>event_loop_fcf13882</td><td>2022-12-13_11-53-52</td><td>True  </td><td>                </td><td>353b237b45a34d36a10d76ef8331d1e5</td><td>2_coupler_extent_0=262.1643,coupler_extent_1=21.9014,coupler_offset=10.0260,ground_gap__0=941.0735,ground_gap__1=872.9457,island1_extent__0=557.5178,island1_extent__1=55.5471,island1_r=33.6387,island2_extent__0=406.1068,island2_extent__1=172.8765,island2_r=38.1469,squid_offset=-3.4064   </td><td>8CG2026VMQ</td><td style=\"text-align: right;\">                         1</td><td>127.0.0.1</td><td style=\"text-align: right;\">13016</td><td style=\"text-align: right;\">0.285639  </td><td style=\"text-align: right;\">             23.7648</td><td style=\"text-align: right;\">           23.7648</td><td style=\"text-align: right;\">       23.7648</td><td style=\"text-align: right;\"> 1670925232</td><td style=\"text-align: right;\">                        0</td><td>                 </td><td style=\"text-align: right;\">                   1</td><td>fcf13882  </td><td style=\"text-align: right;\">6.55345e-14</td><td style=\"text-align: right;\">   0.00400186</td></tr>\n",
       "<tr><td>event_loop_fcf29808</td><td>2022-12-13_11-53-51</td><td>True  </td><td>                </td><td>21831118ce6a42eda12784e12b7bc04a</td><td>3_coupler_extent_0=390.5794,coupler_extent_1=39.4960,coupler_offset=9.3125,ground_gap__0=707.9194,ground_gap__1=744.3022,island1_extent__0=330.2714,island1_extent__1=145.7038,island1_r=0.0907,island2_extent__0=319.1150,island2_extent__1=216.7005,island2_r=34.5978,squid_offset=-1.9089    </td><td>8CG2026VMQ</td><td style=\"text-align: right;\">                         1</td><td>127.0.0.1</td><td style=\"text-align: right;\">35760</td><td style=\"text-align: right;\">2.32156   </td><td style=\"text-align: right;\">             23.0977</td><td style=\"text-align: right;\">           23.0977</td><td style=\"text-align: right;\">       23.0977</td><td style=\"text-align: right;\"> 1670925231</td><td style=\"text-align: right;\">                        0</td><td>                 </td><td style=\"text-align: right;\">                   1</td><td>fcf29808  </td><td style=\"text-align: right;\">6.65237e-14</td><td style=\"text-align: right;\">   0.00500011</td></tr>\n",
       "<tr><td>event_loop_fcf52fcb</td><td>2022-12-13_11-53-51</td><td>True  </td><td>                </td><td>edae9f7c61fe469c90ec81c1b08e3183</td><td>4_coupler_extent_0=252.2626,coupler_extent_1=35.0141,coupler_offset=19.5798,ground_gap__0=967.7280,ground_gap__1=601.3373,island1_extent__0=576.2306,island1_extent__1=194.2895,island1_r=8.9265,island2_extent__0=582.8463,island2_extent__1=123.5239,island2_r=11.8351,squid_offset=-18.3342  </td><td>8CG2026VMQ</td><td style=\"text-align: right;\">                         1</td><td>127.0.0.1</td><td style=\"text-align: right;\">37848</td><td style=\"text-align: right;\">3.08098   </td><td style=\"text-align: right;\">             22.9447</td><td style=\"text-align: right;\">           22.9447</td><td style=\"text-align: right;\">       22.9447</td><td style=\"text-align: right;\"> 1670925231</td><td style=\"text-align: right;\">                        0</td><td>                 </td><td style=\"text-align: right;\">                   1</td><td>fcf52fcb  </td><td style=\"text-align: right;\">6.67553e-14</td><td style=\"text-align: right;\">   0.00399804</td></tr>\n",
       "<tr><td>event_loop_fcf8b248</td><td>2022-12-13_11-53-52</td><td>True  </td><td>                </td><td>487b04958018459588cbb78351223140</td><td>5_coupler_extent_0=95.9509,coupler_extent_1=28.1188,coupler_offset=23.9256,ground_gap__0=809.6826,ground_gap__1=971.0877,island1_extent__0=369.1474,island1_extent__1=360.9729,island1_r=48.5286,island2_extent__0=204.6776,island2_extent__1=197.7064,island2_r=49.8610,squid_offset=-5.3385   </td><td>8CG2026VMQ</td><td style=\"text-align: right;\">                         1</td><td>127.0.0.1</td><td style=\"text-align: right;\">18252</td><td style=\"text-align: right;\">1.14094   </td><td style=\"text-align: right;\">             23.7487</td><td style=\"text-align: right;\">           23.7487</td><td style=\"text-align: right;\">       23.7487</td><td style=\"text-align: right;\"> 1670925232</td><td style=\"text-align: right;\">                        0</td><td>                 </td><td style=\"text-align: right;\">                   1</td><td>fcf8b248  </td><td style=\"text-align: right;\">6.39319e-14</td><td style=\"text-align: right;\">   0.00399971</td></tr>\n",
       "</tbody>\n",
       "</table>\n",
       "</div>\n",
       "<style>\n",
       ".trialProgress {\n",
       "  display: flex;\n",
       "  flex-direction: column;\n",
       "  color: var(--jp-ui-font-color1);\n",
       "}\n",
       ".trialProgress h3 {\n",
       "  font-weight: bold;\n",
       "}\n",
       ".trialProgress td {\n",
       "  white-space: nowrap;\n",
       "}\n",
       "</style>\n"
      ],
      "text/plain": [
       "<IPython.core.display.HTML object>"
      ]
     },
     "metadata": {},
     "output_type": "display_data"
    },
    {
     "name": "stderr",
     "output_type": "stream",
     "text": [
      "2022-12-13 11:53:48,852\tWARNING optuna_search.py:549 -- 'params/ground_gap'\n"
     ]
    },
    {
     "name": "stdout",
     "output_type": "stream",
     "text": [
      "\u001b[2m\u001b[36m(event_loop pid=13016)\u001b[0m Simulation 1/1 Paraview\n",
      "\u001b[2m\u001b[36m(event_loop pid=35760)\u001b[0m Simulation 1/1 write results json\n",
      "\u001b[2m\u001b[36m(event_loop pid=18252)\u001b[0m Simulation 1/1 Paraview\n",
      "\u001b[2m\u001b[36m(event_loop pid=13016)\u001b[0m Simulation 1/1 write results json\n",
      "\u001b[2m\u001b[36m(event_loop pid=18252)\u001b[0m Simulation 1/1 write results json\n"
     ]
    },
    {
     "name": "stderr",
     "output_type": "stream",
     "text": [
      "2022-12-13 11:53:53,108\tWARNING optuna_search.py:549 -- 'params/ground_gap'\n",
      "2022-12-13 11:53:53,118\tWARNING optuna_search.py:549 -- 'params/ground_gap'\n",
      "2022-12-13 11:53:53,133\tWARNING optuna_search.py:549 -- 'params/ground_gap'\n",
      "2022-12-13 11:53:53,148\tWARNING optuna_search.py:549 -- 'params/ground_gap'\n",
      "\u001b[2m\u001b[36m(event_loop pid=13016)\u001b[0m Ground location of port 1 is not determined.\n",
      "\u001b[2m\u001b[36m(event_loop pid=13016)\u001b[0m Ground location of port 2 is not determined.\n",
      "\u001b[2m\u001b[36m(event_loop pid=35760)\u001b[0m Ground location of port 1 is not determined.\n",
      "\u001b[2m\u001b[36m(event_loop pid=35760)\u001b[0m Ground location of port 2 is not determined.\n",
      "\u001b[2m\u001b[36m(event_loop pid=18252)\u001b[0m Ground location of port 1 is not determined.\n",
      "\u001b[2m\u001b[36m(event_loop pid=18252)\u001b[0m Ground location of port 2 is not determined.\n",
      "\u001b[2m\u001b[36m(event_loop pid=37912)\u001b[0m Ground location of port 1 is not determined.\n",
      "\u001b[2m\u001b[36m(event_loop pid=37912)\u001b[0m Ground location of port 2 is not determined.\n"
     ]
    },
    {
     "name": "stdout",
     "output_type": "stream",
     "text": [
      "\u001b[2m\u001b[36m(event_loop pid=13016)\u001b[0m Submitting the main script of simulation 1/1\n",
      "\u001b[2m\u001b[36m(event_loop pid=13016)\u001b[0m --------------------------------------------\n",
      "\u001b[2m\u001b[36m(event_loop pid=13016)\u001b[0m Simulation 1/1 Gmsh\n",
      "\u001b[2m\u001b[36m(event_loop pid=35760)\u001b[0m Submitting the main script of simulation 1/1\n",
      "\u001b[2m\u001b[36m(event_loop pid=35760)\u001b[0m --------------------------------------------\n",
      "\u001b[2m\u001b[36m(event_loop pid=35760)\u001b[0m Simulation 1/1 Gmsh\n",
      "\u001b[2m\u001b[36m(event_loop pid=18252)\u001b[0m Submitting the main script of simulation 1/1\n",
      "\u001b[2m\u001b[36m(event_loop pid=18252)\u001b[0m --------------------------------------------\n",
      "\u001b[2m\u001b[36m(event_loop pid=18252)\u001b[0m Simulation 1/1 Gmsh\n",
      "\u001b[2m\u001b[36m(event_loop pid=37912)\u001b[0m Submitting the main script of simulation 1/1\n",
      "\u001b[2m\u001b[36m(event_loop pid=37912)\u001b[0m --------------------------------------------\n",
      "\u001b[2m\u001b[36m(event_loop pid=37912)\u001b[0m Simulation 1/1 Gmsh\n"
     ]
    },
    {
     "name": "stderr",
     "output_type": "stream",
     "text": [
      "\u001b[2m\u001b[36m(event_loop pid=15204)\u001b[0m Ground location of port 1 is not determined.\n",
      "\u001b[2m\u001b[36m(event_loop pid=15204)\u001b[0m Ground location of port 2 is not determined.\n"
     ]
    },
    {
     "name": "stdout",
     "output_type": "stream",
     "text": [
      "\u001b[2m\u001b[36m(event_loop pid=15204)\u001b[0m Submitting the main script of simulation 1/1\n",
      "\u001b[2m\u001b[36m(event_loop pid=15204)\u001b[0m --------------------------------------------\n",
      "\u001b[2m\u001b[36m(event_loop pid=15204)\u001b[0m Simulation 1/1 Gmsh\n",
      "\u001b[2m\u001b[36m(event_loop pid=13016)\u001b[0m Simulation 1/1 ElmerGrid\n",
      "\u001b[2m\u001b[36m(event_loop pid=18252)\u001b[0m Simulation 1/1 ElmerGrid\n",
      "\u001b[2m\u001b[36m(event_loop pid=35760)\u001b[0m Simulation 1/1 ElmerGrid\n",
      "\u001b[2m\u001b[36m(event_loop pid=37912)\u001b[0m Simulation 1/1 ElmerGrid\n",
      "\u001b[2m\u001b[36m(event_loop pid=15204)\u001b[0m Simulation 1/1 ElmerGrid\n",
      "\u001b[2m\u001b[36m(event_loop pid=13016)\u001b[0m Simulation 1/1 Elmer\n",
      "\u001b[2m\u001b[36m(event_loop pid=18252)\u001b[0m Simulation 1/1 Elmer\n",
      "\u001b[2m\u001b[36m(event_loop pid=35760)\u001b[0m Simulation 1/1 Elmer\n",
      "\u001b[2m\u001b[36m(event_loop pid=37912)\u001b[0m Simulation 1/1 Elmer\n",
      "\u001b[2m\u001b[36m(event_loop pid=13016)\u001b[0m Simulation 1/1 Paraview\n",
      "\u001b[2m\u001b[36m(event_loop pid=15204)\u001b[0m Simulation 1/1 Elmer\n",
      "\u001b[2m\u001b[36m(event_loop pid=35760)\u001b[0m Simulation 1/1 Paraview\n",
      "\u001b[2m\u001b[36m(event_loop pid=13016)\u001b[0m Simulation 1/1 write results json\n",
      "\u001b[2m\u001b[36m(event_loop pid=18252)\u001b[0m Simulation 1/1 Paraview\n",
      "\u001b[2m\u001b[36m(event_loop pid=37912)\u001b[0m Simulation 1/1 Paraview\n",
      "\u001b[2m\u001b[36m(event_loop pid=15204)\u001b[0m Simulation 1/1 Paraview\n",
      "\u001b[2m\u001b[36m(event_loop pid=37912)\u001b[0m Simulation 1/1 write results json\n"
     ]
    },
    {
     "name": "stderr",
     "output_type": "stream",
     "text": [
      "2022-12-13 11:54:18,114\tWARNING optuna_search.py:549 -- 'params/ground_gap'\n"
     ]
    },
    {
     "name": "stdout",
     "output_type": "stream",
     "text": [
      "\u001b[2m\u001b[36m(event_loop pid=35760)\u001b[0m Simulation 1/1 write results json\n",
      "\u001b[2m\u001b[36m(event_loop pid=18252)\u001b[0m Simulation 1/1 write results json\n",
      "\u001b[2m\u001b[36m(event_loop pid=15204)\u001b[0m Simulation 1/1 write results json\n"
     ]
    },
    {
     "name": "stderr",
     "output_type": "stream",
     "text": [
      "2022-12-13 11:54:21,372\tWARNING optuna_search.py:549 -- 'params/ground_gap'\n",
      "2022-12-13 11:54:21,387\tWARNING optuna_search.py:549 -- 'params/ground_gap'\n",
      "2022-12-13 11:54:21,403\tWARNING optuna_search.py:549 -- 'params/ground_gap'\n",
      "2022-12-13 11:54:21,422\tWARNING optuna_search.py:549 -- 'params/ground_gap'\n",
      "C:\\Users\\NikoSavola\\AppData\\Roaming\\Python\\Python39\\site-packages\\optuna\\integration\\botorch.py:498: UserWarning: `constraints_func` was given but no call to it correctly computed constraints. Constraints passed to `candidates_func` will be `None`.\n",
      "  warnings.warn(\n",
      "C:\\Users\\NikoSavola\\AppData\\Roaming\\Python\\Python39\\site-packages\\optuna\\integration\\botorch.py:526: ExperimentalWarning: qei_candidates_func is experimental (supported from v2.4.0). The interface can change in the future.\n",
      "  candidates = self._candidates_func(params, values, con, bounds)\n",
      "\u001b[2m\u001b[36m(event_loop pid=35760)\u001b[0m Ground location of port 1 is not determined.\n",
      "\u001b[2m\u001b[36m(event_loop pid=35760)\u001b[0m Ground location of port 2 is not determined.\n",
      "\u001b[2m\u001b[36m(event_loop pid=37912)\u001b[0m Ground location of port 1 is not determined.\n",
      "\u001b[2m\u001b[36m(event_loop pid=37912)\u001b[0m Ground location of port 2 is not determined.\n",
      "\u001b[2m\u001b[36m(event_loop pid=15204)\u001b[0m Ground location of port 1 is not determined.\n",
      "\u001b[2m\u001b[36m(event_loop pid=15204)\u001b[0m Ground location of port 2 is not determined.\n",
      "\u001b[2m\u001b[36m(event_loop pid=6468)\u001b[0m Ground location of port 1 is not determined.\n",
      "\u001b[2m\u001b[36m(event_loop pid=6468)\u001b[0m Ground location of port 2 is not determined.\n"
     ]
    },
    {
     "name": "stdout",
     "output_type": "stream",
     "text": [
      "\u001b[2m\u001b[36m(event_loop pid=35760)\u001b[0m Submitting the main script of simulation 1/1\n",
      "\u001b[2m\u001b[36m(event_loop pid=35760)\u001b[0m --------------------------------------------\n",
      "\u001b[2m\u001b[36m(event_loop pid=35760)\u001b[0m Simulation 1/1 Gmsh\n",
      "\u001b[2m\u001b[36m(event_loop pid=37912)\u001b[0m Submitting the main script of simulation 1/1\n",
      "\u001b[2m\u001b[36m(event_loop pid=37912)\u001b[0m --------------------------------------------\n",
      "\u001b[2m\u001b[36m(event_loop pid=37912)\u001b[0m Simulation 1/1 Gmsh\n",
      "\u001b[2m\u001b[36m(event_loop pid=15204)\u001b[0m Submitting the main script of simulation 1/1\n",
      "\u001b[2m\u001b[36m(event_loop pid=15204)\u001b[0m --------------------------------------------\n",
      "\u001b[2m\u001b[36m(event_loop pid=15204)\u001b[0m Simulation 1/1 Gmsh\n",
      "\u001b[2m\u001b[36m(event_loop pid=6468)\u001b[0m Submitting the main script of simulation 1/1\n",
      "\u001b[2m\u001b[36m(event_loop pid=6468)\u001b[0m --------------------------------------------\n",
      "\u001b[2m\u001b[36m(event_loop pid=6468)\u001b[0m Simulation 1/1 Gmsh\n"
     ]
    },
    {
     "name": "stderr",
     "output_type": "stream",
     "text": [
      "\u001b[2m\u001b[36m(event_loop pid=29484)\u001b[0m Ground location of port 1 is not determined.\n",
      "\u001b[2m\u001b[36m(event_loop pid=29484)\u001b[0m Ground location of port 2 is not determined.\n"
     ]
    },
    {
     "name": "stdout",
     "output_type": "stream",
     "text": [
      "\u001b[2m\u001b[36m(event_loop pid=29484)\u001b[0m Submitting the main script of simulation 1/1\n",
      "\u001b[2m\u001b[36m(event_loop pid=29484)\u001b[0m --------------------------------------------\n",
      "\u001b[2m\u001b[36m(event_loop pid=29484)\u001b[0m Simulation 1/1 Gmsh\n",
      "\u001b[2m\u001b[36m(event_loop pid=35760)\u001b[0m Simulation 1/1 ElmerGrid\n",
      "\u001b[2m\u001b[36m(event_loop pid=37912)\u001b[0m Simulation 1/1 ElmerGrid\n",
      "\u001b[2m\u001b[36m(event_loop pid=15204)\u001b[0m Simulation 1/1 ElmerGrid\n",
      "\u001b[2m\u001b[36m(event_loop pid=6468)\u001b[0m Simulation 1/1 ElmerGrid\n",
      "\u001b[2m\u001b[36m(event_loop pid=29484)\u001b[0m Simulation 1/1 ElmerGrid\n",
      "\u001b[2m\u001b[36m(event_loop pid=35760)\u001b[0m Simulation 1/1 Elmer\n",
      "\u001b[2m\u001b[36m(event_loop pid=37912)\u001b[0m Simulation 1/1 Elmer\n",
      "\u001b[2m\u001b[36m(event_loop pid=15204)\u001b[0m Simulation 1/1 Elmer\n",
      "\u001b[2m\u001b[36m(event_loop pid=6468)\u001b[0m Simulation 1/1 Elmer\n",
      "\u001b[2m\u001b[36m(event_loop pid=35760)\u001b[0m Simulation 1/1 Paraview\n",
      "\u001b[2m\u001b[36m(event_loop pid=35760)\u001b[0m Simulation 1/1 write results json\n",
      "\u001b[2m\u001b[36m(event_loop pid=29484)\u001b[0m Simulation 1/1 Elmer\n",
      "\u001b[2m\u001b[36m(event_loop pid=37912)\u001b[0m Simulation 1/1 Paraview\n",
      "\u001b[2m\u001b[36m(event_loop pid=15204)\u001b[0m Simulation 1/1 Paraview\n",
      "\u001b[2m\u001b[36m(event_loop pid=6468)\u001b[0m Simulation 1/1 Paraview\n"
     ]
    },
    {
     "name": "stderr",
     "output_type": "stream",
     "text": [
      "2022-12-13 11:54:45,365\tWARNING optuna_search.py:549 -- 'params/ground_gap'\n",
      "C:\\Users\\NikoSavola\\AppData\\Roaming\\Python\\Python39\\site-packages\\optuna\\distributions.py:766: FutureWarning: UniformDistribution(high=700.0, low=200.0) is deprecated and internally converted to FloatDistribution(high=700.0, log=False, low=200.0, step=None). See https://github.com/optuna/optuna/issues/2941.\n",
      "  warnings.warn(message, FutureWarning)\n",
      "C:\\Users\\NikoSavola\\AppData\\Roaming\\Python\\Python39\\site-packages\\optuna\\distributions.py:766: FutureWarning: UniformDistribution(high=500.0, low=50.0) is deprecated and internally converted to FloatDistribution(high=500.0, log=False, low=50.0, step=None). See https://github.com/optuna/optuna/issues/2941.\n",
      "  warnings.warn(message, FutureWarning)\n",
      "C:\\Users\\NikoSavola\\AppData\\Roaming\\Python\\Python39\\site-packages\\optuna\\distributions.py:766: FutureWarning: UniformDistribution(high=300.0, low=50.0) is deprecated and internally converted to FloatDistribution(high=300.0, log=False, low=50.0, step=None). See https://github.com/optuna/optuna/issues/2941.\n",
      "  warnings.warn(message, FutureWarning)\n",
      "C:\\Users\\NikoSavola\\AppData\\Roaming\\Python\\Python39\\site-packages\\optuna\\distributions.py:766: FutureWarning: UniformDistribution(high=500.0, low=40.0) is deprecated and internally converted to FloatDistribution(high=500.0, log=False, low=40.0, step=None). See https://github.com/optuna/optuna/issues/2941.\n",
      "  warnings.warn(message, FutureWarning)\n",
      "C:\\Users\\NikoSavola\\AppData\\Roaming\\Python\\Python39\\site-packages\\optuna\\distributions.py:766: FutureWarning: UniformDistribution(high=40.0, low=20.0) is deprecated and internally converted to FloatDistribution(high=40.0, log=False, low=20.0, step=None). See https://github.com/optuna/optuna/issues/2941.\n",
      "  warnings.warn(message, FutureWarning)\n",
      "C:\\Users\\NikoSavola\\AppData\\Roaming\\Python\\Python39\\site-packages\\optuna\\distributions.py:766: FutureWarning: UniformDistribution(high=50.0, low=5.0) is deprecated and internally converted to FloatDistribution(high=50.0, log=False, low=5.0, step=None). See https://github.com/optuna/optuna/issues/2941.\n",
      "  warnings.warn(message, FutureWarning)\n",
      "C:\\Users\\NikoSavola\\AppData\\Roaming\\Python\\Python39\\site-packages\\optuna\\distributions.py:766: FutureWarning: UniformDistribution(high=1000.0, low=550.0) is deprecated and internally converted to FloatDistribution(high=1000.0, log=False, low=550.0, step=None). See https://github.com/optuna/optuna/issues/2941.\n",
      "  warnings.warn(message, FutureWarning)\n",
      "C:\\Users\\NikoSavola\\AppData\\Roaming\\Python\\Python39\\site-packages\\optuna\\distributions.py:766: FutureWarning: UniformDistribution(high=1000.0, low=400.0) is deprecated and internally converted to FloatDistribution(high=1000.0, log=False, low=400.0, step=None). See https://github.com/optuna/optuna/issues/2941.\n",
      "  warnings.warn(message, FutureWarning)\n",
      "C:\\Users\\NikoSavola\\AppData\\Roaming\\Python\\Python39\\site-packages\\optuna\\distributions.py:766: FutureWarning: UniformDistribution(high=0.0, low=-20.0) is deprecated and internally converted to FloatDistribution(high=0.0, log=False, low=-20.0, step=None). See https://github.com/optuna/optuna/issues/2941.\n",
      "  warnings.warn(message, FutureWarning)\n",
      "C:\\Users\\NikoSavola\\AppData\\Roaming\\Python\\Python39\\site-packages\\optuna\\distributions.py:766: FutureWarning: UniformDistribution(high=50.0, low=0.0) is deprecated and internally converted to FloatDistribution(high=50.0, log=False, low=0.0, step=None). See https://github.com/optuna/optuna/issues/2941.\n",
      "  warnings.warn(message, FutureWarning)\n",
      "C:\\Users\\NikoSavola\\AppData\\Roaming\\Python\\Python39\\site-packages\\optuna\\integration\\botorch.py:498: UserWarning: `constraints_func` was given but no call to it correctly computed constraints. Constraints passed to `candidates_func` will be `None`.\n",
      "  warnings.warn(\n",
      "C:\\Users\\NikoSavola\\AppData\\Roaming\\Python\\Python39\\site-packages\\optuna\\integration\\botorch.py:526: ExperimentalWarning: qei_candidates_func is experimental (supported from v2.4.0). The interface can change in the future.\n",
      "  candidates = self._candidates_func(params, values, con, bounds)\n"
     ]
    },
    {
     "name": "stdout",
     "output_type": "stream",
     "text": [
      "\u001b[2m\u001b[36m(event_loop pid=37912)\u001b[0m Simulation 1/1 write results json\n",
      "\u001b[2m\u001b[36m(event_loop pid=15204)\u001b[0m Simulation 1/1 write results json\n",
      "\u001b[2m\u001b[36m(event_loop pid=6468)\u001b[0m Simulation 1/1 write results json\n",
      "\u001b[2m\u001b[36m(event_loop pid=29484)\u001b[0m Simulation 1/1 Paraview\n",
      "\u001b[2m\u001b[36m(event_loop pid=29484)\u001b[0m Simulation 1/1 write results json\n"
     ]
    },
    {
     "name": "stderr",
     "output_type": "stream",
     "text": [
      "2022-12-13 11:54:49,135\tWARNING optuna_search.py:549 -- 'params/ground_gap'\n",
      "C:\\Users\\NikoSavola\\AppData\\Roaming\\Python\\Python39\\site-packages\\optuna\\distributions.py:766: FutureWarning: UniformDistribution(high=700.0, low=200.0) is deprecated and internally converted to FloatDistribution(high=700.0, log=False, low=200.0, step=None). See https://github.com/optuna/optuna/issues/2941.\n",
      "  warnings.warn(message, FutureWarning)\n",
      "C:\\Users\\NikoSavola\\AppData\\Roaming\\Python\\Python39\\site-packages\\optuna\\distributions.py:766: FutureWarning: UniformDistribution(high=500.0, low=50.0) is deprecated and internally converted to FloatDistribution(high=500.0, log=False, low=50.0, step=None). See https://github.com/optuna/optuna/issues/2941.\n",
      "  warnings.warn(message, FutureWarning)\n",
      "C:\\Users\\NikoSavola\\AppData\\Roaming\\Python\\Python39\\site-packages\\optuna\\distributions.py:766: FutureWarning: UniformDistribution(high=300.0, low=50.0) is deprecated and internally converted to FloatDistribution(high=300.0, log=False, low=50.0, step=None). See https://github.com/optuna/optuna/issues/2941.\n",
      "  warnings.warn(message, FutureWarning)\n",
      "C:\\Users\\NikoSavola\\AppData\\Roaming\\Python\\Python39\\site-packages\\optuna\\distributions.py:766: FutureWarning: UniformDistribution(high=500.0, low=40.0) is deprecated and internally converted to FloatDistribution(high=500.0, log=False, low=40.0, step=None). See https://github.com/optuna/optuna/issues/2941.\n",
      "  warnings.warn(message, FutureWarning)\n",
      "C:\\Users\\NikoSavola\\AppData\\Roaming\\Python\\Python39\\site-packages\\optuna\\distributions.py:766: FutureWarning: UniformDistribution(high=40.0, low=20.0) is deprecated and internally converted to FloatDistribution(high=40.0, log=False, low=20.0, step=None). See https://github.com/optuna/optuna/issues/2941.\n",
      "  warnings.warn(message, FutureWarning)\n",
      "C:\\Users\\NikoSavola\\AppData\\Roaming\\Python\\Python39\\site-packages\\optuna\\distributions.py:766: FutureWarning: UniformDistribution(high=50.0, low=5.0) is deprecated and internally converted to FloatDistribution(high=50.0, log=False, low=5.0, step=None). See https://github.com/optuna/optuna/issues/2941.\n",
      "  warnings.warn(message, FutureWarning)\n",
      "C:\\Users\\NikoSavola\\AppData\\Roaming\\Python\\Python39\\site-packages\\optuna\\distributions.py:766: FutureWarning: UniformDistribution(high=1000.0, low=550.0) is deprecated and internally converted to FloatDistribution(high=1000.0, log=False, low=550.0, step=None). See https://github.com/optuna/optuna/issues/2941.\n",
      "  warnings.warn(message, FutureWarning)\n",
      "C:\\Users\\NikoSavola\\AppData\\Roaming\\Python\\Python39\\site-packages\\optuna\\distributions.py:766: FutureWarning: UniformDistribution(high=1000.0, low=400.0) is deprecated and internally converted to FloatDistribution(high=1000.0, log=False, low=400.0, step=None). See https://github.com/optuna/optuna/issues/2941.\n",
      "  warnings.warn(message, FutureWarning)\n",
      "C:\\Users\\NikoSavola\\AppData\\Roaming\\Python\\Python39\\site-packages\\optuna\\distributions.py:766: FutureWarning: UniformDistribution(high=0.0, low=-20.0) is deprecated and internally converted to FloatDistribution(high=0.0, log=False, low=-20.0, step=None). See https://github.com/optuna/optuna/issues/2941.\n",
      "  warnings.warn(message, FutureWarning)\n",
      "C:\\Users\\NikoSavola\\AppData\\Roaming\\Python\\Python39\\site-packages\\optuna\\distributions.py:766: FutureWarning: UniformDistribution(high=50.0, low=0.0) is deprecated and internally converted to FloatDistribution(high=50.0, log=False, low=0.0, step=None). See https://github.com/optuna/optuna/issues/2941.\n",
      "  warnings.warn(message, FutureWarning)\n",
      "C:\\Users\\NikoSavola\\AppData\\Roaming\\Python\\Python39\\site-packages\\optuna\\integration\\botorch.py:498: UserWarning: `constraints_func` was given but no call to it correctly computed constraints. Constraints passed to `candidates_func` will be `None`.\n",
      "  warnings.warn(\n",
      "C:\\Users\\NikoSavola\\AppData\\Roaming\\Python\\Python39\\site-packages\\optuna\\integration\\botorch.py:526: ExperimentalWarning: qei_candidates_func is experimental (supported from v2.4.0). The interface can change in the future.\n",
      "  candidates = self._candidates_func(params, values, con, bounds)\n",
      "\u001b[2m\u001b[36m(event_loop pid=34132)\u001b[0m Ground location of port 1 is not determined.\n",
      "\u001b[2m\u001b[36m(event_loop pid=34132)\u001b[0m Ground location of port 2 is not determined.\n",
      "2022-12-13 11:54:49,468\tWARNING optuna_search.py:549 -- 'params/ground_gap'\n"
     ]
    },
    {
     "name": "stdout",
     "output_type": "stream",
     "text": [
      "\u001b[2m\u001b[36m(event_loop pid=34132)\u001b[0m Submitting the main script of simulation 1/1\n",
      "\u001b[2m\u001b[36m(event_loop pid=34132)\u001b[0m --------------------------------------------\n",
      "\u001b[2m\u001b[36m(event_loop pid=34132)\u001b[0m Simulation 1/1 Gmsh\n"
     ]
    },
    {
     "name": "stderr",
     "output_type": "stream",
     "text": [
      "C:\\Users\\NikoSavola\\AppData\\Roaming\\Python\\Python39\\site-packages\\optuna\\distributions.py:766: FutureWarning: UniformDistribution(high=700.0, low=200.0) is deprecated and internally converted to FloatDistribution(high=700.0, log=False, low=200.0, step=None). See https://github.com/optuna/optuna/issues/2941.\n",
      "  warnings.warn(message, FutureWarning)\n",
      "C:\\Users\\NikoSavola\\AppData\\Roaming\\Python\\Python39\\site-packages\\optuna\\distributions.py:766: FutureWarning: UniformDistribution(high=500.0, low=50.0) is deprecated and internally converted to FloatDistribution(high=500.0, log=False, low=50.0, step=None). See https://github.com/optuna/optuna/issues/2941.\n",
      "  warnings.warn(message, FutureWarning)\n",
      "C:\\Users\\NikoSavola\\AppData\\Roaming\\Python\\Python39\\site-packages\\optuna\\distributions.py:766: FutureWarning: UniformDistribution(high=300.0, low=50.0) is deprecated and internally converted to FloatDistribution(high=300.0, log=False, low=50.0, step=None). See https://github.com/optuna/optuna/issues/2941.\n",
      "  warnings.warn(message, FutureWarning)\n",
      "C:\\Users\\NikoSavola\\AppData\\Roaming\\Python\\Python39\\site-packages\\optuna\\distributions.py:766: FutureWarning: UniformDistribution(high=500.0, low=40.0) is deprecated and internally converted to FloatDistribution(high=500.0, log=False, low=40.0, step=None). See https://github.com/optuna/optuna/issues/2941.\n",
      "  warnings.warn(message, FutureWarning)\n",
      "C:\\Users\\NikoSavola\\AppData\\Roaming\\Python\\Python39\\site-packages\\optuna\\distributions.py:766: FutureWarning: UniformDistribution(high=40.0, low=20.0) is deprecated and internally converted to FloatDistribution(high=40.0, log=False, low=20.0, step=None). See https://github.com/optuna/optuna/issues/2941.\n",
      "  warnings.warn(message, FutureWarning)\n",
      "C:\\Users\\NikoSavola\\AppData\\Roaming\\Python\\Python39\\site-packages\\optuna\\distributions.py:766: FutureWarning: UniformDistribution(high=50.0, low=5.0) is deprecated and internally converted to FloatDistribution(high=50.0, log=False, low=5.0, step=None). See https://github.com/optuna/optuna/issues/2941.\n",
      "  warnings.warn(message, FutureWarning)\n",
      "C:\\Users\\NikoSavola\\AppData\\Roaming\\Python\\Python39\\site-packages\\optuna\\distributions.py:766: FutureWarning: UniformDistribution(high=1000.0, low=550.0) is deprecated and internally converted to FloatDistribution(high=1000.0, log=False, low=550.0, step=None). See https://github.com/optuna/optuna/issues/2941.\n",
      "  warnings.warn(message, FutureWarning)\n",
      "C:\\Users\\NikoSavola\\AppData\\Roaming\\Python\\Python39\\site-packages\\optuna\\distributions.py:766: FutureWarning: UniformDistribution(high=1000.0, low=400.0) is deprecated and internally converted to FloatDistribution(high=1000.0, log=False, low=400.0, step=None). See https://github.com/optuna/optuna/issues/2941.\n",
      "  warnings.warn(message, FutureWarning)\n",
      "C:\\Users\\NikoSavola\\AppData\\Roaming\\Python\\Python39\\site-packages\\optuna\\distributions.py:766: FutureWarning: UniformDistribution(high=0.0, low=-20.0) is deprecated and internally converted to FloatDistribution(high=0.0, log=False, low=-20.0, step=None). See https://github.com/optuna/optuna/issues/2941.\n",
      "  warnings.warn(message, FutureWarning)\n",
      "C:\\Users\\NikoSavola\\AppData\\Roaming\\Python\\Python39\\site-packages\\optuna\\distributions.py:766: FutureWarning: UniformDistribution(high=50.0, low=0.0) is deprecated and internally converted to FloatDistribution(high=50.0, log=False, low=0.0, step=None). See https://github.com/optuna/optuna/issues/2941.\n",
      "  warnings.warn(message, FutureWarning)\n",
      "C:\\Users\\NikoSavola\\AppData\\Roaming\\Python\\Python39\\site-packages\\optuna\\integration\\botorch.py:498: UserWarning: `constraints_func` was given but no call to it correctly computed constraints. Constraints passed to `candidates_func` will be `None`.\n",
      "  warnings.warn(\n",
      "C:\\Users\\NikoSavola\\AppData\\Roaming\\Python\\Python39\\site-packages\\optuna\\integration\\botorch.py:526: ExperimentalWarning: qei_candidates_func is experimental (supported from v2.4.0). The interface can change in the future.\n",
      "  candidates = self._candidates_func(params, values, con, bounds)\n",
      "\u001b[2m\u001b[36m(event_loop pid=15204)\u001b[0m Ground location of port 1 is not determined.\n",
      "\u001b[2m\u001b[36m(event_loop pid=15204)\u001b[0m Ground location of port 2 is not determined.\n",
      "2022-12-13 11:54:49,718\tWARNING optuna_search.py:549 -- 'params/ground_gap'\n"
     ]
    },
    {
     "name": "stdout",
     "output_type": "stream",
     "text": [
      "\u001b[2m\u001b[36m(event_loop pid=15204)\u001b[0m Submitting the main script of simulation 1/1\n",
      "\u001b[2m\u001b[36m(event_loop pid=15204)\u001b[0m --------------------------------------------\n",
      "\u001b[2m\u001b[36m(event_loop pid=15204)\u001b[0m Simulation 1/1 Gmsh\n",
      "\u001b[2m\u001b[36m(event_loop pid=6468)\u001b[0m Submitting the main script of simulation 1/1\n",
      "\u001b[2m\u001b[36m(event_loop pid=6468)\u001b[0m --------------------------------------------\n"
     ]
    },
    {
     "name": "stderr",
     "output_type": "stream",
     "text": [
      "C:\\Users\\NikoSavola\\AppData\\Roaming\\Python\\Python39\\site-packages\\optuna\\distributions.py:766: FutureWarning: UniformDistribution(high=700.0, low=200.0) is deprecated and internally converted to FloatDistribution(high=700.0, log=False, low=200.0, step=None). See https://github.com/optuna/optuna/issues/2941.\n",
      "  warnings.warn(message, FutureWarning)\n",
      "C:\\Users\\NikoSavola\\AppData\\Roaming\\Python\\Python39\\site-packages\\optuna\\distributions.py:766: FutureWarning: UniformDistribution(high=500.0, low=50.0) is deprecated and internally converted to FloatDistribution(high=500.0, log=False, low=50.0, step=None). See https://github.com/optuna/optuna/issues/2941.\n",
      "  warnings.warn(message, FutureWarning)\n",
      "C:\\Users\\NikoSavola\\AppData\\Roaming\\Python\\Python39\\site-packages\\optuna\\distributions.py:766: FutureWarning: UniformDistribution(high=300.0, low=50.0) is deprecated and internally converted to FloatDistribution(high=300.0, log=False, low=50.0, step=None). See https://github.com/optuna/optuna/issues/2941.\n",
      "  warnings.warn(message, FutureWarning)\n",
      "C:\\Users\\NikoSavola\\AppData\\Roaming\\Python\\Python39\\site-packages\\optuna\\distributions.py:766: FutureWarning: UniformDistribution(high=500.0, low=40.0) is deprecated and internally converted to FloatDistribution(high=500.0, log=False, low=40.0, step=None). See https://github.com/optuna/optuna/issues/2941.\n",
      "  warnings.warn(message, FutureWarning)\n",
      "C:\\Users\\NikoSavola\\AppData\\Roaming\\Python\\Python39\\site-packages\\optuna\\distributions.py:766: FutureWarning: UniformDistribution(high=40.0, low=20.0) is deprecated and internally converted to FloatDistribution(high=40.0, log=False, low=20.0, step=None). See https://github.com/optuna/optuna/issues/2941.\n",
      "  warnings.warn(message, FutureWarning)\n",
      "C:\\Users\\NikoSavola\\AppData\\Roaming\\Python\\Python39\\site-packages\\optuna\\distributions.py:766: FutureWarning: UniformDistribution(high=50.0, low=5.0) is deprecated and internally converted to FloatDistribution(high=50.0, log=False, low=5.0, step=None). See https://github.com/optuna/optuna/issues/2941.\n",
      "  warnings.warn(message, FutureWarning)\n",
      "C:\\Users\\NikoSavola\\AppData\\Roaming\\Python\\Python39\\site-packages\\optuna\\distributions.py:766: FutureWarning: UniformDistribution(high=1000.0, low=550.0) is deprecated and internally converted to FloatDistribution(high=1000.0, log=False, low=550.0, step=None). See https://github.com/optuna/optuna/issues/2941.\n",
      "  warnings.warn(message, FutureWarning)\n",
      "C:\\Users\\NikoSavola\\AppData\\Roaming\\Python\\Python39\\site-packages\\optuna\\distributions.py:766: FutureWarning: UniformDistribution(high=1000.0, low=400.0) is deprecated and internally converted to FloatDistribution(high=1000.0, log=False, low=400.0, step=None). See https://github.com/optuna/optuna/issues/2941.\n",
      "  warnings.warn(message, FutureWarning)\n",
      "C:\\Users\\NikoSavola\\AppData\\Roaming\\Python\\Python39\\site-packages\\optuna\\distributions.py:766: FutureWarning: UniformDistribution(high=0.0, low=-20.0) is deprecated and internally converted to FloatDistribution(high=0.0, log=False, low=-20.0, step=None). See https://github.com/optuna/optuna/issues/2941.\n",
      "  warnings.warn(message, FutureWarning)\n",
      "C:\\Users\\NikoSavola\\AppData\\Roaming\\Python\\Python39\\site-packages\\optuna\\distributions.py:766: FutureWarning: UniformDistribution(high=50.0, low=0.0) is deprecated and internally converted to FloatDistribution(high=50.0, log=False, low=0.0, step=None). See https://github.com/optuna/optuna/issues/2941.\n",
      "  warnings.warn(message, FutureWarning)\n",
      "C:\\Users\\NikoSavola\\AppData\\Roaming\\Python\\Python39\\site-packages\\optuna\\integration\\botorch.py:498: UserWarning: `constraints_func` was given but no call to it correctly computed constraints. Constraints passed to `candidates_func` will be `None`.\n",
      "  warnings.warn(\n",
      "C:\\Users\\NikoSavola\\AppData\\Roaming\\Python\\Python39\\site-packages\\optuna\\integration\\botorch.py:526: ExperimentalWarning: qei_candidates_func is experimental (supported from v2.4.0). The interface can change in the future.\n",
      "  candidates = self._candidates_func(params, values, con, bounds)\n",
      "\u001b[2m\u001b[36m(event_loop pid=6468)\u001b[0m Ground location of port 1 is not determined.\n",
      "\u001b[2m\u001b[36m(event_loop pid=6468)\u001b[0m Ground location of port 2 is not determined.\n"
     ]
    },
    {
     "name": "stdout",
     "output_type": "stream",
     "text": [
      "\u001b[2m\u001b[36m(event_loop pid=6468)\u001b[0m Simulation 1/1 Gmsh\n"
     ]
    },
    {
     "name": "stderr",
     "output_type": "stream",
     "text": [
      "2022-12-13 11:54:50,086\tWARNING optuna_search.py:549 -- 'params/ground_gap'\n",
      "C:\\Users\\NikoSavola\\AppData\\Roaming\\Python\\Python39\\site-packages\\optuna\\distributions.py:766: FutureWarning: UniformDistribution(high=700.0, low=200.0) is deprecated and internally converted to FloatDistribution(high=700.0, log=False, low=200.0, step=None). See https://github.com/optuna/optuna/issues/2941.\n",
      "  warnings.warn(message, FutureWarning)\n",
      "C:\\Users\\NikoSavola\\AppData\\Roaming\\Python\\Python39\\site-packages\\optuna\\distributions.py:766: FutureWarning: UniformDistribution(high=500.0, low=50.0) is deprecated and internally converted to FloatDistribution(high=500.0, log=False, low=50.0, step=None). See https://github.com/optuna/optuna/issues/2941.\n",
      "  warnings.warn(message, FutureWarning)\n",
      "C:\\Users\\NikoSavola\\AppData\\Roaming\\Python\\Python39\\site-packages\\optuna\\distributions.py:766: FutureWarning: UniformDistribution(high=300.0, low=50.0) is deprecated and internally converted to FloatDistribution(high=300.0, log=False, low=50.0, step=None). See https://github.com/optuna/optuna/issues/2941.\n",
      "  warnings.warn(message, FutureWarning)\n",
      "C:\\Users\\NikoSavola\\AppData\\Roaming\\Python\\Python39\\site-packages\\optuna\\distributions.py:766: FutureWarning: UniformDistribution(high=500.0, low=40.0) is deprecated and internally converted to FloatDistribution(high=500.0, log=False, low=40.0, step=None). See https://github.com/optuna/optuna/issues/2941.\n",
      "  warnings.warn(message, FutureWarning)\n",
      "C:\\Users\\NikoSavola\\AppData\\Roaming\\Python\\Python39\\site-packages\\optuna\\distributions.py:766: FutureWarning: UniformDistribution(high=40.0, low=20.0) is deprecated and internally converted to FloatDistribution(high=40.0, log=False, low=20.0, step=None). See https://github.com/optuna/optuna/issues/2941.\n",
      "  warnings.warn(message, FutureWarning)\n",
      "C:\\Users\\NikoSavola\\AppData\\Roaming\\Python\\Python39\\site-packages\\optuna\\distributions.py:766: FutureWarning: UniformDistribution(high=50.0, low=5.0) is deprecated and internally converted to FloatDistribution(high=50.0, log=False, low=5.0, step=None). See https://github.com/optuna/optuna/issues/2941.\n",
      "  warnings.warn(message, FutureWarning)\n",
      "C:\\Users\\NikoSavola\\AppData\\Roaming\\Python\\Python39\\site-packages\\optuna\\distributions.py:766: FutureWarning: UniformDistribution(high=1000.0, low=550.0) is deprecated and internally converted to FloatDistribution(high=1000.0, log=False, low=550.0, step=None). See https://github.com/optuna/optuna/issues/2941.\n",
      "  warnings.warn(message, FutureWarning)\n",
      "C:\\Users\\NikoSavola\\AppData\\Roaming\\Python\\Python39\\site-packages\\optuna\\distributions.py:766: FutureWarning: UniformDistribution(high=1000.0, low=400.0) is deprecated and internally converted to FloatDistribution(high=1000.0, log=False, low=400.0, step=None). See https://github.com/optuna/optuna/issues/2941.\n",
      "  warnings.warn(message, FutureWarning)\n",
      "C:\\Users\\NikoSavola\\AppData\\Roaming\\Python\\Python39\\site-packages\\optuna\\distributions.py:766: FutureWarning: UniformDistribution(high=0.0, low=-20.0) is deprecated and internally converted to FloatDistribution(high=0.0, log=False, low=-20.0, step=None). See https://github.com/optuna/optuna/issues/2941.\n",
      "  warnings.warn(message, FutureWarning)\n",
      "C:\\Users\\NikoSavola\\AppData\\Roaming\\Python\\Python39\\site-packages\\optuna\\distributions.py:766: FutureWarning: UniformDistribution(high=50.0, low=0.0) is deprecated and internally converted to FloatDistribution(high=50.0, log=False, low=0.0, step=None). See https://github.com/optuna/optuna/issues/2941.\n",
      "  warnings.warn(message, FutureWarning)\n",
      "C:\\Users\\NikoSavola\\AppData\\Roaming\\Python\\Python39\\site-packages\\optuna\\integration\\botorch.py:498: UserWarning: `constraints_func` was given but no call to it correctly computed constraints. Constraints passed to `candidates_func` will be `None`.\n",
      "  warnings.warn(\n",
      "C:\\Users\\NikoSavola\\AppData\\Roaming\\Python\\Python39\\site-packages\\optuna\\integration\\botorch.py:526: ExperimentalWarning: qei_candidates_func is experimental (supported from v2.4.0). The interface can change in the future.\n",
      "  candidates = self._candidates_func(params, values, con, bounds)\n",
      "\u001b[2m\u001b[36m(event_loop pid=29484)\u001b[0m Ground location of port 1 is not determined.\n",
      "\u001b[2m\u001b[36m(event_loop pid=29484)\u001b[0m Ground location of port 2 is not determined.\n"
     ]
    },
    {
     "name": "stdout",
     "output_type": "stream",
     "text": [
      "\u001b[2m\u001b[36m(event_loop pid=29484)\u001b[0m Submitting the main script of simulation 1/1\n",
      "\u001b[2m\u001b[36m(event_loop pid=29484)\u001b[0m --------------------------------------------\n",
      "\u001b[2m\u001b[36m(event_loop pid=29484)\u001b[0m Simulation 1/1 Gmsh\n"
     ]
    },
    {
     "name": "stderr",
     "output_type": "stream",
     "text": [
      "\u001b[2m\u001b[36m(event_loop pid=1576)\u001b[0m Ground location of port 1 is not determined.\n",
      "\u001b[2m\u001b[36m(event_loop pid=1576)\u001b[0m Ground location of port 2 is not determined.\n"
     ]
    },
    {
     "name": "stdout",
     "output_type": "stream",
     "text": [
      "\u001b[2m\u001b[36m(event_loop pid=1576)\u001b[0m Submitting the main script of simulation 1/1\n",
      "\u001b[2m\u001b[36m(event_loop pid=1576)\u001b[0m --------------------------------------------\n",
      "\u001b[2m\u001b[36m(event_loop pid=1576)\u001b[0m Simulation 1/1 Gmsh\n",
      "\u001b[2m\u001b[36m(event_loop pid=34132)\u001b[0m Simulation 1/1 ElmerGrid\n",
      "\u001b[2m\u001b[36m(event_loop pid=15204)\u001b[0m Simulation 1/1 ElmerGrid\n",
      "\u001b[2m\u001b[36m(event_loop pid=6468)\u001b[0m Simulation 1/1 ElmerGrid\n",
      "\u001b[2m\u001b[36m(event_loop pid=29484)\u001b[0m Simulation 1/1 ElmerGrid\n",
      "\u001b[2m\u001b[36m(event_loop pid=1576)\u001b[0m Simulation 1/1 ElmerGrid\n",
      "\u001b[2m\u001b[36m(event_loop pid=34132)\u001b[0m Simulation 1/1 Elmer\n",
      "\u001b[2m\u001b[36m(event_loop pid=15204)\u001b[0m Simulation 1/1 Elmer\n",
      "\u001b[2m\u001b[36m(event_loop pid=6468)\u001b[0m Simulation 1/1 Elmer\n",
      "\u001b[2m\u001b[36m(event_loop pid=29484)\u001b[0m Simulation 1/1 Elmer\n",
      "\u001b[2m\u001b[36m(event_loop pid=34132)\u001b[0m Simulation 1/1 Paraview\n",
      "\u001b[2m\u001b[36m(event_loop pid=1576)\u001b[0m Simulation 1/1 Elmer\n",
      "\u001b[2m\u001b[36m(event_loop pid=15204)\u001b[0m Simulation 1/1 Paraview\n",
      "\u001b[2m\u001b[36m(event_loop pid=34132)\u001b[0m Simulation 1/1 write results json\n",
      "\u001b[2m\u001b[36m(event_loop pid=15204)\u001b[0m Simulation 1/1 write results json\n",
      "\u001b[2m\u001b[36m(event_loop pid=6468)\u001b[0m Simulation 1/1 Paraview\n",
      "\u001b[2m\u001b[36m(event_loop pid=29484)\u001b[0m Simulation 1/1 Paraview\n",
      "\u001b[2m\u001b[36m(event_loop pid=1576)\u001b[0m Simulation 1/1 Paraview\n"
     ]
    },
    {
     "name": "stderr",
     "output_type": "stream",
     "text": [
      "2022-12-13 11:55:14,393\tWARNING optuna_search.py:549 -- 'params/ground_gap'\n",
      "C:\\Users\\NikoSavola\\AppData\\Roaming\\Python\\Python39\\site-packages\\optuna\\distributions.py:766: FutureWarning: UniformDistribution(high=700.0, low=200.0) is deprecated and internally converted to FloatDistribution(high=700.0, log=False, low=200.0, step=None). See https://github.com/optuna/optuna/issues/2941.\n",
      "  warnings.warn(message, FutureWarning)\n",
      "C:\\Users\\NikoSavola\\AppData\\Roaming\\Python\\Python39\\site-packages\\optuna\\distributions.py:766: FutureWarning: UniformDistribution(high=500.0, low=50.0) is deprecated and internally converted to FloatDistribution(high=500.0, log=False, low=50.0, step=None). See https://github.com/optuna/optuna/issues/2941.\n",
      "  warnings.warn(message, FutureWarning)\n",
      "C:\\Users\\NikoSavola\\AppData\\Roaming\\Python\\Python39\\site-packages\\optuna\\distributions.py:766: FutureWarning: UniformDistribution(high=300.0, low=50.0) is deprecated and internally converted to FloatDistribution(high=300.0, log=False, low=50.0, step=None). See https://github.com/optuna/optuna/issues/2941.\n",
      "  warnings.warn(message, FutureWarning)\n",
      "C:\\Users\\NikoSavola\\AppData\\Roaming\\Python\\Python39\\site-packages\\optuna\\distributions.py:766: FutureWarning: UniformDistribution(high=500.0, low=40.0) is deprecated and internally converted to FloatDistribution(high=500.0, log=False, low=40.0, step=None). See https://github.com/optuna/optuna/issues/2941.\n",
      "  warnings.warn(message, FutureWarning)\n",
      "C:\\Users\\NikoSavola\\AppData\\Roaming\\Python\\Python39\\site-packages\\optuna\\distributions.py:766: FutureWarning: UniformDistribution(high=40.0, low=20.0) is deprecated and internally converted to FloatDistribution(high=40.0, log=False, low=20.0, step=None). See https://github.com/optuna/optuna/issues/2941.\n",
      "  warnings.warn(message, FutureWarning)\n",
      "C:\\Users\\NikoSavola\\AppData\\Roaming\\Python\\Python39\\site-packages\\optuna\\distributions.py:766: FutureWarning: UniformDistribution(high=50.0, low=5.0) is deprecated and internally converted to FloatDistribution(high=50.0, log=False, low=5.0, step=None). See https://github.com/optuna/optuna/issues/2941.\n",
      "  warnings.warn(message, FutureWarning)\n",
      "C:\\Users\\NikoSavola\\AppData\\Roaming\\Python\\Python39\\site-packages\\optuna\\distributions.py:766: FutureWarning: UniformDistribution(high=1000.0, low=550.0) is deprecated and internally converted to FloatDistribution(high=1000.0, log=False, low=550.0, step=None). See https://github.com/optuna/optuna/issues/2941.\n",
      "  warnings.warn(message, FutureWarning)\n",
      "C:\\Users\\NikoSavola\\AppData\\Roaming\\Python\\Python39\\site-packages\\optuna\\distributions.py:766: FutureWarning: UniformDistribution(high=1000.0, low=400.0) is deprecated and internally converted to FloatDistribution(high=1000.0, log=False, low=400.0, step=None). See https://github.com/optuna/optuna/issues/2941.\n",
      "  warnings.warn(message, FutureWarning)\n",
      "C:\\Users\\NikoSavola\\AppData\\Roaming\\Python\\Python39\\site-packages\\optuna\\distributions.py:766: FutureWarning: UniformDistribution(high=0.0, low=-20.0) is deprecated and internally converted to FloatDistribution(high=0.0, log=False, low=-20.0, step=None). See https://github.com/optuna/optuna/issues/2941.\n",
      "  warnings.warn(message, FutureWarning)\n",
      "C:\\Users\\NikoSavola\\AppData\\Roaming\\Python\\Python39\\site-packages\\optuna\\distributions.py:766: FutureWarning: UniformDistribution(high=50.0, low=0.0) is deprecated and internally converted to FloatDistribution(high=50.0, log=False, low=0.0, step=None). See https://github.com/optuna/optuna/issues/2941.\n",
      "  warnings.warn(message, FutureWarning)\n",
      "C:\\Users\\NikoSavola\\AppData\\Roaming\\Python\\Python39\\site-packages\\optuna\\integration\\botorch.py:498: UserWarning: `constraints_func` was given but no call to it correctly computed constraints. Constraints passed to `candidates_func` will be `None`.\n",
      "  warnings.warn(\n",
      "C:\\Users\\NikoSavola\\AppData\\Roaming\\Python\\Python39\\site-packages\\optuna\\integration\\botorch.py:526: ExperimentalWarning: qei_candidates_func is experimental (supported from v2.4.0). The interface can change in the future.\n",
      "  candidates = self._candidates_func(params, values, con, bounds)\n"
     ]
    },
    {
     "name": "stdout",
     "output_type": "stream",
     "text": [
      "\u001b[2m\u001b[36m(event_loop pid=6468)\u001b[0m Simulation 1/1 write results json\n",
      "\u001b[2m\u001b[36m(event_loop pid=29484)\u001b[0m Simulation 1/1 write results json\n",
      "\u001b[2m\u001b[36m(event_loop pid=1576)\u001b[0m Simulation 1/1 write results json\n"
     ]
    },
    {
     "name": "stderr",
     "output_type": "stream",
     "text": [
      "2022-12-13 11:55:14,730\tWARNING optuna_search.py:549 -- 'params/ground_gap'\n",
      "C:\\Users\\NikoSavola\\AppData\\Roaming\\Python\\Python39\\site-packages\\optuna\\distributions.py:766: FutureWarning: UniformDistribution(high=700.0, low=200.0) is deprecated and internally converted to FloatDistribution(high=700.0, log=False, low=200.0, step=None). See https://github.com/optuna/optuna/issues/2941.\n",
      "  warnings.warn(message, FutureWarning)\n",
      "C:\\Users\\NikoSavola\\AppData\\Roaming\\Python\\Python39\\site-packages\\optuna\\distributions.py:766: FutureWarning: UniformDistribution(high=500.0, low=50.0) is deprecated and internally converted to FloatDistribution(high=500.0, log=False, low=50.0, step=None). See https://github.com/optuna/optuna/issues/2941.\n",
      "  warnings.warn(message, FutureWarning)\n",
      "C:\\Users\\NikoSavola\\AppData\\Roaming\\Python\\Python39\\site-packages\\optuna\\distributions.py:766: FutureWarning: UniformDistribution(high=300.0, low=50.0) is deprecated and internally converted to FloatDistribution(high=300.0, log=False, low=50.0, step=None). See https://github.com/optuna/optuna/issues/2941.\n",
      "  warnings.warn(message, FutureWarning)\n",
      "C:\\Users\\NikoSavola\\AppData\\Roaming\\Python\\Python39\\site-packages\\optuna\\distributions.py:766: FutureWarning: UniformDistribution(high=500.0, low=40.0) is deprecated and internally converted to FloatDistribution(high=500.0, log=False, low=40.0, step=None). See https://github.com/optuna/optuna/issues/2941.\n",
      "  warnings.warn(message, FutureWarning)\n",
      "C:\\Users\\NikoSavola\\AppData\\Roaming\\Python\\Python39\\site-packages\\optuna\\distributions.py:766: FutureWarning: UniformDistribution(high=40.0, low=20.0) is deprecated and internally converted to FloatDistribution(high=40.0, log=False, low=20.0, step=None). See https://github.com/optuna/optuna/issues/2941.\n",
      "  warnings.warn(message, FutureWarning)\n",
      "C:\\Users\\NikoSavola\\AppData\\Roaming\\Python\\Python39\\site-packages\\optuna\\distributions.py:766: FutureWarning: UniformDistribution(high=50.0, low=5.0) is deprecated and internally converted to FloatDistribution(high=50.0, log=False, low=5.0, step=None). See https://github.com/optuna/optuna/issues/2941.\n",
      "  warnings.warn(message, FutureWarning)\n",
      "C:\\Users\\NikoSavola\\AppData\\Roaming\\Python\\Python39\\site-packages\\optuna\\distributions.py:766: FutureWarning: UniformDistribution(high=1000.0, low=550.0) is deprecated and internally converted to FloatDistribution(high=1000.0, log=False, low=550.0, step=None). See https://github.com/optuna/optuna/issues/2941.\n",
      "  warnings.warn(message, FutureWarning)\n",
      "C:\\Users\\NikoSavola\\AppData\\Roaming\\Python\\Python39\\site-packages\\optuna\\distributions.py:766: FutureWarning: UniformDistribution(high=1000.0, low=400.0) is deprecated and internally converted to FloatDistribution(high=1000.0, log=False, low=400.0, step=None). See https://github.com/optuna/optuna/issues/2941.\n",
      "  warnings.warn(message, FutureWarning)\n",
      "C:\\Users\\NikoSavola\\AppData\\Roaming\\Python\\Python39\\site-packages\\optuna\\distributions.py:766: FutureWarning: UniformDistribution(high=0.0, low=-20.0) is deprecated and internally converted to FloatDistribution(high=0.0, log=False, low=-20.0, step=None). See https://github.com/optuna/optuna/issues/2941.\n",
      "  warnings.warn(message, FutureWarning)\n",
      "C:\\Users\\NikoSavola\\AppData\\Roaming\\Python\\Python39\\site-packages\\optuna\\distributions.py:766: FutureWarning: UniformDistribution(high=50.0, low=0.0) is deprecated and internally converted to FloatDistribution(high=50.0, log=False, low=0.0, step=None). See https://github.com/optuna/optuna/issues/2941.\n",
      "  warnings.warn(message, FutureWarning)\n",
      "C:\\Users\\NikoSavola\\AppData\\Roaming\\Python\\Python39\\site-packages\\optuna\\integration\\botorch.py:498: UserWarning: `constraints_func` was given but no call to it correctly computed constraints. Constraints passed to `candidates_func` will be `None`.\n",
      "  warnings.warn(\n",
      "C:\\Users\\NikoSavola\\AppData\\Roaming\\Python\\Python39\\site-packages\\optuna\\integration\\botorch.py:526: ExperimentalWarning: qei_candidates_func is experimental (supported from v2.4.0). The interface can change in the future.\n",
      "  candidates = self._candidates_func(params, values, con, bounds)\n",
      "\u001b[2m\u001b[36m(event_loop pid=15204)\u001b[0m Ground location of port 1 is not determined.\n",
      "\u001b[2m\u001b[36m(event_loop pid=15204)\u001b[0m Ground location of port 2 is not determined.\n"
     ]
    },
    {
     "name": "stdout",
     "output_type": "stream",
     "text": [
      "\u001b[2m\u001b[36m(event_loop pid=15204)\u001b[0m Submitting the main script of simulation 1/1\n",
      "\u001b[2m\u001b[36m(event_loop pid=15204)\u001b[0m --------------------------------------------\n",
      "\u001b[2m\u001b[36m(event_loop pid=15204)\u001b[0m Simulation 1/1 Gmsh\n"
     ]
    },
    {
     "name": "stderr",
     "output_type": "stream",
     "text": [
      "2022-12-13 11:55:15,500\tWARNING optuna_search.py:549 -- 'params/ground_gap'\n",
      "C:\\Users\\NikoSavola\\AppData\\Roaming\\Python\\Python39\\site-packages\\optuna\\distributions.py:766: FutureWarning: UniformDistribution(high=700.0, low=200.0) is deprecated and internally converted to FloatDistribution(high=700.0, log=False, low=200.0, step=None). See https://github.com/optuna/optuna/issues/2941.\n",
      "  warnings.warn(message, FutureWarning)\n",
      "C:\\Users\\NikoSavola\\AppData\\Roaming\\Python\\Python39\\site-packages\\optuna\\distributions.py:766: FutureWarning: UniformDistribution(high=500.0, low=50.0) is deprecated and internally converted to FloatDistribution(high=500.0, log=False, low=50.0, step=None). See https://github.com/optuna/optuna/issues/2941.\n",
      "  warnings.warn(message, FutureWarning)\n",
      "C:\\Users\\NikoSavola\\AppData\\Roaming\\Python\\Python39\\site-packages\\optuna\\distributions.py:766: FutureWarning: UniformDistribution(high=300.0, low=50.0) is deprecated and internally converted to FloatDistribution(high=300.0, log=False, low=50.0, step=None). See https://github.com/optuna/optuna/issues/2941.\n",
      "  warnings.warn(message, FutureWarning)\n",
      "C:\\Users\\NikoSavola\\AppData\\Roaming\\Python\\Python39\\site-packages\\optuna\\distributions.py:766: FutureWarning: UniformDistribution(high=500.0, low=40.0) is deprecated and internally converted to FloatDistribution(high=500.0, log=False, low=40.0, step=None). See https://github.com/optuna/optuna/issues/2941.\n",
      "  warnings.warn(message, FutureWarning)\n",
      "C:\\Users\\NikoSavola\\AppData\\Roaming\\Python\\Python39\\site-packages\\optuna\\distributions.py:766: FutureWarning: UniformDistribution(high=40.0, low=20.0) is deprecated and internally converted to FloatDistribution(high=40.0, log=False, low=20.0, step=None). See https://github.com/optuna/optuna/issues/2941.\n",
      "  warnings.warn(message, FutureWarning)\n",
      "C:\\Users\\NikoSavola\\AppData\\Roaming\\Python\\Python39\\site-packages\\optuna\\distributions.py:766: FutureWarning: UniformDistribution(high=50.0, low=5.0) is deprecated and internally converted to FloatDistribution(high=50.0, log=False, low=5.0, step=None). See https://github.com/optuna/optuna/issues/2941.\n",
      "  warnings.warn(message, FutureWarning)\n",
      "C:\\Users\\NikoSavola\\AppData\\Roaming\\Python\\Python39\\site-packages\\optuna\\distributions.py:766: FutureWarning: UniformDistribution(high=1000.0, low=550.0) is deprecated and internally converted to FloatDistribution(high=1000.0, log=False, low=550.0, step=None). See https://github.com/optuna/optuna/issues/2941.\n",
      "  warnings.warn(message, FutureWarning)\n",
      "C:\\Users\\NikoSavola\\AppData\\Roaming\\Python\\Python39\\site-packages\\optuna\\distributions.py:766: FutureWarning: UniformDistribution(high=1000.0, low=400.0) is deprecated and internally converted to FloatDistribution(high=1000.0, log=False, low=400.0, step=None). See https://github.com/optuna/optuna/issues/2941.\n",
      "  warnings.warn(message, FutureWarning)\n",
      "C:\\Users\\NikoSavola\\AppData\\Roaming\\Python\\Python39\\site-packages\\optuna\\distributions.py:766: FutureWarning: UniformDistribution(high=0.0, low=-20.0) is deprecated and internally converted to FloatDistribution(high=0.0, log=False, low=-20.0, step=None). See https://github.com/optuna/optuna/issues/2941.\n",
      "  warnings.warn(message, FutureWarning)\n",
      "C:\\Users\\NikoSavola\\AppData\\Roaming\\Python\\Python39\\site-packages\\optuna\\distributions.py:766: FutureWarning: UniformDistribution(high=50.0, low=0.0) is deprecated and internally converted to FloatDistribution(high=50.0, log=False, low=0.0, step=None). See https://github.com/optuna/optuna/issues/2941.\n",
      "  warnings.warn(message, FutureWarning)\n",
      "C:\\Users\\NikoSavola\\AppData\\Roaming\\Python\\Python39\\site-packages\\optuna\\integration\\botorch.py:498: UserWarning: `constraints_func` was given but no call to it correctly computed constraints. Constraints passed to `candidates_func` will be `None`.\n",
      "  warnings.warn(\n",
      "C:\\Users\\NikoSavola\\AppData\\Roaming\\Python\\Python39\\site-packages\\optuna\\integration\\botorch.py:526: ExperimentalWarning: qei_candidates_func is experimental (supported from v2.4.0). The interface can change in the future.\n",
      "  candidates = self._candidates_func(params, values, con, bounds)\n",
      "2022-12-13 11:55:15,787\tWARNING optuna_search.py:549 -- 'params/ground_gap'\n",
      "C:\\Users\\NikoSavola\\AppData\\Roaming\\Python\\Python39\\site-packages\\optuna\\distributions.py:766: FutureWarning: UniformDistribution(high=700.0, low=200.0) is deprecated and internally converted to FloatDistribution(high=700.0, log=False, low=200.0, step=None). See https://github.com/optuna/optuna/issues/2941.\n",
      "  warnings.warn(message, FutureWarning)\n",
      "C:\\Users\\NikoSavola\\AppData\\Roaming\\Python\\Python39\\site-packages\\optuna\\distributions.py:766: FutureWarning: UniformDistribution(high=500.0, low=50.0) is deprecated and internally converted to FloatDistribution(high=500.0, log=False, low=50.0, step=None). See https://github.com/optuna/optuna/issues/2941.\n",
      "  warnings.warn(message, FutureWarning)\n",
      "C:\\Users\\NikoSavola\\AppData\\Roaming\\Python\\Python39\\site-packages\\optuna\\distributions.py:766: FutureWarning: UniformDistribution(high=300.0, low=50.0) is deprecated and internally converted to FloatDistribution(high=300.0, log=False, low=50.0, step=None). See https://github.com/optuna/optuna/issues/2941.\n",
      "  warnings.warn(message, FutureWarning)\n",
      "C:\\Users\\NikoSavola\\AppData\\Roaming\\Python\\Python39\\site-packages\\optuna\\distributions.py:766: FutureWarning: UniformDistribution(high=500.0, low=40.0) is deprecated and internally converted to FloatDistribution(high=500.0, log=False, low=40.0, step=None). See https://github.com/optuna/optuna/issues/2941.\n",
      "  warnings.warn(message, FutureWarning)\n",
      "C:\\Users\\NikoSavola\\AppData\\Roaming\\Python\\Python39\\site-packages\\optuna\\distributions.py:766: FutureWarning: UniformDistribution(high=40.0, low=20.0) is deprecated and internally converted to FloatDistribution(high=40.0, log=False, low=20.0, step=None). See https://github.com/optuna/optuna/issues/2941.\n",
      "  warnings.warn(message, FutureWarning)\n",
      "C:\\Users\\NikoSavola\\AppData\\Roaming\\Python\\Python39\\site-packages\\optuna\\distributions.py:766: FutureWarning: UniformDistribution(high=50.0, low=5.0) is deprecated and internally converted to FloatDistribution(high=50.0, log=False, low=5.0, step=None). See https://github.com/optuna/optuna/issues/2941.\n",
      "  warnings.warn(message, FutureWarning)\n",
      "C:\\Users\\NikoSavola\\AppData\\Roaming\\Python\\Python39\\site-packages\\optuna\\distributions.py:766: FutureWarning: UniformDistribution(high=1000.0, low=550.0) is deprecated and internally converted to FloatDistribution(high=1000.0, log=False, low=550.0, step=None). See https://github.com/optuna/optuna/issues/2941.\n",
      "  warnings.warn(message, FutureWarning)\n",
      "C:\\Users\\NikoSavola\\AppData\\Roaming\\Python\\Python39\\site-packages\\optuna\\distributions.py:766: FutureWarning: UniformDistribution(high=1000.0, low=400.0) is deprecated and internally converted to FloatDistribution(high=1000.0, log=False, low=400.0, step=None). See https://github.com/optuna/optuna/issues/2941.\n",
      "  warnings.warn(message, FutureWarning)\n",
      "C:\\Users\\NikoSavola\\AppData\\Roaming\\Python\\Python39\\site-packages\\optuna\\distributions.py:766: FutureWarning: UniformDistribution(high=0.0, low=-20.0) is deprecated and internally converted to FloatDistribution(high=0.0, log=False, low=-20.0, step=None). See https://github.com/optuna/optuna/issues/2941.\n",
      "  warnings.warn(message, FutureWarning)\n",
      "C:\\Users\\NikoSavola\\AppData\\Roaming\\Python\\Python39\\site-packages\\optuna\\distributions.py:766: FutureWarning: UniformDistribution(high=50.0, low=0.0) is deprecated and internally converted to FloatDistribution(high=50.0, log=False, low=0.0, step=None). See https://github.com/optuna/optuna/issues/2941.\n",
      "  warnings.warn(message, FutureWarning)\n",
      "C:\\Users\\NikoSavola\\AppData\\Roaming\\Python\\Python39\\site-packages\\optuna\\integration\\botorch.py:498: UserWarning: `constraints_func` was given but no call to it correctly computed constraints. Constraints passed to `candidates_func` will be `None`.\n",
      "  warnings.warn(\n",
      "C:\\Users\\NikoSavola\\AppData\\Roaming\\Python\\Python39\\site-packages\\optuna\\integration\\botorch.py:526: ExperimentalWarning: qei_candidates_func is experimental (supported from v2.4.0). The interface can change in the future.\n",
      "  candidates = self._candidates_func(params, values, con, bounds)\n",
      "\u001b[2m\u001b[36m(event_loop pid=29484)\u001b[0m Ground location of port 1 is not determined.\n",
      "\u001b[2m\u001b[36m(event_loop pid=29484)\u001b[0m Ground location of port 2 is not determined.\n",
      "\u001b[2m\u001b[36m(event_loop pid=20600)\u001b[0m Ground location of port 1 is not determined.\n",
      "\u001b[2m\u001b[36m(event_loop pid=20600)\u001b[0m Ground location of port 2 is not determined.\n",
      "2022-12-13 11:55:18,221\tWARNING optuna_search.py:549 -- 'params/ground_gap'\n"
     ]
    },
    {
     "name": "stdout",
     "output_type": "stream",
     "text": [
      "\u001b[2m\u001b[36m(event_loop pid=29484)\u001b[0m Submitting the main script of simulation 1/1\n",
      "\u001b[2m\u001b[36m(event_loop pid=29484)\u001b[0m --------------------------------------------\n",
      "\u001b[2m\u001b[36m(event_loop pid=29484)\u001b[0m Simulation 1/1 Gmsh\n",
      "\u001b[2m\u001b[36m(event_loop pid=20600)\u001b[0m Submitting the main script of simulation 1/1\n",
      "\u001b[2m\u001b[36m(event_loop pid=20600)\u001b[0m --------------------------------------------\n",
      "\u001b[2m\u001b[36m(event_loop pid=20600)\u001b[0m Simulation 1/1 Gmsh\n"
     ]
    },
    {
     "name": "stderr",
     "output_type": "stream",
     "text": [
      "C:\\Users\\NikoSavola\\AppData\\Roaming\\Python\\Python39\\site-packages\\optuna\\distributions.py:766: FutureWarning: UniformDistribution(high=700.0, low=200.0) is deprecated and internally converted to FloatDistribution(high=700.0, log=False, low=200.0, step=None). See https://github.com/optuna/optuna/issues/2941.\n",
      "  warnings.warn(message, FutureWarning)\n",
      "C:\\Users\\NikoSavola\\AppData\\Roaming\\Python\\Python39\\site-packages\\optuna\\distributions.py:766: FutureWarning: UniformDistribution(high=500.0, low=50.0) is deprecated and internally converted to FloatDistribution(high=500.0, log=False, low=50.0, step=None). See https://github.com/optuna/optuna/issues/2941.\n",
      "  warnings.warn(message, FutureWarning)\n",
      "C:\\Users\\NikoSavola\\AppData\\Roaming\\Python\\Python39\\site-packages\\optuna\\distributions.py:766: FutureWarning: UniformDistribution(high=300.0, low=50.0) is deprecated and internally converted to FloatDistribution(high=300.0, log=False, low=50.0, step=None). See https://github.com/optuna/optuna/issues/2941.\n",
      "  warnings.warn(message, FutureWarning)\n",
      "C:\\Users\\NikoSavola\\AppData\\Roaming\\Python\\Python39\\site-packages\\optuna\\distributions.py:766: FutureWarning: UniformDistribution(high=500.0, low=40.0) is deprecated and internally converted to FloatDistribution(high=500.0, log=False, low=40.0, step=None). See https://github.com/optuna/optuna/issues/2941.\n",
      "  warnings.warn(message, FutureWarning)\n",
      "C:\\Users\\NikoSavola\\AppData\\Roaming\\Python\\Python39\\site-packages\\optuna\\distributions.py:766: FutureWarning: UniformDistribution(high=40.0, low=20.0) is deprecated and internally converted to FloatDistribution(high=40.0, log=False, low=20.0, step=None). See https://github.com/optuna/optuna/issues/2941.\n",
      "  warnings.warn(message, FutureWarning)\n",
      "C:\\Users\\NikoSavola\\AppData\\Roaming\\Python\\Python39\\site-packages\\optuna\\distributions.py:766: FutureWarning: UniformDistribution(high=50.0, low=5.0) is deprecated and internally converted to FloatDistribution(high=50.0, log=False, low=5.0, step=None). See https://github.com/optuna/optuna/issues/2941.\n",
      "  warnings.warn(message, FutureWarning)\n",
      "C:\\Users\\NikoSavola\\AppData\\Roaming\\Python\\Python39\\site-packages\\optuna\\distributions.py:766: FutureWarning: UniformDistribution(high=1000.0, low=550.0) is deprecated and internally converted to FloatDistribution(high=1000.0, log=False, low=550.0, step=None). See https://github.com/optuna/optuna/issues/2941.\n",
      "  warnings.warn(message, FutureWarning)\n",
      "C:\\Users\\NikoSavola\\AppData\\Roaming\\Python\\Python39\\site-packages\\optuna\\distributions.py:766: FutureWarning: UniformDistribution(high=1000.0, low=400.0) is deprecated and internally converted to FloatDistribution(high=1000.0, log=False, low=400.0, step=None). See https://github.com/optuna/optuna/issues/2941.\n",
      "  warnings.warn(message, FutureWarning)\n",
      "C:\\Users\\NikoSavola\\AppData\\Roaming\\Python\\Python39\\site-packages\\optuna\\distributions.py:766: FutureWarning: UniformDistribution(high=0.0, low=-20.0) is deprecated and internally converted to FloatDistribution(high=0.0, log=False, low=-20.0, step=None). See https://github.com/optuna/optuna/issues/2941.\n",
      "  warnings.warn(message, FutureWarning)\n",
      "C:\\Users\\NikoSavola\\AppData\\Roaming\\Python\\Python39\\site-packages\\optuna\\distributions.py:766: FutureWarning: UniformDistribution(high=50.0, low=0.0) is deprecated and internally converted to FloatDistribution(high=50.0, log=False, low=0.0, step=None). See https://github.com/optuna/optuna/issues/2941.\n",
      "  warnings.warn(message, FutureWarning)\n",
      "C:\\Users\\NikoSavola\\AppData\\Roaming\\Python\\Python39\\site-packages\\optuna\\integration\\botorch.py:498: UserWarning: `constraints_func` was given but no call to it correctly computed constraints. Constraints passed to `candidates_func` will be `None`.\n",
      "  warnings.warn(\n",
      "C:\\Users\\NikoSavola\\AppData\\Roaming\\Python\\Python39\\site-packages\\optuna\\integration\\botorch.py:526: ExperimentalWarning: qei_candidates_func is experimental (supported from v2.4.0). The interface can change in the future.\n",
      "  candidates = self._candidates_func(params, values, con, bounds)\n",
      "\u001b[2m\u001b[36m(event_loop pid=1576)\u001b[0m Ground location of port 1 is not determined.\n",
      "\u001b[2m\u001b[36m(event_loop pid=1576)\u001b[0m Ground location of port 2 is not determined.\n"
     ]
    },
    {
     "name": "stdout",
     "output_type": "stream",
     "text": [
      "\u001b[2m\u001b[36m(event_loop pid=1576)\u001b[0m Submitting the main script of simulation 1/1\n",
      "\u001b[2m\u001b[36m(event_loop pid=1576)\u001b[0m --------------------------------------------\n",
      "\u001b[2m\u001b[36m(event_loop pid=1576)\u001b[0m Simulation 1/1 Gmsh\n"
     ]
    },
    {
     "name": "stderr",
     "output_type": "stream",
     "text": [
      "\u001b[2m\u001b[36m(event_loop pid=24992)\u001b[0m Ground location of port 1 is not determined.\n",
      "\u001b[2m\u001b[36m(event_loop pid=24992)\u001b[0m Ground location of port 2 is not determined.\n"
     ]
    },
    {
     "name": "stdout",
     "output_type": "stream",
     "text": [
      "\u001b[2m\u001b[36m(event_loop pid=24992)\u001b[0m Submitting the main script of simulation 1/1\n",
      "\u001b[2m\u001b[36m(event_loop pid=24992)\u001b[0m --------------------------------------------\n",
      "\u001b[2m\u001b[36m(event_loop pid=24992)\u001b[0m Simulation 1/1 Gmsh\n",
      "\u001b[2m\u001b[36m(event_loop pid=15204)\u001b[0m Simulation 1/1 ElmerGrid\n",
      "\u001b[2m\u001b[36m(event_loop pid=29484)\u001b[0m Simulation 1/1 ElmerGrid\n",
      "\u001b[2m\u001b[36m(event_loop pid=1576)\u001b[0m Simulation 1/1 ElmerGrid\n",
      "\u001b[2m\u001b[36m(event_loop pid=20600)\u001b[0m Simulation 1/1 ElmerGrid\n",
      "\u001b[2m\u001b[36m(event_loop pid=15204)\u001b[0m Simulation 1/1 Elmer\n",
      "\u001b[2m\u001b[36m(event_loop pid=24992)\u001b[0m Simulation 1/1 ElmerGrid\n",
      "\u001b[2m\u001b[36m(event_loop pid=15204)\u001b[0m Simulation 1/1 Paraview\n",
      "\u001b[2m\u001b[36m(event_loop pid=15204)\u001b[0m Simulation 1/1 write results json\n"
     ]
    },
    {
     "name": "stderr",
     "output_type": "stream",
     "text": [
      "2022-12-13 11:55:34,854\tWARNING optuna_search.py:549 -- 'params/ground_gap'\n",
      "C:\\Users\\NikoSavola\\AppData\\Roaming\\Python\\Python39\\site-packages\\optuna\\distributions.py:766: FutureWarning: UniformDistribution(high=700.0, low=200.0) is deprecated and internally converted to FloatDistribution(high=700.0, log=False, low=200.0, step=None). See https://github.com/optuna/optuna/issues/2941.\n",
      "  warnings.warn(message, FutureWarning)\n",
      "C:\\Users\\NikoSavola\\AppData\\Roaming\\Python\\Python39\\site-packages\\optuna\\distributions.py:766: FutureWarning: UniformDistribution(high=500.0, low=50.0) is deprecated and internally converted to FloatDistribution(high=500.0, log=False, low=50.0, step=None). See https://github.com/optuna/optuna/issues/2941.\n",
      "  warnings.warn(message, FutureWarning)\n",
      "C:\\Users\\NikoSavola\\AppData\\Roaming\\Python\\Python39\\site-packages\\optuna\\distributions.py:766: FutureWarning: UniformDistribution(high=300.0, low=50.0) is deprecated and internally converted to FloatDistribution(high=300.0, log=False, low=50.0, step=None). See https://github.com/optuna/optuna/issues/2941.\n",
      "  warnings.warn(message, FutureWarning)\n",
      "C:\\Users\\NikoSavola\\AppData\\Roaming\\Python\\Python39\\site-packages\\optuna\\distributions.py:766: FutureWarning: UniformDistribution(high=500.0, low=40.0) is deprecated and internally converted to FloatDistribution(high=500.0, log=False, low=40.0, step=None). See https://github.com/optuna/optuna/issues/2941.\n",
      "  warnings.warn(message, FutureWarning)\n",
      "C:\\Users\\NikoSavola\\AppData\\Roaming\\Python\\Python39\\site-packages\\optuna\\distributions.py:766: FutureWarning: UniformDistribution(high=40.0, low=20.0) is deprecated and internally converted to FloatDistribution(high=40.0, log=False, low=20.0, step=None). See https://github.com/optuna/optuna/issues/2941.\n",
      "  warnings.warn(message, FutureWarning)\n",
      "C:\\Users\\NikoSavola\\AppData\\Roaming\\Python\\Python39\\site-packages\\optuna\\distributions.py:766: FutureWarning: UniformDistribution(high=50.0, low=5.0) is deprecated and internally converted to FloatDistribution(high=50.0, log=False, low=5.0, step=None). See https://github.com/optuna/optuna/issues/2941.\n",
      "  warnings.warn(message, FutureWarning)\n",
      "C:\\Users\\NikoSavola\\AppData\\Roaming\\Python\\Python39\\site-packages\\optuna\\distributions.py:766: FutureWarning: UniformDistribution(high=1000.0, low=550.0) is deprecated and internally converted to FloatDistribution(high=1000.0, log=False, low=550.0, step=None). See https://github.com/optuna/optuna/issues/2941.\n",
      "  warnings.warn(message, FutureWarning)\n",
      "C:\\Users\\NikoSavola\\AppData\\Roaming\\Python\\Python39\\site-packages\\optuna\\distributions.py:766: FutureWarning: UniformDistribution(high=1000.0, low=400.0) is deprecated and internally converted to FloatDistribution(high=1000.0, log=False, low=400.0, step=None). See https://github.com/optuna/optuna/issues/2941.\n",
      "  warnings.warn(message, FutureWarning)\n",
      "C:\\Users\\NikoSavola\\AppData\\Roaming\\Python\\Python39\\site-packages\\optuna\\distributions.py:766: FutureWarning: UniformDistribution(high=0.0, low=-20.0) is deprecated and internally converted to FloatDistribution(high=0.0, log=False, low=-20.0, step=None). See https://github.com/optuna/optuna/issues/2941.\n",
      "  warnings.warn(message, FutureWarning)\n",
      "C:\\Users\\NikoSavola\\AppData\\Roaming\\Python\\Python39\\site-packages\\optuna\\distributions.py:766: FutureWarning: UniformDistribution(high=50.0, low=0.0) is deprecated and internally converted to FloatDistribution(high=50.0, log=False, low=0.0, step=None). See https://github.com/optuna/optuna/issues/2941.\n",
      "  warnings.warn(message, FutureWarning)\n",
      "C:\\Users\\NikoSavola\\AppData\\Roaming\\Python\\Python39\\site-packages\\optuna\\integration\\botorch.py:498: UserWarning: `constraints_func` was given but no call to it correctly computed constraints. Constraints passed to `candidates_func` will be `None`.\n",
      "  warnings.warn(\n",
      "C:\\Users\\NikoSavola\\AppData\\Roaming\\Python\\Python39\\site-packages\\optuna\\integration\\botorch.py:526: ExperimentalWarning: qei_candidates_func is experimental (supported from v2.4.0). The interface can change in the future.\n",
      "  candidates = self._candidates_func(params, values, con, bounds)\n"
     ]
    },
    {
     "name": "stdout",
     "output_type": "stream",
     "text": [
      "\u001b[2m\u001b[36m(event_loop pid=29484)\u001b[0m Simulation 1/1 Elmer\n",
      "\u001b[2m\u001b[36m(event_loop pid=1576)\u001b[0m Simulation 1/1 Elmer\n",
      "\u001b[2m\u001b[36m(event_loop pid=20600)\u001b[0m Simulation 1/1 Elmer\n",
      "\u001b[2m\u001b[36m(event_loop pid=29484)\u001b[0m Simulation 1/1 Paraview\n",
      "\u001b[2m\u001b[36m(event_loop pid=24992)\u001b[0m Simulation 1/1 Elmer\n",
      "\u001b[2m\u001b[36m(event_loop pid=1576)\u001b[0m Simulation 1/1 Paraview\n",
      "\u001b[2m\u001b[36m(event_loop pid=20600)\u001b[0m Simulation 1/1 Paraview\n",
      "\u001b[2m\u001b[36m(event_loop pid=29484)\u001b[0m Simulation 1/1 write results json\n",
      "\u001b[2m\u001b[36m(event_loop pid=20600)\u001b[0m Simulation 1/1 write results json\n",
      "\u001b[2m\u001b[36m(event_loop pid=1576)\u001b[0m Simulation 1/1 write results json\n",
      "\u001b[2m\u001b[36m(event_loop pid=24992)\u001b[0m Simulation 1/1 Paraview\n"
     ]
    },
    {
     "name": "stderr",
     "output_type": "stream",
     "text": [
      "2022-12-13 11:55:42,424\tWARNING optuna_search.py:549 -- 'params/ground_gap'\n",
      "C:\\Users\\NikoSavola\\AppData\\Roaming\\Python\\Python39\\site-packages\\optuna\\distributions.py:766: FutureWarning: UniformDistribution(high=700.0, low=200.0) is deprecated and internally converted to FloatDistribution(high=700.0, log=False, low=200.0, step=None). See https://github.com/optuna/optuna/issues/2941.\n",
      "  warnings.warn(message, FutureWarning)\n",
      "C:\\Users\\NikoSavola\\AppData\\Roaming\\Python\\Python39\\site-packages\\optuna\\distributions.py:766: FutureWarning: UniformDistribution(high=500.0, low=50.0) is deprecated and internally converted to FloatDistribution(high=500.0, log=False, low=50.0, step=None). See https://github.com/optuna/optuna/issues/2941.\n",
      "  warnings.warn(message, FutureWarning)\n",
      "C:\\Users\\NikoSavola\\AppData\\Roaming\\Python\\Python39\\site-packages\\optuna\\distributions.py:766: FutureWarning: UniformDistribution(high=300.0, low=50.0) is deprecated and internally converted to FloatDistribution(high=300.0, log=False, low=50.0, step=None). See https://github.com/optuna/optuna/issues/2941.\n",
      "  warnings.warn(message, FutureWarning)\n",
      "C:\\Users\\NikoSavola\\AppData\\Roaming\\Python\\Python39\\site-packages\\optuna\\distributions.py:766: FutureWarning: UniformDistribution(high=500.0, low=40.0) is deprecated and internally converted to FloatDistribution(high=500.0, log=False, low=40.0, step=None). See https://github.com/optuna/optuna/issues/2941.\n",
      "  warnings.warn(message, FutureWarning)\n",
      "C:\\Users\\NikoSavola\\AppData\\Roaming\\Python\\Python39\\site-packages\\optuna\\distributions.py:766: FutureWarning: UniformDistribution(high=40.0, low=20.0) is deprecated and internally converted to FloatDistribution(high=40.0, log=False, low=20.0, step=None). See https://github.com/optuna/optuna/issues/2941.\n",
      "  warnings.warn(message, FutureWarning)\n",
      "C:\\Users\\NikoSavola\\AppData\\Roaming\\Python\\Python39\\site-packages\\optuna\\distributions.py:766: FutureWarning: UniformDistribution(high=50.0, low=5.0) is deprecated and internally converted to FloatDistribution(high=50.0, log=False, low=5.0, step=None). See https://github.com/optuna/optuna/issues/2941.\n",
      "  warnings.warn(message, FutureWarning)\n",
      "C:\\Users\\NikoSavola\\AppData\\Roaming\\Python\\Python39\\site-packages\\optuna\\distributions.py:766: FutureWarning: UniformDistribution(high=1000.0, low=550.0) is deprecated and internally converted to FloatDistribution(high=1000.0, log=False, low=550.0, step=None). See https://github.com/optuna/optuna/issues/2941.\n",
      "  warnings.warn(message, FutureWarning)\n",
      "C:\\Users\\NikoSavola\\AppData\\Roaming\\Python\\Python39\\site-packages\\optuna\\distributions.py:766: FutureWarning: UniformDistribution(high=1000.0, low=400.0) is deprecated and internally converted to FloatDistribution(high=1000.0, log=False, low=400.0, step=None). See https://github.com/optuna/optuna/issues/2941.\n",
      "  warnings.warn(message, FutureWarning)\n",
      "C:\\Users\\NikoSavola\\AppData\\Roaming\\Python\\Python39\\site-packages\\optuna\\distributions.py:766: FutureWarning: UniformDistribution(high=0.0, low=-20.0) is deprecated and internally converted to FloatDistribution(high=0.0, log=False, low=-20.0, step=None). See https://github.com/optuna/optuna/issues/2941.\n",
      "  warnings.warn(message, FutureWarning)\n",
      "C:\\Users\\NikoSavola\\AppData\\Roaming\\Python\\Python39\\site-packages\\optuna\\distributions.py:766: FutureWarning: UniformDistribution(high=50.0, low=0.0) is deprecated and internally converted to FloatDistribution(high=50.0, log=False, low=0.0, step=None). See https://github.com/optuna/optuna/issues/2941.\n",
      "  warnings.warn(message, FutureWarning)\n",
      "C:\\Users\\NikoSavola\\AppData\\Roaming\\Python\\Python39\\site-packages\\optuna\\integration\\botorch.py:498: UserWarning: `constraints_func` was given but no call to it correctly computed constraints. Constraints passed to `candidates_func` will be `None`.\n",
      "  warnings.warn(\n",
      "C:\\Users\\NikoSavola\\AppData\\Roaming\\Python\\Python39\\site-packages\\optuna\\integration\\botorch.py:526: ExperimentalWarning: qei_candidates_func is experimental (supported from v2.4.0). The interface can change in the future.\n",
      "  candidates = self._candidates_func(params, values, con, bounds)\n",
      "\u001b[2m\u001b[36m(event_loop pid=15784)\u001b[0m Ground location of port 1 is not determined.\n",
      "\u001b[2m\u001b[36m(event_loop pid=15784)\u001b[0m Ground location of port 2 is not determined.\n"
     ]
    },
    {
     "name": "stdout",
     "output_type": "stream",
     "text": [
      "\u001b[2m\u001b[36m(event_loop pid=24992)\u001b[0m Simulation 1/1 write results json\n",
      "\u001b[2m\u001b[36m(event_loop pid=15784)\u001b[0m Submitting the main script of simulation 1/1\n",
      "\u001b[2m\u001b[36m(event_loop pid=15784)\u001b[0m --------------------------------------------\n",
      "\u001b[2m\u001b[36m(event_loop pid=15784)\u001b[0m Simulation 1/1 Gmsh\n"
     ]
    },
    {
     "name": "stderr",
     "output_type": "stream",
     "text": [
      "2022-12-13 11:55:42,825\tWARNING optuna_search.py:549 -- 'params/ground_gap'\n",
      "C:\\Users\\NikoSavola\\AppData\\Roaming\\Python\\Python39\\site-packages\\optuna\\distributions.py:766: FutureWarning: UniformDistribution(high=700.0, low=200.0) is deprecated and internally converted to FloatDistribution(high=700.0, log=False, low=200.0, step=None). See https://github.com/optuna/optuna/issues/2941.\n",
      "  warnings.warn(message, FutureWarning)\n",
      "C:\\Users\\NikoSavola\\AppData\\Roaming\\Python\\Python39\\site-packages\\optuna\\distributions.py:766: FutureWarning: UniformDistribution(high=500.0, low=50.0) is deprecated and internally converted to FloatDistribution(high=500.0, log=False, low=50.0, step=None). See https://github.com/optuna/optuna/issues/2941.\n",
      "  warnings.warn(message, FutureWarning)\n",
      "C:\\Users\\NikoSavola\\AppData\\Roaming\\Python\\Python39\\site-packages\\optuna\\distributions.py:766: FutureWarning: UniformDistribution(high=300.0, low=50.0) is deprecated and internally converted to FloatDistribution(high=300.0, log=False, low=50.0, step=None). See https://github.com/optuna/optuna/issues/2941.\n",
      "  warnings.warn(message, FutureWarning)\n",
      "C:\\Users\\NikoSavola\\AppData\\Roaming\\Python\\Python39\\site-packages\\optuna\\distributions.py:766: FutureWarning: UniformDistribution(high=500.0, low=40.0) is deprecated and internally converted to FloatDistribution(high=500.0, log=False, low=40.0, step=None). See https://github.com/optuna/optuna/issues/2941.\n",
      "  warnings.warn(message, FutureWarning)\n",
      "C:\\Users\\NikoSavola\\AppData\\Roaming\\Python\\Python39\\site-packages\\optuna\\distributions.py:766: FutureWarning: UniformDistribution(high=40.0, low=20.0) is deprecated and internally converted to FloatDistribution(high=40.0, log=False, low=20.0, step=None). See https://github.com/optuna/optuna/issues/2941.\n",
      "  warnings.warn(message, FutureWarning)\n",
      "C:\\Users\\NikoSavola\\AppData\\Roaming\\Python\\Python39\\site-packages\\optuna\\distributions.py:766: FutureWarning: UniformDistribution(high=50.0, low=5.0) is deprecated and internally converted to FloatDistribution(high=50.0, log=False, low=5.0, step=None). See https://github.com/optuna/optuna/issues/2941.\n",
      "  warnings.warn(message, FutureWarning)\n",
      "C:\\Users\\NikoSavola\\AppData\\Roaming\\Python\\Python39\\site-packages\\optuna\\distributions.py:766: FutureWarning: UniformDistribution(high=1000.0, low=550.0) is deprecated and internally converted to FloatDistribution(high=1000.0, log=False, low=550.0, step=None). See https://github.com/optuna/optuna/issues/2941.\n",
      "  warnings.warn(message, FutureWarning)\n",
      "C:\\Users\\NikoSavola\\AppData\\Roaming\\Python\\Python39\\site-packages\\optuna\\distributions.py:766: FutureWarning: UniformDistribution(high=1000.0, low=400.0) is deprecated and internally converted to FloatDistribution(high=1000.0, log=False, low=400.0, step=None). See https://github.com/optuna/optuna/issues/2941.\n",
      "  warnings.warn(message, FutureWarning)\n",
      "C:\\Users\\NikoSavola\\AppData\\Roaming\\Python\\Python39\\site-packages\\optuna\\distributions.py:766: FutureWarning: UniformDistribution(high=0.0, low=-20.0) is deprecated and internally converted to FloatDistribution(high=0.0, log=False, low=-20.0, step=None). See https://github.com/optuna/optuna/issues/2941.\n",
      "  warnings.warn(message, FutureWarning)\n",
      "C:\\Users\\NikoSavola\\AppData\\Roaming\\Python\\Python39\\site-packages\\optuna\\distributions.py:766: FutureWarning: UniformDistribution(high=50.0, low=0.0) is deprecated and internally converted to FloatDistribution(high=50.0, log=False, low=0.0, step=None). See https://github.com/optuna/optuna/issues/2941.\n",
      "  warnings.warn(message, FutureWarning)\n",
      "C:\\Users\\NikoSavola\\AppData\\Roaming\\Python\\Python39\\site-packages\\optuna\\integration\\botorch.py:498: UserWarning: `constraints_func` was given but no call to it correctly computed constraints. Constraints passed to `candidates_func` will be `None`.\n",
      "  warnings.warn(\n",
      "C:\\Users\\NikoSavola\\AppData\\Roaming\\Python\\Python39\\site-packages\\optuna\\integration\\botorch.py:526: ExperimentalWarning: qei_candidates_func is experimental (supported from v2.4.0). The interface can change in the future.\n",
      "  candidates = self._candidates_func(params, values, con, bounds)\n",
      "\u001b[2m\u001b[36m(event_loop pid=20600)\u001b[0m Ground location of port 1 is not determined.\n",
      "\u001b[2m\u001b[36m(event_loop pid=20600)\u001b[0m Ground location of port 2 is not determined.\n"
     ]
    },
    {
     "name": "stdout",
     "output_type": "stream",
     "text": [
      "\u001b[2m\u001b[36m(event_loop pid=20600)\u001b[0m Submitting the main script of simulation 1/1\n",
      "\u001b[2m\u001b[36m(event_loop pid=20600)\u001b[0m --------------------------------------------\n",
      "\u001b[2m\u001b[36m(event_loop pid=20600)\u001b[0m Simulation 1/1 Gmsh\n"
     ]
    },
    {
     "name": "stderr",
     "output_type": "stream",
     "text": [
      "2022-12-13 11:55:43,210\tWARNING optuna_search.py:549 -- 'params/ground_gap'\n",
      "C:\\Users\\NikoSavola\\AppData\\Roaming\\Python\\Python39\\site-packages\\optuna\\distributions.py:766: FutureWarning: UniformDistribution(high=700.0, low=200.0) is deprecated and internally converted to FloatDistribution(high=700.0, log=False, low=200.0, step=None). See https://github.com/optuna/optuna/issues/2941.\n",
      "  warnings.warn(message, FutureWarning)\n",
      "C:\\Users\\NikoSavola\\AppData\\Roaming\\Python\\Python39\\site-packages\\optuna\\distributions.py:766: FutureWarning: UniformDistribution(high=500.0, low=50.0) is deprecated and internally converted to FloatDistribution(high=500.0, log=False, low=50.0, step=None). See https://github.com/optuna/optuna/issues/2941.\n",
      "  warnings.warn(message, FutureWarning)\n",
      "C:\\Users\\NikoSavola\\AppData\\Roaming\\Python\\Python39\\site-packages\\optuna\\distributions.py:766: FutureWarning: UniformDistribution(high=300.0, low=50.0) is deprecated and internally converted to FloatDistribution(high=300.0, log=False, low=50.0, step=None). See https://github.com/optuna/optuna/issues/2941.\n",
      "  warnings.warn(message, FutureWarning)\n",
      "C:\\Users\\NikoSavola\\AppData\\Roaming\\Python\\Python39\\site-packages\\optuna\\distributions.py:766: FutureWarning: UniformDistribution(high=500.0, low=40.0) is deprecated and internally converted to FloatDistribution(high=500.0, log=False, low=40.0, step=None). See https://github.com/optuna/optuna/issues/2941.\n",
      "  warnings.warn(message, FutureWarning)\n",
      "C:\\Users\\NikoSavola\\AppData\\Roaming\\Python\\Python39\\site-packages\\optuna\\distributions.py:766: FutureWarning: UniformDistribution(high=40.0, low=20.0) is deprecated and internally converted to FloatDistribution(high=40.0, log=False, low=20.0, step=None). See https://github.com/optuna/optuna/issues/2941.\n",
      "  warnings.warn(message, FutureWarning)\n",
      "C:\\Users\\NikoSavola\\AppData\\Roaming\\Python\\Python39\\site-packages\\optuna\\distributions.py:766: FutureWarning: UniformDistribution(high=50.0, low=5.0) is deprecated and internally converted to FloatDistribution(high=50.0, log=False, low=5.0, step=None). See https://github.com/optuna/optuna/issues/2941.\n",
      "  warnings.warn(message, FutureWarning)\n",
      "C:\\Users\\NikoSavola\\AppData\\Roaming\\Python\\Python39\\site-packages\\optuna\\distributions.py:766: FutureWarning: UniformDistribution(high=1000.0, low=550.0) is deprecated and internally converted to FloatDistribution(high=1000.0, log=False, low=550.0, step=None). See https://github.com/optuna/optuna/issues/2941.\n",
      "  warnings.warn(message, FutureWarning)\n",
      "C:\\Users\\NikoSavola\\AppData\\Roaming\\Python\\Python39\\site-packages\\optuna\\distributions.py:766: FutureWarning: UniformDistribution(high=1000.0, low=400.0) is deprecated and internally converted to FloatDistribution(high=1000.0, log=False, low=400.0, step=None). See https://github.com/optuna/optuna/issues/2941.\n",
      "  warnings.warn(message, FutureWarning)\n",
      "C:\\Users\\NikoSavola\\AppData\\Roaming\\Python\\Python39\\site-packages\\optuna\\distributions.py:766: FutureWarning: UniformDistribution(high=0.0, low=-20.0) is deprecated and internally converted to FloatDistribution(high=0.0, log=False, low=-20.0, step=None). See https://github.com/optuna/optuna/issues/2941.\n",
      "  warnings.warn(message, FutureWarning)\n",
      "C:\\Users\\NikoSavola\\AppData\\Roaming\\Python\\Python39\\site-packages\\optuna\\distributions.py:766: FutureWarning: UniformDistribution(high=50.0, low=0.0) is deprecated and internally converted to FloatDistribution(high=50.0, log=False, low=0.0, step=None). See https://github.com/optuna/optuna/issues/2941.\n",
      "  warnings.warn(message, FutureWarning)\n",
      "C:\\Users\\NikoSavola\\AppData\\Roaming\\Python\\Python39\\site-packages\\optuna\\integration\\botorch.py:498: UserWarning: `constraints_func` was given but no call to it correctly computed constraints. Constraints passed to `candidates_func` will be `None`.\n",
      "  warnings.warn(\n",
      "C:\\Users\\NikoSavola\\AppData\\Roaming\\Python\\Python39\\site-packages\\optuna\\integration\\botorch.py:526: ExperimentalWarning: qei_candidates_func is experimental (supported from v2.4.0). The interface can change in the future.\n",
      "  candidates = self._candidates_func(params, values, con, bounds)\n",
      "\u001b[2m\u001b[36m(event_loop pid=1576)\u001b[0m Ground location of port 1 is not determined.\n",
      "\u001b[2m\u001b[36m(event_loop pid=1576)\u001b[0m Ground location of port 2 is not determined.\n",
      "2022-12-13 11:55:43,622\tWARNING optuna_search.py:549 -- 'params/ground_gap'\n"
     ]
    },
    {
     "name": "stdout",
     "output_type": "stream",
     "text": [
      "\u001b[2m\u001b[36m(event_loop pid=1576)\u001b[0m Submitting the main script of simulation 1/1\n",
      "\u001b[2m\u001b[36m(event_loop pid=1576)\u001b[0m --------------------------------------------\n",
      "\u001b[2m\u001b[36m(event_loop pid=1576)\u001b[0m Simulation 1/1 Gmsh\n"
     ]
    },
    {
     "name": "stderr",
     "output_type": "stream",
     "text": [
      "C:\\Users\\NikoSavola\\AppData\\Roaming\\Python\\Python39\\site-packages\\optuna\\distributions.py:766: FutureWarning: UniformDistribution(high=700.0, low=200.0) is deprecated and internally converted to FloatDistribution(high=700.0, log=False, low=200.0, step=None). See https://github.com/optuna/optuna/issues/2941.\n",
      "  warnings.warn(message, FutureWarning)\n",
      "C:\\Users\\NikoSavola\\AppData\\Roaming\\Python\\Python39\\site-packages\\optuna\\distributions.py:766: FutureWarning: UniformDistribution(high=500.0, low=50.0) is deprecated and internally converted to FloatDistribution(high=500.0, log=False, low=50.0, step=None). See https://github.com/optuna/optuna/issues/2941.\n",
      "  warnings.warn(message, FutureWarning)\n",
      "C:\\Users\\NikoSavola\\AppData\\Roaming\\Python\\Python39\\site-packages\\optuna\\distributions.py:766: FutureWarning: UniformDistribution(high=300.0, low=50.0) is deprecated and internally converted to FloatDistribution(high=300.0, log=False, low=50.0, step=None). See https://github.com/optuna/optuna/issues/2941.\n",
      "  warnings.warn(message, FutureWarning)\n",
      "C:\\Users\\NikoSavola\\AppData\\Roaming\\Python\\Python39\\site-packages\\optuna\\distributions.py:766: FutureWarning: UniformDistribution(high=500.0, low=40.0) is deprecated and internally converted to FloatDistribution(high=500.0, log=False, low=40.0, step=None). See https://github.com/optuna/optuna/issues/2941.\n",
      "  warnings.warn(message, FutureWarning)\n",
      "C:\\Users\\NikoSavola\\AppData\\Roaming\\Python\\Python39\\site-packages\\optuna\\distributions.py:766: FutureWarning: UniformDistribution(high=40.0, low=20.0) is deprecated and internally converted to FloatDistribution(high=40.0, log=False, low=20.0, step=None). See https://github.com/optuna/optuna/issues/2941.\n",
      "  warnings.warn(message, FutureWarning)\n",
      "C:\\Users\\NikoSavola\\AppData\\Roaming\\Python\\Python39\\site-packages\\optuna\\distributions.py:766: FutureWarning: UniformDistribution(high=50.0, low=5.0) is deprecated and internally converted to FloatDistribution(high=50.0, log=False, low=5.0, step=None). See https://github.com/optuna/optuna/issues/2941.\n",
      "  warnings.warn(message, FutureWarning)\n",
      "C:\\Users\\NikoSavola\\AppData\\Roaming\\Python\\Python39\\site-packages\\optuna\\distributions.py:766: FutureWarning: UniformDistribution(high=1000.0, low=550.0) is deprecated and internally converted to FloatDistribution(high=1000.0, log=False, low=550.0, step=None). See https://github.com/optuna/optuna/issues/2941.\n",
      "  warnings.warn(message, FutureWarning)\n",
      "C:\\Users\\NikoSavola\\AppData\\Roaming\\Python\\Python39\\site-packages\\optuna\\distributions.py:766: FutureWarning: UniformDistribution(high=1000.0, low=400.0) is deprecated and internally converted to FloatDistribution(high=1000.0, log=False, low=400.0, step=None). See https://github.com/optuna/optuna/issues/2941.\n",
      "  warnings.warn(message, FutureWarning)\n",
      "C:\\Users\\NikoSavola\\AppData\\Roaming\\Python\\Python39\\site-packages\\optuna\\distributions.py:766: FutureWarning: UniformDistribution(high=0.0, low=-20.0) is deprecated and internally converted to FloatDistribution(high=0.0, log=False, low=-20.0, step=None). See https://github.com/optuna/optuna/issues/2941.\n",
      "  warnings.warn(message, FutureWarning)\n",
      "C:\\Users\\NikoSavola\\AppData\\Roaming\\Python\\Python39\\site-packages\\optuna\\distributions.py:766: FutureWarning: UniformDistribution(high=50.0, low=0.0) is deprecated and internally converted to FloatDistribution(high=50.0, log=False, low=0.0, step=None). See https://github.com/optuna/optuna/issues/2941.\n",
      "  warnings.warn(message, FutureWarning)\n",
      "C:\\Users\\NikoSavola\\AppData\\Roaming\\Python\\Python39\\site-packages\\optuna\\integration\\botorch.py:498: UserWarning: `constraints_func` was given but no call to it correctly computed constraints. Constraints passed to `candidates_func` will be `None`.\n",
      "  warnings.warn(\n",
      "C:\\Users\\NikoSavola\\AppData\\Roaming\\Python\\Python39\\site-packages\\optuna\\integration\\botorch.py:526: ExperimentalWarning: qei_candidates_func is experimental (supported from v2.4.0). The interface can change in the future.\n",
      "  candidates = self._candidates_func(params, values, con, bounds)\n",
      "\u001b[2m\u001b[36m(event_loop pid=24992)\u001b[0m Ground location of port 1 is not determined.\n",
      "\u001b[2m\u001b[36m(event_loop pid=24992)\u001b[0m Ground location of port 2 is not determined.\n"
     ]
    },
    {
     "name": "stdout",
     "output_type": "stream",
     "text": [
      "\u001b[2m\u001b[36m(event_loop pid=24992)\u001b[0m Submitting the main script of simulation 1/1\n",
      "\u001b[2m\u001b[36m(event_loop pid=24992)\u001b[0m --------------------------------------------\n",
      "\u001b[2m\u001b[36m(event_loop pid=24992)\u001b[0m Simulation 1/1 Gmsh\n"
     ]
    },
    {
     "name": "stderr",
     "output_type": "stream",
     "text": [
      "\u001b[2m\u001b[36m(event_loop pid=1180)\u001b[0m Ground location of port 1 is not determined.\n",
      "\u001b[2m\u001b[36m(event_loop pid=1180)\u001b[0m Ground location of port 2 is not determined.\n"
     ]
    },
    {
     "name": "stdout",
     "output_type": "stream",
     "text": [
      "\u001b[2m\u001b[36m(event_loop pid=1180)\u001b[0m Submitting the main script of simulation 1/1\n",
      "\u001b[2m\u001b[36m(event_loop pid=1180)\u001b[0m --------------------------------------------\n",
      "\u001b[2m\u001b[36m(event_loop pid=1180)\u001b[0m Simulation 1/1 Gmsh\n",
      "\u001b[2m\u001b[36m(event_loop pid=15784)\u001b[0m Simulation 1/1 ElmerGrid\n",
      "\u001b[2m\u001b[36m(event_loop pid=20600)\u001b[0m Simulation 1/1 ElmerGrid\n",
      "\u001b[2m\u001b[36m(event_loop pid=1576)\u001b[0m Simulation 1/1 ElmerGrid\n",
      "\u001b[2m\u001b[36m(event_loop pid=24992)\u001b[0m Simulation 1/1 ElmerGrid\n",
      "\u001b[2m\u001b[36m(event_loop pid=1180)\u001b[0m Simulation 1/1 ElmerGrid\n",
      "\u001b[2m\u001b[36m(event_loop pid=15784)\u001b[0m Simulation 1/1 Elmer\n",
      "\u001b[2m\u001b[36m(event_loop pid=20600)\u001b[0m Simulation 1/1 Elmer\n",
      "\u001b[2m\u001b[36m(event_loop pid=1576)\u001b[0m Simulation 1/1 Elmer\n",
      "\u001b[2m\u001b[36m(event_loop pid=24992)\u001b[0m Simulation 1/1 Elmer\n",
      "\u001b[2m\u001b[36m(event_loop pid=15784)\u001b[0m Simulation 1/1 Paraview\n",
      "\u001b[2m\u001b[36m(event_loop pid=1180)\u001b[0m Simulation 1/1 Elmer\n",
      "\u001b[2m\u001b[36m(event_loop pid=1576)\u001b[0m Simulation 1/1 Paraview\n",
      "\u001b[2m\u001b[36m(event_loop pid=24992)\u001b[0m Simulation 1/1 Paraview\n",
      "\u001b[2m\u001b[36m(event_loop pid=20600)\u001b[0m Simulation 1/1 Paraview\n",
      "\u001b[2m\u001b[36m(event_loop pid=15784)\u001b[0m Simulation 1/1 write results json\n"
     ]
    },
    {
     "name": "stderr",
     "output_type": "stream",
     "text": [
      "2022-12-13 11:56:07,432\tWARNING optuna_search.py:549 -- 'params/ground_gap'\n",
      "C:\\Users\\NikoSavola\\AppData\\Roaming\\Python\\Python39\\site-packages\\optuna\\distributions.py:766: FutureWarning: UniformDistribution(high=700.0, low=200.0) is deprecated and internally converted to FloatDistribution(high=700.0, log=False, low=200.0, step=None). See https://github.com/optuna/optuna/issues/2941.\n",
      "  warnings.warn(message, FutureWarning)\n",
      "C:\\Users\\NikoSavola\\AppData\\Roaming\\Python\\Python39\\site-packages\\optuna\\distributions.py:766: FutureWarning: UniformDistribution(high=500.0, low=50.0) is deprecated and internally converted to FloatDistribution(high=500.0, log=False, low=50.0, step=None). See https://github.com/optuna/optuna/issues/2941.\n",
      "  warnings.warn(message, FutureWarning)\n",
      "C:\\Users\\NikoSavola\\AppData\\Roaming\\Python\\Python39\\site-packages\\optuna\\distributions.py:766: FutureWarning: UniformDistribution(high=300.0, low=50.0) is deprecated and internally converted to FloatDistribution(high=300.0, log=False, low=50.0, step=None). See https://github.com/optuna/optuna/issues/2941.\n",
      "  warnings.warn(message, FutureWarning)\n",
      "C:\\Users\\NikoSavola\\AppData\\Roaming\\Python\\Python39\\site-packages\\optuna\\distributions.py:766: FutureWarning: UniformDistribution(high=500.0, low=40.0) is deprecated and internally converted to FloatDistribution(high=500.0, log=False, low=40.0, step=None). See https://github.com/optuna/optuna/issues/2941.\n",
      "  warnings.warn(message, FutureWarning)\n",
      "C:\\Users\\NikoSavola\\AppData\\Roaming\\Python\\Python39\\site-packages\\optuna\\distributions.py:766: FutureWarning: UniformDistribution(high=40.0, low=20.0) is deprecated and internally converted to FloatDistribution(high=40.0, log=False, low=20.0, step=None). See https://github.com/optuna/optuna/issues/2941.\n",
      "  warnings.warn(message, FutureWarning)\n",
      "C:\\Users\\NikoSavola\\AppData\\Roaming\\Python\\Python39\\site-packages\\optuna\\distributions.py:766: FutureWarning: UniformDistribution(high=50.0, low=5.0) is deprecated and internally converted to FloatDistribution(high=50.0, log=False, low=5.0, step=None). See https://github.com/optuna/optuna/issues/2941.\n",
      "  warnings.warn(message, FutureWarning)\n",
      "C:\\Users\\NikoSavola\\AppData\\Roaming\\Python\\Python39\\site-packages\\optuna\\distributions.py:766: FutureWarning: UniformDistribution(high=1000.0, low=550.0) is deprecated and internally converted to FloatDistribution(high=1000.0, log=False, low=550.0, step=None). See https://github.com/optuna/optuna/issues/2941.\n",
      "  warnings.warn(message, FutureWarning)\n",
      "C:\\Users\\NikoSavola\\AppData\\Roaming\\Python\\Python39\\site-packages\\optuna\\distributions.py:766: FutureWarning: UniformDistribution(high=1000.0, low=400.0) is deprecated and internally converted to FloatDistribution(high=1000.0, log=False, low=400.0, step=None). See https://github.com/optuna/optuna/issues/2941.\n",
      "  warnings.warn(message, FutureWarning)\n",
      "C:\\Users\\NikoSavola\\AppData\\Roaming\\Python\\Python39\\site-packages\\optuna\\distributions.py:766: FutureWarning: UniformDistribution(high=0.0, low=-20.0) is deprecated and internally converted to FloatDistribution(high=0.0, log=False, low=-20.0, step=None). See https://github.com/optuna/optuna/issues/2941.\n",
      "  warnings.warn(message, FutureWarning)\n",
      "C:\\Users\\NikoSavola\\AppData\\Roaming\\Python\\Python39\\site-packages\\optuna\\distributions.py:766: FutureWarning: UniformDistribution(high=50.0, low=0.0) is deprecated and internally converted to FloatDistribution(high=50.0, log=False, low=0.0, step=None). See https://github.com/optuna/optuna/issues/2941.\n",
      "  warnings.warn(message, FutureWarning)\n",
      "C:\\Users\\NikoSavola\\AppData\\Roaming\\Python\\Python39\\site-packages\\optuna\\integration\\botorch.py:498: UserWarning: `constraints_func` was given but no call to it correctly computed constraints. Constraints passed to `candidates_func` will be `None`.\n",
      "  warnings.warn(\n",
      "C:\\Users\\NikoSavola\\AppData\\Roaming\\Python\\Python39\\site-packages\\optuna\\integration\\botorch.py:526: ExperimentalWarning: qei_candidates_func is experimental (supported from v2.4.0). The interface can change in the future.\n",
      "  candidates = self._candidates_func(params, values, con, bounds)\n"
     ]
    },
    {
     "name": "stdout",
     "output_type": "stream",
     "text": [
      "\u001b[2m\u001b[36m(event_loop pid=1576)\u001b[0m Simulation 1/1 write results json\n",
      "\u001b[2m\u001b[36m(event_loop pid=20600)\u001b[0m Simulation 1/1 write results json\n",
      "\u001b[2m\u001b[36m(event_loop pid=24992)\u001b[0m Simulation 1/1 write results json\n",
      "\u001b[2m\u001b[36m(event_loop pid=1180)\u001b[0m Simulation 1/1 Paraview\n"
     ]
    },
    {
     "name": "stderr",
     "output_type": "stream",
     "text": [
      "2022-12-13 11:56:08,196\tWARNING optuna_search.py:549 -- 'params/ground_gap'\n",
      "C:\\Users\\NikoSavola\\AppData\\Roaming\\Python\\Python39\\site-packages\\optuna\\distributions.py:766: FutureWarning: UniformDistribution(high=700.0, low=200.0) is deprecated and internally converted to FloatDistribution(high=700.0, log=False, low=200.0, step=None). See https://github.com/optuna/optuna/issues/2941.\n",
      "  warnings.warn(message, FutureWarning)\n",
      "C:\\Users\\NikoSavola\\AppData\\Roaming\\Python\\Python39\\site-packages\\optuna\\distributions.py:766: FutureWarning: UniformDistribution(high=500.0, low=50.0) is deprecated and internally converted to FloatDistribution(high=500.0, log=False, low=50.0, step=None). See https://github.com/optuna/optuna/issues/2941.\n",
      "  warnings.warn(message, FutureWarning)\n",
      "C:\\Users\\NikoSavola\\AppData\\Roaming\\Python\\Python39\\site-packages\\optuna\\distributions.py:766: FutureWarning: UniformDistribution(high=300.0, low=50.0) is deprecated and internally converted to FloatDistribution(high=300.0, log=False, low=50.0, step=None). See https://github.com/optuna/optuna/issues/2941.\n",
      "  warnings.warn(message, FutureWarning)\n",
      "C:\\Users\\NikoSavola\\AppData\\Roaming\\Python\\Python39\\site-packages\\optuna\\distributions.py:766: FutureWarning: UniformDistribution(high=500.0, low=40.0) is deprecated and internally converted to FloatDistribution(high=500.0, log=False, low=40.0, step=None). See https://github.com/optuna/optuna/issues/2941.\n",
      "  warnings.warn(message, FutureWarning)\n",
      "C:\\Users\\NikoSavola\\AppData\\Roaming\\Python\\Python39\\site-packages\\optuna\\distributions.py:766: FutureWarning: UniformDistribution(high=40.0, low=20.0) is deprecated and internally converted to FloatDistribution(high=40.0, log=False, low=20.0, step=None). See https://github.com/optuna/optuna/issues/2941.\n",
      "  warnings.warn(message, FutureWarning)\n",
      "C:\\Users\\NikoSavola\\AppData\\Roaming\\Python\\Python39\\site-packages\\optuna\\distributions.py:766: FutureWarning: UniformDistribution(high=50.0, low=5.0) is deprecated and internally converted to FloatDistribution(high=50.0, log=False, low=5.0, step=None). See https://github.com/optuna/optuna/issues/2941.\n",
      "  warnings.warn(message, FutureWarning)\n",
      "C:\\Users\\NikoSavola\\AppData\\Roaming\\Python\\Python39\\site-packages\\optuna\\distributions.py:766: FutureWarning: UniformDistribution(high=1000.0, low=550.0) is deprecated and internally converted to FloatDistribution(high=1000.0, log=False, low=550.0, step=None). See https://github.com/optuna/optuna/issues/2941.\n",
      "  warnings.warn(message, FutureWarning)\n",
      "C:\\Users\\NikoSavola\\AppData\\Roaming\\Python\\Python39\\site-packages\\optuna\\distributions.py:766: FutureWarning: UniformDistribution(high=1000.0, low=400.0) is deprecated and internally converted to FloatDistribution(high=1000.0, log=False, low=400.0, step=None). See https://github.com/optuna/optuna/issues/2941.\n",
      "  warnings.warn(message, FutureWarning)\n",
      "C:\\Users\\NikoSavola\\AppData\\Roaming\\Python\\Python39\\site-packages\\optuna\\distributions.py:766: FutureWarning: UniformDistribution(high=0.0, low=-20.0) is deprecated and internally converted to FloatDistribution(high=0.0, log=False, low=-20.0, step=None). See https://github.com/optuna/optuna/issues/2941.\n",
      "  warnings.warn(message, FutureWarning)\n",
      "C:\\Users\\NikoSavola\\AppData\\Roaming\\Python\\Python39\\site-packages\\optuna\\distributions.py:766: FutureWarning: UniformDistribution(high=50.0, low=0.0) is deprecated and internally converted to FloatDistribution(high=50.0, log=False, low=0.0, step=None). See https://github.com/optuna/optuna/issues/2941.\n",
      "  warnings.warn(message, FutureWarning)\n",
      "C:\\Users\\NikoSavola\\AppData\\Roaming\\Python\\Python39\\site-packages\\optuna\\integration\\botorch.py:498: UserWarning: `constraints_func` was given but no call to it correctly computed constraints. Constraints passed to `candidates_func` will be `None`.\n",
      "  warnings.warn(\n",
      "C:\\Users\\NikoSavola\\AppData\\Roaming\\Python\\Python39\\site-packages\\optuna\\integration\\botorch.py:526: ExperimentalWarning: qei_candidates_func is experimental (supported from v2.4.0). The interface can change in the future.\n",
      "  candidates = self._candidates_func(params, values, con, bounds)\n",
      "\u001b[2m\u001b[36m(event_loop pid=20600)\u001b[0m Ground location of port 1 is not determined.\n",
      "\u001b[2m\u001b[36m(event_loop pid=20600)\u001b[0m Ground location of port 2 is not determined.\n"
     ]
    },
    {
     "name": "stdout",
     "output_type": "stream",
     "text": [
      "\u001b[2m\u001b[36m(event_loop pid=1180)\u001b[0m Simulation 1/1 write results json\n",
      "\u001b[2m\u001b[36m(event_loop pid=20600)\u001b[0m Submitting the main script of simulation 1/1\n",
      "\u001b[2m\u001b[36m(event_loop pid=20600)\u001b[0m --------------------------------------------\n",
      "\u001b[2m\u001b[36m(event_loop pid=20600)\u001b[0m Simulation 1/1 Gmsh\n"
     ]
    },
    {
     "name": "stderr",
     "output_type": "stream",
     "text": [
      "2022-12-13 11:56:08,650\tWARNING optuna_search.py:549 -- 'params/ground_gap'\n",
      "C:\\Users\\NikoSavola\\AppData\\Roaming\\Python\\Python39\\site-packages\\optuna\\distributions.py:766: FutureWarning: UniformDistribution(high=700.0, low=200.0) is deprecated and internally converted to FloatDistribution(high=700.0, log=False, low=200.0, step=None). See https://github.com/optuna/optuna/issues/2941.\n",
      "  warnings.warn(message, FutureWarning)\n",
      "C:\\Users\\NikoSavola\\AppData\\Roaming\\Python\\Python39\\site-packages\\optuna\\distributions.py:766: FutureWarning: UniformDistribution(high=500.0, low=50.0) is deprecated and internally converted to FloatDistribution(high=500.0, log=False, low=50.0, step=None). See https://github.com/optuna/optuna/issues/2941.\n",
      "  warnings.warn(message, FutureWarning)\n",
      "C:\\Users\\NikoSavola\\AppData\\Roaming\\Python\\Python39\\site-packages\\optuna\\distributions.py:766: FutureWarning: UniformDistribution(high=300.0, low=50.0) is deprecated and internally converted to FloatDistribution(high=300.0, log=False, low=50.0, step=None). See https://github.com/optuna/optuna/issues/2941.\n",
      "  warnings.warn(message, FutureWarning)\n",
      "C:\\Users\\NikoSavola\\AppData\\Roaming\\Python\\Python39\\site-packages\\optuna\\distributions.py:766: FutureWarning: UniformDistribution(high=500.0, low=40.0) is deprecated and internally converted to FloatDistribution(high=500.0, log=False, low=40.0, step=None). See https://github.com/optuna/optuna/issues/2941.\n",
      "  warnings.warn(message, FutureWarning)\n",
      "C:\\Users\\NikoSavola\\AppData\\Roaming\\Python\\Python39\\site-packages\\optuna\\distributions.py:766: FutureWarning: UniformDistribution(high=40.0, low=20.0) is deprecated and internally converted to FloatDistribution(high=40.0, log=False, low=20.0, step=None). See https://github.com/optuna/optuna/issues/2941.\n",
      "  warnings.warn(message, FutureWarning)\n",
      "C:\\Users\\NikoSavola\\AppData\\Roaming\\Python\\Python39\\site-packages\\optuna\\distributions.py:766: FutureWarning: UniformDistribution(high=50.0, low=5.0) is deprecated and internally converted to FloatDistribution(high=50.0, log=False, low=5.0, step=None). See https://github.com/optuna/optuna/issues/2941.\n",
      "  warnings.warn(message, FutureWarning)\n",
      "C:\\Users\\NikoSavola\\AppData\\Roaming\\Python\\Python39\\site-packages\\optuna\\distributions.py:766: FutureWarning: UniformDistribution(high=1000.0, low=550.0) is deprecated and internally converted to FloatDistribution(high=1000.0, log=False, low=550.0, step=None). See https://github.com/optuna/optuna/issues/2941.\n",
      "  warnings.warn(message, FutureWarning)\n",
      "C:\\Users\\NikoSavola\\AppData\\Roaming\\Python\\Python39\\site-packages\\optuna\\distributions.py:766: FutureWarning: UniformDistribution(high=1000.0, low=400.0) is deprecated and internally converted to FloatDistribution(high=1000.0, log=False, low=400.0, step=None). See https://github.com/optuna/optuna/issues/2941.\n",
      "  warnings.warn(message, FutureWarning)\n",
      "C:\\Users\\NikoSavola\\AppData\\Roaming\\Python\\Python39\\site-packages\\optuna\\distributions.py:766: FutureWarning: UniformDistribution(high=0.0, low=-20.0) is deprecated and internally converted to FloatDistribution(high=0.0, log=False, low=-20.0, step=None). See https://github.com/optuna/optuna/issues/2941.\n",
      "  warnings.warn(message, FutureWarning)\n",
      "C:\\Users\\NikoSavola\\AppData\\Roaming\\Python\\Python39\\site-packages\\optuna\\distributions.py:766: FutureWarning: UniformDistribution(high=50.0, low=0.0) is deprecated and internally converted to FloatDistribution(high=50.0, log=False, low=0.0, step=None). See https://github.com/optuna/optuna/issues/2941.\n",
      "  warnings.warn(message, FutureWarning)\n",
      "C:\\Users\\NikoSavola\\AppData\\Roaming\\Python\\Python39\\site-packages\\optuna\\integration\\botorch.py:498: UserWarning: `constraints_func` was given but no call to it correctly computed constraints. Constraints passed to `candidates_func` will be `None`.\n",
      "  warnings.warn(\n",
      "C:\\Users\\NikoSavola\\AppData\\Roaming\\Python\\Python39\\site-packages\\optuna\\integration\\botorch.py:526: ExperimentalWarning: qei_candidates_func is experimental (supported from v2.4.0). The interface can change in the future.\n",
      "  candidates = self._candidates_func(params, values, con, bounds)\n",
      "2022-12-13 11:56:09,075\tWARNING optuna_search.py:549 -- 'params/ground_gap'\n",
      "C:\\Users\\NikoSavola\\AppData\\Roaming\\Python\\Python39\\site-packages\\optuna\\distributions.py:766: FutureWarning: UniformDistribution(high=700.0, low=200.0) is deprecated and internally converted to FloatDistribution(high=700.0, log=False, low=200.0, step=None). See https://github.com/optuna/optuna/issues/2941.\n",
      "  warnings.warn(message, FutureWarning)\n",
      "C:\\Users\\NikoSavola\\AppData\\Roaming\\Python\\Python39\\site-packages\\optuna\\distributions.py:766: FutureWarning: UniformDistribution(high=500.0, low=50.0) is deprecated and internally converted to FloatDistribution(high=500.0, log=False, low=50.0, step=None). See https://github.com/optuna/optuna/issues/2941.\n",
      "  warnings.warn(message, FutureWarning)\n",
      "C:\\Users\\NikoSavola\\AppData\\Roaming\\Python\\Python39\\site-packages\\optuna\\distributions.py:766: FutureWarning: UniformDistribution(high=300.0, low=50.0) is deprecated and internally converted to FloatDistribution(high=300.0, log=False, low=50.0, step=None). See https://github.com/optuna/optuna/issues/2941.\n",
      "  warnings.warn(message, FutureWarning)\n",
      "C:\\Users\\NikoSavola\\AppData\\Roaming\\Python\\Python39\\site-packages\\optuna\\distributions.py:766: FutureWarning: UniformDistribution(high=500.0, low=40.0) is deprecated and internally converted to FloatDistribution(high=500.0, log=False, low=40.0, step=None). See https://github.com/optuna/optuna/issues/2941.\n",
      "  warnings.warn(message, FutureWarning)\n",
      "C:\\Users\\NikoSavola\\AppData\\Roaming\\Python\\Python39\\site-packages\\optuna\\distributions.py:766: FutureWarning: UniformDistribution(high=40.0, low=20.0) is deprecated and internally converted to FloatDistribution(high=40.0, log=False, low=20.0, step=None). See https://github.com/optuna/optuna/issues/2941.\n",
      "  warnings.warn(message, FutureWarning)\n",
      "C:\\Users\\NikoSavola\\AppData\\Roaming\\Python\\Python39\\site-packages\\optuna\\distributions.py:766: FutureWarning: UniformDistribution(high=50.0, low=5.0) is deprecated and internally converted to FloatDistribution(high=50.0, log=False, low=5.0, step=None). See https://github.com/optuna/optuna/issues/2941.\n",
      "  warnings.warn(message, FutureWarning)\n",
      "C:\\Users\\NikoSavola\\AppData\\Roaming\\Python\\Python39\\site-packages\\optuna\\distributions.py:766: FutureWarning: UniformDistribution(high=1000.0, low=550.0) is deprecated and internally converted to FloatDistribution(high=1000.0, log=False, low=550.0, step=None). See https://github.com/optuna/optuna/issues/2941.\n",
      "  warnings.warn(message, FutureWarning)\n",
      "C:\\Users\\NikoSavola\\AppData\\Roaming\\Python\\Python39\\site-packages\\optuna\\distributions.py:766: FutureWarning: UniformDistribution(high=1000.0, low=400.0) is deprecated and internally converted to FloatDistribution(high=1000.0, log=False, low=400.0, step=None). See https://github.com/optuna/optuna/issues/2941.\n",
      "  warnings.warn(message, FutureWarning)\n",
      "C:\\Users\\NikoSavola\\AppData\\Roaming\\Python\\Python39\\site-packages\\optuna\\distributions.py:766: FutureWarning: UniformDistribution(high=0.0, low=-20.0) is deprecated and internally converted to FloatDistribution(high=0.0, log=False, low=-20.0, step=None). See https://github.com/optuna/optuna/issues/2941.\n",
      "  warnings.warn(message, FutureWarning)\n",
      "C:\\Users\\NikoSavola\\AppData\\Roaming\\Python\\Python39\\site-packages\\optuna\\distributions.py:766: FutureWarning: UniformDistribution(high=50.0, low=0.0) is deprecated and internally converted to FloatDistribution(high=50.0, log=False, low=0.0, step=None). See https://github.com/optuna/optuna/issues/2941.\n",
      "  warnings.warn(message, FutureWarning)\n",
      "C:\\Users\\NikoSavola\\AppData\\Roaming\\Python\\Python39\\site-packages\\optuna\\integration\\botorch.py:498: UserWarning: `constraints_func` was given but no call to it correctly computed constraints. Constraints passed to `candidates_func` will be `None`.\n",
      "  warnings.warn(\n",
      "C:\\Users\\NikoSavola\\AppData\\Roaming\\Python\\Python39\\site-packages\\optuna\\integration\\botorch.py:526: ExperimentalWarning: qei_candidates_func is experimental (supported from v2.4.0). The interface can change in the future.\n",
      "  candidates = self._candidates_func(params, values, con, bounds)\n",
      "\u001b[2m\u001b[36m(event_loop pid=24992)\u001b[0m Ground location of port 1 is not determined.\n",
      "\u001b[2m\u001b[36m(event_loop pid=24992)\u001b[0m Ground location of port 2 is not determined.\n"
     ]
    },
    {
     "name": "stdout",
     "output_type": "stream",
     "text": [
      "\u001b[2m\u001b[36m(event_loop pid=24992)\u001b[0m Submitting the main script of simulation 1/1\n",
      "\u001b[2m\u001b[36m(event_loop pid=24992)\u001b[0m --------------------------------------------\n",
      "\u001b[2m\u001b[36m(event_loop pid=24992)\u001b[0m Simulation 1/1 Gmsh\n"
     ]
    },
    {
     "name": "stderr",
     "output_type": "stream",
     "text": [
      "2022-12-13 11:56:11,165\tWARNING optuna_search.py:549 -- 'params/ground_gap'\n",
      "C:\\Users\\NikoSavola\\AppData\\Roaming\\Python\\Python39\\site-packages\\optuna\\distributions.py:766: FutureWarning: UniformDistribution(high=700.0, low=200.0) is deprecated and internally converted to FloatDistribution(high=700.0, log=False, low=200.0, step=None). See https://github.com/optuna/optuna/issues/2941.\n",
      "  warnings.warn(message, FutureWarning)\n",
      "C:\\Users\\NikoSavola\\AppData\\Roaming\\Python\\Python39\\site-packages\\optuna\\distributions.py:766: FutureWarning: UniformDistribution(high=500.0, low=50.0) is deprecated and internally converted to FloatDistribution(high=500.0, log=False, low=50.0, step=None). See https://github.com/optuna/optuna/issues/2941.\n",
      "  warnings.warn(message, FutureWarning)\n",
      "C:\\Users\\NikoSavola\\AppData\\Roaming\\Python\\Python39\\site-packages\\optuna\\distributions.py:766: FutureWarning: UniformDistribution(high=300.0, low=50.0) is deprecated and internally converted to FloatDistribution(high=300.0, log=False, low=50.0, step=None). See https://github.com/optuna/optuna/issues/2941.\n",
      "  warnings.warn(message, FutureWarning)\n",
      "C:\\Users\\NikoSavola\\AppData\\Roaming\\Python\\Python39\\site-packages\\optuna\\distributions.py:766: FutureWarning: UniformDistribution(high=500.0, low=40.0) is deprecated and internally converted to FloatDistribution(high=500.0, log=False, low=40.0, step=None). See https://github.com/optuna/optuna/issues/2941.\n",
      "  warnings.warn(message, FutureWarning)\n",
      "C:\\Users\\NikoSavola\\AppData\\Roaming\\Python\\Python39\\site-packages\\optuna\\distributions.py:766: FutureWarning: UniformDistribution(high=40.0, low=20.0) is deprecated and internally converted to FloatDistribution(high=40.0, log=False, low=20.0, step=None). See https://github.com/optuna/optuna/issues/2941.\n",
      "  warnings.warn(message, FutureWarning)\n",
      "C:\\Users\\NikoSavola\\AppData\\Roaming\\Python\\Python39\\site-packages\\optuna\\distributions.py:766: FutureWarning: UniformDistribution(high=50.0, low=5.0) is deprecated and internally converted to FloatDistribution(high=50.0, log=False, low=5.0, step=None). See https://github.com/optuna/optuna/issues/2941.\n",
      "  warnings.warn(message, FutureWarning)\n",
      "C:\\Users\\NikoSavola\\AppData\\Roaming\\Python\\Python39\\site-packages\\optuna\\distributions.py:766: FutureWarning: UniformDistribution(high=1000.0, low=550.0) is deprecated and internally converted to FloatDistribution(high=1000.0, log=False, low=550.0, step=None). See https://github.com/optuna/optuna/issues/2941.\n",
      "  warnings.warn(message, FutureWarning)\n",
      "C:\\Users\\NikoSavola\\AppData\\Roaming\\Python\\Python39\\site-packages\\optuna\\distributions.py:766: FutureWarning: UniformDistribution(high=1000.0, low=400.0) is deprecated and internally converted to FloatDistribution(high=1000.0, log=False, low=400.0, step=None). See https://github.com/optuna/optuna/issues/2941.\n",
      "  warnings.warn(message, FutureWarning)\n",
      "C:\\Users\\NikoSavola\\AppData\\Roaming\\Python\\Python39\\site-packages\\optuna\\distributions.py:766: FutureWarning: UniformDistribution(high=0.0, low=-20.0) is deprecated and internally converted to FloatDistribution(high=0.0, log=False, low=-20.0, step=None). See https://github.com/optuna/optuna/issues/2941.\n",
      "  warnings.warn(message, FutureWarning)\n",
      "C:\\Users\\NikoSavola\\AppData\\Roaming\\Python\\Python39\\site-packages\\optuna\\distributions.py:766: FutureWarning: UniformDistribution(high=50.0, low=0.0) is deprecated and internally converted to FloatDistribution(high=50.0, log=False, low=0.0, step=None). See https://github.com/optuna/optuna/issues/2941.\n",
      "  warnings.warn(message, FutureWarning)\n",
      "C:\\Users\\NikoSavola\\AppData\\Roaming\\Python\\Python39\\site-packages\\optuna\\integration\\botorch.py:498: UserWarning: `constraints_func` was given but no call to it correctly computed constraints. Constraints passed to `candidates_func` will be `None`.\n",
      "  warnings.warn(\n",
      "C:\\Users\\NikoSavola\\AppData\\Roaming\\Python\\Python39\\site-packages\\optuna\\integration\\botorch.py:526: ExperimentalWarning: qei_candidates_func is experimental (supported from v2.4.0). The interface can change in the future.\n",
      "  candidates = self._candidates_func(params, values, con, bounds)\n",
      "\u001b[2m\u001b[36m(event_loop pid=3304)\u001b[0m Ground location of port 1 is not determined.\n",
      "\u001b[2m\u001b[36m(event_loop pid=3304)\u001b[0m Ground location of port 2 is not determined.\n"
     ]
    },
    {
     "name": "stdout",
     "output_type": "stream",
     "text": [
      "\u001b[2m\u001b[36m(event_loop pid=3304)\u001b[0m Submitting the main script of simulation 1/1\n",
      "\u001b[2m\u001b[36m(event_loop pid=3304)\u001b[0m --------------------------------------------\n",
      "\u001b[2m\u001b[36m(event_loop pid=3304)\u001b[0m Simulation 1/1 Gmsh\n"
     ]
    },
    {
     "name": "stderr",
     "output_type": "stream",
     "text": [
      "\u001b[2m\u001b[36m(event_loop pid=38540)\u001b[0m Ground location of port 1 is not determined.\n",
      "\u001b[2m\u001b[36m(event_loop pid=38540)\u001b[0m Ground location of port 2 is not determined.\n"
     ]
    },
    {
     "name": "stdout",
     "output_type": "stream",
     "text": [
      "\u001b[2m\u001b[36m(event_loop pid=38540)\u001b[0m Submitting the main script of simulation 1/1\n",
      "\u001b[2m\u001b[36m(event_loop pid=38540)\u001b[0m --------------------------------------------\n",
      "\u001b[2m\u001b[36m(event_loop pid=38540)\u001b[0m Simulation 1/1 Gmsh\n"
     ]
    },
    {
     "name": "stderr",
     "output_type": "stream",
     "text": [
      "\u001b[2m\u001b[36m(event_loop pid=38316)\u001b[0m Ground location of port 1 is not determined.\n",
      "\u001b[2m\u001b[36m(event_loop pid=38316)\u001b[0m Ground location of port 2 is not determined.\n"
     ]
    },
    {
     "name": "stdout",
     "output_type": "stream",
     "text": [
      "\u001b[2m\u001b[36m(event_loop pid=38316)\u001b[0m Submitting the main script of simulation 1/1\n",
      "\u001b[2m\u001b[36m(event_loop pid=38316)\u001b[0m --------------------------------------------\n",
      "\u001b[2m\u001b[36m(event_loop pid=38316)\u001b[0m Simulation 1/1 Gmsh\n",
      "\u001b[2m\u001b[36m(event_loop pid=20600)\u001b[0m Simulation 1/1 ElmerGrid\n",
      "\u001b[2m\u001b[36m(event_loop pid=24992)\u001b[0m Simulation 1/1 ElmerGrid\n",
      "\u001b[2m\u001b[36m(event_loop pid=3304)\u001b[0m Simulation 1/1 ElmerGrid\n",
      "\u001b[2m\u001b[36m(event_loop pid=20600)\u001b[0m Simulation 1/1 Elmer\n",
      "\u001b[2m\u001b[36m(event_loop pid=38540)\u001b[0m Simulation 1/1 ElmerGrid\n",
      "\u001b[2m\u001b[36m(event_loop pid=24992)\u001b[0m Simulation 1/1 Elmer\n",
      "\u001b[2m\u001b[36m(event_loop pid=38316)\u001b[0m Simulation 1/1 ElmerGrid\n",
      "\u001b[2m\u001b[36m(event_loop pid=20600)\u001b[0m Simulation 1/1 Paraview\n",
      "\u001b[2m\u001b[36m(event_loop pid=3304)\u001b[0m Simulation 1/1 Elmer\n",
      "\u001b[2m\u001b[36m(event_loop pid=20600)\u001b[0m Simulation 1/1 write results json\n",
      "\u001b[2m\u001b[36m(event_loop pid=24992)\u001b[0m Simulation 1/1 Paraview\n"
     ]
    },
    {
     "name": "stderr",
     "output_type": "stream",
     "text": [
      "2022-12-13 11:56:31,020\tWARNING optuna_search.py:549 -- 'params/ground_gap'\n",
      "C:\\Users\\NikoSavola\\AppData\\Roaming\\Python\\Python39\\site-packages\\optuna\\distributions.py:766: FutureWarning: UniformDistribution(high=700.0, low=200.0) is deprecated and internally converted to FloatDistribution(high=700.0, log=False, low=200.0, step=None). See https://github.com/optuna/optuna/issues/2941.\n",
      "  warnings.warn(message, FutureWarning)\n",
      "C:\\Users\\NikoSavola\\AppData\\Roaming\\Python\\Python39\\site-packages\\optuna\\distributions.py:766: FutureWarning: UniformDistribution(high=500.0, low=50.0) is deprecated and internally converted to FloatDistribution(high=500.0, log=False, low=50.0, step=None). See https://github.com/optuna/optuna/issues/2941.\n",
      "  warnings.warn(message, FutureWarning)\n",
      "C:\\Users\\NikoSavola\\AppData\\Roaming\\Python\\Python39\\site-packages\\optuna\\distributions.py:766: FutureWarning: UniformDistribution(high=300.0, low=50.0) is deprecated and internally converted to FloatDistribution(high=300.0, log=False, low=50.0, step=None). See https://github.com/optuna/optuna/issues/2941.\n",
      "  warnings.warn(message, FutureWarning)\n",
      "C:\\Users\\NikoSavola\\AppData\\Roaming\\Python\\Python39\\site-packages\\optuna\\distributions.py:766: FutureWarning: UniformDistribution(high=500.0, low=40.0) is deprecated and internally converted to FloatDistribution(high=500.0, log=False, low=40.0, step=None). See https://github.com/optuna/optuna/issues/2941.\n",
      "  warnings.warn(message, FutureWarning)\n",
      "C:\\Users\\NikoSavola\\AppData\\Roaming\\Python\\Python39\\site-packages\\optuna\\distributions.py:766: FutureWarning: UniformDistribution(high=40.0, low=20.0) is deprecated and internally converted to FloatDistribution(high=40.0, log=False, low=20.0, step=None). See https://github.com/optuna/optuna/issues/2941.\n",
      "  warnings.warn(message, FutureWarning)\n",
      "C:\\Users\\NikoSavola\\AppData\\Roaming\\Python\\Python39\\site-packages\\optuna\\distributions.py:766: FutureWarning: UniformDistribution(high=50.0, low=5.0) is deprecated and internally converted to FloatDistribution(high=50.0, log=False, low=5.0, step=None). See https://github.com/optuna/optuna/issues/2941.\n",
      "  warnings.warn(message, FutureWarning)\n",
      "C:\\Users\\NikoSavola\\AppData\\Roaming\\Python\\Python39\\site-packages\\optuna\\distributions.py:766: FutureWarning: UniformDistribution(high=1000.0, low=550.0) is deprecated and internally converted to FloatDistribution(high=1000.0, log=False, low=550.0, step=None). See https://github.com/optuna/optuna/issues/2941.\n",
      "  warnings.warn(message, FutureWarning)\n",
      "C:\\Users\\NikoSavola\\AppData\\Roaming\\Python\\Python39\\site-packages\\optuna\\distributions.py:766: FutureWarning: UniformDistribution(high=1000.0, low=400.0) is deprecated and internally converted to FloatDistribution(high=1000.0, log=False, low=400.0, step=None). See https://github.com/optuna/optuna/issues/2941.\n",
      "  warnings.warn(message, FutureWarning)\n",
      "C:\\Users\\NikoSavola\\AppData\\Roaming\\Python\\Python39\\site-packages\\optuna\\distributions.py:766: FutureWarning: UniformDistribution(high=0.0, low=-20.0) is deprecated and internally converted to FloatDistribution(high=0.0, log=False, low=-20.0, step=None). See https://github.com/optuna/optuna/issues/2941.\n",
      "  warnings.warn(message, FutureWarning)\n",
      "C:\\Users\\NikoSavola\\AppData\\Roaming\\Python\\Python39\\site-packages\\optuna\\distributions.py:766: FutureWarning: UniformDistribution(high=50.0, low=0.0) is deprecated and internally converted to FloatDistribution(high=50.0, log=False, low=0.0, step=None). See https://github.com/optuna/optuna/issues/2941.\n",
      "  warnings.warn(message, FutureWarning)\n",
      "C:\\Users\\NikoSavola\\AppData\\Roaming\\Python\\Python39\\site-packages\\optuna\\integration\\botorch.py:498: UserWarning: `constraints_func` was given but no call to it correctly computed constraints. Constraints passed to `candidates_func` will be `None`.\n",
      "  warnings.warn(\n",
      "C:\\Users\\NikoSavola\\AppData\\Roaming\\Python\\Python39\\site-packages\\optuna\\integration\\botorch.py:526: ExperimentalWarning: qei_candidates_func is experimental (supported from v2.4.0). The interface can change in the future.\n",
      "  candidates = self._candidates_func(params, values, con, bounds)\n"
     ]
    },
    {
     "name": "stdout",
     "output_type": "stream",
     "text": [
      "\u001b[2m\u001b[36m(event_loop pid=24992)\u001b[0m Simulation 1/1 write results json\n",
      "\u001b[2m\u001b[36m(event_loop pid=3304)\u001b[0m Simulation 1/1 Paraview\n",
      "\u001b[2m\u001b[36m(event_loop pid=38540)\u001b[0m Simulation 1/1 Elmer\n"
     ]
    },
    {
     "name": "stderr",
     "output_type": "stream",
     "text": [
      "2022-12-13 11:56:31,722\tWARNING optuna_search.py:549 -- 'params/ground_gap'\n"
     ]
    },
    {
     "name": "stdout",
     "output_type": "stream",
     "text": [
      "\u001b[2m\u001b[36m(event_loop pid=3304)\u001b[0m Simulation 1/1 write results json\n"
     ]
    },
    {
     "name": "stderr",
     "output_type": "stream",
     "text": [
      "C:\\Users\\NikoSavola\\AppData\\Roaming\\Python\\Python39\\site-packages\\optuna\\distributions.py:766: FutureWarning: UniformDistribution(high=700.0, low=200.0) is deprecated and internally converted to FloatDistribution(high=700.0, log=False, low=200.0, step=None). See https://github.com/optuna/optuna/issues/2941.\n",
      "  warnings.warn(message, FutureWarning)\n",
      "C:\\Users\\NikoSavola\\AppData\\Roaming\\Python\\Python39\\site-packages\\optuna\\distributions.py:766: FutureWarning: UniformDistribution(high=500.0, low=50.0) is deprecated and internally converted to FloatDistribution(high=500.0, log=False, low=50.0, step=None). See https://github.com/optuna/optuna/issues/2941.\n",
      "  warnings.warn(message, FutureWarning)\n",
      "C:\\Users\\NikoSavola\\AppData\\Roaming\\Python\\Python39\\site-packages\\optuna\\distributions.py:766: FutureWarning: UniformDistribution(high=300.0, low=50.0) is deprecated and internally converted to FloatDistribution(high=300.0, log=False, low=50.0, step=None). See https://github.com/optuna/optuna/issues/2941.\n",
      "  warnings.warn(message, FutureWarning)\n",
      "C:\\Users\\NikoSavola\\AppData\\Roaming\\Python\\Python39\\site-packages\\optuna\\distributions.py:766: FutureWarning: UniformDistribution(high=500.0, low=40.0) is deprecated and internally converted to FloatDistribution(high=500.0, log=False, low=40.0, step=None). See https://github.com/optuna/optuna/issues/2941.\n",
      "  warnings.warn(message, FutureWarning)\n",
      "C:\\Users\\NikoSavola\\AppData\\Roaming\\Python\\Python39\\site-packages\\optuna\\distributions.py:766: FutureWarning: UniformDistribution(high=40.0, low=20.0) is deprecated and internally converted to FloatDistribution(high=40.0, log=False, low=20.0, step=None). See https://github.com/optuna/optuna/issues/2941.\n",
      "  warnings.warn(message, FutureWarning)\n",
      "C:\\Users\\NikoSavola\\AppData\\Roaming\\Python\\Python39\\site-packages\\optuna\\distributions.py:766: FutureWarning: UniformDistribution(high=50.0, low=5.0) is deprecated and internally converted to FloatDistribution(high=50.0, log=False, low=5.0, step=None). See https://github.com/optuna/optuna/issues/2941.\n",
      "  warnings.warn(message, FutureWarning)\n",
      "C:\\Users\\NikoSavola\\AppData\\Roaming\\Python\\Python39\\site-packages\\optuna\\distributions.py:766: FutureWarning: UniformDistribution(high=1000.0, low=550.0) is deprecated and internally converted to FloatDistribution(high=1000.0, log=False, low=550.0, step=None). See https://github.com/optuna/optuna/issues/2941.\n",
      "  warnings.warn(message, FutureWarning)\n",
      "C:\\Users\\NikoSavola\\AppData\\Roaming\\Python\\Python39\\site-packages\\optuna\\distributions.py:766: FutureWarning: UniformDistribution(high=1000.0, low=400.0) is deprecated and internally converted to FloatDistribution(high=1000.0, log=False, low=400.0, step=None). See https://github.com/optuna/optuna/issues/2941.\n",
      "  warnings.warn(message, FutureWarning)\n",
      "C:\\Users\\NikoSavola\\AppData\\Roaming\\Python\\Python39\\site-packages\\optuna\\distributions.py:766: FutureWarning: UniformDistribution(high=0.0, low=-20.0) is deprecated and internally converted to FloatDistribution(high=0.0, log=False, low=-20.0, step=None). See https://github.com/optuna/optuna/issues/2941.\n",
      "  warnings.warn(message, FutureWarning)\n",
      "C:\\Users\\NikoSavola\\AppData\\Roaming\\Python\\Python39\\site-packages\\optuna\\distributions.py:766: FutureWarning: UniformDistribution(high=50.0, low=0.0) is deprecated and internally converted to FloatDistribution(high=50.0, log=False, low=0.0, step=None). See https://github.com/optuna/optuna/issues/2941.\n",
      "  warnings.warn(message, FutureWarning)\n",
      "C:\\Users\\NikoSavola\\AppData\\Roaming\\Python\\Python39\\site-packages\\optuna\\integration\\botorch.py:498: UserWarning: `constraints_func` was given but no call to it correctly computed constraints. Constraints passed to `candidates_func` will be `None`.\n",
      "  warnings.warn(\n",
      "C:\\Users\\NikoSavola\\AppData\\Roaming\\Python\\Python39\\site-packages\\optuna\\integration\\botorch.py:526: ExperimentalWarning: qei_candidates_func is experimental (supported from v2.4.0). The interface can change in the future.\n",
      "  candidates = self._candidates_func(params, values, con, bounds)\n",
      "\u001b[2m\u001b[36m(event_loop pid=24992)\u001b[0m Ground location of port 1 is not determined.\n",
      "\u001b[2m\u001b[36m(event_loop pid=24992)\u001b[0m Ground location of port 2 is not determined.\n"
     ]
    },
    {
     "name": "stdout",
     "output_type": "stream",
     "text": [
      "\u001b[2m\u001b[36m(event_loop pid=24992)\u001b[0m Submitting the main script of simulation 1/1\n",
      "\u001b[2m\u001b[36m(event_loop pid=24992)\u001b[0m --------------------------------------------\n",
      "\u001b[2m\u001b[36m(event_loop pid=24992)\u001b[0m Simulation 1/1 Gmsh\n",
      "\u001b[2m\u001b[36m(event_loop pid=38316)\u001b[0m Simulation 1/1 Elmer\n",
      "\u001b[2m\u001b[36m(event_loop pid=38540)\u001b[0m Simulation 1/1 Paraview\n",
      "\u001b[2m\u001b[36m(event_loop pid=38540)\u001b[0m Simulation 1/1 write results json\n",
      "\u001b[2m\u001b[36m(event_loop pid=38316)\u001b[0m Simulation 1/1 Paraview\n",
      "\u001b[2m\u001b[36m(event_loop pid=38316)\u001b[0m Simulation 1/1 write results json\n"
     ]
    },
    {
     "name": "stderr",
     "output_type": "stream",
     "text": [
      "2022-12-13 11:56:38,570\tWARNING optuna_search.py:549 -- 'params/ground_gap'\n",
      "C:\\Users\\NikoSavola\\AppData\\Roaming\\Python\\Python39\\site-packages\\optuna\\distributions.py:766: FutureWarning: UniformDistribution(high=700.0, low=200.0) is deprecated and internally converted to FloatDistribution(high=700.0, log=False, low=200.0, step=None). See https://github.com/optuna/optuna/issues/2941.\n",
      "  warnings.warn(message, FutureWarning)\n",
      "C:\\Users\\NikoSavola\\AppData\\Roaming\\Python\\Python39\\site-packages\\optuna\\distributions.py:766: FutureWarning: UniformDistribution(high=500.0, low=50.0) is deprecated and internally converted to FloatDistribution(high=500.0, log=False, low=50.0, step=None). See https://github.com/optuna/optuna/issues/2941.\n",
      "  warnings.warn(message, FutureWarning)\n",
      "C:\\Users\\NikoSavola\\AppData\\Roaming\\Python\\Python39\\site-packages\\optuna\\distributions.py:766: FutureWarning: UniformDistribution(high=300.0, low=50.0) is deprecated and internally converted to FloatDistribution(high=300.0, log=False, low=50.0, step=None). See https://github.com/optuna/optuna/issues/2941.\n",
      "  warnings.warn(message, FutureWarning)\n",
      "C:\\Users\\NikoSavola\\AppData\\Roaming\\Python\\Python39\\site-packages\\optuna\\distributions.py:766: FutureWarning: UniformDistribution(high=500.0, low=40.0) is deprecated and internally converted to FloatDistribution(high=500.0, log=False, low=40.0, step=None). See https://github.com/optuna/optuna/issues/2941.\n",
      "  warnings.warn(message, FutureWarning)\n",
      "C:\\Users\\NikoSavola\\AppData\\Roaming\\Python\\Python39\\site-packages\\optuna\\distributions.py:766: FutureWarning: UniformDistribution(high=40.0, low=20.0) is deprecated and internally converted to FloatDistribution(high=40.0, log=False, low=20.0, step=None). See https://github.com/optuna/optuna/issues/2941.\n",
      "  warnings.warn(message, FutureWarning)\n",
      "C:\\Users\\NikoSavola\\AppData\\Roaming\\Python\\Python39\\site-packages\\optuna\\distributions.py:766: FutureWarning: UniformDistribution(high=50.0, low=5.0) is deprecated and internally converted to FloatDistribution(high=50.0, log=False, low=5.0, step=None). See https://github.com/optuna/optuna/issues/2941.\n",
      "  warnings.warn(message, FutureWarning)\n",
      "C:\\Users\\NikoSavola\\AppData\\Roaming\\Python\\Python39\\site-packages\\optuna\\distributions.py:766: FutureWarning: UniformDistribution(high=1000.0, low=550.0) is deprecated and internally converted to FloatDistribution(high=1000.0, log=False, low=550.0, step=None). See https://github.com/optuna/optuna/issues/2941.\n",
      "  warnings.warn(message, FutureWarning)\n",
      "C:\\Users\\NikoSavola\\AppData\\Roaming\\Python\\Python39\\site-packages\\optuna\\distributions.py:766: FutureWarning: UniformDistribution(high=1000.0, low=400.0) is deprecated and internally converted to FloatDistribution(high=1000.0, log=False, low=400.0, step=None). See https://github.com/optuna/optuna/issues/2941.\n",
      "  warnings.warn(message, FutureWarning)\n",
      "C:\\Users\\NikoSavola\\AppData\\Roaming\\Python\\Python39\\site-packages\\optuna\\distributions.py:766: FutureWarning: UniformDistribution(high=0.0, low=-20.0) is deprecated and internally converted to FloatDistribution(high=0.0, log=False, low=-20.0, step=None). See https://github.com/optuna/optuna/issues/2941.\n",
      "  warnings.warn(message, FutureWarning)\n",
      "C:\\Users\\NikoSavola\\AppData\\Roaming\\Python\\Python39\\site-packages\\optuna\\distributions.py:766: FutureWarning: UniformDistribution(high=50.0, low=0.0) is deprecated and internally converted to FloatDistribution(high=50.0, log=False, low=0.0, step=None). See https://github.com/optuna/optuna/issues/2941.\n",
      "  warnings.warn(message, FutureWarning)\n",
      "C:\\Users\\NikoSavola\\AppData\\Roaming\\Python\\Python39\\site-packages\\optuna\\integration\\botorch.py:498: UserWarning: `constraints_func` was given but no call to it correctly computed constraints. Constraints passed to `candidates_func` will be `None`.\n",
      "  warnings.warn(\n",
      "C:\\Users\\NikoSavola\\AppData\\Roaming\\Python\\Python39\\site-packages\\optuna\\integration\\botorch.py:526: ExperimentalWarning: qei_candidates_func is experimental (supported from v2.4.0). The interface can change in the future.\n",
      "  candidates = self._candidates_func(params, values, con, bounds)\n",
      "\u001b[2m\u001b[36m(event_loop pid=38564)\u001b[0m Ground location of port 1 is not determined.\n",
      "\u001b[2m\u001b[36m(event_loop pid=38564)\u001b[0m Ground location of port 2 is not determined.\n"
     ]
    },
    {
     "name": "stdout",
     "output_type": "stream",
     "text": [
      "\u001b[2m\u001b[36m(event_loop pid=38564)\u001b[0m Submitting the main script of simulation 1/1\n",
      "\u001b[2m\u001b[36m(event_loop pid=38564)\u001b[0m --------------------------------------------\n",
      "\u001b[2m\u001b[36m(event_loop pid=38564)\u001b[0m Simulation 1/1 Gmsh\n"
     ]
    },
    {
     "name": "stderr",
     "output_type": "stream",
     "text": [
      "2022-12-13 11:56:39,064\tWARNING optuna_search.py:549 -- 'params/ground_gap'\n",
      "C:\\Users\\NikoSavola\\AppData\\Roaming\\Python\\Python39\\site-packages\\optuna\\distributions.py:766: FutureWarning: UniformDistribution(high=700.0, low=200.0) is deprecated and internally converted to FloatDistribution(high=700.0, log=False, low=200.0, step=None). See https://github.com/optuna/optuna/issues/2941.\n",
      "  warnings.warn(message, FutureWarning)\n",
      "C:\\Users\\NikoSavola\\AppData\\Roaming\\Python\\Python39\\site-packages\\optuna\\distributions.py:766: FutureWarning: UniformDistribution(high=500.0, low=50.0) is deprecated and internally converted to FloatDistribution(high=500.0, log=False, low=50.0, step=None). See https://github.com/optuna/optuna/issues/2941.\n",
      "  warnings.warn(message, FutureWarning)\n",
      "C:\\Users\\NikoSavola\\AppData\\Roaming\\Python\\Python39\\site-packages\\optuna\\distributions.py:766: FutureWarning: UniformDistribution(high=300.0, low=50.0) is deprecated and internally converted to FloatDistribution(high=300.0, log=False, low=50.0, step=None). See https://github.com/optuna/optuna/issues/2941.\n",
      "  warnings.warn(message, FutureWarning)\n",
      "C:\\Users\\NikoSavola\\AppData\\Roaming\\Python\\Python39\\site-packages\\optuna\\distributions.py:766: FutureWarning: UniformDistribution(high=500.0, low=40.0) is deprecated and internally converted to FloatDistribution(high=500.0, log=False, low=40.0, step=None). See https://github.com/optuna/optuna/issues/2941.\n",
      "  warnings.warn(message, FutureWarning)\n",
      "C:\\Users\\NikoSavola\\AppData\\Roaming\\Python\\Python39\\site-packages\\optuna\\distributions.py:766: FutureWarning: UniformDistribution(high=40.0, low=20.0) is deprecated and internally converted to FloatDistribution(high=40.0, log=False, low=20.0, step=None). See https://github.com/optuna/optuna/issues/2941.\n",
      "  warnings.warn(message, FutureWarning)\n",
      "C:\\Users\\NikoSavola\\AppData\\Roaming\\Python\\Python39\\site-packages\\optuna\\distributions.py:766: FutureWarning: UniformDistribution(high=50.0, low=5.0) is deprecated and internally converted to FloatDistribution(high=50.0, log=False, low=5.0, step=None). See https://github.com/optuna/optuna/issues/2941.\n",
      "  warnings.warn(message, FutureWarning)\n",
      "C:\\Users\\NikoSavola\\AppData\\Roaming\\Python\\Python39\\site-packages\\optuna\\distributions.py:766: FutureWarning: UniformDistribution(high=1000.0, low=550.0) is deprecated and internally converted to FloatDistribution(high=1000.0, log=False, low=550.0, step=None). See https://github.com/optuna/optuna/issues/2941.\n",
      "  warnings.warn(message, FutureWarning)\n",
      "C:\\Users\\NikoSavola\\AppData\\Roaming\\Python\\Python39\\site-packages\\optuna\\distributions.py:766: FutureWarning: UniformDistribution(high=1000.0, low=400.0) is deprecated and internally converted to FloatDistribution(high=1000.0, log=False, low=400.0, step=None). See https://github.com/optuna/optuna/issues/2941.\n",
      "  warnings.warn(message, FutureWarning)\n",
      "C:\\Users\\NikoSavola\\AppData\\Roaming\\Python\\Python39\\site-packages\\optuna\\distributions.py:766: FutureWarning: UniformDistribution(high=0.0, low=-20.0) is deprecated and internally converted to FloatDistribution(high=0.0, log=False, low=-20.0, step=None). See https://github.com/optuna/optuna/issues/2941.\n",
      "  warnings.warn(message, FutureWarning)\n",
      "C:\\Users\\NikoSavola\\AppData\\Roaming\\Python\\Python39\\site-packages\\optuna\\distributions.py:766: FutureWarning: UniformDistribution(high=50.0, low=0.0) is deprecated and internally converted to FloatDistribution(high=50.0, log=False, low=0.0, step=None). See https://github.com/optuna/optuna/issues/2941.\n",
      "  warnings.warn(message, FutureWarning)\n",
      "C:\\Users\\NikoSavola\\AppData\\Roaming\\Python\\Python39\\site-packages\\optuna\\integration\\botorch.py:498: UserWarning: `constraints_func` was given but no call to it correctly computed constraints. Constraints passed to `candidates_func` will be `None`.\n",
      "  warnings.warn(\n",
      "C:\\Users\\NikoSavola\\AppData\\Roaming\\Python\\Python39\\site-packages\\optuna\\integration\\botorch.py:526: ExperimentalWarning: qei_candidates_func is experimental (supported from v2.4.0). The interface can change in the future.\n",
      "  candidates = self._candidates_func(params, values, con, bounds)\n",
      "\u001b[2m\u001b[36m(event_loop pid=38316)\u001b[0m Ground location of port 1 is not determined.\n",
      "\u001b[2m\u001b[36m(event_loop pid=38316)\u001b[0m Ground location of port 2 is not determined.\n"
     ]
    },
    {
     "name": "stdout",
     "output_type": "stream",
     "text": [
      "\u001b[2m\u001b[36m(event_loop pid=38316)\u001b[0m Submitting the main script of simulation 1/1\n",
      "\u001b[2m\u001b[36m(event_loop pid=38316)\u001b[0m --------------------------------------------\n",
      "\u001b[2m\u001b[36m(event_loop pid=38316)\u001b[0m Simulation 1/1 Gmsh\n"
     ]
    },
    {
     "name": "stderr",
     "output_type": "stream",
     "text": [
      "2022-12-13 11:56:39,629\tWARNING optuna_search.py:549 -- 'params/ground_gap'\n",
      "C:\\Users\\NikoSavola\\AppData\\Roaming\\Python\\Python39\\site-packages\\optuna\\distributions.py:766: FutureWarning: UniformDistribution(high=700.0, low=200.0) is deprecated and internally converted to FloatDistribution(high=700.0, log=False, low=200.0, step=None). See https://github.com/optuna/optuna/issues/2941.\n",
      "  warnings.warn(message, FutureWarning)\n",
      "C:\\Users\\NikoSavola\\AppData\\Roaming\\Python\\Python39\\site-packages\\optuna\\distributions.py:766: FutureWarning: UniformDistribution(high=500.0, low=50.0) is deprecated and internally converted to FloatDistribution(high=500.0, log=False, low=50.0, step=None). See https://github.com/optuna/optuna/issues/2941.\n",
      "  warnings.warn(message, FutureWarning)\n",
      "C:\\Users\\NikoSavola\\AppData\\Roaming\\Python\\Python39\\site-packages\\optuna\\distributions.py:766: FutureWarning: UniformDistribution(high=300.0, low=50.0) is deprecated and internally converted to FloatDistribution(high=300.0, log=False, low=50.0, step=None). See https://github.com/optuna/optuna/issues/2941.\n",
      "  warnings.warn(message, FutureWarning)\n",
      "C:\\Users\\NikoSavola\\AppData\\Roaming\\Python\\Python39\\site-packages\\optuna\\distributions.py:766: FutureWarning: UniformDistribution(high=500.0, low=40.0) is deprecated and internally converted to FloatDistribution(high=500.0, log=False, low=40.0, step=None). See https://github.com/optuna/optuna/issues/2941.\n",
      "  warnings.warn(message, FutureWarning)\n",
      "C:\\Users\\NikoSavola\\AppData\\Roaming\\Python\\Python39\\site-packages\\optuna\\distributions.py:766: FutureWarning: UniformDistribution(high=40.0, low=20.0) is deprecated and internally converted to FloatDistribution(high=40.0, log=False, low=20.0, step=None). See https://github.com/optuna/optuna/issues/2941.\n",
      "  warnings.warn(message, FutureWarning)\n",
      "C:\\Users\\NikoSavola\\AppData\\Roaming\\Python\\Python39\\site-packages\\optuna\\distributions.py:766: FutureWarning: UniformDistribution(high=50.0, low=5.0) is deprecated and internally converted to FloatDistribution(high=50.0, log=False, low=5.0, step=None). See https://github.com/optuna/optuna/issues/2941.\n",
      "  warnings.warn(message, FutureWarning)\n",
      "C:\\Users\\NikoSavola\\AppData\\Roaming\\Python\\Python39\\site-packages\\optuna\\distributions.py:766: FutureWarning: UniformDistribution(high=1000.0, low=550.0) is deprecated and internally converted to FloatDistribution(high=1000.0, log=False, low=550.0, step=None). See https://github.com/optuna/optuna/issues/2941.\n",
      "  warnings.warn(message, FutureWarning)\n",
      "C:\\Users\\NikoSavola\\AppData\\Roaming\\Python\\Python39\\site-packages\\optuna\\distributions.py:766: FutureWarning: UniformDistribution(high=1000.0, low=400.0) is deprecated and internally converted to FloatDistribution(high=1000.0, log=False, low=400.0, step=None). See https://github.com/optuna/optuna/issues/2941.\n",
      "  warnings.warn(message, FutureWarning)\n",
      "C:\\Users\\NikoSavola\\AppData\\Roaming\\Python\\Python39\\site-packages\\optuna\\distributions.py:766: FutureWarning: UniformDistribution(high=0.0, low=-20.0) is deprecated and internally converted to FloatDistribution(high=0.0, log=False, low=-20.0, step=None). See https://github.com/optuna/optuna/issues/2941.\n",
      "  warnings.warn(message, FutureWarning)\n",
      "C:\\Users\\NikoSavola\\AppData\\Roaming\\Python\\Python39\\site-packages\\optuna\\distributions.py:766: FutureWarning: UniformDistribution(high=50.0, low=0.0) is deprecated and internally converted to FloatDistribution(high=50.0, log=False, low=0.0, step=None). See https://github.com/optuna/optuna/issues/2941.\n",
      "  warnings.warn(message, FutureWarning)\n",
      "C:\\Users\\NikoSavola\\AppData\\Roaming\\Python\\Python39\\site-packages\\optuna\\integration\\botorch.py:498: UserWarning: `constraints_func` was given but no call to it correctly computed constraints. Constraints passed to `candidates_func` will be `None`.\n",
      "  warnings.warn(\n",
      "C:\\Users\\NikoSavola\\AppData\\Roaming\\Python\\Python39\\site-packages\\optuna\\integration\\botorch.py:526: ExperimentalWarning: qei_candidates_func is experimental (supported from v2.4.0). The interface can change in the future.\n",
      "  candidates = self._candidates_func(params, values, con, bounds)\n",
      "\u001b[2m\u001b[36m(event_loop pid=38540)\u001b[0m Ground location of port 1 is not determined.\n",
      "\u001b[2m\u001b[36m(event_loop pid=38540)\u001b[0m Ground location of port 2 is not determined.\n"
     ]
    },
    {
     "name": "stdout",
     "output_type": "stream",
     "text": [
      "\u001b[2m\u001b[36m(event_loop pid=38540)\u001b[0m Submitting the main script of simulation 1/1\n",
      "\u001b[2m\u001b[36m(event_loop pid=38540)\u001b[0m --------------------------------------------\n",
      "\u001b[2m\u001b[36m(event_loop pid=38540)\u001b[0m Simulation 1/1 Gmsh\n",
      "\u001b[2m\u001b[36m(event_loop pid=24992)\u001b[0m Simulation 1/1 ElmerGrid\n"
     ]
    },
    {
     "name": "stderr",
     "output_type": "stream",
     "text": [
      "\u001b[2m\u001b[36m(event_loop pid=34608)\u001b[0m Ground location of port 1 is not determined.\n",
      "\u001b[2m\u001b[36m(event_loop pid=34608)\u001b[0m Ground location of port 2 is not determined.\n"
     ]
    },
    {
     "name": "stdout",
     "output_type": "stream",
     "text": [
      "\u001b[2m\u001b[36m(event_loop pid=34608)\u001b[0m Submitting the main script of simulation 1/1\n",
      "\u001b[2m\u001b[36m(event_loop pid=34608)\u001b[0m --------------------------------------------\n",
      "\u001b[2m\u001b[36m(event_loop pid=34608)\u001b[0m Simulation 1/1 Gmsh\n",
      "\u001b[2m\u001b[36m(event_loop pid=38540)\u001b[0m Simulation 1/1 ElmerGrid\n",
      "\u001b[2m\u001b[36m(event_loop pid=24992)\u001b[0m Simulation 1/1 Elmer\n",
      "\u001b[2m\u001b[36m(event_loop pid=38564)\u001b[0m Simulation 1/1 ElmerGrid\n",
      "\u001b[2m\u001b[36m(event_loop pid=38316)\u001b[0m Simulation 1/1 ElmerGrid\n",
      "\u001b[2m\u001b[36m(event_loop pid=24992)\u001b[0m Simulation 1/1 Paraview\n",
      "\u001b[2m\u001b[36m(event_loop pid=24992)\u001b[0m Simulation 1/1 write results json\n"
     ]
    },
    {
     "name": "stderr",
     "output_type": "stream",
     "text": [
      "2022-12-13 11:56:52,973\tWARNING optuna_search.py:549 -- 'params/ground_gap'\n",
      "C:\\Users\\NikoSavola\\AppData\\Roaming\\Python\\Python39\\site-packages\\optuna\\distributions.py:766: FutureWarning: UniformDistribution(high=700.0, low=200.0) is deprecated and internally converted to FloatDistribution(high=700.0, log=False, low=200.0, step=None). See https://github.com/optuna/optuna/issues/2941.\n",
      "  warnings.warn(message, FutureWarning)\n",
      "C:\\Users\\NikoSavola\\AppData\\Roaming\\Python\\Python39\\site-packages\\optuna\\distributions.py:766: FutureWarning: UniformDistribution(high=500.0, low=50.0) is deprecated and internally converted to FloatDistribution(high=500.0, log=False, low=50.0, step=None). See https://github.com/optuna/optuna/issues/2941.\n",
      "  warnings.warn(message, FutureWarning)\n",
      "C:\\Users\\NikoSavola\\AppData\\Roaming\\Python\\Python39\\site-packages\\optuna\\distributions.py:766: FutureWarning: UniformDistribution(high=300.0, low=50.0) is deprecated and internally converted to FloatDistribution(high=300.0, log=False, low=50.0, step=None). See https://github.com/optuna/optuna/issues/2941.\n",
      "  warnings.warn(message, FutureWarning)\n",
      "C:\\Users\\NikoSavola\\AppData\\Roaming\\Python\\Python39\\site-packages\\optuna\\distributions.py:766: FutureWarning: UniformDistribution(high=500.0, low=40.0) is deprecated and internally converted to FloatDistribution(high=500.0, log=False, low=40.0, step=None). See https://github.com/optuna/optuna/issues/2941.\n",
      "  warnings.warn(message, FutureWarning)\n",
      "C:\\Users\\NikoSavola\\AppData\\Roaming\\Python\\Python39\\site-packages\\optuna\\distributions.py:766: FutureWarning: UniformDistribution(high=40.0, low=20.0) is deprecated and internally converted to FloatDistribution(high=40.0, log=False, low=20.0, step=None). See https://github.com/optuna/optuna/issues/2941.\n",
      "  warnings.warn(message, FutureWarning)\n",
      "C:\\Users\\NikoSavola\\AppData\\Roaming\\Python\\Python39\\site-packages\\optuna\\distributions.py:766: FutureWarning: UniformDistribution(high=50.0, low=5.0) is deprecated and internally converted to FloatDistribution(high=50.0, log=False, low=5.0, step=None). See https://github.com/optuna/optuna/issues/2941.\n",
      "  warnings.warn(message, FutureWarning)\n",
      "C:\\Users\\NikoSavola\\AppData\\Roaming\\Python\\Python39\\site-packages\\optuna\\distributions.py:766: FutureWarning: UniformDistribution(high=1000.0, low=550.0) is deprecated and internally converted to FloatDistribution(high=1000.0, log=False, low=550.0, step=None). See https://github.com/optuna/optuna/issues/2941.\n",
      "  warnings.warn(message, FutureWarning)\n",
      "C:\\Users\\NikoSavola\\AppData\\Roaming\\Python\\Python39\\site-packages\\optuna\\distributions.py:766: FutureWarning: UniformDistribution(high=1000.0, low=400.0) is deprecated and internally converted to FloatDistribution(high=1000.0, log=False, low=400.0, step=None). See https://github.com/optuna/optuna/issues/2941.\n",
      "  warnings.warn(message, FutureWarning)\n",
      "C:\\Users\\NikoSavola\\AppData\\Roaming\\Python\\Python39\\site-packages\\optuna\\distributions.py:766: FutureWarning: UniformDistribution(high=0.0, low=-20.0) is deprecated and internally converted to FloatDistribution(high=0.0, log=False, low=-20.0, step=None). See https://github.com/optuna/optuna/issues/2941.\n",
      "  warnings.warn(message, FutureWarning)\n",
      "C:\\Users\\NikoSavola\\AppData\\Roaming\\Python\\Python39\\site-packages\\optuna\\distributions.py:766: FutureWarning: UniformDistribution(high=50.0, low=0.0) is deprecated and internally converted to FloatDistribution(high=50.0, log=False, low=0.0, step=None). See https://github.com/optuna/optuna/issues/2941.\n",
      "  warnings.warn(message, FutureWarning)\n",
      "C:\\Users\\NikoSavola\\AppData\\Roaming\\Python\\Python39\\site-packages\\optuna\\integration\\botorch.py:498: UserWarning: `constraints_func` was given but no call to it correctly computed constraints. Constraints passed to `candidates_func` will be `None`.\n",
      "  warnings.warn(\n",
      "C:\\Users\\NikoSavola\\AppData\\Roaming\\Python\\Python39\\site-packages\\optuna\\integration\\botorch.py:526: ExperimentalWarning: qei_candidates_func is experimental (supported from v2.4.0). The interface can change in the future.\n",
      "  candidates = self._candidates_func(params, values, con, bounds)\n"
     ]
    },
    {
     "name": "stdout",
     "output_type": "stream",
     "text": [
      "\u001b[2m\u001b[36m(event_loop pid=34608)\u001b[0m Simulation 1/1 ElmerGrid\n",
      "\u001b[2m\u001b[36m(event_loop pid=38540)\u001b[0m Simulation 1/1 Elmer\n",
      "\u001b[2m\u001b[36m(event_loop pid=38564)\u001b[0m Simulation 1/1 Elmer\n",
      "\u001b[2m\u001b[36m(event_loop pid=38316)\u001b[0m Simulation 1/1 Elmer\n",
      "\u001b[2m\u001b[36m(event_loop pid=38540)\u001b[0m Simulation 1/1 Paraview\n",
      "\u001b[2m\u001b[36m(event_loop pid=34608)\u001b[0m Simulation 1/1 Elmer\n"
     ]
    },
    {
     "name": "stderr",
     "output_type": "stream",
     "text": [
      "\u001b[2m\u001b[36m(event_loop pid=24060)\u001b[0m Ground location of port 1 is not determined.\n",
      "\u001b[2m\u001b[36m(event_loop pid=24060)\u001b[0m Ground location of port 2 is not determined.\n"
     ]
    },
    {
     "name": "stdout",
     "output_type": "stream",
     "text": [
      "\u001b[2m\u001b[36m(event_loop pid=38540)\u001b[0m Simulation 1/1 write results json\n",
      "\u001b[2m\u001b[36m(event_loop pid=38316)\u001b[0m Simulation 1/1 Paraview\n",
      "\u001b[2m\u001b[36m(event_loop pid=38564)\u001b[0m Simulation 1/1 Paraview\n",
      "\u001b[2m\u001b[36m(event_loop pid=24060)\u001b[0m Submitting the main script of simulation 1/1\n",
      "\u001b[2m\u001b[36m(event_loop pid=24060)\u001b[0m --------------------------------------------\n",
      "\u001b[2m\u001b[36m(event_loop pid=24060)\u001b[0m Simulation 1/1 Gmsh\n",
      "\u001b[2m\u001b[36m(event_loop pid=38564)\u001b[0m Simulation 1/1 write results json\n",
      "\u001b[2m\u001b[36m(event_loop pid=38316)\u001b[0m Simulation 1/1 write results json\n"
     ]
    },
    {
     "name": "stderr",
     "output_type": "stream",
     "text": [
      "2022-12-13 11:57:02,282\tWARNING optuna_search.py:549 -- 'params/ground_gap'\n"
     ]
    },
    {
     "name": "stdout",
     "output_type": "stream",
     "text": [
      "\u001b[2m\u001b[36m(event_loop pid=34608)\u001b[0m Simulation 1/1 Paraview\n"
     ]
    },
    {
     "name": "stderr",
     "output_type": "stream",
     "text": [
      "C:\\Users\\NikoSavola\\AppData\\Roaming\\Python\\Python39\\site-packages\\optuna\\distributions.py:766: FutureWarning: UniformDistribution(high=700.0, low=200.0) is deprecated and internally converted to FloatDistribution(high=700.0, log=False, low=200.0, step=None). See https://github.com/optuna/optuna/issues/2941.\n",
      "  warnings.warn(message, FutureWarning)\n",
      "C:\\Users\\NikoSavola\\AppData\\Roaming\\Python\\Python39\\site-packages\\optuna\\distributions.py:766: FutureWarning: UniformDistribution(high=500.0, low=50.0) is deprecated and internally converted to FloatDistribution(high=500.0, log=False, low=50.0, step=None). See https://github.com/optuna/optuna/issues/2941.\n",
      "  warnings.warn(message, FutureWarning)\n",
      "C:\\Users\\NikoSavola\\AppData\\Roaming\\Python\\Python39\\site-packages\\optuna\\distributions.py:766: FutureWarning: UniformDistribution(high=300.0, low=50.0) is deprecated and internally converted to FloatDistribution(high=300.0, log=False, low=50.0, step=None). See https://github.com/optuna/optuna/issues/2941.\n",
      "  warnings.warn(message, FutureWarning)\n",
      "C:\\Users\\NikoSavola\\AppData\\Roaming\\Python\\Python39\\site-packages\\optuna\\distributions.py:766: FutureWarning: UniformDistribution(high=500.0, low=40.0) is deprecated and internally converted to FloatDistribution(high=500.0, log=False, low=40.0, step=None). See https://github.com/optuna/optuna/issues/2941.\n",
      "  warnings.warn(message, FutureWarning)\n",
      "C:\\Users\\NikoSavola\\AppData\\Roaming\\Python\\Python39\\site-packages\\optuna\\distributions.py:766: FutureWarning: UniformDistribution(high=40.0, low=20.0) is deprecated and internally converted to FloatDistribution(high=40.0, log=False, low=20.0, step=None). See https://github.com/optuna/optuna/issues/2941.\n",
      "  warnings.warn(message, FutureWarning)\n",
      "C:\\Users\\NikoSavola\\AppData\\Roaming\\Python\\Python39\\site-packages\\optuna\\distributions.py:766: FutureWarning: UniformDistribution(high=50.0, low=5.0) is deprecated and internally converted to FloatDistribution(high=50.0, log=False, low=5.0, step=None). See https://github.com/optuna/optuna/issues/2941.\n",
      "  warnings.warn(message, FutureWarning)\n",
      "C:\\Users\\NikoSavola\\AppData\\Roaming\\Python\\Python39\\site-packages\\optuna\\distributions.py:766: FutureWarning: UniformDistribution(high=1000.0, low=550.0) is deprecated and internally converted to FloatDistribution(high=1000.0, log=False, low=550.0, step=None). See https://github.com/optuna/optuna/issues/2941.\n",
      "  warnings.warn(message, FutureWarning)\n",
      "C:\\Users\\NikoSavola\\AppData\\Roaming\\Python\\Python39\\site-packages\\optuna\\distributions.py:766: FutureWarning: UniformDistribution(high=1000.0, low=400.0) is deprecated and internally converted to FloatDistribution(high=1000.0, log=False, low=400.0, step=None). See https://github.com/optuna/optuna/issues/2941.\n",
      "  warnings.warn(message, FutureWarning)\n",
      "C:\\Users\\NikoSavola\\AppData\\Roaming\\Python\\Python39\\site-packages\\optuna\\distributions.py:766: FutureWarning: UniformDistribution(high=0.0, low=-20.0) is deprecated and internally converted to FloatDistribution(high=0.0, log=False, low=-20.0, step=None). See https://github.com/optuna/optuna/issues/2941.\n",
      "  warnings.warn(message, FutureWarning)\n",
      "C:\\Users\\NikoSavola\\AppData\\Roaming\\Python\\Python39\\site-packages\\optuna\\distributions.py:766: FutureWarning: UniformDistribution(high=50.0, low=0.0) is deprecated and internally converted to FloatDistribution(high=50.0, log=False, low=0.0, step=None). See https://github.com/optuna/optuna/issues/2941.\n",
      "  warnings.warn(message, FutureWarning)\n",
      "C:\\Users\\NikoSavola\\AppData\\Roaming\\Python\\Python39\\site-packages\\optuna\\integration\\botorch.py:498: UserWarning: `constraints_func` was given but no call to it correctly computed constraints. Constraints passed to `candidates_func` will be `None`.\n",
      "  warnings.warn(\n",
      "C:\\Users\\NikoSavola\\AppData\\Roaming\\Python\\Python39\\site-packages\\optuna\\integration\\botorch.py:526: ExperimentalWarning: qei_candidates_func is experimental (supported from v2.4.0). The interface can change in the future.\n",
      "  candidates = self._candidates_func(params, values, con, bounds)\n",
      "2022-12-13 11:57:02,874\tWARNING optuna_search.py:549 -- 'params/ground_gap'\n",
      "C:\\Users\\NikoSavola\\AppData\\Roaming\\Python\\Python39\\site-packages\\optuna\\distributions.py:766: FutureWarning: UniformDistribution(high=700.0, low=200.0) is deprecated and internally converted to FloatDistribution(high=700.0, log=False, low=200.0, step=None). See https://github.com/optuna/optuna/issues/2941.\n",
      "  warnings.warn(message, FutureWarning)\n",
      "C:\\Users\\NikoSavola\\AppData\\Roaming\\Python\\Python39\\site-packages\\optuna\\distributions.py:766: FutureWarning: UniformDistribution(high=500.0, low=50.0) is deprecated and internally converted to FloatDistribution(high=500.0, log=False, low=50.0, step=None). See https://github.com/optuna/optuna/issues/2941.\n",
      "  warnings.warn(message, FutureWarning)\n",
      "C:\\Users\\NikoSavola\\AppData\\Roaming\\Python\\Python39\\site-packages\\optuna\\distributions.py:766: FutureWarning: UniformDistribution(high=300.0, low=50.0) is deprecated and internally converted to FloatDistribution(high=300.0, log=False, low=50.0, step=None). See https://github.com/optuna/optuna/issues/2941.\n",
      "  warnings.warn(message, FutureWarning)\n",
      "C:\\Users\\NikoSavola\\AppData\\Roaming\\Python\\Python39\\site-packages\\optuna\\distributions.py:766: FutureWarning: UniformDistribution(high=500.0, low=40.0) is deprecated and internally converted to FloatDistribution(high=500.0, log=False, low=40.0, step=None). See https://github.com/optuna/optuna/issues/2941.\n",
      "  warnings.warn(message, FutureWarning)\n",
      "C:\\Users\\NikoSavola\\AppData\\Roaming\\Python\\Python39\\site-packages\\optuna\\distributions.py:766: FutureWarning: UniformDistribution(high=40.0, low=20.0) is deprecated and internally converted to FloatDistribution(high=40.0, log=False, low=20.0, step=None). See https://github.com/optuna/optuna/issues/2941.\n",
      "  warnings.warn(message, FutureWarning)\n",
      "C:\\Users\\NikoSavola\\AppData\\Roaming\\Python\\Python39\\site-packages\\optuna\\distributions.py:766: FutureWarning: UniformDistribution(high=50.0, low=5.0) is deprecated and internally converted to FloatDistribution(high=50.0, log=False, low=5.0, step=None). See https://github.com/optuna/optuna/issues/2941.\n",
      "  warnings.warn(message, FutureWarning)\n",
      "C:\\Users\\NikoSavola\\AppData\\Roaming\\Python\\Python39\\site-packages\\optuna\\distributions.py:766: FutureWarning: UniformDistribution(high=1000.0, low=550.0) is deprecated and internally converted to FloatDistribution(high=1000.0, log=False, low=550.0, step=None). See https://github.com/optuna/optuna/issues/2941.\n",
      "  warnings.warn(message, FutureWarning)\n",
      "C:\\Users\\NikoSavola\\AppData\\Roaming\\Python\\Python39\\site-packages\\optuna\\distributions.py:766: FutureWarning: UniformDistribution(high=1000.0, low=400.0) is deprecated and internally converted to FloatDistribution(high=1000.0, log=False, low=400.0, step=None). See https://github.com/optuna/optuna/issues/2941.\n",
      "  warnings.warn(message, FutureWarning)\n",
      "C:\\Users\\NikoSavola\\AppData\\Roaming\\Python\\Python39\\site-packages\\optuna\\distributions.py:766: FutureWarning: UniformDistribution(high=0.0, low=-20.0) is deprecated and internally converted to FloatDistribution(high=0.0, log=False, low=-20.0, step=None). See https://github.com/optuna/optuna/issues/2941.\n",
      "  warnings.warn(message, FutureWarning)\n",
      "C:\\Users\\NikoSavola\\AppData\\Roaming\\Python\\Python39\\site-packages\\optuna\\distributions.py:766: FutureWarning: UniformDistribution(high=50.0, low=0.0) is deprecated and internally converted to FloatDistribution(high=50.0, log=False, low=0.0, step=None). See https://github.com/optuna/optuna/issues/2941.\n",
      "  warnings.warn(message, FutureWarning)\n",
      "C:\\Users\\NikoSavola\\AppData\\Roaming\\Python\\Python39\\site-packages\\optuna\\integration\\botorch.py:498: UserWarning: `constraints_func` was given but no call to it correctly computed constraints. Constraints passed to `candidates_func` will be `None`.\n",
      "  warnings.warn(\n",
      "C:\\Users\\NikoSavola\\AppData\\Roaming\\Python\\Python39\\site-packages\\optuna\\integration\\botorch.py:526: ExperimentalWarning: qei_candidates_func is experimental (supported from v2.4.0). The interface can change in the future.\n",
      "  candidates = self._candidates_func(params, values, con, bounds)\n",
      "\u001b[2m\u001b[36m(event_loop pid=38564)\u001b[0m Ground location of port 1 is not determined.\n",
      "\u001b[2m\u001b[36m(event_loop pid=38564)\u001b[0m Ground location of port 2 is not determined.\n"
     ]
    },
    {
     "name": "stdout",
     "output_type": "stream",
     "text": [
      "\u001b[2m\u001b[36m(event_loop pid=38564)\u001b[0m Submitting the main script of simulation 1/1\n",
      "\u001b[2m\u001b[36m(event_loop pid=38564)\u001b[0m --------------------------------------------\n",
      "\u001b[2m\u001b[36m(event_loop pid=38564)\u001b[0m Simulation 1/1 Gmsh\n",
      "\u001b[2m\u001b[36m(event_loop pid=34608)\u001b[0m Simulation 1/1 write results json\n"
     ]
    },
    {
     "name": "stderr",
     "output_type": "stream",
     "text": [
      "2022-12-13 11:57:03,377\tWARNING optuna_search.py:549 -- 'params/ground_gap'\n",
      "C:\\Users\\NikoSavola\\AppData\\Roaming\\Python\\Python39\\site-packages\\optuna\\distributions.py:766: FutureWarning: UniformDistribution(high=700.0, low=200.0) is deprecated and internally converted to FloatDistribution(high=700.0, log=False, low=200.0, step=None). See https://github.com/optuna/optuna/issues/2941.\n",
      "  warnings.warn(message, FutureWarning)\n",
      "C:\\Users\\NikoSavola\\AppData\\Roaming\\Python\\Python39\\site-packages\\optuna\\distributions.py:766: FutureWarning: UniformDistribution(high=500.0, low=50.0) is deprecated and internally converted to FloatDistribution(high=500.0, log=False, low=50.0, step=None). See https://github.com/optuna/optuna/issues/2941.\n",
      "  warnings.warn(message, FutureWarning)\n",
      "C:\\Users\\NikoSavola\\AppData\\Roaming\\Python\\Python39\\site-packages\\optuna\\distributions.py:766: FutureWarning: UniformDistribution(high=300.0, low=50.0) is deprecated and internally converted to FloatDistribution(high=300.0, log=False, low=50.0, step=None). See https://github.com/optuna/optuna/issues/2941.\n",
      "  warnings.warn(message, FutureWarning)\n",
      "C:\\Users\\NikoSavola\\AppData\\Roaming\\Python\\Python39\\site-packages\\optuna\\distributions.py:766: FutureWarning: UniformDistribution(high=500.0, low=40.0) is deprecated and internally converted to FloatDistribution(high=500.0, log=False, low=40.0, step=None). See https://github.com/optuna/optuna/issues/2941.\n",
      "  warnings.warn(message, FutureWarning)\n",
      "C:\\Users\\NikoSavola\\AppData\\Roaming\\Python\\Python39\\site-packages\\optuna\\distributions.py:766: FutureWarning: UniformDistribution(high=40.0, low=20.0) is deprecated and internally converted to FloatDistribution(high=40.0, log=False, low=20.0, step=None). See https://github.com/optuna/optuna/issues/2941.\n",
      "  warnings.warn(message, FutureWarning)\n",
      "C:\\Users\\NikoSavola\\AppData\\Roaming\\Python\\Python39\\site-packages\\optuna\\distributions.py:766: FutureWarning: UniformDistribution(high=50.0, low=5.0) is deprecated and internally converted to FloatDistribution(high=50.0, log=False, low=5.0, step=None). See https://github.com/optuna/optuna/issues/2941.\n",
      "  warnings.warn(message, FutureWarning)\n",
      "C:\\Users\\NikoSavola\\AppData\\Roaming\\Python\\Python39\\site-packages\\optuna\\distributions.py:766: FutureWarning: UniformDistribution(high=1000.0, low=550.0) is deprecated and internally converted to FloatDistribution(high=1000.0, log=False, low=550.0, step=None). See https://github.com/optuna/optuna/issues/2941.\n",
      "  warnings.warn(message, FutureWarning)\n",
      "C:\\Users\\NikoSavola\\AppData\\Roaming\\Python\\Python39\\site-packages\\optuna\\distributions.py:766: FutureWarning: UniformDistribution(high=1000.0, low=400.0) is deprecated and internally converted to FloatDistribution(high=1000.0, log=False, low=400.0, step=None). See https://github.com/optuna/optuna/issues/2941.\n",
      "  warnings.warn(message, FutureWarning)\n",
      "C:\\Users\\NikoSavola\\AppData\\Roaming\\Python\\Python39\\site-packages\\optuna\\distributions.py:766: FutureWarning: UniformDistribution(high=0.0, low=-20.0) is deprecated and internally converted to FloatDistribution(high=0.0, log=False, low=-20.0, step=None). See https://github.com/optuna/optuna/issues/2941.\n",
      "  warnings.warn(message, FutureWarning)\n",
      "C:\\Users\\NikoSavola\\AppData\\Roaming\\Python\\Python39\\site-packages\\optuna\\distributions.py:766: FutureWarning: UniformDistribution(high=50.0, low=0.0) is deprecated and internally converted to FloatDistribution(high=50.0, log=False, low=0.0, step=None). See https://github.com/optuna/optuna/issues/2941.\n",
      "  warnings.warn(message, FutureWarning)\n",
      "C:\\Users\\NikoSavola\\AppData\\Roaming\\Python\\Python39\\site-packages\\optuna\\integration\\botorch.py:498: UserWarning: `constraints_func` was given but no call to it correctly computed constraints. Constraints passed to `candidates_func` will be `None`.\n",
      "  warnings.warn(\n",
      "C:\\Users\\NikoSavola\\AppData\\Roaming\\Python\\Python39\\site-packages\\optuna\\integration\\botorch.py:526: ExperimentalWarning: qei_candidates_func is experimental (supported from v2.4.0). The interface can change in the future.\n",
      "  candidates = self._candidates_func(params, values, con, bounds)\n",
      "2022-12-13 11:57:03,866\tWARNING optuna_search.py:549 -- 'params/ground_gap'\n",
      "C:\\Users\\NikoSavola\\AppData\\Roaming\\Python\\Python39\\site-packages\\optuna\\distributions.py:766: FutureWarning: UniformDistribution(high=700.0, low=200.0) is deprecated and internally converted to FloatDistribution(high=700.0, log=False, low=200.0, step=None). See https://github.com/optuna/optuna/issues/2941.\n",
      "  warnings.warn(message, FutureWarning)\n",
      "C:\\Users\\NikoSavola\\AppData\\Roaming\\Python\\Python39\\site-packages\\optuna\\distributions.py:766: FutureWarning: UniformDistribution(high=500.0, low=50.0) is deprecated and internally converted to FloatDistribution(high=500.0, log=False, low=50.0, step=None). See https://github.com/optuna/optuna/issues/2941.\n",
      "  warnings.warn(message, FutureWarning)\n",
      "C:\\Users\\NikoSavola\\AppData\\Roaming\\Python\\Python39\\site-packages\\optuna\\distributions.py:766: FutureWarning: UniformDistribution(high=300.0, low=50.0) is deprecated and internally converted to FloatDistribution(high=300.0, log=False, low=50.0, step=None). See https://github.com/optuna/optuna/issues/2941.\n",
      "  warnings.warn(message, FutureWarning)\n",
      "C:\\Users\\NikoSavola\\AppData\\Roaming\\Python\\Python39\\site-packages\\optuna\\distributions.py:766: FutureWarning: UniformDistribution(high=500.0, low=40.0) is deprecated and internally converted to FloatDistribution(high=500.0, log=False, low=40.0, step=None). See https://github.com/optuna/optuna/issues/2941.\n",
      "  warnings.warn(message, FutureWarning)\n",
      "C:\\Users\\NikoSavola\\AppData\\Roaming\\Python\\Python39\\site-packages\\optuna\\distributions.py:766: FutureWarning: UniformDistribution(high=40.0, low=20.0) is deprecated and internally converted to FloatDistribution(high=40.0, log=False, low=20.0, step=None). See https://github.com/optuna/optuna/issues/2941.\n",
      "  warnings.warn(message, FutureWarning)\n",
      "C:\\Users\\NikoSavola\\AppData\\Roaming\\Python\\Python39\\site-packages\\optuna\\distributions.py:766: FutureWarning: UniformDistribution(high=50.0, low=5.0) is deprecated and internally converted to FloatDistribution(high=50.0, log=False, low=5.0, step=None). See https://github.com/optuna/optuna/issues/2941.\n",
      "  warnings.warn(message, FutureWarning)\n",
      "C:\\Users\\NikoSavola\\AppData\\Roaming\\Python\\Python39\\site-packages\\optuna\\distributions.py:766: FutureWarning: UniformDistribution(high=1000.0, low=550.0) is deprecated and internally converted to FloatDistribution(high=1000.0, log=False, low=550.0, step=None). See https://github.com/optuna/optuna/issues/2941.\n",
      "  warnings.warn(message, FutureWarning)\n",
      "C:\\Users\\NikoSavola\\AppData\\Roaming\\Python\\Python39\\site-packages\\optuna\\distributions.py:766: FutureWarning: UniformDistribution(high=1000.0, low=400.0) is deprecated and internally converted to FloatDistribution(high=1000.0, log=False, low=400.0, step=None). See https://github.com/optuna/optuna/issues/2941.\n",
      "  warnings.warn(message, FutureWarning)\n",
      "C:\\Users\\NikoSavola\\AppData\\Roaming\\Python\\Python39\\site-packages\\optuna\\distributions.py:766: FutureWarning: UniformDistribution(high=0.0, low=-20.0) is deprecated and internally converted to FloatDistribution(high=0.0, log=False, low=-20.0, step=None). See https://github.com/optuna/optuna/issues/2941.\n",
      "  warnings.warn(message, FutureWarning)\n",
      "C:\\Users\\NikoSavola\\AppData\\Roaming\\Python\\Python39\\site-packages\\optuna\\distributions.py:766: FutureWarning: UniformDistribution(high=50.0, low=0.0) is deprecated and internally converted to FloatDistribution(high=50.0, log=False, low=0.0, step=None). See https://github.com/optuna/optuna/issues/2941.\n",
      "  warnings.warn(message, FutureWarning)\n",
      "C:\\Users\\NikoSavola\\AppData\\Roaming\\Python\\Python39\\site-packages\\optuna\\integration\\botorch.py:498: UserWarning: `constraints_func` was given but no call to it correctly computed constraints. Constraints passed to `candidates_func` will be `None`.\n",
      "  warnings.warn(\n",
      "C:\\Users\\NikoSavola\\AppData\\Roaming\\Python\\Python39\\site-packages\\optuna\\integration\\botorch.py:526: ExperimentalWarning: qei_candidates_func is experimental (supported from v2.4.0). The interface can change in the future.\n",
      "  candidates = self._candidates_func(params, values, con, bounds)\n",
      "\u001b[2m\u001b[36m(event_loop pid=34608)\u001b[0m Ground location of port 1 is not determined.\n",
      "\u001b[2m\u001b[36m(event_loop pid=34608)\u001b[0m Ground location of port 2 is not determined.\n"
     ]
    },
    {
     "name": "stdout",
     "output_type": "stream",
     "text": [
      "\u001b[2m\u001b[36m(event_loop pid=34608)\u001b[0m Submitting the main script of simulation 1/1\n",
      "\u001b[2m\u001b[36m(event_loop pid=34608)\u001b[0m --------------------------------------------\n",
      "\u001b[2m\u001b[36m(event_loop pid=34608)\u001b[0m Simulation 1/1 Gmsh\n"
     ]
    },
    {
     "name": "stderr",
     "output_type": "stream",
     "text": [
      "\u001b[2m\u001b[36m(event_loop pid=40952)\u001b[0m Ground location of port 1 is not determined.\n",
      "\u001b[2m\u001b[36m(event_loop pid=40952)\u001b[0m Ground location of port 2 is not determined.\n"
     ]
    },
    {
     "name": "stdout",
     "output_type": "stream",
     "text": [
      "\u001b[2m\u001b[36m(event_loop pid=40952)\u001b[0m Submitting the main script of simulation 1/1\n",
      "\u001b[2m\u001b[36m(event_loop pid=40952)\u001b[0m --------------------------------------------\n",
      "\u001b[2m\u001b[36m(event_loop pid=40952)\u001b[0m Simulation 1/1 Gmsh\n"
     ]
    },
    {
     "name": "stderr",
     "output_type": "stream",
     "text": [
      "\u001b[2m\u001b[36m(event_loop pid=32316)\u001b[0m Ground location of port 1 is not determined.\n",
      "\u001b[2m\u001b[36m(event_loop pid=32316)\u001b[0m Ground location of port 2 is not determined.\n"
     ]
    },
    {
     "name": "stdout",
     "output_type": "stream",
     "text": [
      "\u001b[2m\u001b[36m(event_loop pid=32316)\u001b[0m Submitting the main script of simulation 1/1\n",
      "\u001b[2m\u001b[36m(event_loop pid=32316)\u001b[0m --------------------------------------------\n",
      "\u001b[2m\u001b[36m(event_loop pid=32316)\u001b[0m Simulation 1/1 Gmsh\n",
      "\u001b[2m\u001b[36m(event_loop pid=24060)\u001b[0m Simulation 1/1 ElmerGrid\n",
      "\u001b[2m\u001b[36m(event_loop pid=38564)\u001b[0m Simulation 1/1 ElmerGrid\n",
      "\u001b[2m\u001b[36m(event_loop pid=34608)\u001b[0m Simulation 1/1 ElmerGrid\n",
      "\u001b[2m\u001b[36m(event_loop pid=40952)\u001b[0m Simulation 1/1 ElmerGrid\n",
      "\u001b[2m\u001b[36m(event_loop pid=32316)\u001b[0m Simulation 1/1 ElmerGrid\n",
      "\u001b[2m\u001b[36m(event_loop pid=24060)\u001b[0m Simulation 1/1 Elmer\n",
      "\u001b[2m\u001b[36m(event_loop pid=38564)\u001b[0m Simulation 1/1 Elmer\n",
      "\u001b[2m\u001b[36m(event_loop pid=24060)\u001b[0m Simulation 1/1 Paraview\n",
      "\u001b[2m\u001b[36m(event_loop pid=34608)\u001b[0m Simulation 1/1 Elmer\n",
      "\u001b[2m\u001b[36m(event_loop pid=38564)\u001b[0m Simulation 1/1 Paraview\n",
      "\u001b[2m\u001b[36m(event_loop pid=24060)\u001b[0m Simulation 1/1 write results json\n",
      "\u001b[2m\u001b[36m(event_loop pid=40952)\u001b[0m Simulation 1/1 Elmer\n",
      "\u001b[2m\u001b[36m(event_loop pid=32316)\u001b[0m Simulation 1/1 Elmer\n"
     ]
    },
    {
     "name": "stderr",
     "output_type": "stream",
     "text": [
      "2022-12-13 11:57:25,690\tWARNING optuna_search.py:549 -- 'params/ground_gap'\n",
      "C:\\Users\\NikoSavola\\AppData\\Roaming\\Python\\Python39\\site-packages\\optuna\\distributions.py:766: FutureWarning: UniformDistribution(high=700.0, low=200.0) is deprecated and internally converted to FloatDistribution(high=700.0, log=False, low=200.0, step=None). See https://github.com/optuna/optuna/issues/2941.\n",
      "  warnings.warn(message, FutureWarning)\n",
      "C:\\Users\\NikoSavola\\AppData\\Roaming\\Python\\Python39\\site-packages\\optuna\\distributions.py:766: FutureWarning: UniformDistribution(high=500.0, low=50.0) is deprecated and internally converted to FloatDistribution(high=500.0, log=False, low=50.0, step=None). See https://github.com/optuna/optuna/issues/2941.\n",
      "  warnings.warn(message, FutureWarning)\n",
      "C:\\Users\\NikoSavola\\AppData\\Roaming\\Python\\Python39\\site-packages\\optuna\\distributions.py:766: FutureWarning: UniformDistribution(high=300.0, low=50.0) is deprecated and internally converted to FloatDistribution(high=300.0, log=False, low=50.0, step=None). See https://github.com/optuna/optuna/issues/2941.\n",
      "  warnings.warn(message, FutureWarning)\n",
      "C:\\Users\\NikoSavola\\AppData\\Roaming\\Python\\Python39\\site-packages\\optuna\\distributions.py:766: FutureWarning: UniformDistribution(high=500.0, low=40.0) is deprecated and internally converted to FloatDistribution(high=500.0, log=False, low=40.0, step=None). See https://github.com/optuna/optuna/issues/2941.\n",
      "  warnings.warn(message, FutureWarning)\n",
      "C:\\Users\\NikoSavola\\AppData\\Roaming\\Python\\Python39\\site-packages\\optuna\\distributions.py:766: FutureWarning: UniformDistribution(high=40.0, low=20.0) is deprecated and internally converted to FloatDistribution(high=40.0, log=False, low=20.0, step=None). See https://github.com/optuna/optuna/issues/2941.\n",
      "  warnings.warn(message, FutureWarning)\n",
      "C:\\Users\\NikoSavola\\AppData\\Roaming\\Python\\Python39\\site-packages\\optuna\\distributions.py:766: FutureWarning: UniformDistribution(high=50.0, low=5.0) is deprecated and internally converted to FloatDistribution(high=50.0, log=False, low=5.0, step=None). See https://github.com/optuna/optuna/issues/2941.\n",
      "  warnings.warn(message, FutureWarning)\n",
      "C:\\Users\\NikoSavola\\AppData\\Roaming\\Python\\Python39\\site-packages\\optuna\\distributions.py:766: FutureWarning: UniformDistribution(high=1000.0, low=550.0) is deprecated and internally converted to FloatDistribution(high=1000.0, log=False, low=550.0, step=None). See https://github.com/optuna/optuna/issues/2941.\n",
      "  warnings.warn(message, FutureWarning)\n",
      "C:\\Users\\NikoSavola\\AppData\\Roaming\\Python\\Python39\\site-packages\\optuna\\distributions.py:766: FutureWarning: UniformDistribution(high=1000.0, low=400.0) is deprecated and internally converted to FloatDistribution(high=1000.0, log=False, low=400.0, step=None). See https://github.com/optuna/optuna/issues/2941.\n",
      "  warnings.warn(message, FutureWarning)\n",
      "C:\\Users\\NikoSavola\\AppData\\Roaming\\Python\\Python39\\site-packages\\optuna\\distributions.py:766: FutureWarning: UniformDistribution(high=0.0, low=-20.0) is deprecated and internally converted to FloatDistribution(high=0.0, log=False, low=-20.0, step=None). See https://github.com/optuna/optuna/issues/2941.\n",
      "  warnings.warn(message, FutureWarning)\n",
      "C:\\Users\\NikoSavola\\AppData\\Roaming\\Python\\Python39\\site-packages\\optuna\\distributions.py:766: FutureWarning: UniformDistribution(high=50.0, low=0.0) is deprecated and internally converted to FloatDistribution(high=50.0, log=False, low=0.0, step=None). See https://github.com/optuna/optuna/issues/2941.\n",
      "  warnings.warn(message, FutureWarning)\n",
      "C:\\Users\\NikoSavola\\AppData\\Roaming\\Python\\Python39\\site-packages\\optuna\\integration\\botorch.py:498: UserWarning: `constraints_func` was given but no call to it correctly computed constraints. Constraints passed to `candidates_func` will be `None`.\n",
      "  warnings.warn(\n",
      "C:\\Users\\NikoSavola\\AppData\\Roaming\\Python\\Python39\\site-packages\\optuna\\integration\\botorch.py:526: ExperimentalWarning: qei_candidates_func is experimental (supported from v2.4.0). The interface can change in the future.\n",
      "  candidates = self._candidates_func(params, values, con, bounds)\n"
     ]
    },
    {
     "name": "stdout",
     "output_type": "stream",
     "text": [
      "\u001b[2m\u001b[36m(event_loop pid=38564)\u001b[0m Simulation 1/1 write results json\n",
      "\u001b[2m\u001b[36m(event_loop pid=34608)\u001b[0m Simulation 1/1 Paraview\n",
      "\u001b[2m\u001b[36m(event_loop pid=40952)\u001b[0m Simulation 1/1 Paraview\n",
      "\u001b[2m\u001b[36m(event_loop pid=34608)\u001b[0m Simulation 1/1 write results json\n",
      "\u001b[2m\u001b[36m(event_loop pid=40952)\u001b[0m Simulation 1/1 write results json\n",
      "\u001b[2m\u001b[36m(event_loop pid=32316)\u001b[0m Simulation 1/1 Paraview\n"
     ]
    },
    {
     "name": "stderr",
     "output_type": "stream",
     "text": [
      "2022-12-13 11:57:31,783\tWARNING optuna_search.py:549 -- 'params/ground_gap'\n",
      "C:\\Users\\NikoSavola\\AppData\\Roaming\\Python\\Python39\\site-packages\\optuna\\distributions.py:766: FutureWarning: UniformDistribution(high=700.0, low=200.0) is deprecated and internally converted to FloatDistribution(high=700.0, log=False, low=200.0, step=None). See https://github.com/optuna/optuna/issues/2941.\n",
      "  warnings.warn(message, FutureWarning)\n",
      "C:\\Users\\NikoSavola\\AppData\\Roaming\\Python\\Python39\\site-packages\\optuna\\distributions.py:766: FutureWarning: UniformDistribution(high=500.0, low=50.0) is deprecated and internally converted to FloatDistribution(high=500.0, log=False, low=50.0, step=None). See https://github.com/optuna/optuna/issues/2941.\n",
      "  warnings.warn(message, FutureWarning)\n",
      "C:\\Users\\NikoSavola\\AppData\\Roaming\\Python\\Python39\\site-packages\\optuna\\distributions.py:766: FutureWarning: UniformDistribution(high=300.0, low=50.0) is deprecated and internally converted to FloatDistribution(high=300.0, log=False, low=50.0, step=None). See https://github.com/optuna/optuna/issues/2941.\n",
      "  warnings.warn(message, FutureWarning)\n",
      "C:\\Users\\NikoSavola\\AppData\\Roaming\\Python\\Python39\\site-packages\\optuna\\distributions.py:766: FutureWarning: UniformDistribution(high=500.0, low=40.0) is deprecated and internally converted to FloatDistribution(high=500.0, log=False, low=40.0, step=None). See https://github.com/optuna/optuna/issues/2941.\n",
      "  warnings.warn(message, FutureWarning)\n",
      "C:\\Users\\NikoSavola\\AppData\\Roaming\\Python\\Python39\\site-packages\\optuna\\distributions.py:766: FutureWarning: UniformDistribution(high=40.0, low=20.0) is deprecated and internally converted to FloatDistribution(high=40.0, log=False, low=20.0, step=None). See https://github.com/optuna/optuna/issues/2941.\n",
      "  warnings.warn(message, FutureWarning)\n",
      "C:\\Users\\NikoSavola\\AppData\\Roaming\\Python\\Python39\\site-packages\\optuna\\distributions.py:766: FutureWarning: UniformDistribution(high=50.0, low=5.0) is deprecated and internally converted to FloatDistribution(high=50.0, log=False, low=5.0, step=None). See https://github.com/optuna/optuna/issues/2941.\n",
      "  warnings.warn(message, FutureWarning)\n",
      "C:\\Users\\NikoSavola\\AppData\\Roaming\\Python\\Python39\\site-packages\\optuna\\distributions.py:766: FutureWarning: UniformDistribution(high=1000.0, low=550.0) is deprecated and internally converted to FloatDistribution(high=1000.0, log=False, low=550.0, step=None). See https://github.com/optuna/optuna/issues/2941.\n",
      "  warnings.warn(message, FutureWarning)\n",
      "C:\\Users\\NikoSavola\\AppData\\Roaming\\Python\\Python39\\site-packages\\optuna\\distributions.py:766: FutureWarning: UniformDistribution(high=1000.0, low=400.0) is deprecated and internally converted to FloatDistribution(high=1000.0, log=False, low=400.0, step=None). See https://github.com/optuna/optuna/issues/2941.\n",
      "  warnings.warn(message, FutureWarning)\n",
      "C:\\Users\\NikoSavola\\AppData\\Roaming\\Python\\Python39\\site-packages\\optuna\\distributions.py:766: FutureWarning: UniformDistribution(high=0.0, low=-20.0) is deprecated and internally converted to FloatDistribution(high=0.0, log=False, low=-20.0, step=None). See https://github.com/optuna/optuna/issues/2941.\n",
      "  warnings.warn(message, FutureWarning)\n",
      "C:\\Users\\NikoSavola\\AppData\\Roaming\\Python\\Python39\\site-packages\\optuna\\distributions.py:766: FutureWarning: UniformDistribution(high=50.0, low=0.0) is deprecated and internally converted to FloatDistribution(high=50.0, log=False, low=0.0, step=None). See https://github.com/optuna/optuna/issues/2941.\n",
      "  warnings.warn(message, FutureWarning)\n",
      "C:\\Users\\NikoSavola\\AppData\\Roaming\\Python\\Python39\\site-packages\\optuna\\integration\\botorch.py:498: UserWarning: `constraints_func` was given but no call to it correctly computed constraints. Constraints passed to `candidates_func` will be `None`.\n",
      "  warnings.warn(\n",
      "C:\\Users\\NikoSavola\\AppData\\Roaming\\Python\\Python39\\site-packages\\optuna\\integration\\botorch.py:526: ExperimentalWarning: qei_candidates_func is experimental (supported from v2.4.0). The interface can change in the future.\n",
      "  candidates = self._candidates_func(params, values, con, bounds)\n",
      "\u001b[2m\u001b[36m(event_loop pid=40712)\u001b[0m Ground location of port 1 is not determined.\n",
      "\u001b[2m\u001b[36m(event_loop pid=40712)\u001b[0m Ground location of port 2 is not determined.\n"
     ]
    },
    {
     "name": "stdout",
     "output_type": "stream",
     "text": [
      "\u001b[2m\u001b[36m(event_loop pid=32316)\u001b[0m Simulation 1/1 write results json\n",
      "\u001b[2m\u001b[36m(event_loop pid=40712)\u001b[0m Submitting the main script of simulation 1/1\n",
      "\u001b[2m\u001b[36m(event_loop pid=40712)\u001b[0m --------------------------------------------\n",
      "\u001b[2m\u001b[36m(event_loop pid=40712)\u001b[0m Simulation 1/1 Gmsh\n"
     ]
    },
    {
     "name": "stderr",
     "output_type": "stream",
     "text": [
      "2022-12-13 11:57:32,259\tWARNING optuna_search.py:549 -- 'params/ground_gap'\n",
      "C:\\Users\\NikoSavola\\AppData\\Roaming\\Python\\Python39\\site-packages\\optuna\\distributions.py:766: FutureWarning: UniformDistribution(high=700.0, low=200.0) is deprecated and internally converted to FloatDistribution(high=700.0, log=False, low=200.0, step=None). See https://github.com/optuna/optuna/issues/2941.\n",
      "  warnings.warn(message, FutureWarning)\n",
      "C:\\Users\\NikoSavola\\AppData\\Roaming\\Python\\Python39\\site-packages\\optuna\\distributions.py:766: FutureWarning: UniformDistribution(high=500.0, low=50.0) is deprecated and internally converted to FloatDistribution(high=500.0, log=False, low=50.0, step=None). See https://github.com/optuna/optuna/issues/2941.\n",
      "  warnings.warn(message, FutureWarning)\n",
      "C:\\Users\\NikoSavola\\AppData\\Roaming\\Python\\Python39\\site-packages\\optuna\\distributions.py:766: FutureWarning: UniformDistribution(high=300.0, low=50.0) is deprecated and internally converted to FloatDistribution(high=300.0, log=False, low=50.0, step=None). See https://github.com/optuna/optuna/issues/2941.\n",
      "  warnings.warn(message, FutureWarning)\n",
      "C:\\Users\\NikoSavola\\AppData\\Roaming\\Python\\Python39\\site-packages\\optuna\\distributions.py:766: FutureWarning: UniformDistribution(high=500.0, low=40.0) is deprecated and internally converted to FloatDistribution(high=500.0, log=False, low=40.0, step=None). See https://github.com/optuna/optuna/issues/2941.\n",
      "  warnings.warn(message, FutureWarning)\n",
      "C:\\Users\\NikoSavola\\AppData\\Roaming\\Python\\Python39\\site-packages\\optuna\\distributions.py:766: FutureWarning: UniformDistribution(high=40.0, low=20.0) is deprecated and internally converted to FloatDistribution(high=40.0, log=False, low=20.0, step=None). See https://github.com/optuna/optuna/issues/2941.\n",
      "  warnings.warn(message, FutureWarning)\n",
      "C:\\Users\\NikoSavola\\AppData\\Roaming\\Python\\Python39\\site-packages\\optuna\\distributions.py:766: FutureWarning: UniformDistribution(high=50.0, low=5.0) is deprecated and internally converted to FloatDistribution(high=50.0, log=False, low=5.0, step=None). See https://github.com/optuna/optuna/issues/2941.\n",
      "  warnings.warn(message, FutureWarning)\n",
      "C:\\Users\\NikoSavola\\AppData\\Roaming\\Python\\Python39\\site-packages\\optuna\\distributions.py:766: FutureWarning: UniformDistribution(high=1000.0, low=550.0) is deprecated and internally converted to FloatDistribution(high=1000.0, log=False, low=550.0, step=None). See https://github.com/optuna/optuna/issues/2941.\n",
      "  warnings.warn(message, FutureWarning)\n",
      "C:\\Users\\NikoSavola\\AppData\\Roaming\\Python\\Python39\\site-packages\\optuna\\distributions.py:766: FutureWarning: UniformDistribution(high=1000.0, low=400.0) is deprecated and internally converted to FloatDistribution(high=1000.0, log=False, low=400.0, step=None). See https://github.com/optuna/optuna/issues/2941.\n",
      "  warnings.warn(message, FutureWarning)\n",
      "C:\\Users\\NikoSavola\\AppData\\Roaming\\Python\\Python39\\site-packages\\optuna\\distributions.py:766: FutureWarning: UniformDistribution(high=0.0, low=-20.0) is deprecated and internally converted to FloatDistribution(high=0.0, log=False, low=-20.0, step=None). See https://github.com/optuna/optuna/issues/2941.\n",
      "  warnings.warn(message, FutureWarning)\n",
      "C:\\Users\\NikoSavola\\AppData\\Roaming\\Python\\Python39\\site-packages\\optuna\\distributions.py:766: FutureWarning: UniformDistribution(high=50.0, low=0.0) is deprecated and internally converted to FloatDistribution(high=50.0, log=False, low=0.0, step=None). See https://github.com/optuna/optuna/issues/2941.\n",
      "  warnings.warn(message, FutureWarning)\n",
      "C:\\Users\\NikoSavola\\AppData\\Roaming\\Python\\Python39\\site-packages\\optuna\\integration\\botorch.py:498: UserWarning: `constraints_func` was given but no call to it correctly computed constraints. Constraints passed to `candidates_func` will be `None`.\n",
      "  warnings.warn(\n",
      "C:\\Users\\NikoSavola\\AppData\\Roaming\\Python\\Python39\\site-packages\\optuna\\integration\\botorch.py:526: ExperimentalWarning: qei_candidates_func is experimental (supported from v2.4.0). The interface can change in the future.\n",
      "  candidates = self._candidates_func(params, values, con, bounds)\n",
      "\u001b[2m\u001b[36m(event_loop pid=40952)\u001b[0m Ground location of port 1 is not determined.\n",
      "\u001b[2m\u001b[36m(event_loop pid=40952)\u001b[0m Ground location of port 2 is not determined.\n"
     ]
    },
    {
     "name": "stdout",
     "output_type": "stream",
     "text": [
      "\u001b[2m\u001b[36m(event_loop pid=40952)\u001b[0m Submitting the main script of simulation 1/1\n",
      "\u001b[2m\u001b[36m(event_loop pid=40952)\u001b[0m --------------------------------------------\n",
      "\u001b[2m\u001b[36m(event_loop pid=40952)\u001b[0m Simulation 1/1 Gmsh\n"
     ]
    },
    {
     "name": "stderr",
     "output_type": "stream",
     "text": [
      "2022-12-13 11:57:32,989\tWARNING optuna_search.py:549 -- 'params/ground_gap'\n",
      "C:\\Users\\NikoSavola\\AppData\\Roaming\\Python\\Python39\\site-packages\\optuna\\distributions.py:766: FutureWarning: UniformDistribution(high=700.0, low=200.0) is deprecated and internally converted to FloatDistribution(high=700.0, log=False, low=200.0, step=None). See https://github.com/optuna/optuna/issues/2941.\n",
      "  warnings.warn(message, FutureWarning)\n",
      "C:\\Users\\NikoSavola\\AppData\\Roaming\\Python\\Python39\\site-packages\\optuna\\distributions.py:766: FutureWarning: UniformDistribution(high=500.0, low=50.0) is deprecated and internally converted to FloatDistribution(high=500.0, log=False, low=50.0, step=None). See https://github.com/optuna/optuna/issues/2941.\n",
      "  warnings.warn(message, FutureWarning)\n",
      "C:\\Users\\NikoSavola\\AppData\\Roaming\\Python\\Python39\\site-packages\\optuna\\distributions.py:766: FutureWarning: UniformDistribution(high=300.0, low=50.0) is deprecated and internally converted to FloatDistribution(high=300.0, log=False, low=50.0, step=None). See https://github.com/optuna/optuna/issues/2941.\n",
      "  warnings.warn(message, FutureWarning)\n",
      "C:\\Users\\NikoSavola\\AppData\\Roaming\\Python\\Python39\\site-packages\\optuna\\distributions.py:766: FutureWarning: UniformDistribution(high=500.0, low=40.0) is deprecated and internally converted to FloatDistribution(high=500.0, log=False, low=40.0, step=None). See https://github.com/optuna/optuna/issues/2941.\n",
      "  warnings.warn(message, FutureWarning)\n",
      "C:\\Users\\NikoSavola\\AppData\\Roaming\\Python\\Python39\\site-packages\\optuna\\distributions.py:766: FutureWarning: UniformDistribution(high=40.0, low=20.0) is deprecated and internally converted to FloatDistribution(high=40.0, log=False, low=20.0, step=None). See https://github.com/optuna/optuna/issues/2941.\n",
      "  warnings.warn(message, FutureWarning)\n",
      "C:\\Users\\NikoSavola\\AppData\\Roaming\\Python\\Python39\\site-packages\\optuna\\distributions.py:766: FutureWarning: UniformDistribution(high=50.0, low=5.0) is deprecated and internally converted to FloatDistribution(high=50.0, log=False, low=5.0, step=None). See https://github.com/optuna/optuna/issues/2941.\n",
      "  warnings.warn(message, FutureWarning)\n",
      "C:\\Users\\NikoSavola\\AppData\\Roaming\\Python\\Python39\\site-packages\\optuna\\distributions.py:766: FutureWarning: UniformDistribution(high=1000.0, low=550.0) is deprecated and internally converted to FloatDistribution(high=1000.0, log=False, low=550.0, step=None). See https://github.com/optuna/optuna/issues/2941.\n",
      "  warnings.warn(message, FutureWarning)\n",
      "C:\\Users\\NikoSavola\\AppData\\Roaming\\Python\\Python39\\site-packages\\optuna\\distributions.py:766: FutureWarning: UniformDistribution(high=1000.0, low=400.0) is deprecated and internally converted to FloatDistribution(high=1000.0, log=False, low=400.0, step=None). See https://github.com/optuna/optuna/issues/2941.\n",
      "  warnings.warn(message, FutureWarning)\n",
      "C:\\Users\\NikoSavola\\AppData\\Roaming\\Python\\Python39\\site-packages\\optuna\\distributions.py:766: FutureWarning: UniformDistribution(high=0.0, low=-20.0) is deprecated and internally converted to FloatDistribution(high=0.0, log=False, low=-20.0, step=None). See https://github.com/optuna/optuna/issues/2941.\n",
      "  warnings.warn(message, FutureWarning)\n",
      "C:\\Users\\NikoSavola\\AppData\\Roaming\\Python\\Python39\\site-packages\\optuna\\distributions.py:766: FutureWarning: UniformDistribution(high=50.0, low=0.0) is deprecated and internally converted to FloatDistribution(high=50.0, log=False, low=0.0, step=None). See https://github.com/optuna/optuna/issues/2941.\n",
      "  warnings.warn(message, FutureWarning)\n",
      "C:\\Users\\NikoSavola\\AppData\\Roaming\\Python\\Python39\\site-packages\\optuna\\integration\\botorch.py:498: UserWarning: `constraints_func` was given but no call to it correctly computed constraints. Constraints passed to `candidates_func` will be `None`.\n",
      "  warnings.warn(\n",
      "C:\\Users\\NikoSavola\\AppData\\Roaming\\Python\\Python39\\site-packages\\optuna\\integration\\botorch.py:526: ExperimentalWarning: qei_candidates_func is experimental (supported from v2.4.0). The interface can change in the future.\n",
      "  candidates = self._candidates_func(params, values, con, bounds)\n",
      "2022-12-13 11:57:33,722\tWARNING optuna_search.py:549 -- 'params/ground_gap'\n",
      "C:\\Users\\NikoSavola\\AppData\\Roaming\\Python\\Python39\\site-packages\\optuna\\distributions.py:766: FutureWarning: UniformDistribution(high=700.0, low=200.0) is deprecated and internally converted to FloatDistribution(high=700.0, log=False, low=200.0, step=None). See https://github.com/optuna/optuna/issues/2941.\n",
      "  warnings.warn(message, FutureWarning)\n",
      "C:\\Users\\NikoSavola\\AppData\\Roaming\\Python\\Python39\\site-packages\\optuna\\distributions.py:766: FutureWarning: UniformDistribution(high=500.0, low=50.0) is deprecated and internally converted to FloatDistribution(high=500.0, log=False, low=50.0, step=None). See https://github.com/optuna/optuna/issues/2941.\n",
      "  warnings.warn(message, FutureWarning)\n",
      "C:\\Users\\NikoSavola\\AppData\\Roaming\\Python\\Python39\\site-packages\\optuna\\distributions.py:766: FutureWarning: UniformDistribution(high=300.0, low=50.0) is deprecated and internally converted to FloatDistribution(high=300.0, log=False, low=50.0, step=None). See https://github.com/optuna/optuna/issues/2941.\n",
      "  warnings.warn(message, FutureWarning)\n",
      "C:\\Users\\NikoSavola\\AppData\\Roaming\\Python\\Python39\\site-packages\\optuna\\distributions.py:766: FutureWarning: UniformDistribution(high=500.0, low=40.0) is deprecated and internally converted to FloatDistribution(high=500.0, log=False, low=40.0, step=None). See https://github.com/optuna/optuna/issues/2941.\n",
      "  warnings.warn(message, FutureWarning)\n",
      "C:\\Users\\NikoSavola\\AppData\\Roaming\\Python\\Python39\\site-packages\\optuna\\distributions.py:766: FutureWarning: UniformDistribution(high=40.0, low=20.0) is deprecated and internally converted to FloatDistribution(high=40.0, log=False, low=20.0, step=None). See https://github.com/optuna/optuna/issues/2941.\n",
      "  warnings.warn(message, FutureWarning)\n",
      "C:\\Users\\NikoSavola\\AppData\\Roaming\\Python\\Python39\\site-packages\\optuna\\distributions.py:766: FutureWarning: UniformDistribution(high=50.0, low=5.0) is deprecated and internally converted to FloatDistribution(high=50.0, log=False, low=5.0, step=None). See https://github.com/optuna/optuna/issues/2941.\n",
      "  warnings.warn(message, FutureWarning)\n",
      "C:\\Users\\NikoSavola\\AppData\\Roaming\\Python\\Python39\\site-packages\\optuna\\distributions.py:766: FutureWarning: UniformDistribution(high=1000.0, low=550.0) is deprecated and internally converted to FloatDistribution(high=1000.0, log=False, low=550.0, step=None). See https://github.com/optuna/optuna/issues/2941.\n",
      "  warnings.warn(message, FutureWarning)\n",
      "C:\\Users\\NikoSavola\\AppData\\Roaming\\Python\\Python39\\site-packages\\optuna\\distributions.py:766: FutureWarning: UniformDistribution(high=1000.0, low=400.0) is deprecated and internally converted to FloatDistribution(high=1000.0, log=False, low=400.0, step=None). See https://github.com/optuna/optuna/issues/2941.\n",
      "  warnings.warn(message, FutureWarning)\n",
      "C:\\Users\\NikoSavola\\AppData\\Roaming\\Python\\Python39\\site-packages\\optuna\\distributions.py:766: FutureWarning: UniformDistribution(high=0.0, low=-20.0) is deprecated and internally converted to FloatDistribution(high=0.0, log=False, low=-20.0, step=None). See https://github.com/optuna/optuna/issues/2941.\n",
      "  warnings.warn(message, FutureWarning)\n",
      "C:\\Users\\NikoSavola\\AppData\\Roaming\\Python\\Python39\\site-packages\\optuna\\distributions.py:766: FutureWarning: UniformDistribution(high=50.0, low=0.0) is deprecated and internally converted to FloatDistribution(high=50.0, log=False, low=0.0, step=None). See https://github.com/optuna/optuna/issues/2941.\n",
      "  warnings.warn(message, FutureWarning)\n",
      "C:\\Users\\NikoSavola\\AppData\\Roaming\\Python\\Python39\\site-packages\\optuna\\integration\\botorch.py:498: UserWarning: `constraints_func` was given but no call to it correctly computed constraints. Constraints passed to `candidates_func` will be `None`.\n",
      "  warnings.warn(\n",
      "C:\\Users\\NikoSavola\\AppData\\Roaming\\Python\\Python39\\site-packages\\optuna\\integration\\botorch.py:526: ExperimentalWarning: qei_candidates_func is experimental (supported from v2.4.0). The interface can change in the future.\n",
      "  candidates = self._candidates_func(params, values, con, bounds)\n",
      "\u001b[2m\u001b[36m(event_loop pid=32316)\u001b[0m Ground location of port 1 is not determined.\n",
      "\u001b[2m\u001b[36m(event_loop pid=32316)\u001b[0m Ground location of port 2 is not determined.\n"
     ]
    },
    {
     "name": "stdout",
     "output_type": "stream",
     "text": [
      "\u001b[2m\u001b[36m(event_loop pid=32316)\u001b[0m Submitting the main script of simulation 1/1\n",
      "\u001b[2m\u001b[36m(event_loop pid=32316)\u001b[0m --------------------------------------------\n",
      "\u001b[2m\u001b[36m(event_loop pid=32316)\u001b[0m Simulation 1/1 Gmsh\n"
     ]
    },
    {
     "name": "stderr",
     "output_type": "stream",
     "text": [
      "\u001b[2m\u001b[36m(event_loop pid=40148)\u001b[0m Ground location of port 1 is not determined.\n",
      "\u001b[2m\u001b[36m(event_loop pid=40148)\u001b[0m Ground location of port 2 is not determined.\n"
     ]
    },
    {
     "name": "stdout",
     "output_type": "stream",
     "text": [
      "\u001b[2m\u001b[36m(event_loop pid=40148)\u001b[0m Submitting the main script of simulation 1/1\n",
      "\u001b[2m\u001b[36m(event_loop pid=40148)\u001b[0m --------------------------------------------\n",
      "\u001b[2m\u001b[36m(event_loop pid=40148)\u001b[0m Simulation 1/1 Gmsh\n"
     ]
    },
    {
     "name": "stderr",
     "output_type": "stream",
     "text": [
      "\u001b[2m\u001b[36m(event_loop pid=41148)\u001b[0m Ground location of port 1 is not determined.\n",
      "\u001b[2m\u001b[36m(event_loop pid=41148)\u001b[0m Ground location of port 2 is not determined.\n"
     ]
    },
    {
     "name": "stdout",
     "output_type": "stream",
     "text": [
      "\u001b[2m\u001b[36m(event_loop pid=41148)\u001b[0m Submitting the main script of simulation 1/1\n",
      "\u001b[2m\u001b[36m(event_loop pid=41148)\u001b[0m --------------------------------------------\n",
      "\u001b[2m\u001b[36m(event_loop pid=41148)\u001b[0m Simulation 1/1 Gmsh\n",
      "\u001b[2m\u001b[36m(event_loop pid=40712)\u001b[0m Simulation 1/1 ElmerGrid\n",
      "\u001b[2m\u001b[36m(event_loop pid=40952)\u001b[0m Simulation 1/1 ElmerGrid\n",
      "\u001b[2m\u001b[36m(event_loop pid=32316)\u001b[0m Simulation 1/1 ElmerGrid\n",
      "\u001b[2m\u001b[36m(event_loop pid=40148)\u001b[0m Simulation 1/1 ElmerGrid\n",
      "\u001b[2m\u001b[36m(event_loop pid=40712)\u001b[0m Simulation 1/1 Elmer\n",
      "\u001b[2m\u001b[36m(event_loop pid=41148)\u001b[0m Simulation 1/1 ElmerGrid\n",
      "\u001b[2m\u001b[36m(event_loop pid=40952)\u001b[0m Simulation 1/1 Elmer\n",
      "\u001b[2m\u001b[36m(event_loop pid=40712)\u001b[0m Simulation 1/1 Paraview\n",
      "\u001b[2m\u001b[36m(event_loop pid=32316)\u001b[0m Simulation 1/1 Elmer\n",
      "\u001b[2m\u001b[36m(event_loop pid=40712)\u001b[0m Simulation 1/1 write results json\n",
      "\u001b[2m\u001b[36m(event_loop pid=40148)\u001b[0m Simulation 1/1 Elmer\n",
      "\u001b[2m\u001b[36m(event_loop pid=40952)\u001b[0m Simulation 1/1 Paraview\n"
     ]
    },
    {
     "name": "stderr",
     "output_type": "stream",
     "text": [
      "2022-12-13 11:57:55,183\tWARNING optuna_search.py:549 -- 'params/ground_gap'\n"
     ]
    },
    {
     "name": "stdout",
     "output_type": "stream",
     "text": [
      "\u001b[2m\u001b[36m(event_loop pid=41148)\u001b[0m Simulation 1/1 Elmer\n",
      "\u001b[2m\u001b[36m(event_loop pid=40952)\u001b[0m Simulation 1/1 write results json\n",
      "\u001b[2m\u001b[36m(event_loop pid=32316)\u001b[0m Simulation 1/1 Paraview\n",
      "\u001b[2m\u001b[36m(event_loop pid=40148)\u001b[0m Simulation 1/1 Paraview\n",
      "\u001b[2m\u001b[36m(event_loop pid=40148)\u001b[0m Simulation 1/1 write results json\n"
     ]
    },
    {
     "name": "stderr",
     "output_type": "stream",
     "text": [
      "2022-12-13 11:57:59,588\tWARNING optuna_search.py:549 -- 'params/ground_gap'\n"
     ]
    },
    {
     "name": "stdout",
     "output_type": "stream",
     "text": [
      "\u001b[2m\u001b[36m(event_loop pid=32316)\u001b[0m Simulation 1/1 write results json\n",
      "\u001b[2m\u001b[36m(event_loop pid=41148)\u001b[0m Simulation 1/1 Paraview\n"
     ]
    },
    {
     "name": "stderr",
     "output_type": "stream",
     "text": [
      "2022-12-13 11:58:00,115\tWARNING optuna_search.py:549 -- 'params/ground_gap'\n"
     ]
    },
    {
     "name": "stdout",
     "output_type": "stream",
     "text": [
      "\u001b[2m\u001b[36m(event_loop pid=41148)\u001b[0m Simulation 1/1 write results json\n"
     ]
    },
    {
     "name": "stderr",
     "output_type": "stream",
     "text": [
      "2022-12-13 11:58:00,233\tWARNING optuna_search.py:549 -- 'params/ground_gap'\n",
      "2022-12-13 11:58:00,897\tWARNING optuna_search.py:549 -- 'params/ground_gap'\n",
      "2022-12-13 11:58:01,043\tINFO tune.py:777 -- Total run time: 277.76 seconds (277.61 seconds for the tuning loop).\n"
     ]
    },
    {
     "name": "stdout",
     "output_type": "stream",
     "text": [
      "Saving study to D:\\LocalSimulations\\DoublePadsSim_2022-12-13_11.53.18.886041\\ray_results\\event_loop_2022-12-13_11-53-18\\study.pkl\n"
     ]
    }
   ],
   "source": [
    "# Set folder for optimisation files\n",
    "os.environ['KQC_TMP_PATH'] = (\n",
    "    Path(original_kqc_tmp_path) / (sim_class.__name__ + '_' + str(datetime.now()))\\\n",
    "        .replace(' ', '_').replace(':', '.')\n",
    ").as_posix()\n",
    "\n",
    "tuner = tune.Tuner(\n",
    "    tune.with_resources(event_loop, {\"cpu\": n_processes}),  # maximum resources given to worker\n",
    "    param_space=search_config,\n",
    "    tune_config=tune_config,\n",
    "    run_config=ray.air.RunConfig(\n",
    "        local_dir=os.environ['KQC_TMP_PATH'] + \"/ray_results\",  # needed for tensorboard\n",
    "        checkpoint_config=ray.air.CheckpointConfig(\n",
    "            checkpoint_frequency=1\n",
    "        ),\n",
    "        log_to_file=True\n",
    "    )\n",
    ")\n",
    "\n",
    "# For resuming a run\n",
    "# tuner = tune.Tuner.restore(os.environ['KQC_TMP_PATH'] + \"/ray_results\" + \"/some_folder\", restart_errored=False)\n",
    "\n",
    "results = tuner.fit()\n",
    "\n",
    "# This is specific only for the Optuna optimiser, we also save the 'study' object\n",
    "study_file = Path(results._experiment_analysis.runner_data()['_local_checkpoint_dir']) / \"study.pkl\"\n",
    "if study_file.exists():\n",
    "    print(f'Loading study from {study_file}')\n",
    "    study = joblib.load(study_file)\n",
    "else:\n",
    "    print(f'Saving study to {study_file}')\n",
    "    study = optuna_search._ot_study\n",
    "    joblib.dump(study, study_file)\n",
    "\n",
    "os.environ['KQC_TMP_PATH'] = original_kqc_tmp_path"
   ]
  },
  {
   "cell_type": "markdown",
   "metadata": {},
   "source": [
    "This is specific only for the Optuna optimiser"
   ]
  },
  {
   "cell_type": "code",
   "execution_count": 12,
   "metadata": {},
   "outputs": [
    {
     "name": "stderr",
     "output_type": "stream",
     "text": [
      "C:\\Users\\NikoSavola\\AppData\\Roaming\\Python\\Python39\\site-packages\\optuna\\visualization\\_utils.py:69: UserWarning: `target` is specified, but `target_name` is the default value, 'Objective Value'.\n",
      "  warnings.warn(\n"
     ]
    },
    {
     "data": {
      "application/vnd.plotly.v1+json": {
       "config": {
        "plotlyServerURL": "https://plot.ly"
       },
       "data": [
        {
         "cliponaxis": false,
         "hovertemplate": [
          "params/squid_offset (FloatDistribution): 0.0013737308151445249<extra></extra>",
          "params/island1_extent_[0] (FloatDistribution): 0.010036100263271286<extra></extra>",
          "params/coupler_extent[0] (FloatDistribution): 0.01457261037769578<extra></extra>",
          "params/island1_extent_[1] (FloatDistribution): 0.015213098284175759<extra></extra>",
          "params/ground_gap_[0] (FloatDistribution): 0.015765334477580415<extra></extra>",
          "params/ground_gap_[1] (FloatDistribution): 0.019405489500004956<extra></extra>",
          "params/island2_extent_[1] (FloatDistribution): 0.029776550203630073<extra></extra>",
          "params/island2_extent_[0] (FloatDistribution): 0.0401504015928009<extra></extra>",
          "params/island1_r (FloatDistribution): 0.04879845111903513<extra></extra>",
          "params/coupler_offset (FloatDistribution): 0.07491227994908864<extra></extra>",
          "params/island2_r (FloatDistribution): 0.1361965539852768<extra></extra>",
          "params/coupler_extent[1] (FloatDistribution): 0.5937993994322956<extra></extra>"
         ],
         "marker": {
          "color": "rgb(66,146,198)"
         },
         "orientation": "h",
         "text": [
          "<0.01",
          "0.01",
          "0.01",
          "0.02",
          "0.02",
          "0.02",
          "0.03",
          "0.04",
          "0.05",
          "0.07",
          "0.14",
          "0.59"
         ],
         "textposition": "outside",
         "type": "bar",
         "x": [
          0.0013737308151445249,
          0.010036100263271286,
          0.01457261037769578,
          0.015213098284175759,
          0.015765334477580415,
          0.019405489500004956,
          0.029776550203630073,
          0.0401504015928009,
          0.04879845111903513,
          0.07491227994908864,
          0.1361965539852768,
          0.5937993994322956
         ],
         "y": [
          "params/squid_offset",
          "params/island1_extent_[0]",
          "params/coupler_extent[0]",
          "params/island1_extent_[1]",
          "params/ground_gap_[0]",
          "params/ground_gap_[1]",
          "params/island2_extent_[1]",
          "params/island2_extent_[0]",
          "params/island1_r",
          "params/coupler_offset",
          "params/island2_r",
          "params/coupler_extent[1]"
         ]
        }
       ],
       "layout": {
        "showlegend": false,
        "template": {
         "data": {
          "bar": [
           {
            "error_x": {
             "color": "#2a3f5f"
            },
            "error_y": {
             "color": "#2a3f5f"
            },
            "marker": {
             "line": {
              "color": "#E5ECF6",
              "width": 0.5
             },
             "pattern": {
              "fillmode": "overlay",
              "size": 10,
              "solidity": 0.2
             }
            },
            "type": "bar"
           }
          ],
          "barpolar": [
           {
            "marker": {
             "line": {
              "color": "#E5ECF6",
              "width": 0.5
             },
             "pattern": {
              "fillmode": "overlay",
              "size": 10,
              "solidity": 0.2
             }
            },
            "type": "barpolar"
           }
          ],
          "carpet": [
           {
            "aaxis": {
             "endlinecolor": "#2a3f5f",
             "gridcolor": "white",
             "linecolor": "white",
             "minorgridcolor": "white",
             "startlinecolor": "#2a3f5f"
            },
            "baxis": {
             "endlinecolor": "#2a3f5f",
             "gridcolor": "white",
             "linecolor": "white",
             "minorgridcolor": "white",
             "startlinecolor": "#2a3f5f"
            },
            "type": "carpet"
           }
          ],
          "choropleth": [
           {
            "colorbar": {
             "outlinewidth": 0,
             "ticks": ""
            },
            "type": "choropleth"
           }
          ],
          "contour": [
           {
            "colorbar": {
             "outlinewidth": 0,
             "ticks": ""
            },
            "colorscale": [
             [
              0,
              "#0d0887"
             ],
             [
              0.1111111111111111,
              "#46039f"
             ],
             [
              0.2222222222222222,
              "#7201a8"
             ],
             [
              0.3333333333333333,
              "#9c179e"
             ],
             [
              0.4444444444444444,
              "#bd3786"
             ],
             [
              0.5555555555555556,
              "#d8576b"
             ],
             [
              0.6666666666666666,
              "#ed7953"
             ],
             [
              0.7777777777777778,
              "#fb9f3a"
             ],
             [
              0.8888888888888888,
              "#fdca26"
             ],
             [
              1,
              "#f0f921"
             ]
            ],
            "type": "contour"
           }
          ],
          "contourcarpet": [
           {
            "colorbar": {
             "outlinewidth": 0,
             "ticks": ""
            },
            "type": "contourcarpet"
           }
          ],
          "heatmap": [
           {
            "colorbar": {
             "outlinewidth": 0,
             "ticks": ""
            },
            "colorscale": [
             [
              0,
              "#0d0887"
             ],
             [
              0.1111111111111111,
              "#46039f"
             ],
             [
              0.2222222222222222,
              "#7201a8"
             ],
             [
              0.3333333333333333,
              "#9c179e"
             ],
             [
              0.4444444444444444,
              "#bd3786"
             ],
             [
              0.5555555555555556,
              "#d8576b"
             ],
             [
              0.6666666666666666,
              "#ed7953"
             ],
             [
              0.7777777777777778,
              "#fb9f3a"
             ],
             [
              0.8888888888888888,
              "#fdca26"
             ],
             [
              1,
              "#f0f921"
             ]
            ],
            "type": "heatmap"
           }
          ],
          "heatmapgl": [
           {
            "colorbar": {
             "outlinewidth": 0,
             "ticks": ""
            },
            "colorscale": [
             [
              0,
              "#0d0887"
             ],
             [
              0.1111111111111111,
              "#46039f"
             ],
             [
              0.2222222222222222,
              "#7201a8"
             ],
             [
              0.3333333333333333,
              "#9c179e"
             ],
             [
              0.4444444444444444,
              "#bd3786"
             ],
             [
              0.5555555555555556,
              "#d8576b"
             ],
             [
              0.6666666666666666,
              "#ed7953"
             ],
             [
              0.7777777777777778,
              "#fb9f3a"
             ],
             [
              0.8888888888888888,
              "#fdca26"
             ],
             [
              1,
              "#f0f921"
             ]
            ],
            "type": "heatmapgl"
           }
          ],
          "histogram": [
           {
            "marker": {
             "pattern": {
              "fillmode": "overlay",
              "size": 10,
              "solidity": 0.2
             }
            },
            "type": "histogram"
           }
          ],
          "histogram2d": [
           {
            "colorbar": {
             "outlinewidth": 0,
             "ticks": ""
            },
            "colorscale": [
             [
              0,
              "#0d0887"
             ],
             [
              0.1111111111111111,
              "#46039f"
             ],
             [
              0.2222222222222222,
              "#7201a8"
             ],
             [
              0.3333333333333333,
              "#9c179e"
             ],
             [
              0.4444444444444444,
              "#bd3786"
             ],
             [
              0.5555555555555556,
              "#d8576b"
             ],
             [
              0.6666666666666666,
              "#ed7953"
             ],
             [
              0.7777777777777778,
              "#fb9f3a"
             ],
             [
              0.8888888888888888,
              "#fdca26"
             ],
             [
              1,
              "#f0f921"
             ]
            ],
            "type": "histogram2d"
           }
          ],
          "histogram2dcontour": [
           {
            "colorbar": {
             "outlinewidth": 0,
             "ticks": ""
            },
            "colorscale": [
             [
              0,
              "#0d0887"
             ],
             [
              0.1111111111111111,
              "#46039f"
             ],
             [
              0.2222222222222222,
              "#7201a8"
             ],
             [
              0.3333333333333333,
              "#9c179e"
             ],
             [
              0.4444444444444444,
              "#bd3786"
             ],
             [
              0.5555555555555556,
              "#d8576b"
             ],
             [
              0.6666666666666666,
              "#ed7953"
             ],
             [
              0.7777777777777778,
              "#fb9f3a"
             ],
             [
              0.8888888888888888,
              "#fdca26"
             ],
             [
              1,
              "#f0f921"
             ]
            ],
            "type": "histogram2dcontour"
           }
          ],
          "mesh3d": [
           {
            "colorbar": {
             "outlinewidth": 0,
             "ticks": ""
            },
            "type": "mesh3d"
           }
          ],
          "parcoords": [
           {
            "line": {
             "colorbar": {
              "outlinewidth": 0,
              "ticks": ""
             }
            },
            "type": "parcoords"
           }
          ],
          "pie": [
           {
            "automargin": true,
            "type": "pie"
           }
          ],
          "scatter": [
           {
            "fillpattern": {
             "fillmode": "overlay",
             "size": 10,
             "solidity": 0.2
            },
            "type": "scatter"
           }
          ],
          "scatter3d": [
           {
            "line": {
             "colorbar": {
              "outlinewidth": 0,
              "ticks": ""
             }
            },
            "marker": {
             "colorbar": {
              "outlinewidth": 0,
              "ticks": ""
             }
            },
            "type": "scatter3d"
           }
          ],
          "scattercarpet": [
           {
            "marker": {
             "colorbar": {
              "outlinewidth": 0,
              "ticks": ""
             }
            },
            "type": "scattercarpet"
           }
          ],
          "scattergeo": [
           {
            "marker": {
             "colorbar": {
              "outlinewidth": 0,
              "ticks": ""
             }
            },
            "type": "scattergeo"
           }
          ],
          "scattergl": [
           {
            "marker": {
             "colorbar": {
              "outlinewidth": 0,
              "ticks": ""
             }
            },
            "type": "scattergl"
           }
          ],
          "scattermapbox": [
           {
            "marker": {
             "colorbar": {
              "outlinewidth": 0,
              "ticks": ""
             }
            },
            "type": "scattermapbox"
           }
          ],
          "scatterpolar": [
           {
            "marker": {
             "colorbar": {
              "outlinewidth": 0,
              "ticks": ""
             }
            },
            "type": "scatterpolar"
           }
          ],
          "scatterpolargl": [
           {
            "marker": {
             "colorbar": {
              "outlinewidth": 0,
              "ticks": ""
             }
            },
            "type": "scatterpolargl"
           }
          ],
          "scatterternary": [
           {
            "marker": {
             "colorbar": {
              "outlinewidth": 0,
              "ticks": ""
             }
            },
            "type": "scatterternary"
           }
          ],
          "surface": [
           {
            "colorbar": {
             "outlinewidth": 0,
             "ticks": ""
            },
            "colorscale": [
             [
              0,
              "#0d0887"
             ],
             [
              0.1111111111111111,
              "#46039f"
             ],
             [
              0.2222222222222222,
              "#7201a8"
             ],
             [
              0.3333333333333333,
              "#9c179e"
             ],
             [
              0.4444444444444444,
              "#bd3786"
             ],
             [
              0.5555555555555556,
              "#d8576b"
             ],
             [
              0.6666666666666666,
              "#ed7953"
             ],
             [
              0.7777777777777778,
              "#fb9f3a"
             ],
             [
              0.8888888888888888,
              "#fdca26"
             ],
             [
              1,
              "#f0f921"
             ]
            ],
            "type": "surface"
           }
          ],
          "table": [
           {
            "cells": {
             "fill": {
              "color": "#EBF0F8"
             },
             "line": {
              "color": "white"
             }
            },
            "header": {
             "fill": {
              "color": "#C8D4E3"
             },
             "line": {
              "color": "white"
             }
            },
            "type": "table"
           }
          ]
         },
         "layout": {
          "annotationdefaults": {
           "arrowcolor": "#2a3f5f",
           "arrowhead": 0,
           "arrowwidth": 1
          },
          "autotypenumbers": "strict",
          "coloraxis": {
           "colorbar": {
            "outlinewidth": 0,
            "ticks": ""
           }
          },
          "colorscale": {
           "diverging": [
            [
             0,
             "#8e0152"
            ],
            [
             0.1,
             "#c51b7d"
            ],
            [
             0.2,
             "#de77ae"
            ],
            [
             0.3,
             "#f1b6da"
            ],
            [
             0.4,
             "#fde0ef"
            ],
            [
             0.5,
             "#f7f7f7"
            ],
            [
             0.6,
             "#e6f5d0"
            ],
            [
             0.7,
             "#b8e186"
            ],
            [
             0.8,
             "#7fbc41"
            ],
            [
             0.9,
             "#4d9221"
            ],
            [
             1,
             "#276419"
            ]
           ],
           "sequential": [
            [
             0,
             "#0d0887"
            ],
            [
             0.1111111111111111,
             "#46039f"
            ],
            [
             0.2222222222222222,
             "#7201a8"
            ],
            [
             0.3333333333333333,
             "#9c179e"
            ],
            [
             0.4444444444444444,
             "#bd3786"
            ],
            [
             0.5555555555555556,
             "#d8576b"
            ],
            [
             0.6666666666666666,
             "#ed7953"
            ],
            [
             0.7777777777777778,
             "#fb9f3a"
            ],
            [
             0.8888888888888888,
             "#fdca26"
            ],
            [
             1,
             "#f0f921"
            ]
           ],
           "sequentialminus": [
            [
             0,
             "#0d0887"
            ],
            [
             0.1111111111111111,
             "#46039f"
            ],
            [
             0.2222222222222222,
             "#7201a8"
            ],
            [
             0.3333333333333333,
             "#9c179e"
            ],
            [
             0.4444444444444444,
             "#bd3786"
            ],
            [
             0.5555555555555556,
             "#d8576b"
            ],
            [
             0.6666666666666666,
             "#ed7953"
            ],
            [
             0.7777777777777778,
             "#fb9f3a"
            ],
            [
             0.8888888888888888,
             "#fdca26"
            ],
            [
             1,
             "#f0f921"
            ]
           ]
          },
          "colorway": [
           "#636efa",
           "#EF553B",
           "#00cc96",
           "#ab63fa",
           "#FFA15A",
           "#19d3f3",
           "#FF6692",
           "#B6E880",
           "#FF97FF",
           "#FECB52"
          ],
          "font": {
           "color": "#2a3f5f"
          },
          "geo": {
           "bgcolor": "white",
           "lakecolor": "white",
           "landcolor": "#E5ECF6",
           "showlakes": true,
           "showland": true,
           "subunitcolor": "white"
          },
          "hoverlabel": {
           "align": "left"
          },
          "hovermode": "closest",
          "mapbox": {
           "style": "light"
          },
          "paper_bgcolor": "white",
          "plot_bgcolor": "#E5ECF6",
          "polar": {
           "angularaxis": {
            "gridcolor": "white",
            "linecolor": "white",
            "ticks": ""
           },
           "bgcolor": "#E5ECF6",
           "radialaxis": {
            "gridcolor": "white",
            "linecolor": "white",
            "ticks": ""
           }
          },
          "scene": {
           "xaxis": {
            "backgroundcolor": "#E5ECF6",
            "gridcolor": "white",
            "gridwidth": 2,
            "linecolor": "white",
            "showbackground": true,
            "ticks": "",
            "zerolinecolor": "white"
           },
           "yaxis": {
            "backgroundcolor": "#E5ECF6",
            "gridcolor": "white",
            "gridwidth": 2,
            "linecolor": "white",
            "showbackground": true,
            "ticks": "",
            "zerolinecolor": "white"
           },
           "zaxis": {
            "backgroundcolor": "#E5ECF6",
            "gridcolor": "white",
            "gridwidth": 2,
            "linecolor": "white",
            "showbackground": true,
            "ticks": "",
            "zerolinecolor": "white"
           }
          },
          "shapedefaults": {
           "line": {
            "color": "#2a3f5f"
           }
          },
          "ternary": {
           "aaxis": {
            "gridcolor": "white",
            "linecolor": "white",
            "ticks": ""
           },
           "baxis": {
            "gridcolor": "white",
            "linecolor": "white",
            "ticks": ""
           },
           "bgcolor": "#E5ECF6",
           "caxis": {
            "gridcolor": "white",
            "linecolor": "white",
            "ticks": ""
           }
          },
          "title": {
           "x": 0.05
          },
          "xaxis": {
           "automargin": true,
           "gridcolor": "white",
           "linecolor": "white",
           "ticks": "",
           "title": {
            "standoff": 15
           },
           "zerolinecolor": "white",
           "zerolinewidth": 2
          },
          "yaxis": {
           "automargin": true,
           "gridcolor": "white",
           "linecolor": "white",
           "ticks": "",
           "title": {
            "standoff": 15
           },
           "zerolinecolor": "white",
           "zerolinewidth": 2
          }
         }
        },
        "title": {
         "text": "Hyperparameter Importances"
        },
        "xaxis": {
         "title": {
          "text": "Importance for Objective Value"
         }
        },
        "yaxis": {
         "title": {
          "text": "Hyperparameter"
         }
        }
       }
      }
     },
     "metadata": {},
     "output_type": "display_data"
    },
    {
     "name": "stderr",
     "output_type": "stream",
     "text": [
      "C:\\Users\\NikoSavola\\AppData\\Roaming\\Python\\Python39\\site-packages\\optuna\\visualization\\_utils.py:69: UserWarning:\n",
      "\n",
      "`target` is specified, but `target_name` is the default value, 'Objective Value'.\n",
      "\n"
     ]
    },
    {
     "data": {
      "application/vnd.plotly.v1+json": {
       "config": {
        "plotlyServerURL": "https://plot.ly"
       },
       "data": [
        {
         "dimensions": [
          {
           "label": "Objective Value",
           "range": [
            4.939300995880348e-7,
            3.0809768212163666
           ],
           "values": [
            2.5495658557429497,
            0.28563878272714005,
            2.32156387371886,
            3.0809768212163666,
            1.1409387307892696,
            0.08851015759862067,
            0.22476690260036825,
            0.1816981197012969,
            0.34340124510286185,
            1.8643569075214217,
            0.27106880650031556,
            2.0549495240655937,
            0.2566126294341655,
            0.0011899591704696082,
            0.03935497619088433,
            0.0032376108612379192,
            0.027722721102891038,
            0.017183060816668667,
            0.01653700856829777,
            0.020216038705356338,
            0.010483285842009403,
            0.00663669967147313,
            0.0012162436719558027,
            0.001758593820570443,
            0.0019662462345179307,
            4.939300995880348e-7,
            0.07601862550329466,
            0.04463119848371347,
            0.1067604297622055,
            0.0670318227580167,
            0.10365499392809388,
            0.09684508276061098,
            0.06683918555923139,
            0.003939358446039024,
            0.010877381665581939,
            0.040039351849694836,
            0.034445241270291777,
            0.0277577426349253,
            0.012332135584494726,
            0.1428215025315506,
            0.07045824453143874,
            0.09122067814704155,
            0.020882265661325075,
            0.0728627543183337,
            0.023739405923862922,
            0.0027516934703020316,
            0.002619959654638018,
            0.0031386590607464606,
            0.031280108673490854,
            0.014494906407564248
           ]
          },
          {
           "label": "params/coupler_ex...",
           "range": [
            63.52060206645089,
            490.68995902490406
           ],
           "values": [
            184.81935636730535,
            262.1643331605435,
            390.579355701996,
            252.26263139621892,
            95.95093974593443,
            358.62241655837596,
            441.7550621656869,
            145.85258158158183,
            115.96643216109966,
            280.73925019278533,
            370.91865135178074,
            424.93228605181616,
            490.68995902490406,
            63.52060206645089,
            398.01644703940156,
            143.99387946901902,
            138.36310574930758,
            452.41913529881094,
            427.9739218893776,
            425.23251116673237,
            396.61197704632804,
            290.2096661913916,
            336.5358456437751,
            329.567567761397,
            298.7177231521131,
            272.69555554348483,
            148.40389326114916,
            148.87120134358503,
            151.7334724567845,
            144.51689767578037,
            145.23031475185724,
            356.3741067698215,
            112.30829050938891,
            107.6828803107082,
            299.5626136190361,
            310.1657682017472,
            306.39074709783097,
            305.07552336993444,
            101.59708907049114,
            300.39957206146823,
            290.51997136120826,
            291.1193527966148,
            288.8343547136077,
            288.0793744854569,
            314.3329260466511,
            383.89218488849207,
            258.3780028234843,
            291.9134438019919,
            319.77626557301943,
            319.7451424343136
           ]
          },
          {
           "label": "params/coupler_ex...",
           "range": [
            21.901356303369052,
            39.49601010982159
           ],
           "values": [
            32.892083203952154,
            21.901356303369052,
            39.49601010982159,
            35.01413742256067,
            28.118845088657604,
            32.54173259941376,
            30.08634745631842,
            37.03941195383163,
            29.11738769054666,
            38.104601479724096,
            32.39945448196495,
            38.64688210093063,
            27.779725658144695,
            24.912193037751933,
            31.059751494455178,
            25.57451260457072,
            25.572022231385418,
            28.382411488845747,
            29.062295896601835,
            29.143542181234103,
            28.805795236492038,
            28.127896425642817,
            27.950944614757503,
            28.074692058210275,
            27.545698829044404,
            27.89008906104139,
            24.983560341658453,
            25.111904661374673,
            25.093156836744576,
            25.03548301682562,
            24.950737473762135,
            25.764537737616095,
            25.050104080003628,
            25.22944197139812,
            29.80046082056687,
            29.97436345769455,
            30.220909538782763,
            30.04496934211305,
            26.568298863033466,
            28.408186379567308,
            27.742424373257123,
            27.293629128880866,
            27.54889867687391,
            27.608245649321802,
            29.915823881180586,
            24.748356825338416,
            28.19927700917637,
            28.150127940163312,
            27.516585378722862,
            27.570902923751547
           ]
          },
          {
           "label": "params/coupler_of...",
           "range": [
            5.727268812467697,
            47.28728776557213
           ],
           "values": [
            11.876995438618357,
            10.025965041077356,
            9.312510281539959,
            19.57983381792002,
            23.925636087336457,
            40.6910425042094,
            18.458191326081465,
            15.130160954968625,
            32.31795469525616,
            33.69426528890513,
            27.632005867795357,
            5.727268812467697,
            40.77886950011977,
            35.43952284362708,
            40.34141123086236,
            36.12786697765834,
            35.92728321025995,
            30.207706533811724,
            29.07864905084004,
            31.99478901450428,
            33.519113628495674,
            39.35484699822153,
            36.47882429603679,
            36.12746102028799,
            38.92591648097184,
            40.97286230864692,
            39.641356568172306,
            40.17580319164487,
            40.1078633047365,
            39.92284771833918,
            39.96834494568171,
            25.81588867544577,
            41.857125144346924,
            42.25377779752885,
            47.21264934351436,
            47.00185814255101,
            47.017278792076944,
            47.2479670499248,
            40.63793485664278,
            31.404833121613382,
            32.510217363255066,
            32.35526540999389,
            32.0255042702752,
            32.14967215941657,
            47.28728776557213,
            31.507660944291988,
            42.59570069324274,
            28.4538842025141,
            26.938622193493135,
            26.974403147662713
           ]
          },
          {
           "label": "params/ground_gap...",
           "range": [
            557.6696807379021,
            984.6262562730928
           ],
           "values": [
            902.5456002762717,
            941.0735183375191,
            707.9194009400982,
            967.7280272435822,
            809.6825924663851,
            720.7165426435782,
            615.7633862547214,
            946.6860044088094,
            984.6262562730928,
            640.3246331138447,
            654.7608220184532,
            768.1820635040654,
            630.6619101987609,
            630.1114361304002,
            667.911271982655,
            629.7831691854389,
            632.4721801609877,
            627.0434575085667,
            633.940448757892,
            637.3963835761741,
            639.637972438693,
            642.7412361128945,
            633.1070526543648,
            633.2437040462266,
            630.889294953729,
            635.2675550392195,
            560.5818913482103,
            563.417461126781,
            560.9663233020484,
            559.4279039160982,
            557.6696807379021,
            637.8776707142364,
            633.860288971217,
            619.9806295168396,
            712.5745257191352,
            706.6259615596061,
            707.3671938535032,
            712.6700764345976,
            612.2135466524538,
            710.6032826960651,
            739.9879913006264,
            748.0981991580369,
            745.3532975192909,
            746.9354990081472,
            670.4753393192032,
            735.8212049892386,
            694.0184925414319,
            725.0228821692563,
            684.5784215798358,
            684.5644869236994
           ]
          },
          {
           "label": "params/ground_gap...",
           "range": [
            540.9704113251375,
            995.5602871493264
           ],
           "values": [
            885.9573442790726,
            872.9456833509084,
            744.3022120828723,
            601.3372632396199,
            971.0877021241677,
            741.044598897419,
            587.4427591193432,
            671.2147259756357,
            687.294722650892,
            540.9704113251375,
            828.491393592466,
            995.5602871493264,
            678.3274023617412,
            922.3394783768017,
            738.2295547707097,
            867.0079317876905,
            868.283998387003,
            634.0470787662864,
            683.8196618543807,
            678.4153886977435,
            700.7657521288054,
            794.1388351135179,
            751.0683179551995,
            766.25501623619,
            788.4247867121442,
            814.9529213133264,
            947.6240999111131,
            948.2283903207592,
            948.5258986848143,
            950.7260152735051,
            948.0923264382748,
            716.4470413399112,
            890.738216609963,
            904.375900353299,
            739.6610551873916,
            742.1817838714285,
            745.9808001942986,
            745.6635611418624,
            958.4294321454508,
            639.4673788251498,
            653.5745164427083,
            644.9869638617856,
            644.0287665168169,
            643.2707072510548,
            826.3298488531628,
            733.9987723176914,
            847.8352858670019,
            650.2990447465431,
            663.5344308751928,
            662.6872149451649
           ]
          },
          {
           "label": "params/island1_ex...",
           "range": [
            226.10424230531223,
            699.9999999999999
           ],
           "values": [
            657.3231397093616,
            557.5177708946082,
            330.27142157733977,
            576.230569410337,
            369.1473662870475,
            695.0143007599545,
            492.9178358703083,
            226.10424230531223,
            280.29861146930693,
            691.8774622671133,
            295.62049788741666,
            629.482809907869,
            360.4153687776061,
            582.235009737884,
            668.3674869557431,
            582.2847950521423,
            580.985848166092,
            459.8716490826561,
            414.0876976903493,
            491.5738217015118,
            507.03697517376463,
            593.8291400329113,
            540.9299582422368,
            529.0858665054063,
            565.6127278648037,
            606.6768661584701,
            583.0415853846408,
            590.4438557004357,
            590.1171709789032,
            608.2899629025102,
            612.6869618414349,
            545.8096704548057,
            687.9253536718923,
            561.1407846605296,
            572.5945776924575,
            556.5941459966366,
            553.560669359008,
            568.5949756125506,
            564.0350305634872,
            386.69895533193863,
            426.6278196746813,
            427.9440334367349,
            420.4923755901026,
            421.3733346094345,
            699.9999999999999,
            479.8688587048487,
            557.7988723492705,
            423.0867316361109,
            451.25181563169326,
            452.9532086598309
           ]
          },
          {
           "label": "params/island1_ex...",
           "range": [
            55.547059143186715,
            431.51609011414837
           ],
           "values": [
            78.53165829407492,
            55.547059143186715,
            145.70380039784436,
            194.28954237445447,
            360.97291983039514,
            271.0861544163009,
            125.800561605848,
            424.3348005367074,
            354.0753781778387,
            352.067369718038,
            103.74672111694264,
            230.24133724948544,
            218.11073154412193,
            360.9200846150991,
            254.6576248468889,
            337.39272987453046,
            337.29504382631194,
            175.33266508890276,
            148.58069883786902,
            182.17152276646624,
            205.1348932210927,
            294.4366299029406,
            254.64147146198027,
            245.25566290583774,
            288.9397753564475,
            310.75900926854484,
            358.9726180028058,
            361.5140450680034,
            359.1267792968169,
            363.28002474740106,
            364.35438585473594,
            146.98623527173896,
            401.769750103437,
            431.51609011414837,
            314.0689055979073,
            306.3253100635237,
            312.48249797130046,
            310.40680265510485,
            415.5751060350922,
            219.1143344434225,
            229.26828604051886,
            223.93672275488177,
            234.8516917325573,
            235.58220197481285,
            331.7442152706836,
            149.4225921641647,
            284.0211840019006,
            364.19965225983054,
            332.22675327504555,
            333.9840190541928
           ]
          },
          {
           "label": "params/island1_r",
           "range": [
            0.09066935415955046,
            48.52860489000794
           ],
           "values": [
            0.38668255195293266,
            33.63867682962915,
            0.09066935415955046,
            8.926457981602793,
            48.52860489000794,
            28.186895677077505,
            10.445583354176957,
            32.79527614130113,
            7.416354061022168,
            25.7950118606866,
            42.58311999221612,
            43.6828010238858,
            37.156830135968846,
            8.552491755493824,
            29.11598800503259,
            13.407973235977272,
            12.971763927679945,
            23.532439261723816,
            28.94275525914285,
            26.113912068287494,
            25.44001777536752,
            23.370694896600693,
            24.13069410149405,
            25.780195163141435,
            23.989379812043634,
            23.942272036879324,
            15.85439096170175,
            16.151481396939257,
            16.41542794587783,
            15.639023691569761,
            15.601417945339128,
            25.954007033231935,
            15.592738383678686,
            10.605901725155686,
            32.45588145136144,
            32.22293477893552,
            32.20028377184055,
            32.628944568567405,
            9.544471013027078,
            29.331895826980244,
            29.459642835901246,
            29.503991890037067,
            29.68879542185966,
            29.449789301552602,
            27.574039565306265,
            27.13541935212091,
            27.176724652034807,
            30.606290752849358,
            30.449138630542578,
            30.337854359860717
           ]
          },
          {
           "label": "params/island2_ex...",
           "range": [
            204.6775779540733,
            699.9999999999999
           ],
           "values": [
            505.28886510964406,
            406.1068033585748,
            319.11504462511664,
            582.8463100717865,
            204.6775779540733,
            641.7661794772143,
            479.9833637994866,
            462.66595969918484,
            261.138651444701,
            332.11203007281864,
            268.5743170965624,
            501.78358896849636,
            450.4360133395296,
            636.6557088920373,
            637.8834933197569,
            630.8518577446755,
            627.6211616041917,
            491.36757007399564,
            428.46264285913037,
            504.0541536430028,
            525.5234903200467,
            626.8993378148627,
            578.0023302309437,
            563.0278652748832,
            618.5942989530367,
            655.1719453338441,
            699.9472543870465,
            699.9999999999999,
            699.9999999999999,
            699.9999999999999,
            699.9999999999999,
            550.6443658877665,
            687.4136264532374,
            699.9999999999999,
            649.4125284896343,
            662.13659820467,
            660.8550709052381,
            667.7330897950726,
            699.9999999999999,
            585.237312151371,
            542.6154003779689,
            534.6037068773079,
            540.4110839892351,
            545.4055206670123,
            627.1378693533243,
            432.0705714051032,
            612.3103985800853,
            536.1744828104639,
            475.4403754076363,
            476.9906270371658
           ]
          },
          {
           "label": "params/island2_ex...",
           "range": [
            59.83487111277856,
            276.24054769240485
           ],
           "values": [
            59.83487111277856,
            172.87645554318237,
            216.70049099614798,
            123.52391631405139,
            197.7063632309932,
            162.848683950576,
            195.97053473667927,
            276.24054769240485,
            269.8981922937885,
            138.4329744364644,
            147.82821624233054,
            212.44325472223719,
            206.2947891444758,
            80.04453634856327,
            182.22874241788188,
            111.33650267906816,
            109.33029484286203,
            197.38813502338493,
            182.54822665116873,
            187.34013278787452,
            180.4822590120599,
            149.58912774072473,
            164.4726733238549,
            160.50300682795057,
            151.65263550647677,
            141.44193907885966,
            88.91306221108198,
            88.88618527842999,
            89.5669732567344,
            92.24305858662407,
            93.92053752963687,
            184.9757140048694,
            125.65927978383151,
            89.52528003585496,
            163.93645334394722,
            157.24548975090823,
            158.81711103285335,
            160.51298837547773,
            81.10419784912958,
            199.81812053222075,
            221.5628181193299,
            217.79647141724027,
            219.531811877684,
            221.0664736718902,
            176.25440710802172,
            176.49771228054843,
            230.71153076388453,
            225.21864840706579,
            210.23328370164748,
            210.1799671044869
           ]
          },
          {
           "label": "params/island2_r",
           "range": [
            6.226969634698881,
            49.99999999999999
           ],
           "values": [
            31.540880130586118,
            38.14690231665806,
            34.59783226879199,
            11.835129306169328,
            49.86104110276142,
            27.70548100320946,
            45.154685884510975,
            35.266261564103054,
            36.55189079104294,
            6.226969634698881,
            41.59384186948984,
            18.931700671749073,
            40.71126735209828,
            48.7404966922892,
            35.0017747998277,
            47.30261770284787,
            47.26194585306357,
            43.48478215403116,
            43.831753131914446,
            42.39923472462037,
            42.38301021149928,
            40.92639192116751,
            42.84161521155042,
            43.2825143063244,
            42.37374109614143,
            40.91836630120784,
            49.99999999999999,
            49.682873690969664,
            49.864249933868734,
            49.99999999999999,
            49.99999999999999,
            48.811175518616714,
            48.77744583883097,
            44.37826654794833,
            34.341672749341186,
            34.779281358404944,
            34.533095848048156,
            34.35581666927508,
            45.26813384680944,
            46.44543832295439,
            44.08676955284816,
            43.425429223702146,
            43.57643806018927,
            43.40793873279631,
            30.569932395655897,
            39.84115687832544,
            36.209047685147574,
            40.149837110441396,
            43.17365215328329,
            43.101590134539805
           ]
          },
          {
           "label": "params/squid_offset",
           "range": [
            -18.334183452008624,
            -1.9088608155072926
           ],
           "values": [
            -12.686303109917048,
            -3.4064423563359227,
            -1.9088608155072926,
            -18.334183452008624,
            -5.338457510399719,
            -16.325666797648545,
            -4.347621435757683,
            -12.00931743381105,
            -2.089272513067435,
            -4.015939005989411,
            -5.994450041362583,
            -13.279321278583895,
            -9.441002268337675,
            -2.332329339589453,
            -14.301571501294703,
            -3.9807074205408313,
            -3.8617310819452015,
            -7.287224714334808,
            -6.65114173339996,
            -8.43706884103421,
            -8.456839012740744,
            -9.357023546398569,
            -8.205268853472347,
            -7.964122209532501,
            -8.570443089349919,
            -9.667677878700868,
            -4.442247850981174,
            -4.83943561993954,
            -4.810703324172502,
            -4.555878178191463,
            -4.492675414623125,
            -3.6230777918504202,
            -5.601635960675402,
            -5.231922299883664,
            -14.393505648022423,
            -14.638625204558192,
            -14.582274076335509,
            -14.61531109535029,
            -5.242765473730977,
            -6.669382631453331,
            -6.386596616739537,
            -6.323202218233133,
            -6.463160671139036,
            -6.410306707186219,
            -15.877844751898516,
            -4.7535212890703775,
            -9.90333016858128,
            -8.496451318403363,
            -8.923097956012969,
            -8.950591611998712
           ]
          }
         ],
         "labelangle": 30,
         "labelside": "bottom",
         "line": {
          "color": [
           2.5495658557429497,
           0.28563878272714005,
           2.32156387371886,
           3.0809768212163666,
           1.1409387307892696,
           0.08851015759862067,
           0.22476690260036825,
           0.1816981197012969,
           0.34340124510286185,
           1.8643569075214217,
           0.27106880650031556,
           2.0549495240655937,
           0.2566126294341655,
           0.0011899591704696082,
           0.03935497619088433,
           0.0032376108612379192,
           0.027722721102891038,
           0.017183060816668667,
           0.01653700856829777,
           0.020216038705356338,
           0.010483285842009403,
           0.00663669967147313,
           0.0012162436719558027,
           0.001758593820570443,
           0.0019662462345179307,
           4.939300995880348e-7,
           0.07601862550329466,
           0.04463119848371347,
           0.1067604297622055,
           0.0670318227580167,
           0.10365499392809388,
           0.09684508276061098,
           0.06683918555923139,
           0.003939358446039024,
           0.010877381665581939,
           0.040039351849694836,
           0.034445241270291777,
           0.0277577426349253,
           0.012332135584494726,
           0.1428215025315506,
           0.07045824453143874,
           0.09122067814704155,
           0.020882265661325075,
           0.0728627543183337,
           0.023739405923862922,
           0.0027516934703020316,
           0.002619959654638018,
           0.0031386590607464606,
           0.031280108673490854,
           0.014494906407564248
          ],
          "colorbar": {
           "title": {
            "text": "Objective Value"
           }
          },
          "colorscale": [
           [
            0,
            "rgb(247,251,255)"
           ],
           [
            0.125,
            "rgb(222,235,247)"
           ],
           [
            0.25,
            "rgb(198,219,239)"
           ],
           [
            0.375,
            "rgb(158,202,225)"
           ],
           [
            0.5,
            "rgb(107,174,214)"
           ],
           [
            0.625,
            "rgb(66,146,198)"
           ],
           [
            0.75,
            "rgb(33,113,181)"
           ],
           [
            0.875,
            "rgb(8,81,156)"
           ],
           [
            1,
            "rgb(8,48,107)"
           ]
          ],
          "reversescale": true,
          "showscale": true
         },
         "type": "parcoords"
        }
       ],
       "layout": {
        "template": {
         "data": {
          "bar": [
           {
            "error_x": {
             "color": "#2a3f5f"
            },
            "error_y": {
             "color": "#2a3f5f"
            },
            "marker": {
             "line": {
              "color": "#E5ECF6",
              "width": 0.5
             },
             "pattern": {
              "fillmode": "overlay",
              "size": 10,
              "solidity": 0.2
             }
            },
            "type": "bar"
           }
          ],
          "barpolar": [
           {
            "marker": {
             "line": {
              "color": "#E5ECF6",
              "width": 0.5
             },
             "pattern": {
              "fillmode": "overlay",
              "size": 10,
              "solidity": 0.2
             }
            },
            "type": "barpolar"
           }
          ],
          "carpet": [
           {
            "aaxis": {
             "endlinecolor": "#2a3f5f",
             "gridcolor": "white",
             "linecolor": "white",
             "minorgridcolor": "white",
             "startlinecolor": "#2a3f5f"
            },
            "baxis": {
             "endlinecolor": "#2a3f5f",
             "gridcolor": "white",
             "linecolor": "white",
             "minorgridcolor": "white",
             "startlinecolor": "#2a3f5f"
            },
            "type": "carpet"
           }
          ],
          "choropleth": [
           {
            "colorbar": {
             "outlinewidth": 0,
             "ticks": ""
            },
            "type": "choropleth"
           }
          ],
          "contour": [
           {
            "colorbar": {
             "outlinewidth": 0,
             "ticks": ""
            },
            "colorscale": [
             [
              0,
              "#0d0887"
             ],
             [
              0.1111111111111111,
              "#46039f"
             ],
             [
              0.2222222222222222,
              "#7201a8"
             ],
             [
              0.3333333333333333,
              "#9c179e"
             ],
             [
              0.4444444444444444,
              "#bd3786"
             ],
             [
              0.5555555555555556,
              "#d8576b"
             ],
             [
              0.6666666666666666,
              "#ed7953"
             ],
             [
              0.7777777777777778,
              "#fb9f3a"
             ],
             [
              0.8888888888888888,
              "#fdca26"
             ],
             [
              1,
              "#f0f921"
             ]
            ],
            "type": "contour"
           }
          ],
          "contourcarpet": [
           {
            "colorbar": {
             "outlinewidth": 0,
             "ticks": ""
            },
            "type": "contourcarpet"
           }
          ],
          "heatmap": [
           {
            "colorbar": {
             "outlinewidth": 0,
             "ticks": ""
            },
            "colorscale": [
             [
              0,
              "#0d0887"
             ],
             [
              0.1111111111111111,
              "#46039f"
             ],
             [
              0.2222222222222222,
              "#7201a8"
             ],
             [
              0.3333333333333333,
              "#9c179e"
             ],
             [
              0.4444444444444444,
              "#bd3786"
             ],
             [
              0.5555555555555556,
              "#d8576b"
             ],
             [
              0.6666666666666666,
              "#ed7953"
             ],
             [
              0.7777777777777778,
              "#fb9f3a"
             ],
             [
              0.8888888888888888,
              "#fdca26"
             ],
             [
              1,
              "#f0f921"
             ]
            ],
            "type": "heatmap"
           }
          ],
          "heatmapgl": [
           {
            "colorbar": {
             "outlinewidth": 0,
             "ticks": ""
            },
            "colorscale": [
             [
              0,
              "#0d0887"
             ],
             [
              0.1111111111111111,
              "#46039f"
             ],
             [
              0.2222222222222222,
              "#7201a8"
             ],
             [
              0.3333333333333333,
              "#9c179e"
             ],
             [
              0.4444444444444444,
              "#bd3786"
             ],
             [
              0.5555555555555556,
              "#d8576b"
             ],
             [
              0.6666666666666666,
              "#ed7953"
             ],
             [
              0.7777777777777778,
              "#fb9f3a"
             ],
             [
              0.8888888888888888,
              "#fdca26"
             ],
             [
              1,
              "#f0f921"
             ]
            ],
            "type": "heatmapgl"
           }
          ],
          "histogram": [
           {
            "marker": {
             "pattern": {
              "fillmode": "overlay",
              "size": 10,
              "solidity": 0.2
             }
            },
            "type": "histogram"
           }
          ],
          "histogram2d": [
           {
            "colorbar": {
             "outlinewidth": 0,
             "ticks": ""
            },
            "colorscale": [
             [
              0,
              "#0d0887"
             ],
             [
              0.1111111111111111,
              "#46039f"
             ],
             [
              0.2222222222222222,
              "#7201a8"
             ],
             [
              0.3333333333333333,
              "#9c179e"
             ],
             [
              0.4444444444444444,
              "#bd3786"
             ],
             [
              0.5555555555555556,
              "#d8576b"
             ],
             [
              0.6666666666666666,
              "#ed7953"
             ],
             [
              0.7777777777777778,
              "#fb9f3a"
             ],
             [
              0.8888888888888888,
              "#fdca26"
             ],
             [
              1,
              "#f0f921"
             ]
            ],
            "type": "histogram2d"
           }
          ],
          "histogram2dcontour": [
           {
            "colorbar": {
             "outlinewidth": 0,
             "ticks": ""
            },
            "colorscale": [
             [
              0,
              "#0d0887"
             ],
             [
              0.1111111111111111,
              "#46039f"
             ],
             [
              0.2222222222222222,
              "#7201a8"
             ],
             [
              0.3333333333333333,
              "#9c179e"
             ],
             [
              0.4444444444444444,
              "#bd3786"
             ],
             [
              0.5555555555555556,
              "#d8576b"
             ],
             [
              0.6666666666666666,
              "#ed7953"
             ],
             [
              0.7777777777777778,
              "#fb9f3a"
             ],
             [
              0.8888888888888888,
              "#fdca26"
             ],
             [
              1,
              "#f0f921"
             ]
            ],
            "type": "histogram2dcontour"
           }
          ],
          "mesh3d": [
           {
            "colorbar": {
             "outlinewidth": 0,
             "ticks": ""
            },
            "type": "mesh3d"
           }
          ],
          "parcoords": [
           {
            "line": {
             "colorbar": {
              "outlinewidth": 0,
              "ticks": ""
             }
            },
            "type": "parcoords"
           }
          ],
          "pie": [
           {
            "automargin": true,
            "type": "pie"
           }
          ],
          "scatter": [
           {
            "fillpattern": {
             "fillmode": "overlay",
             "size": 10,
             "solidity": 0.2
            },
            "type": "scatter"
           }
          ],
          "scatter3d": [
           {
            "line": {
             "colorbar": {
              "outlinewidth": 0,
              "ticks": ""
             }
            },
            "marker": {
             "colorbar": {
              "outlinewidth": 0,
              "ticks": ""
             }
            },
            "type": "scatter3d"
           }
          ],
          "scattercarpet": [
           {
            "marker": {
             "colorbar": {
              "outlinewidth": 0,
              "ticks": ""
             }
            },
            "type": "scattercarpet"
           }
          ],
          "scattergeo": [
           {
            "marker": {
             "colorbar": {
              "outlinewidth": 0,
              "ticks": ""
             }
            },
            "type": "scattergeo"
           }
          ],
          "scattergl": [
           {
            "marker": {
             "colorbar": {
              "outlinewidth": 0,
              "ticks": ""
             }
            },
            "type": "scattergl"
           }
          ],
          "scattermapbox": [
           {
            "marker": {
             "colorbar": {
              "outlinewidth": 0,
              "ticks": ""
             }
            },
            "type": "scattermapbox"
           }
          ],
          "scatterpolar": [
           {
            "marker": {
             "colorbar": {
              "outlinewidth": 0,
              "ticks": ""
             }
            },
            "type": "scatterpolar"
           }
          ],
          "scatterpolargl": [
           {
            "marker": {
             "colorbar": {
              "outlinewidth": 0,
              "ticks": ""
             }
            },
            "type": "scatterpolargl"
           }
          ],
          "scatterternary": [
           {
            "marker": {
             "colorbar": {
              "outlinewidth": 0,
              "ticks": ""
             }
            },
            "type": "scatterternary"
           }
          ],
          "surface": [
           {
            "colorbar": {
             "outlinewidth": 0,
             "ticks": ""
            },
            "colorscale": [
             [
              0,
              "#0d0887"
             ],
             [
              0.1111111111111111,
              "#46039f"
             ],
             [
              0.2222222222222222,
              "#7201a8"
             ],
             [
              0.3333333333333333,
              "#9c179e"
             ],
             [
              0.4444444444444444,
              "#bd3786"
             ],
             [
              0.5555555555555556,
              "#d8576b"
             ],
             [
              0.6666666666666666,
              "#ed7953"
             ],
             [
              0.7777777777777778,
              "#fb9f3a"
             ],
             [
              0.8888888888888888,
              "#fdca26"
             ],
             [
              1,
              "#f0f921"
             ]
            ],
            "type": "surface"
           }
          ],
          "table": [
           {
            "cells": {
             "fill": {
              "color": "#EBF0F8"
             },
             "line": {
              "color": "white"
             }
            },
            "header": {
             "fill": {
              "color": "#C8D4E3"
             },
             "line": {
              "color": "white"
             }
            },
            "type": "table"
           }
          ]
         },
         "layout": {
          "annotationdefaults": {
           "arrowcolor": "#2a3f5f",
           "arrowhead": 0,
           "arrowwidth": 1
          },
          "autotypenumbers": "strict",
          "coloraxis": {
           "colorbar": {
            "outlinewidth": 0,
            "ticks": ""
           }
          },
          "colorscale": {
           "diverging": [
            [
             0,
             "#8e0152"
            ],
            [
             0.1,
             "#c51b7d"
            ],
            [
             0.2,
             "#de77ae"
            ],
            [
             0.3,
             "#f1b6da"
            ],
            [
             0.4,
             "#fde0ef"
            ],
            [
             0.5,
             "#f7f7f7"
            ],
            [
             0.6,
             "#e6f5d0"
            ],
            [
             0.7,
             "#b8e186"
            ],
            [
             0.8,
             "#7fbc41"
            ],
            [
             0.9,
             "#4d9221"
            ],
            [
             1,
             "#276419"
            ]
           ],
           "sequential": [
            [
             0,
             "#0d0887"
            ],
            [
             0.1111111111111111,
             "#46039f"
            ],
            [
             0.2222222222222222,
             "#7201a8"
            ],
            [
             0.3333333333333333,
             "#9c179e"
            ],
            [
             0.4444444444444444,
             "#bd3786"
            ],
            [
             0.5555555555555556,
             "#d8576b"
            ],
            [
             0.6666666666666666,
             "#ed7953"
            ],
            [
             0.7777777777777778,
             "#fb9f3a"
            ],
            [
             0.8888888888888888,
             "#fdca26"
            ],
            [
             1,
             "#f0f921"
            ]
           ],
           "sequentialminus": [
            [
             0,
             "#0d0887"
            ],
            [
             0.1111111111111111,
             "#46039f"
            ],
            [
             0.2222222222222222,
             "#7201a8"
            ],
            [
             0.3333333333333333,
             "#9c179e"
            ],
            [
             0.4444444444444444,
             "#bd3786"
            ],
            [
             0.5555555555555556,
             "#d8576b"
            ],
            [
             0.6666666666666666,
             "#ed7953"
            ],
            [
             0.7777777777777778,
             "#fb9f3a"
            ],
            [
             0.8888888888888888,
             "#fdca26"
            ],
            [
             1,
             "#f0f921"
            ]
           ]
          },
          "colorway": [
           "#636efa",
           "#EF553B",
           "#00cc96",
           "#ab63fa",
           "#FFA15A",
           "#19d3f3",
           "#FF6692",
           "#B6E880",
           "#FF97FF",
           "#FECB52"
          ],
          "font": {
           "color": "#2a3f5f"
          },
          "geo": {
           "bgcolor": "white",
           "lakecolor": "white",
           "landcolor": "#E5ECF6",
           "showlakes": true,
           "showland": true,
           "subunitcolor": "white"
          },
          "hoverlabel": {
           "align": "left"
          },
          "hovermode": "closest",
          "mapbox": {
           "style": "light"
          },
          "paper_bgcolor": "white",
          "plot_bgcolor": "#E5ECF6",
          "polar": {
           "angularaxis": {
            "gridcolor": "white",
            "linecolor": "white",
            "ticks": ""
           },
           "bgcolor": "#E5ECF6",
           "radialaxis": {
            "gridcolor": "white",
            "linecolor": "white",
            "ticks": ""
           }
          },
          "scene": {
           "xaxis": {
            "backgroundcolor": "#E5ECF6",
            "gridcolor": "white",
            "gridwidth": 2,
            "linecolor": "white",
            "showbackground": true,
            "ticks": "",
            "zerolinecolor": "white"
           },
           "yaxis": {
            "backgroundcolor": "#E5ECF6",
            "gridcolor": "white",
            "gridwidth": 2,
            "linecolor": "white",
            "showbackground": true,
            "ticks": "",
            "zerolinecolor": "white"
           },
           "zaxis": {
            "backgroundcolor": "#E5ECF6",
            "gridcolor": "white",
            "gridwidth": 2,
            "linecolor": "white",
            "showbackground": true,
            "ticks": "",
            "zerolinecolor": "white"
           }
          },
          "shapedefaults": {
           "line": {
            "color": "#2a3f5f"
           }
          },
          "ternary": {
           "aaxis": {
            "gridcolor": "white",
            "linecolor": "white",
            "ticks": ""
           },
           "baxis": {
            "gridcolor": "white",
            "linecolor": "white",
            "ticks": ""
           },
           "bgcolor": "#E5ECF6",
           "caxis": {
            "gridcolor": "white",
            "linecolor": "white",
            "ticks": ""
           }
          },
          "title": {
           "x": 0.05
          },
          "xaxis": {
           "automargin": true,
           "gridcolor": "white",
           "linecolor": "white",
           "ticks": "",
           "title": {
            "standoff": 15
           },
           "zerolinecolor": "white",
           "zerolinewidth": 2
          },
          "yaxis": {
           "automargin": true,
           "gridcolor": "white",
           "linecolor": "white",
           "ticks": "",
           "title": {
            "standoff": 15
           },
           "zerolinecolor": "white",
           "zerolinewidth": 2
          }
         }
        },
        "title": {
         "text": "Parallel Coordinate Plot"
        }
       }
      }
     },
     "metadata": {},
     "output_type": "display_data"
    },
    {
     "name": "stdout",
     "output_type": "stream",
     "text": [
      "Not multi-objective. `plot_pareto_front` function only supports 2 or 3 objective studies when using `targets` is `None`. Please use `targets` if your objective studies have more than 3 objectives.\n"
     ]
    }
   ],
   "source": [
    "# Default 'importance' metric is fANOVA, see optuna.importance.FanovaImportanceEvaluator\n",
    "fig = optuna.visualization.plot_param_importances(study, target=lambda t: t.values[0])\n",
    "fig.show()\n",
    "\n",
    "fig = optuna.visualization.plot_parallel_coordinate(study, target=lambda t: t.values[0])\n",
    "fig.show()\n",
    "\n",
    "try:\n",
    "    fig = optuna.visualization.plot_pareto_front(study)  # or optuna.visualization.matplotlib.plot_pareto_front(study)\n",
    "    fig.show()\n",
    "except ValueError as e:\n",
    "    print('Not multi-objective.', e)"
   ]
  },
  {
   "cell_type": "code",
   "execution_count": 13,
   "metadata": {},
   "outputs": [
    {
     "data": {
      "text/html": [
       "<div>\n",
       "<style scoped>\n",
       "    .dataframe tbody tr th:only-of-type {\n",
       "        vertical-align: middle;\n",
       "    }\n",
       "\n",
       "    .dataframe tbody tr th {\n",
       "        vertical-align: top;\n",
       "    }\n",
       "\n",
       "    .dataframe thead th {\n",
       "        text-align: right;\n",
       "    }\n",
       "</style>\n",
       "<table border=\"1\" class=\"dataframe\">\n",
       "  <thead>\n",
       "    <tr style=\"text-align: right;\">\n",
       "      <th></th>\n",
       "      <th>score</th>\n",
       "      <th>value</th>\n",
       "      <th>time_this_iter_s</th>\n",
       "      <th>config/params/coupler_extent[0]</th>\n",
       "      <th>config/params/coupler_extent[1]</th>\n",
       "      <th>config/params/coupler_offset</th>\n",
       "      <th>config/params/ground_gap_[0]</th>\n",
       "      <th>config/params/ground_gap_[1]</th>\n",
       "      <th>config/params/island1_extent_[0]</th>\n",
       "      <th>config/params/island1_extent_[1]</th>\n",
       "      <th>config/params/island1_r</th>\n",
       "      <th>config/params/island2_extent_[0]</th>\n",
       "      <th>config/params/island2_extent_[1]</th>\n",
       "      <th>config/params/island2_r</th>\n",
       "      <th>config/params/squid_offset</th>\n",
       "    </tr>\n",
       "  </thead>\n",
       "  <tbody>\n",
       "    <tr>\n",
       "      <th>0</th>\n",
       "      <td>2.549566e+00</td>\n",
       "      <td>6.659674e-14</td>\n",
       "      <td>22.942004</td>\n",
       "      <td>184.819356</td>\n",
       "      <td>32.892083</td>\n",
       "      <td>11.876995</td>\n",
       "      <td>902.545600</td>\n",
       "      <td>885.957344</td>\n",
       "      <td>657.323140</td>\n",
       "      <td>78.531658</td>\n",
       "      <td>0.386683</td>\n",
       "      <td>505.288865</td>\n",
       "      <td>59.834871</td>\n",
       "      <td>31.540880</td>\n",
       "      <td>-12.686303</td>\n",
       "    </tr>\n",
       "    <tr>\n",
       "      <th>1</th>\n",
       "      <td>2.856388e-01</td>\n",
       "      <td>6.553445e-14</td>\n",
       "      <td>23.764786</td>\n",
       "      <td>262.164333</td>\n",
       "      <td>21.901356</td>\n",
       "      <td>10.025965</td>\n",
       "      <td>941.073518</td>\n",
       "      <td>872.945683</td>\n",
       "      <td>557.517771</td>\n",
       "      <td>55.547059</td>\n",
       "      <td>33.638677</td>\n",
       "      <td>406.106803</td>\n",
       "      <td>172.876456</td>\n",
       "      <td>38.146902</td>\n",
       "      <td>-3.406442</td>\n",
       "    </tr>\n",
       "    <tr>\n",
       "      <th>2</th>\n",
       "      <td>2.321564e+00</td>\n",
       "      <td>6.652367e-14</td>\n",
       "      <td>23.097740</td>\n",
       "      <td>390.579356</td>\n",
       "      <td>39.496010</td>\n",
       "      <td>9.312510</td>\n",
       "      <td>707.919401</td>\n",
       "      <td>744.302212</td>\n",
       "      <td>330.271422</td>\n",
       "      <td>145.703800</td>\n",
       "      <td>0.090669</td>\n",
       "      <td>319.115045</td>\n",
       "      <td>216.700491</td>\n",
       "      <td>34.597832</td>\n",
       "      <td>-1.908861</td>\n",
       "    </tr>\n",
       "    <tr>\n",
       "      <th>3</th>\n",
       "      <td>3.080977e+00</td>\n",
       "      <td>6.675527e-14</td>\n",
       "      <td>22.944740</td>\n",
       "      <td>252.262631</td>\n",
       "      <td>35.014137</td>\n",
       "      <td>19.579834</td>\n",
       "      <td>967.728027</td>\n",
       "      <td>601.337263</td>\n",
       "      <td>576.230569</td>\n",
       "      <td>194.289542</td>\n",
       "      <td>8.926458</td>\n",
       "      <td>582.846310</td>\n",
       "      <td>123.523916</td>\n",
       "      <td>11.835129</td>\n",
       "      <td>-18.334183</td>\n",
       "    </tr>\n",
       "    <tr>\n",
       "      <th>4</th>\n",
       "      <td>1.140939e+00</td>\n",
       "      <td>6.393185e-14</td>\n",
       "      <td>23.748721</td>\n",
       "      <td>95.950940</td>\n",
       "      <td>28.118845</td>\n",
       "      <td>23.925636</td>\n",
       "      <td>809.682592</td>\n",
       "      <td>971.087702</td>\n",
       "      <td>369.147366</td>\n",
       "      <td>360.972920</td>\n",
       "      <td>48.528605</td>\n",
       "      <td>204.677578</td>\n",
       "      <td>197.706363</td>\n",
       "      <td>49.861041</td>\n",
       "      <td>-5.338458</td>\n",
       "    </tr>\n",
       "    <tr>\n",
       "      <th>5</th>\n",
       "      <td>8.851016e-02</td>\n",
       "      <td>6.529751e-14</td>\n",
       "      <td>25.912620</td>\n",
       "      <td>358.622417</td>\n",
       "      <td>32.541733</td>\n",
       "      <td>40.691043</td>\n",
       "      <td>720.716543</td>\n",
       "      <td>741.044599</td>\n",
       "      <td>695.014301</td>\n",
       "      <td>271.086154</td>\n",
       "      <td>28.186896</td>\n",
       "      <td>641.766179</td>\n",
       "      <td>162.848684</td>\n",
       "      <td>27.705481</td>\n",
       "      <td>-16.325667</td>\n",
       "    </tr>\n",
       "    <tr>\n",
       "      <th>6</th>\n",
       "      <td>2.247669e-01</td>\n",
       "      <td>6.547410e-14</td>\n",
       "      <td>25.893102</td>\n",
       "      <td>441.755062</td>\n",
       "      <td>30.086347</td>\n",
       "      <td>18.458191</td>\n",
       "      <td>615.763386</td>\n",
       "      <td>587.442759</td>\n",
       "      <td>492.917836</td>\n",
       "      <td>125.800562</td>\n",
       "      <td>10.445583</td>\n",
       "      <td>479.983364</td>\n",
       "      <td>195.970535</td>\n",
       "      <td>45.154686</td>\n",
       "      <td>-4.347621</td>\n",
       "    </tr>\n",
       "    <tr>\n",
       "      <th>7</th>\n",
       "      <td>1.816981e-01</td>\n",
       "      <td>6.542626e-14</td>\n",
       "      <td>25.879092</td>\n",
       "      <td>145.852582</td>\n",
       "      <td>37.039412</td>\n",
       "      <td>15.130161</td>\n",
       "      <td>946.686004</td>\n",
       "      <td>671.214726</td>\n",
       "      <td>226.104242</td>\n",
       "      <td>424.334801</td>\n",
       "      <td>32.795276</td>\n",
       "      <td>462.665960</td>\n",
       "      <td>276.240548</td>\n",
       "      <td>35.266262</td>\n",
       "      <td>-12.009317</td>\n",
       "    </tr>\n",
       "    <tr>\n",
       "      <th>8</th>\n",
       "      <td>3.434012e-01</td>\n",
       "      <td>6.558600e-14</td>\n",
       "      <td>24.943299</td>\n",
       "      <td>115.966432</td>\n",
       "      <td>29.117388</td>\n",
       "      <td>32.317955</td>\n",
       "      <td>984.626256</td>\n",
       "      <td>687.294723</td>\n",
       "      <td>280.298611</td>\n",
       "      <td>354.075378</td>\n",
       "      <td>7.416354</td>\n",
       "      <td>261.138651</td>\n",
       "      <td>269.898192</td>\n",
       "      <td>36.551891</td>\n",
       "      <td>-2.089273</td>\n",
       "    </tr>\n",
       "    <tr>\n",
       "      <th>9</th>\n",
       "      <td>1.864357e+00</td>\n",
       "      <td>6.636541e-14</td>\n",
       "      <td>22.635954</td>\n",
       "      <td>280.739250</td>\n",
       "      <td>38.104601</td>\n",
       "      <td>33.694265</td>\n",
       "      <td>640.324633</td>\n",
       "      <td>540.970411</td>\n",
       "      <td>691.877462</td>\n",
       "      <td>352.067370</td>\n",
       "      <td>25.795012</td>\n",
       "      <td>332.112030</td>\n",
       "      <td>138.432974</td>\n",
       "      <td>6.226970</td>\n",
       "      <td>-4.015939</td>\n",
       "    </tr>\n",
       "    <tr>\n",
       "      <th>10</th>\n",
       "      <td>2.710688e-01</td>\n",
       "      <td>6.447936e-14</td>\n",
       "      <td>26.374862</td>\n",
       "      <td>370.918651</td>\n",
       "      <td>32.399454</td>\n",
       "      <td>27.632006</td>\n",
       "      <td>654.760822</td>\n",
       "      <td>828.491394</td>\n",
       "      <td>295.620498</td>\n",
       "      <td>103.746721</td>\n",
       "      <td>42.583120</td>\n",
       "      <td>268.574317</td>\n",
       "      <td>147.828216</td>\n",
       "      <td>41.593842</td>\n",
       "      <td>-5.994450</td>\n",
       "    </tr>\n",
       "    <tr>\n",
       "      <th>11</th>\n",
       "      <td>2.054950e+00</td>\n",
       "      <td>6.643351e-14</td>\n",
       "      <td>26.185224</td>\n",
       "      <td>424.932286</td>\n",
       "      <td>38.646882</td>\n",
       "      <td>5.727269</td>\n",
       "      <td>768.182064</td>\n",
       "      <td>995.560287</td>\n",
       "      <td>629.482810</td>\n",
       "      <td>230.241337</td>\n",
       "      <td>43.682801</td>\n",
       "      <td>501.783589</td>\n",
       "      <td>212.443255</td>\n",
       "      <td>18.931701</td>\n",
       "      <td>-13.279321</td>\n",
       "    </tr>\n",
       "    <tr>\n",
       "      <th>12</th>\n",
       "      <td>2.566126e-01</td>\n",
       "      <td>6.449343e-14</td>\n",
       "      <td>26.307955</td>\n",
       "      <td>490.689959</td>\n",
       "      <td>27.779726</td>\n",
       "      <td>40.778870</td>\n",
       "      <td>630.661910</td>\n",
       "      <td>678.327402</td>\n",
       "      <td>360.415369</td>\n",
       "      <td>218.110732</td>\n",
       "      <td>37.156830</td>\n",
       "      <td>450.436013</td>\n",
       "      <td>206.294789</td>\n",
       "      <td>40.711267</td>\n",
       "      <td>-9.441002</td>\n",
       "    </tr>\n",
       "    <tr>\n",
       "      <th>13</th>\n",
       "      <td>1.189959e-03</td>\n",
       "      <td>6.496550e-14</td>\n",
       "      <td>23.921762</td>\n",
       "      <td>63.520602</td>\n",
       "      <td>24.912193</td>\n",
       "      <td>35.439523</td>\n",
       "      <td>630.111436</td>\n",
       "      <td>922.339478</td>\n",
       "      <td>582.235010</td>\n",
       "      <td>360.920085</td>\n",
       "      <td>8.552492</td>\n",
       "      <td>636.655709</td>\n",
       "      <td>80.044536</td>\n",
       "      <td>48.740497</td>\n",
       "      <td>-2.332329</td>\n",
       "    </tr>\n",
       "    <tr>\n",
       "      <th>14</th>\n",
       "      <td>3.935498e-02</td>\n",
       "      <td>6.519838e-14</td>\n",
       "      <td>23.758597</td>\n",
       "      <td>398.016447</td>\n",
       "      <td>31.059751</td>\n",
       "      <td>40.341411</td>\n",
       "      <td>667.911272</td>\n",
       "      <td>738.229555</td>\n",
       "      <td>668.367487</td>\n",
       "      <td>254.657625</td>\n",
       "      <td>29.115988</td>\n",
       "      <td>637.883493</td>\n",
       "      <td>182.228742</td>\n",
       "      <td>35.001775</td>\n",
       "      <td>-14.301572</td>\n",
       "    </tr>\n",
       "    <tr>\n",
       "      <th>15</th>\n",
       "      <td>3.237611e-03</td>\n",
       "      <td>6.505690e-14</td>\n",
       "      <td>25.269729</td>\n",
       "      <td>143.993879</td>\n",
       "      <td>25.574513</td>\n",
       "      <td>36.127867</td>\n",
       "      <td>629.783169</td>\n",
       "      <td>867.007932</td>\n",
       "      <td>582.284795</td>\n",
       "      <td>337.392730</td>\n",
       "      <td>13.407973</td>\n",
       "      <td>630.851858</td>\n",
       "      <td>111.336503</td>\n",
       "      <td>47.302618</td>\n",
       "      <td>-3.980707</td>\n",
       "    </tr>\n",
       "    <tr>\n",
       "      <th>16</th>\n",
       "      <td>2.772272e-02</td>\n",
       "      <td>6.483350e-14</td>\n",
       "      <td>25.027319</td>\n",
       "      <td>138.363106</td>\n",
       "      <td>25.572022</td>\n",
       "      <td>35.927283</td>\n",
       "      <td>632.472180</td>\n",
       "      <td>868.283998</td>\n",
       "      <td>580.985848</td>\n",
       "      <td>337.295044</td>\n",
       "      <td>12.971764</td>\n",
       "      <td>627.621162</td>\n",
       "      <td>109.330295</td>\n",
       "      <td>47.261946</td>\n",
       "      <td>-3.861731</td>\n",
       "    </tr>\n",
       "    <tr>\n",
       "      <th>17</th>\n",
       "      <td>1.718306e-02</td>\n",
       "      <td>6.513108e-14</td>\n",
       "      <td>25.746096</td>\n",
       "      <td>452.419135</td>\n",
       "      <td>28.382411</td>\n",
       "      <td>30.207707</td>\n",
       "      <td>627.043458</td>\n",
       "      <td>634.047079</td>\n",
       "      <td>459.871649</td>\n",
       "      <td>175.332665</td>\n",
       "      <td>23.532439</td>\n",
       "      <td>491.367570</td>\n",
       "      <td>197.388135</td>\n",
       "      <td>43.484782</td>\n",
       "      <td>-7.287225</td>\n",
       "    </tr>\n",
       "    <tr>\n",
       "      <th>18</th>\n",
       "      <td>1.653701e-02</td>\n",
       "      <td>6.487140e-14</td>\n",
       "      <td>25.377808</td>\n",
       "      <td>427.973922</td>\n",
       "      <td>29.062296</td>\n",
       "      <td>29.078649</td>\n",
       "      <td>633.940449</td>\n",
       "      <td>683.819662</td>\n",
       "      <td>414.087698</td>\n",
       "      <td>148.580699</td>\n",
       "      <td>28.942755</td>\n",
       "      <td>428.462643</td>\n",
       "      <td>182.548227</td>\n",
       "      <td>43.831753</td>\n",
       "      <td>-6.651142</td>\n",
       "    </tr>\n",
       "    <tr>\n",
       "      <th>19</th>\n",
       "      <td>2.021604e-02</td>\n",
       "      <td>6.514218e-14</td>\n",
       "      <td>22.359449</td>\n",
       "      <td>425.232511</td>\n",
       "      <td>29.143542</td>\n",
       "      <td>31.994789</td>\n",
       "      <td>637.396384</td>\n",
       "      <td>678.415389</td>\n",
       "      <td>491.573822</td>\n",
       "      <td>182.171523</td>\n",
       "      <td>26.113912</td>\n",
       "      <td>504.054154</td>\n",
       "      <td>187.340133</td>\n",
       "      <td>42.399235</td>\n",
       "      <td>-8.437069</td>\n",
       "    </tr>\n",
       "    <tr>\n",
       "      <th>20</th>\n",
       "      <td>1.048329e-02</td>\n",
       "      <td>6.510239e-14</td>\n",
       "      <td>20.100821</td>\n",
       "      <td>396.611977</td>\n",
       "      <td>28.805795</td>\n",
       "      <td>33.519114</td>\n",
       "      <td>639.637972</td>\n",
       "      <td>700.765752</td>\n",
       "      <td>507.036975</td>\n",
       "      <td>205.134893</td>\n",
       "      <td>25.440018</td>\n",
       "      <td>525.523490</td>\n",
       "      <td>180.482259</td>\n",
       "      <td>42.383010</td>\n",
       "      <td>-8.456839</td>\n",
       "    </tr>\n",
       "    <tr>\n",
       "      <th>21</th>\n",
       "      <td>6.636700e-03</td>\n",
       "      <td>6.508147e-14</td>\n",
       "      <td>24.518690</td>\n",
       "      <td>290.209666</td>\n",
       "      <td>28.127896</td>\n",
       "      <td>39.354847</td>\n",
       "      <td>642.741236</td>\n",
       "      <td>794.138835</td>\n",
       "      <td>593.829140</td>\n",
       "      <td>294.436630</td>\n",
       "      <td>23.370695</td>\n",
       "      <td>626.899338</td>\n",
       "      <td>149.589128</td>\n",
       "      <td>40.926392</td>\n",
       "      <td>-9.357024</td>\n",
       "    </tr>\n",
       "    <tr>\n",
       "      <th>22</th>\n",
       "      <td>1.216244e-03</td>\n",
       "      <td>6.496513e-14</td>\n",
       "      <td>24.508690</td>\n",
       "      <td>336.535846</td>\n",
       "      <td>27.950945</td>\n",
       "      <td>36.478824</td>\n",
       "      <td>633.107053</td>\n",
       "      <td>751.068318</td>\n",
       "      <td>540.929958</td>\n",
       "      <td>254.641471</td>\n",
       "      <td>24.130694</td>\n",
       "      <td>578.002330</td>\n",
       "      <td>164.472673</td>\n",
       "      <td>42.841615</td>\n",
       "      <td>-8.205269</td>\n",
       "    </tr>\n",
       "    <tr>\n",
       "      <th>23</th>\n",
       "      <td>1.758594e-03</td>\n",
       "      <td>6.504194e-14</td>\n",
       "      <td>24.284335</td>\n",
       "      <td>329.567568</td>\n",
       "      <td>28.074692</td>\n",
       "      <td>36.127461</td>\n",
       "      <td>633.243704</td>\n",
       "      <td>766.255016</td>\n",
       "      <td>529.085867</td>\n",
       "      <td>245.255663</td>\n",
       "      <td>25.780195</td>\n",
       "      <td>563.027865</td>\n",
       "      <td>160.503007</td>\n",
       "      <td>43.282514</td>\n",
       "      <td>-7.964122</td>\n",
       "    </tr>\n",
       "    <tr>\n",
       "      <th>24</th>\n",
       "      <td>1.966246e-03</td>\n",
       "      <td>6.504434e-14</td>\n",
       "      <td>20.776775</td>\n",
       "      <td>298.717723</td>\n",
       "      <td>27.545699</td>\n",
       "      <td>38.925916</td>\n",
       "      <td>630.889295</td>\n",
       "      <td>788.424787</td>\n",
       "      <td>565.612728</td>\n",
       "      <td>288.939775</td>\n",
       "      <td>23.989380</td>\n",
       "      <td>618.594299</td>\n",
       "      <td>151.652636</td>\n",
       "      <td>42.373741</td>\n",
       "      <td>-8.570443</td>\n",
       "    </tr>\n",
       "    <tr>\n",
       "      <th>25</th>\n",
       "      <td>4.939301e-07</td>\n",
       "      <td>6.499930e-14</td>\n",
       "      <td>25.117906</td>\n",
       "      <td>272.695556</td>\n",
       "      <td>27.890089</td>\n",
       "      <td>40.972862</td>\n",
       "      <td>635.267555</td>\n",
       "      <td>814.952921</td>\n",
       "      <td>606.676866</td>\n",
       "      <td>310.759009</td>\n",
       "      <td>23.942272</td>\n",
       "      <td>655.171945</td>\n",
       "      <td>141.441939</td>\n",
       "      <td>40.918366</td>\n",
       "      <td>-9.667678</td>\n",
       "    </tr>\n",
       "    <tr>\n",
       "      <th>26</th>\n",
       "      <td>7.601863e-02</td>\n",
       "      <td>6.472429e-14</td>\n",
       "      <td>25.337819</td>\n",
       "      <td>148.403893</td>\n",
       "      <td>24.983560</td>\n",
       "      <td>39.641357</td>\n",
       "      <td>560.581891</td>\n",
       "      <td>947.624100</td>\n",
       "      <td>583.041585</td>\n",
       "      <td>358.972618</td>\n",
       "      <td>15.854391</td>\n",
       "      <td>699.947254</td>\n",
       "      <td>88.913062</td>\n",
       "      <td>50.000000</td>\n",
       "      <td>-4.442248</td>\n",
       "    </tr>\n",
       "    <tr>\n",
       "      <th>27</th>\n",
       "      <td>4.463120e-02</td>\n",
       "      <td>6.478874e-14</td>\n",
       "      <td>24.965530</td>\n",
       "      <td>148.871201</td>\n",
       "      <td>25.111905</td>\n",
       "      <td>40.175803</td>\n",
       "      <td>563.417461</td>\n",
       "      <td>948.228390</td>\n",
       "      <td>590.443856</td>\n",
       "      <td>361.514045</td>\n",
       "      <td>16.151481</td>\n",
       "      <td>700.000000</td>\n",
       "      <td>88.886185</td>\n",
       "      <td>49.682874</td>\n",
       "      <td>-4.839436</td>\n",
       "    </tr>\n",
       "    <tr>\n",
       "      <th>28</th>\n",
       "      <td>1.067604e-01</td>\n",
       "      <td>6.467326e-14</td>\n",
       "      <td>24.552933</td>\n",
       "      <td>151.733472</td>\n",
       "      <td>25.093157</td>\n",
       "      <td>40.107863</td>\n",
       "      <td>560.966323</td>\n",
       "      <td>948.525899</td>\n",
       "      <td>590.117171</td>\n",
       "      <td>359.126779</td>\n",
       "      <td>16.415428</td>\n",
       "      <td>700.000000</td>\n",
       "      <td>89.566973</td>\n",
       "      <td>49.864250</td>\n",
       "      <td>-4.810703</td>\n",
       "    </tr>\n",
       "    <tr>\n",
       "      <th>29</th>\n",
       "      <td>6.703182e-02</td>\n",
       "      <td>6.474109e-14</td>\n",
       "      <td>21.899997</td>\n",
       "      <td>144.516898</td>\n",
       "      <td>25.035483</td>\n",
       "      <td>39.922848</td>\n",
       "      <td>559.427904</td>\n",
       "      <td>950.726015</td>\n",
       "      <td>608.289963</td>\n",
       "      <td>363.280025</td>\n",
       "      <td>15.639024</td>\n",
       "      <td>700.000000</td>\n",
       "      <td>92.243059</td>\n",
       "      <td>50.000000</td>\n",
       "      <td>-4.555878</td>\n",
       "    </tr>\n",
       "    <tr>\n",
       "      <th>30</th>\n",
       "      <td>1.036550e-01</td>\n",
       "      <td>6.467805e-14</td>\n",
       "      <td>22.794952</td>\n",
       "      <td>145.230315</td>\n",
       "      <td>24.950737</td>\n",
       "      <td>39.968345</td>\n",
       "      <td>557.669681</td>\n",
       "      <td>948.092326</td>\n",
       "      <td>612.686962</td>\n",
       "      <td>364.354386</td>\n",
       "      <td>15.601418</td>\n",
       "      <td>700.000000</td>\n",
       "      <td>93.920538</td>\n",
       "      <td>50.000000</td>\n",
       "      <td>-4.492675</td>\n",
       "    </tr>\n",
       "    <tr>\n",
       "      <th>31</th>\n",
       "      <td>9.684508e-02</td>\n",
       "      <td>6.468880e-14</td>\n",
       "      <td>22.688346</td>\n",
       "      <td>356.374107</td>\n",
       "      <td>25.764538</td>\n",
       "      <td>25.815889</td>\n",
       "      <td>637.877671</td>\n",
       "      <td>716.447041</td>\n",
       "      <td>545.809670</td>\n",
       "      <td>146.986235</td>\n",
       "      <td>25.954007</td>\n",
       "      <td>550.644366</td>\n",
       "      <td>184.975714</td>\n",
       "      <td>48.811176</td>\n",
       "      <td>-3.623078</td>\n",
       "    </tr>\n",
       "    <tr>\n",
       "      <th>32</th>\n",
       "      <td>6.683919e-02</td>\n",
       "      <td>6.474147e-14</td>\n",
       "      <td>22.618896</td>\n",
       "      <td>112.308291</td>\n",
       "      <td>25.050104</td>\n",
       "      <td>41.857125</td>\n",
       "      <td>633.860289</td>\n",
       "      <td>890.738217</td>\n",
       "      <td>687.925354</td>\n",
       "      <td>401.769750</td>\n",
       "      <td>15.592738</td>\n",
       "      <td>687.413626</td>\n",
       "      <td>125.659280</td>\n",
       "      <td>48.777446</td>\n",
       "      <td>-5.601636</td>\n",
       "    </tr>\n",
       "    <tr>\n",
       "      <th>33</th>\n",
       "      <td>3.939358e-03</td>\n",
       "      <td>6.493724e-14</td>\n",
       "      <td>23.923096</td>\n",
       "      <td>107.682880</td>\n",
       "      <td>25.229442</td>\n",
       "      <td>42.253778</td>\n",
       "      <td>619.980630</td>\n",
       "      <td>904.375900</td>\n",
       "      <td>561.140785</td>\n",
       "      <td>431.516090</td>\n",
       "      <td>10.605902</td>\n",
       "      <td>700.000000</td>\n",
       "      <td>89.525280</td>\n",
       "      <td>44.378267</td>\n",
       "      <td>-5.231922</td>\n",
       "    </tr>\n",
       "    <tr>\n",
       "      <th>34</th>\n",
       "      <td>1.087738e-02</td>\n",
       "      <td>6.489571e-14</td>\n",
       "      <td>22.723350</td>\n",
       "      <td>299.562614</td>\n",
       "      <td>29.800461</td>\n",
       "      <td>47.212649</td>\n",
       "      <td>712.574526</td>\n",
       "      <td>739.661055</td>\n",
       "      <td>572.594578</td>\n",
       "      <td>314.068906</td>\n",
       "      <td>32.455881</td>\n",
       "      <td>649.412528</td>\n",
       "      <td>163.936453</td>\n",
       "      <td>34.341673</td>\n",
       "      <td>-14.393506</td>\n",
       "    </tr>\n",
       "    <tr>\n",
       "      <th>35</th>\n",
       "      <td>4.003935e-02</td>\n",
       "      <td>6.479990e-14</td>\n",
       "      <td>21.214653</td>\n",
       "      <td>310.165768</td>\n",
       "      <td>29.974363</td>\n",
       "      <td>47.001858</td>\n",
       "      <td>706.625962</td>\n",
       "      <td>742.181784</td>\n",
       "      <td>556.594146</td>\n",
       "      <td>306.325310</td>\n",
       "      <td>32.222935</td>\n",
       "      <td>662.136598</td>\n",
       "      <td>157.245490</td>\n",
       "      <td>34.779281</td>\n",
       "      <td>-14.638625</td>\n",
       "    </tr>\n",
       "    <tr>\n",
       "      <th>36</th>\n",
       "      <td>3.444524e-02</td>\n",
       "      <td>6.481441e-14</td>\n",
       "      <td>24.339457</td>\n",
       "      <td>306.390747</td>\n",
       "      <td>30.220910</td>\n",
       "      <td>47.017279</td>\n",
       "      <td>707.367194</td>\n",
       "      <td>745.980800</td>\n",
       "      <td>553.560669</td>\n",
       "      <td>312.482498</td>\n",
       "      <td>32.200284</td>\n",
       "      <td>660.855071</td>\n",
       "      <td>158.817111</td>\n",
       "      <td>34.533096</td>\n",
       "      <td>-14.582274</td>\n",
       "    </tr>\n",
       "    <tr>\n",
       "      <th>37</th>\n",
       "      <td>2.775774e-02</td>\n",
       "      <td>6.483339e-14</td>\n",
       "      <td>23.915961</td>\n",
       "      <td>305.075523</td>\n",
       "      <td>30.044969</td>\n",
       "      <td>47.247967</td>\n",
       "      <td>712.670076</td>\n",
       "      <td>745.663561</td>\n",
       "      <td>568.594976</td>\n",
       "      <td>310.406803</td>\n",
       "      <td>32.628945</td>\n",
       "      <td>667.733090</td>\n",
       "      <td>160.512988</td>\n",
       "      <td>34.355817</td>\n",
       "      <td>-14.615311</td>\n",
       "    </tr>\n",
       "    <tr>\n",
       "      <th>38</th>\n",
       "      <td>1.233214e-02</td>\n",
       "      <td>6.511105e-14</td>\n",
       "      <td>22.555754</td>\n",
       "      <td>101.597089</td>\n",
       "      <td>26.568299</td>\n",
       "      <td>40.637935</td>\n",
       "      <td>612.213547</td>\n",
       "      <td>958.429432</td>\n",
       "      <td>564.035031</td>\n",
       "      <td>415.575106</td>\n",
       "      <td>9.544471</td>\n",
       "      <td>700.000000</td>\n",
       "      <td>81.104198</td>\n",
       "      <td>45.268134</td>\n",
       "      <td>-5.242765</td>\n",
       "    </tr>\n",
       "    <tr>\n",
       "      <th>39</th>\n",
       "      <td>1.428215e-01</td>\n",
       "      <td>6.462208e-14</td>\n",
       "      <td>20.844384</td>\n",
       "      <td>300.399572</td>\n",
       "      <td>28.408186</td>\n",
       "      <td>31.404833</td>\n",
       "      <td>710.603283</td>\n",
       "      <td>639.467379</td>\n",
       "      <td>386.698955</td>\n",
       "      <td>219.114334</td>\n",
       "      <td>29.331896</td>\n",
       "      <td>585.237312</td>\n",
       "      <td>199.818121</td>\n",
       "      <td>46.445438</td>\n",
       "      <td>-6.669383</td>\n",
       "    </tr>\n",
       "    <tr>\n",
       "      <th>40</th>\n",
       "      <td>7.045824e-02</td>\n",
       "      <td>6.473456e-14</td>\n",
       "      <td>27.855248</td>\n",
       "      <td>290.519971</td>\n",
       "      <td>27.742424</td>\n",
       "      <td>32.510217</td>\n",
       "      <td>739.987991</td>\n",
       "      <td>653.574516</td>\n",
       "      <td>426.627820</td>\n",
       "      <td>229.268286</td>\n",
       "      <td>29.459643</td>\n",
       "      <td>542.615400</td>\n",
       "      <td>221.562818</td>\n",
       "      <td>44.086770</td>\n",
       "      <td>-6.386597</td>\n",
       "    </tr>\n",
       "    <tr>\n",
       "      <th>41</th>\n",
       "      <td>9.122068e-02</td>\n",
       "      <td>6.469797e-14</td>\n",
       "      <td>26.498600</td>\n",
       "      <td>291.119353</td>\n",
       "      <td>27.293629</td>\n",
       "      <td>32.355265</td>\n",
       "      <td>748.098199</td>\n",
       "      <td>644.986964</td>\n",
       "      <td>427.944033</td>\n",
       "      <td>223.936723</td>\n",
       "      <td>29.503992</td>\n",
       "      <td>534.603707</td>\n",
       "      <td>217.796471</td>\n",
       "      <td>43.425429</td>\n",
       "      <td>-6.323202</td>\n",
       "    </tr>\n",
       "    <tr>\n",
       "      <th>42</th>\n",
       "      <td>2.088227e-02</td>\n",
       "      <td>6.485549e-14</td>\n",
       "      <td>25.791692</td>\n",
       "      <td>288.834355</td>\n",
       "      <td>27.548899</td>\n",
       "      <td>32.025504</td>\n",
       "      <td>745.353298</td>\n",
       "      <td>644.028767</td>\n",
       "      <td>420.492376</td>\n",
       "      <td>234.851692</td>\n",
       "      <td>29.688795</td>\n",
       "      <td>540.411084</td>\n",
       "      <td>219.531812</td>\n",
       "      <td>43.576438</td>\n",
       "      <td>-6.463161</td>\n",
       "    </tr>\n",
       "    <tr>\n",
       "      <th>43</th>\n",
       "      <td>7.286275e-02</td>\n",
       "      <td>6.473007e-14</td>\n",
       "      <td>27.922906</td>\n",
       "      <td>288.079374</td>\n",
       "      <td>27.608246</td>\n",
       "      <td>32.149672</td>\n",
       "      <td>746.935499</td>\n",
       "      <td>643.270707</td>\n",
       "      <td>421.373335</td>\n",
       "      <td>235.582202</td>\n",
       "      <td>29.449789</td>\n",
       "      <td>545.405521</td>\n",
       "      <td>221.066474</td>\n",
       "      <td>43.407939</td>\n",
       "      <td>-6.410307</td>\n",
       "    </tr>\n",
       "    <tr>\n",
       "      <th>44</th>\n",
       "      <td>2.373941e-02</td>\n",
       "      <td>6.515408e-14</td>\n",
       "      <td>25.127321</td>\n",
       "      <td>314.332926</td>\n",
       "      <td>29.915824</td>\n",
       "      <td>47.287288</td>\n",
       "      <td>670.475339</td>\n",
       "      <td>826.329849</td>\n",
       "      <td>700.000000</td>\n",
       "      <td>331.744215</td>\n",
       "      <td>27.574040</td>\n",
       "      <td>627.137869</td>\n",
       "      <td>176.254407</td>\n",
       "      <td>30.569932</td>\n",
       "      <td>-15.877845</td>\n",
       "    </tr>\n",
       "    <tr>\n",
       "      <th>45</th>\n",
       "      <td>2.751693e-03</td>\n",
       "      <td>6.505246e-14</td>\n",
       "      <td>23.397753</td>\n",
       "      <td>383.892185</td>\n",
       "      <td>24.748357</td>\n",
       "      <td>31.507661</td>\n",
       "      <td>735.821205</td>\n",
       "      <td>733.998772</td>\n",
       "      <td>479.868859</td>\n",
       "      <td>149.422592</td>\n",
       "      <td>27.135419</td>\n",
       "      <td>432.070571</td>\n",
       "      <td>176.497712</td>\n",
       "      <td>39.841157</td>\n",
       "      <td>-4.753521</td>\n",
       "    </tr>\n",
       "    <tr>\n",
       "      <th>46</th>\n",
       "      <td>2.619960e-03</td>\n",
       "      <td>6.505119e-14</td>\n",
       "      <td>27.288337</td>\n",
       "      <td>258.378003</td>\n",
       "      <td>28.199277</td>\n",
       "      <td>42.595701</td>\n",
       "      <td>694.018493</td>\n",
       "      <td>847.835286</td>\n",
       "      <td>557.798872</td>\n",
       "      <td>284.021184</td>\n",
       "      <td>27.176725</td>\n",
       "      <td>612.310399</td>\n",
       "      <td>230.711531</td>\n",
       "      <td>36.209048</td>\n",
       "      <td>-9.903330</td>\n",
       "    </tr>\n",
       "    <tr>\n",
       "      <th>47</th>\n",
       "      <td>3.138659e-03</td>\n",
       "      <td>6.494398e-14</td>\n",
       "      <td>23.949754</td>\n",
       "      <td>291.913444</td>\n",
       "      <td>28.150128</td>\n",
       "      <td>28.453884</td>\n",
       "      <td>725.022882</td>\n",
       "      <td>650.299045</td>\n",
       "      <td>423.086732</td>\n",
       "      <td>364.199652</td>\n",
       "      <td>30.606291</td>\n",
       "      <td>536.174483</td>\n",
       "      <td>225.218648</td>\n",
       "      <td>40.149837</td>\n",
       "      <td>-8.496451</td>\n",
       "    </tr>\n",
       "    <tr>\n",
       "      <th>48</th>\n",
       "      <td>3.128011e-02</td>\n",
       "      <td>6.482314e-14</td>\n",
       "      <td>26.477226</td>\n",
       "      <td>319.776266</td>\n",
       "      <td>27.516585</td>\n",
       "      <td>26.938622</td>\n",
       "      <td>684.578422</td>\n",
       "      <td>663.534431</td>\n",
       "      <td>451.251816</td>\n",
       "      <td>332.226753</td>\n",
       "      <td>30.449139</td>\n",
       "      <td>475.440375</td>\n",
       "      <td>210.233284</td>\n",
       "      <td>43.173652</td>\n",
       "      <td>-8.923098</td>\n",
       "    </tr>\n",
       "    <tr>\n",
       "      <th>49</th>\n",
       "      <td>1.449491e-02</td>\n",
       "      <td>6.487961e-14</td>\n",
       "      <td>22.926405</td>\n",
       "      <td>319.745142</td>\n",
       "      <td>27.570903</td>\n",
       "      <td>26.974403</td>\n",
       "      <td>684.564487</td>\n",
       "      <td>662.687215</td>\n",
       "      <td>452.953209</td>\n",
       "      <td>333.984019</td>\n",
       "      <td>30.337854</td>\n",
       "      <td>476.990627</td>\n",
       "      <td>210.179967</td>\n",
       "      <td>43.101590</td>\n",
       "      <td>-8.950592</td>\n",
       "    </tr>\n",
       "  </tbody>\n",
       "</table>\n",
       "</div>"
      ],
      "text/plain": [
       "           score         value  time_this_iter_s  \\\n",
       "0   2.549566e+00  6.659674e-14         22.942004   \n",
       "1   2.856388e-01  6.553445e-14         23.764786   \n",
       "2   2.321564e+00  6.652367e-14         23.097740   \n",
       "3   3.080977e+00  6.675527e-14         22.944740   \n",
       "4   1.140939e+00  6.393185e-14         23.748721   \n",
       "5   8.851016e-02  6.529751e-14         25.912620   \n",
       "6   2.247669e-01  6.547410e-14         25.893102   \n",
       "7   1.816981e-01  6.542626e-14         25.879092   \n",
       "8   3.434012e-01  6.558600e-14         24.943299   \n",
       "9   1.864357e+00  6.636541e-14         22.635954   \n",
       "10  2.710688e-01  6.447936e-14         26.374862   \n",
       "11  2.054950e+00  6.643351e-14         26.185224   \n",
       "12  2.566126e-01  6.449343e-14         26.307955   \n",
       "13  1.189959e-03  6.496550e-14         23.921762   \n",
       "14  3.935498e-02  6.519838e-14         23.758597   \n",
       "15  3.237611e-03  6.505690e-14         25.269729   \n",
       "16  2.772272e-02  6.483350e-14         25.027319   \n",
       "17  1.718306e-02  6.513108e-14         25.746096   \n",
       "18  1.653701e-02  6.487140e-14         25.377808   \n",
       "19  2.021604e-02  6.514218e-14         22.359449   \n",
       "20  1.048329e-02  6.510239e-14         20.100821   \n",
       "21  6.636700e-03  6.508147e-14         24.518690   \n",
       "22  1.216244e-03  6.496513e-14         24.508690   \n",
       "23  1.758594e-03  6.504194e-14         24.284335   \n",
       "24  1.966246e-03  6.504434e-14         20.776775   \n",
       "25  4.939301e-07  6.499930e-14         25.117906   \n",
       "26  7.601863e-02  6.472429e-14         25.337819   \n",
       "27  4.463120e-02  6.478874e-14         24.965530   \n",
       "28  1.067604e-01  6.467326e-14         24.552933   \n",
       "29  6.703182e-02  6.474109e-14         21.899997   \n",
       "30  1.036550e-01  6.467805e-14         22.794952   \n",
       "31  9.684508e-02  6.468880e-14         22.688346   \n",
       "32  6.683919e-02  6.474147e-14         22.618896   \n",
       "33  3.939358e-03  6.493724e-14         23.923096   \n",
       "34  1.087738e-02  6.489571e-14         22.723350   \n",
       "35  4.003935e-02  6.479990e-14         21.214653   \n",
       "36  3.444524e-02  6.481441e-14         24.339457   \n",
       "37  2.775774e-02  6.483339e-14         23.915961   \n",
       "38  1.233214e-02  6.511105e-14         22.555754   \n",
       "39  1.428215e-01  6.462208e-14         20.844384   \n",
       "40  7.045824e-02  6.473456e-14         27.855248   \n",
       "41  9.122068e-02  6.469797e-14         26.498600   \n",
       "42  2.088227e-02  6.485549e-14         25.791692   \n",
       "43  7.286275e-02  6.473007e-14         27.922906   \n",
       "44  2.373941e-02  6.515408e-14         25.127321   \n",
       "45  2.751693e-03  6.505246e-14         23.397753   \n",
       "46  2.619960e-03  6.505119e-14         27.288337   \n",
       "47  3.138659e-03  6.494398e-14         23.949754   \n",
       "48  3.128011e-02  6.482314e-14         26.477226   \n",
       "49  1.449491e-02  6.487961e-14         22.926405   \n",
       "\n",
       "    config/params/coupler_extent[0]  config/params/coupler_extent[1]  \\\n",
       "0                        184.819356                        32.892083   \n",
       "1                        262.164333                        21.901356   \n",
       "2                        390.579356                        39.496010   \n",
       "3                        252.262631                        35.014137   \n",
       "4                         95.950940                        28.118845   \n",
       "5                        358.622417                        32.541733   \n",
       "6                        441.755062                        30.086347   \n",
       "7                        145.852582                        37.039412   \n",
       "8                        115.966432                        29.117388   \n",
       "9                        280.739250                        38.104601   \n",
       "10                       370.918651                        32.399454   \n",
       "11                       424.932286                        38.646882   \n",
       "12                       490.689959                        27.779726   \n",
       "13                        63.520602                        24.912193   \n",
       "14                       398.016447                        31.059751   \n",
       "15                       143.993879                        25.574513   \n",
       "16                       138.363106                        25.572022   \n",
       "17                       452.419135                        28.382411   \n",
       "18                       427.973922                        29.062296   \n",
       "19                       425.232511                        29.143542   \n",
       "20                       396.611977                        28.805795   \n",
       "21                       290.209666                        28.127896   \n",
       "22                       336.535846                        27.950945   \n",
       "23                       329.567568                        28.074692   \n",
       "24                       298.717723                        27.545699   \n",
       "25                       272.695556                        27.890089   \n",
       "26                       148.403893                        24.983560   \n",
       "27                       148.871201                        25.111905   \n",
       "28                       151.733472                        25.093157   \n",
       "29                       144.516898                        25.035483   \n",
       "30                       145.230315                        24.950737   \n",
       "31                       356.374107                        25.764538   \n",
       "32                       112.308291                        25.050104   \n",
       "33                       107.682880                        25.229442   \n",
       "34                       299.562614                        29.800461   \n",
       "35                       310.165768                        29.974363   \n",
       "36                       306.390747                        30.220910   \n",
       "37                       305.075523                        30.044969   \n",
       "38                       101.597089                        26.568299   \n",
       "39                       300.399572                        28.408186   \n",
       "40                       290.519971                        27.742424   \n",
       "41                       291.119353                        27.293629   \n",
       "42                       288.834355                        27.548899   \n",
       "43                       288.079374                        27.608246   \n",
       "44                       314.332926                        29.915824   \n",
       "45                       383.892185                        24.748357   \n",
       "46                       258.378003                        28.199277   \n",
       "47                       291.913444                        28.150128   \n",
       "48                       319.776266                        27.516585   \n",
       "49                       319.745142                        27.570903   \n",
       "\n",
       "    config/params/coupler_offset  config/params/ground_gap_[0]  \\\n",
       "0                      11.876995                    902.545600   \n",
       "1                      10.025965                    941.073518   \n",
       "2                       9.312510                    707.919401   \n",
       "3                      19.579834                    967.728027   \n",
       "4                      23.925636                    809.682592   \n",
       "5                      40.691043                    720.716543   \n",
       "6                      18.458191                    615.763386   \n",
       "7                      15.130161                    946.686004   \n",
       "8                      32.317955                    984.626256   \n",
       "9                      33.694265                    640.324633   \n",
       "10                     27.632006                    654.760822   \n",
       "11                      5.727269                    768.182064   \n",
       "12                     40.778870                    630.661910   \n",
       "13                     35.439523                    630.111436   \n",
       "14                     40.341411                    667.911272   \n",
       "15                     36.127867                    629.783169   \n",
       "16                     35.927283                    632.472180   \n",
       "17                     30.207707                    627.043458   \n",
       "18                     29.078649                    633.940449   \n",
       "19                     31.994789                    637.396384   \n",
       "20                     33.519114                    639.637972   \n",
       "21                     39.354847                    642.741236   \n",
       "22                     36.478824                    633.107053   \n",
       "23                     36.127461                    633.243704   \n",
       "24                     38.925916                    630.889295   \n",
       "25                     40.972862                    635.267555   \n",
       "26                     39.641357                    560.581891   \n",
       "27                     40.175803                    563.417461   \n",
       "28                     40.107863                    560.966323   \n",
       "29                     39.922848                    559.427904   \n",
       "30                     39.968345                    557.669681   \n",
       "31                     25.815889                    637.877671   \n",
       "32                     41.857125                    633.860289   \n",
       "33                     42.253778                    619.980630   \n",
       "34                     47.212649                    712.574526   \n",
       "35                     47.001858                    706.625962   \n",
       "36                     47.017279                    707.367194   \n",
       "37                     47.247967                    712.670076   \n",
       "38                     40.637935                    612.213547   \n",
       "39                     31.404833                    710.603283   \n",
       "40                     32.510217                    739.987991   \n",
       "41                     32.355265                    748.098199   \n",
       "42                     32.025504                    745.353298   \n",
       "43                     32.149672                    746.935499   \n",
       "44                     47.287288                    670.475339   \n",
       "45                     31.507661                    735.821205   \n",
       "46                     42.595701                    694.018493   \n",
       "47                     28.453884                    725.022882   \n",
       "48                     26.938622                    684.578422   \n",
       "49                     26.974403                    684.564487   \n",
       "\n",
       "    config/params/ground_gap_[1]  config/params/island1_extent_[0]  \\\n",
       "0                     885.957344                        657.323140   \n",
       "1                     872.945683                        557.517771   \n",
       "2                     744.302212                        330.271422   \n",
       "3                     601.337263                        576.230569   \n",
       "4                     971.087702                        369.147366   \n",
       "5                     741.044599                        695.014301   \n",
       "6                     587.442759                        492.917836   \n",
       "7                     671.214726                        226.104242   \n",
       "8                     687.294723                        280.298611   \n",
       "9                     540.970411                        691.877462   \n",
       "10                    828.491394                        295.620498   \n",
       "11                    995.560287                        629.482810   \n",
       "12                    678.327402                        360.415369   \n",
       "13                    922.339478                        582.235010   \n",
       "14                    738.229555                        668.367487   \n",
       "15                    867.007932                        582.284795   \n",
       "16                    868.283998                        580.985848   \n",
       "17                    634.047079                        459.871649   \n",
       "18                    683.819662                        414.087698   \n",
       "19                    678.415389                        491.573822   \n",
       "20                    700.765752                        507.036975   \n",
       "21                    794.138835                        593.829140   \n",
       "22                    751.068318                        540.929958   \n",
       "23                    766.255016                        529.085867   \n",
       "24                    788.424787                        565.612728   \n",
       "25                    814.952921                        606.676866   \n",
       "26                    947.624100                        583.041585   \n",
       "27                    948.228390                        590.443856   \n",
       "28                    948.525899                        590.117171   \n",
       "29                    950.726015                        608.289963   \n",
       "30                    948.092326                        612.686962   \n",
       "31                    716.447041                        545.809670   \n",
       "32                    890.738217                        687.925354   \n",
       "33                    904.375900                        561.140785   \n",
       "34                    739.661055                        572.594578   \n",
       "35                    742.181784                        556.594146   \n",
       "36                    745.980800                        553.560669   \n",
       "37                    745.663561                        568.594976   \n",
       "38                    958.429432                        564.035031   \n",
       "39                    639.467379                        386.698955   \n",
       "40                    653.574516                        426.627820   \n",
       "41                    644.986964                        427.944033   \n",
       "42                    644.028767                        420.492376   \n",
       "43                    643.270707                        421.373335   \n",
       "44                    826.329849                        700.000000   \n",
       "45                    733.998772                        479.868859   \n",
       "46                    847.835286                        557.798872   \n",
       "47                    650.299045                        423.086732   \n",
       "48                    663.534431                        451.251816   \n",
       "49                    662.687215                        452.953209   \n",
       "\n",
       "    config/params/island1_extent_[1]  config/params/island1_r  \\\n",
       "0                          78.531658                 0.386683   \n",
       "1                          55.547059                33.638677   \n",
       "2                         145.703800                 0.090669   \n",
       "3                         194.289542                 8.926458   \n",
       "4                         360.972920                48.528605   \n",
       "5                         271.086154                28.186896   \n",
       "6                         125.800562                10.445583   \n",
       "7                         424.334801                32.795276   \n",
       "8                         354.075378                 7.416354   \n",
       "9                         352.067370                25.795012   \n",
       "10                        103.746721                42.583120   \n",
       "11                        230.241337                43.682801   \n",
       "12                        218.110732                37.156830   \n",
       "13                        360.920085                 8.552492   \n",
       "14                        254.657625                29.115988   \n",
       "15                        337.392730                13.407973   \n",
       "16                        337.295044                12.971764   \n",
       "17                        175.332665                23.532439   \n",
       "18                        148.580699                28.942755   \n",
       "19                        182.171523                26.113912   \n",
       "20                        205.134893                25.440018   \n",
       "21                        294.436630                23.370695   \n",
       "22                        254.641471                24.130694   \n",
       "23                        245.255663                25.780195   \n",
       "24                        288.939775                23.989380   \n",
       "25                        310.759009                23.942272   \n",
       "26                        358.972618                15.854391   \n",
       "27                        361.514045                16.151481   \n",
       "28                        359.126779                16.415428   \n",
       "29                        363.280025                15.639024   \n",
       "30                        364.354386                15.601418   \n",
       "31                        146.986235                25.954007   \n",
       "32                        401.769750                15.592738   \n",
       "33                        431.516090                10.605902   \n",
       "34                        314.068906                32.455881   \n",
       "35                        306.325310                32.222935   \n",
       "36                        312.482498                32.200284   \n",
       "37                        310.406803                32.628945   \n",
       "38                        415.575106                 9.544471   \n",
       "39                        219.114334                29.331896   \n",
       "40                        229.268286                29.459643   \n",
       "41                        223.936723                29.503992   \n",
       "42                        234.851692                29.688795   \n",
       "43                        235.582202                29.449789   \n",
       "44                        331.744215                27.574040   \n",
       "45                        149.422592                27.135419   \n",
       "46                        284.021184                27.176725   \n",
       "47                        364.199652                30.606291   \n",
       "48                        332.226753                30.449139   \n",
       "49                        333.984019                30.337854   \n",
       "\n",
       "    config/params/island2_extent_[0]  config/params/island2_extent_[1]  \\\n",
       "0                         505.288865                         59.834871   \n",
       "1                         406.106803                        172.876456   \n",
       "2                         319.115045                        216.700491   \n",
       "3                         582.846310                        123.523916   \n",
       "4                         204.677578                        197.706363   \n",
       "5                         641.766179                        162.848684   \n",
       "6                         479.983364                        195.970535   \n",
       "7                         462.665960                        276.240548   \n",
       "8                         261.138651                        269.898192   \n",
       "9                         332.112030                        138.432974   \n",
       "10                        268.574317                        147.828216   \n",
       "11                        501.783589                        212.443255   \n",
       "12                        450.436013                        206.294789   \n",
       "13                        636.655709                         80.044536   \n",
       "14                        637.883493                        182.228742   \n",
       "15                        630.851858                        111.336503   \n",
       "16                        627.621162                        109.330295   \n",
       "17                        491.367570                        197.388135   \n",
       "18                        428.462643                        182.548227   \n",
       "19                        504.054154                        187.340133   \n",
       "20                        525.523490                        180.482259   \n",
       "21                        626.899338                        149.589128   \n",
       "22                        578.002330                        164.472673   \n",
       "23                        563.027865                        160.503007   \n",
       "24                        618.594299                        151.652636   \n",
       "25                        655.171945                        141.441939   \n",
       "26                        699.947254                         88.913062   \n",
       "27                        700.000000                         88.886185   \n",
       "28                        700.000000                         89.566973   \n",
       "29                        700.000000                         92.243059   \n",
       "30                        700.000000                         93.920538   \n",
       "31                        550.644366                        184.975714   \n",
       "32                        687.413626                        125.659280   \n",
       "33                        700.000000                         89.525280   \n",
       "34                        649.412528                        163.936453   \n",
       "35                        662.136598                        157.245490   \n",
       "36                        660.855071                        158.817111   \n",
       "37                        667.733090                        160.512988   \n",
       "38                        700.000000                         81.104198   \n",
       "39                        585.237312                        199.818121   \n",
       "40                        542.615400                        221.562818   \n",
       "41                        534.603707                        217.796471   \n",
       "42                        540.411084                        219.531812   \n",
       "43                        545.405521                        221.066474   \n",
       "44                        627.137869                        176.254407   \n",
       "45                        432.070571                        176.497712   \n",
       "46                        612.310399                        230.711531   \n",
       "47                        536.174483                        225.218648   \n",
       "48                        475.440375                        210.233284   \n",
       "49                        476.990627                        210.179967   \n",
       "\n",
       "    config/params/island2_r  config/params/squid_offset  \n",
       "0                 31.540880                  -12.686303  \n",
       "1                 38.146902                   -3.406442  \n",
       "2                 34.597832                   -1.908861  \n",
       "3                 11.835129                  -18.334183  \n",
       "4                 49.861041                   -5.338458  \n",
       "5                 27.705481                  -16.325667  \n",
       "6                 45.154686                   -4.347621  \n",
       "7                 35.266262                  -12.009317  \n",
       "8                 36.551891                   -2.089273  \n",
       "9                  6.226970                   -4.015939  \n",
       "10                41.593842                   -5.994450  \n",
       "11                18.931701                  -13.279321  \n",
       "12                40.711267                   -9.441002  \n",
       "13                48.740497                   -2.332329  \n",
       "14                35.001775                  -14.301572  \n",
       "15                47.302618                   -3.980707  \n",
       "16                47.261946                   -3.861731  \n",
       "17                43.484782                   -7.287225  \n",
       "18                43.831753                   -6.651142  \n",
       "19                42.399235                   -8.437069  \n",
       "20                42.383010                   -8.456839  \n",
       "21                40.926392                   -9.357024  \n",
       "22                42.841615                   -8.205269  \n",
       "23                43.282514                   -7.964122  \n",
       "24                42.373741                   -8.570443  \n",
       "25                40.918366                   -9.667678  \n",
       "26                50.000000                   -4.442248  \n",
       "27                49.682874                   -4.839436  \n",
       "28                49.864250                   -4.810703  \n",
       "29                50.000000                   -4.555878  \n",
       "30                50.000000                   -4.492675  \n",
       "31                48.811176                   -3.623078  \n",
       "32                48.777446                   -5.601636  \n",
       "33                44.378267                   -5.231922  \n",
       "34                34.341673                  -14.393506  \n",
       "35                34.779281                  -14.638625  \n",
       "36                34.533096                  -14.582274  \n",
       "37                34.355817                  -14.615311  \n",
       "38                45.268134                   -5.242765  \n",
       "39                46.445438                   -6.669383  \n",
       "40                44.086770                   -6.386597  \n",
       "41                43.425429                   -6.323202  \n",
       "42                43.576438                   -6.463161  \n",
       "43                43.407939                   -6.410307  \n",
       "44                30.569932                  -15.877845  \n",
       "45                39.841157                   -4.753521  \n",
       "46                36.209048                   -9.903330  \n",
       "47                40.149837                   -8.496451  \n",
       "48                43.173652                   -8.923098  \n",
       "49                43.101590                   -8.950592  "
      ]
     },
     "metadata": {},
     "output_type": "display_data"
    },
    {
     "name": "stdout",
     "output_type": "stream",
     "text": [
      "best.metrics['value']=6.499929719839244e-14 {'params': {'island1_extent_[0]': 606.6768661584701, 'island1_extent_[1]': 310.75900926854484, 'island2_extent_[0]': 655.1719453338441, 'island2_extent_[1]': 141.44193907885966, 'coupler_extent[0]': 272.69555554348483, 'coupler_extent[1]': 27.89008906104139, 'coupler_offset': 40.97286230864692, 'ground_gap_[0]': 635.2675550392195, 'ground_gap_[1]': 814.9529213133264, 'squid_offset': -9.667677878700868, 'island1_r': 23.942272036879324, 'island2_r': 40.91836630120784}}\n"
     ]
    }
   ],
   "source": [
    "df = results.get_dataframe()\n",
    "best = results.get_best_result(metric=\"score\", mode=\"min\")\n",
    "\n",
    "display(df.filter(regex='(score|value|time_this|config)'))\n",
    "print(f\"{best.metrics['value']=}\", best.config)"
   ]
  }
 ],
 "metadata": {
  "kernelspec": {
   "display_name": "Python 3.9.13 64-bit",
   "language": "python",
   "name": "python3"
  },
  "language_info": {
   "codemirror_mode": {
    "name": "ipython",
    "version": 3
   },
   "file_extension": ".py",
   "mimetype": "text/x-python",
   "name": "python",
   "nbconvert_exporter": "python",
   "pygments_lexer": "ipython3",
   "version": "3.9.13"
  },
  "orig_nbformat": 4,
  "vscode": {
   "interpreter": {
    "hash": "11938c6bc6919ae2720b4d5011047913343b08a43b18698fd82dedb0d4417594"
   }
  }
 },
 "nbformat": 4,
 "nbformat_minor": 2
}
