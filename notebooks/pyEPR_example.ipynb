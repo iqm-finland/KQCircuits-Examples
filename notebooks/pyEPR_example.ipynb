{
 "cells": [
  {
   "cell_type": "markdown",
   "id": "5d509727-a786-4f48-bbef-33188927d5a6",
   "metadata": {},
   "source": [
    "# Analysing Xmons with pyEPR\n",
    "\n",
    "This notebook showcases analysing HFSS eigenmode simulation results using [pyEPR](https://github.com/zlatko-minev/pyEPR). The notebook has to be run on a machine with Ansys Electronics Desktop installed. Consequently, only Windows is supported.\n",
    "\n",
    "\n",
    "## Instructions\n",
    "\n",
    "1. (Ansys not required for this step) Run the example simulation script at `klayout_package/python/scripts/simulations/xmons_direct_coupling_pyepr.py`\n",
    "2. Run `simulation.bat` in the exported `xmons_direct_coupling_pyepr_output` to generate Ansys project files from the GDS files.\n",
    "3. Put this notebook one folder above the `xmons_direct_coupling_pyepr_output` folder\n",
    "4. Run this notebook, tune simulation settings, add variable sweeps, run _Analyze_ etc."
   ]
  },
  {
   "cell_type": "code",
   "execution_count": 1,
   "id": "a8d21dfe-d2b9-41b6-971a-1f88d7453357",
   "metadata": {},
   "outputs": [],
   "source": [
    "import subprocess\n",
    "from pathlib import Path\n",
    "\n",
    "import pandas as pd\n",
    "import pyEPR as epr"
   ]
  },
  {
   "cell_type": "code",
   "execution_count": 2,
   "id": "bb4aea89-a311-4130-8c85-47f576305530",
   "metadata": {
    "tags": []
   },
   "outputs": [
    {
     "name": "stderr",
     "output_type": "stream",
     "text": [
      "INFO 04:30PM [connect_project]: Connecting to Ansys Desktop API...\n",
      "INFO 04:30PM [load_ansys_project]: \tFile path to HFSS project found.\n",
      "INFO 04:30PM [load_ansys_project]: \tOpened Ansys App\n",
      "INFO 04:30PM [load_ansys_project]: \tOpened Ansys Desktop v2022.1.0\n",
      "INFO 04:30PM [load_ansys_project]: \tOpened Ansys Project\n",
      "\tFolder:    D:/Simulations/xmons_direct_coupling_pyepr_output/\n",
      "\tProject:   three_coupled_xmons_project\n",
      "INFO 04:30PM [connect_design]: \tOpened active design\n",
      "\tDesign:    HFSSDesign1 [Solution type: Eigenmode]\n",
      "INFO 04:30PM [get_setup]: \tOpened setup `Setup1`  (<class 'pyEPR.ansys.HfssEMSetup'>)\n",
      "INFO 04:30PM [connect]: \tConnected to project \"three_coupled_xmons_project\" and design \"HFSSDesign1\" 😀 \n",
      "\n"
     ]
    }
   ],
   "source": [
    "pinfo = epr.ProjectInfo(\n",
    "    project_path = Path.cwd() / 'xmons_direct_coupling_pyepr_output',\n",
    "    project_name = 'three_coupled_xmons_project',\n",
    "    design_name  = 'HFSSDesign1',\n",
    ")"
   ]
  },
  {
   "cell_type": "code",
   "execution_count": 3,
   "id": "12e0c6a5-0927-4127-8cea-ddeb4630e2d6",
   "metadata": {},
   "outputs": [
    {
     "data": {
      "text/plain": [
       "['Box',\n",
       " 'Substrate',\n",
       " 'Signal_1',\n",
       " 'Signal_2',\n",
       " 'Signal_3',\n",
       " 'Signal_4',\n",
       " 'Signal_5',\n",
       " 'Signal_6',\n",
       " 'Signal_7',\n",
       " 'Signal_8',\n",
       " 'Signal_9',\n",
       " 'Ground_10',\n",
       " 'Port1',\n",
       " 'Port2',\n",
       " 'Port3',\n",
       " 'Port4',\n",
       " 'Port5',\n",
       " 'Port6',\n",
       " 'Port7',\n",
       " 'Port8',\n",
       " 'Port9',\n",
       " 'Junction7',\n",
       " 'Junction8',\n",
       " 'Junction9']"
      ]
     },
     "execution_count": 3,
     "metadata": {},
     "output_type": "execute_result"
    }
   ],
   "source": [
    "# show Ansys objects\n",
    "pinfo.get_all_object_names()"
   ]
  },
  {
   "cell_type": "code",
   "execution_count": 4,
   "id": "7d967c64-56e6-47f8-b164-31af8502bc38",
   "metadata": {},
   "outputs": [
    {
     "data": {
      "text/plain": [
       "['Lj_7', 'Cj_7', 'Lj_8', 'Cj_8', 'Lj_9', 'Cj_9']"
      ]
     },
     "execution_count": 4,
     "metadata": {},
     "output_type": "execute_result"
    }
   ],
   "source": [
    "# Show Ansys variables\n",
    "pinfo.get_all_variables_names()"
   ]
  },
  {
   "cell_type": "markdown",
   "id": "ba243d91-b7a0-4c3f-9f31-bb0c332fea22",
   "metadata": {},
   "source": [
    "## Setup HFSS eigenmode sim"
   ]
  },
  {
   "cell_type": "code",
   "execution_count": 5,
   "id": "0a73b3c4-4af6-4dc9-9c9b-efa4fae29078",
   "metadata": {},
   "outputs": [
    {
     "name": "stdout",
     "output_type": "stream",
     "text": [
      "Inserting optimetrics setup `Parameters1` for simulation setup: `Setup1`\n"
     ]
    }
   ],
   "source": [
    "oDesign = pinfo.design\n",
    "\n",
    "# create different simulation setup from default\n",
    "# oDesign.create_em_setup(name='EPR', max_passes=19, n_modes=2, min_freq_ghz=1)\n",
    "\n",
    "# set Optimetrics, i.e., Ansys parameter sweep setup\n",
    "oDesign.optimetrics.create_setup(\n",
    "    name='Parameters1',\n",
    "    variable='Lj_7',\n",
    "    swp_params=('12.8nH', '13.6nH', '0.2nH'),\n",
    "    swp_type='linear_step'\n",
    ")"
   ]
  },
  {
   "cell_type": "markdown",
   "id": "a5fdd87d-59ff-4dd3-8924-badee7ec75e3",
   "metadata": {},
   "source": [
    "### Set dissipative elements\n",
    "\n",
    "Here we set the Ansys objects corresponding to dissipative elements. Solids (_bulk_) and sheets (_surfaces_) are set separately."
   ]
  },
  {
   "cell_type": "code",
   "execution_count": 6,
   "id": "603c6596-18a6-439e-acbc-e23ed139fb81",
   "metadata": {},
   "outputs": [
    {
     "data": {
      "text/plain": [
       "['Signal_1',\n",
       " 'Signal_2',\n",
       " 'Signal_3',\n",
       " 'Signal_4',\n",
       " 'Signal_5',\n",
       " 'Signal_6',\n",
       " 'Signal_7',\n",
       " 'Signal_8',\n",
       " 'Signal_9',\n",
       " 'Ground_10',\n",
       " 'Port1',\n",
       " 'Port2',\n",
       " 'Port3',\n",
       " 'Port4',\n",
       " 'Port5',\n",
       " 'Port6']"
      ]
     },
     "metadata": {},
     "output_type": "display_data"
    }
   ],
   "source": [
    "junction_numbers = [int(e.split('Junction')[-1]) for e in pinfo.get_all_object_names() if 'Junction' in e]\n",
    "\n",
    "# Set dissipative elements\n",
    "pinfo.dissipative['dielectrics_bulk']    = ['Substrate']  # Ansys solids\n",
    "pinfo.dissipative['dielectric_surfaces'] = [e for e in pinfo.get_all_object_names() if e not in {'Box', 'Substrate'} |\n",
    "    {item for t in ((f'Port{i}', f'Junction{i}') for i in junction_numbers) for item in t}]  # Ansys sheets\n",
    "display(pinfo.dissipative['dielectric_surfaces'])"
   ]
  },
  {
   "cell_type": "markdown",
   "id": "b0fe677c-0613-40b5-bdae-4622b1353cbc",
   "metadata": {},
   "source": [
    "### Set junctions\n",
    "\n",
    "We have to detect the junctions in the simulation setup.\n",
    "The `junction_numbers` were inferred above and can be used to set the proper format as shown below,\n",
    "if the normal KQC settings are used. A more complex simulation setup might require doing this manually."
   ]
  },
  {
   "cell_type": "code",
   "execution_count": 7,
   "id": "89c31be8-d84b-44eb-83d7-fae2f2573148",
   "metadata": {},
   "outputs": [],
   "source": [
    "oEditor = oDesign.modeler._modeler\n",
    "for j in junction_numbers:\n",
    "    pinfo.junctions[f'j{j}'] = {\n",
    "        'Lj_variable' : f'Lj_{j}',  # variable specifying junction inductance Lj\n",
    "        'rect'        : f'Port{j}',  # rectangle on which lumped boundary condition is specified\n",
    "        'line'        : (name := f'Junction{j}'),  # polyline spanning the length of the rectangle\n",
    "        'Cj_variable' : f'Cj_{j}',  # variable specifying junction capacitance Cj (optional but needed for dissipation)\n",
    "        'length'      : f\"{oEditor.GetEdgeLength(oEditor.GetEdgeIDsFromObject(name)[0])}{oEditor.GetModelUnits()}\",\n",
    "    }\n",
    "\n",
    "pinfo.validate_junction_info()"
   ]
  },
  {
   "cell_type": "markdown",
   "id": "515b4f9d-4f07-4653-bcca-1d9c90acf405",
   "metadata": {},
   "source": [
    "## Run eigenmode Ansys"
   ]
  },
  {
   "cell_type": "code",
   "execution_count": 8,
   "id": "c1efceb5-cf3d-4e82-936c-6b60e49c72d1",
   "metadata": {},
   "outputs": [
    {
     "name": "stderr",
     "output_type": "stream",
     "text": [
      "INFO 04:30PM [analyze]: Analyzing setup Setup1\n"
     ]
    }
   ],
   "source": [
    "pinfo.setup.analyze()"
   ]
  },
  {
   "cell_type": "markdown",
   "id": "e201d4e4-528f-498a-8770-ef37a3b41b5f",
   "metadata": {},
   "source": [
    "### Run Optimetrics\n",
    "\n",
    "i.e., Ansys parameter sweeps"
   ]
  },
  {
   "cell_type": "code",
   "execution_count": 9,
   "id": "83f0c391-dbe2-402c-a399-d3b4a9b4379b",
   "metadata": {},
   "outputs": [],
   "source": [
    "if pinfo.design.optimetrics.get_setup_names():\n",
    "    for opti_setup in pinfo.design.optimetrics.get_setup_names():\n",
    "        pinfo.design.optimetrics.solve_setup(opti_setup)"
   ]
  },
  {
   "cell_type": "markdown",
   "id": "76296325-7a9b-4269-aaf6-723fb022ca79",
   "metadata": {},
   "source": [
    "## Run EPR analysis in Ansys (energies and currents)"
   ]
  },
  {
   "cell_type": "code",
   "execution_count": 10,
   "id": "fa9bd16e-35a6-471e-8495-b03154b5d072",
   "metadata": {},
   "outputs": [
    {
     "name": "stdout",
     "output_type": "stream",
     "text": [
      "Design \"HFSSDesign1\" info:\n",
      "\t# eigenmodes    2\n",
      "\t# variations    6\n"
     ]
    },
    {
     "data": {
      "text/html": [
       "<div>\n",
       "<style scoped>\n",
       "    .dataframe tbody tr th:only-of-type {\n",
       "        vertical-align: middle;\n",
       "    }\n",
       "\n",
       "    .dataframe tbody tr th {\n",
       "        vertical-align: top;\n",
       "    }\n",
       "\n",
       "    .dataframe thead th {\n",
       "        text-align: right;\n",
       "    }\n",
       "</style>\n",
       "<table border=\"1\" class=\"dataframe\">\n",
       "  <thead>\n",
       "    <tr style=\"text-align: right;\">\n",
       "      <th></th>\n",
       "      <th></th>\n",
       "      <th>Freq. (GHz)</th>\n",
       "      <th>Quality Factor</th>\n",
       "    </tr>\n",
       "    <tr>\n",
       "      <th>variation</th>\n",
       "      <th>mode</th>\n",
       "      <th></th>\n",
       "      <th></th>\n",
       "    </tr>\n",
       "  </thead>\n",
       "  <tbody>\n",
       "    <tr>\n",
       "      <th rowspan=\"2\" valign=\"top\">0</th>\n",
       "      <th>0</th>\n",
       "      <td>3.411559</td>\n",
       "      <td>1.089575e+06</td>\n",
       "    </tr>\n",
       "    <tr>\n",
       "      <th>1</th>\n",
       "      <td>4.934170</td>\n",
       "      <td>1.089626e+06</td>\n",
       "    </tr>\n",
       "    <tr>\n",
       "      <th rowspan=\"2\" valign=\"top\">1</th>\n",
       "      <th>0</th>\n",
       "      <td>3.403715</td>\n",
       "      <td>1.089840e+06</td>\n",
       "    </tr>\n",
       "    <tr>\n",
       "      <th>1</th>\n",
       "      <td>4.952685</td>\n",
       "      <td>1.089333e+06</td>\n",
       "    </tr>\n",
       "    <tr>\n",
       "      <th rowspan=\"2\" valign=\"top\">2</th>\n",
       "      <th>0</th>\n",
       "      <td>3.403708</td>\n",
       "      <td>1.089840e+06</td>\n",
       "    </tr>\n",
       "    <tr>\n",
       "      <th>1</th>\n",
       "      <td>4.933154</td>\n",
       "      <td>1.092208e+06</td>\n",
       "    </tr>\n",
       "    <tr>\n",
       "      <th rowspan=\"2\" valign=\"top\">3</th>\n",
       "      <th>0</th>\n",
       "      <td>3.403700</td>\n",
       "      <td>1.089840e+06</td>\n",
       "    </tr>\n",
       "    <tr>\n",
       "      <th>1</th>\n",
       "      <td>4.895994</td>\n",
       "      <td>1.092225e+06</td>\n",
       "    </tr>\n",
       "    <tr>\n",
       "      <th rowspan=\"2\" valign=\"top\">4</th>\n",
       "      <th>0</th>\n",
       "      <td>3.403692</td>\n",
       "      <td>1.089840e+06</td>\n",
       "    </tr>\n",
       "    <tr>\n",
       "      <th>1</th>\n",
       "      <td>4.859593</td>\n",
       "      <td>1.092227e+06</td>\n",
       "    </tr>\n",
       "    <tr>\n",
       "      <th rowspan=\"2\" valign=\"top\">5</th>\n",
       "      <th>0</th>\n",
       "      <td>3.403683</td>\n",
       "      <td>1.089840e+06</td>\n",
       "    </tr>\n",
       "    <tr>\n",
       "      <th>1</th>\n",
       "      <td>4.823982</td>\n",
       "      <td>1.092228e+06</td>\n",
       "    </tr>\n",
       "  </tbody>\n",
       "</table>\n",
       "</div>"
      ],
      "text/plain": [
       "                Freq. (GHz)  Quality Factor\n",
       "variation mode                             \n",
       "0         0        3.411559    1.089575e+06\n",
       "          1        4.934170    1.089626e+06\n",
       "1         0        3.403715    1.089840e+06\n",
       "          1        4.952685    1.089333e+06\n",
       "2         0        3.403708    1.089840e+06\n",
       "          1        4.933154    1.092208e+06\n",
       "3         0        3.403700    1.089840e+06\n",
       "          1        4.895994    1.092225e+06\n",
       "4         0        3.403692    1.089840e+06\n",
       "          1        4.859593    1.092227e+06\n",
       "5         0        3.403683    1.089840e+06\n",
       "          1        4.823982    1.092228e+06"
      ]
     },
     "execution_count": 10,
     "metadata": {},
     "output_type": "execute_result"
    }
   ],
   "source": [
    "# This is the core object for interacting with HFSS and running analysis within HFSS.\n",
    "eprh = epr.DistributedAnalysis(pinfo)\n",
    "\n",
    "# eprh.get_ansys_variables()\n",
    "eprh.get_ansys_frequencies_all()"
   ]
  },
  {
   "cell_type": "code",
   "execution_count": 11,
   "id": "69728405-8f5e-4fd3-b8c9-d34ec406efde",
   "metadata": {},
   "outputs": [],
   "source": [
    "eprh.set_mode(0, phase=0)"
   ]
  },
  {
   "cell_type": "code",
   "execution_count": 12,
   "id": "fa711cdf-99c1-4766-8e53-13b3959c10c4",
   "metadata": {},
   "outputs": [
    {
     "name": "stdout",
     "output_type": "stream",
     "text": [
      "Calculating Qsurface for mode 0 (0/1)\n",
      "p_surf_0 = 0.0023613237622165297\n"
     ]
    },
    {
     "data": {
      "text/plain": [
       "Qsurf_0    423491.270448\n",
       "dtype: float64"
      ]
     },
     "execution_count": 12,
     "metadata": {},
     "output_type": "execute_result"
    }
   ],
   "source": [
    "eprh.get_Qsurface_all(0, '0')"
   ]
  },
  {
   "cell_type": "code",
   "execution_count": 13,
   "id": "04c05aed-3aa3-4283-a892-383bc1a0b319",
   "metadata": {},
   "outputs": [
    {
     "name": "stderr",
     "output_type": "stream",
     "text": [
      "c:\\users\\iqm\\pyepr\\pyEPR\\core_distributed_analysis.py:933: FutureWarning: The default dtype for empty Series will be 'object' instead of 'float64' in a future version. Specify a dtype explicitly to silence this warning.\n",
      "  Qp = pd.Series({})\n"
     ]
    },
    {
     "data": {
      "text/plain": [
       "Series([], dtype: float64)"
      ]
     },
     "execution_count": 13,
     "metadata": {},
     "output_type": "execute_result"
    }
   ],
   "source": [
    "# used with external ports\n",
    "eprh.calc_Q_external('0', freq_GHz=5)"
   ]
  },
  {
   "cell_type": "code",
   "execution_count": 14,
   "id": "0c905b92-8777-481f-8e00-7d0f2f39a40e",
   "metadata": {
    "tags": []
   },
   "outputs": [
    {
     "name": "stderr",
     "output_type": "stream",
     "text": [
      "INFO 06:48PM [hfss_report_full_convergence]: Creating report for variation 0\n",
      "INFO 06:48PM [hfss_report_f_convergence]: Saved convergences to C:\\data-pyEPR\\three_coupled_xmons_project\\HFSSDesign1\\hfss_eig_f_convergence.csv\n"
     ]
    },
    {
     "data": {
      "image/png": "[encoded data removed]",
      "text/plain": [
       "<Figure size 792x216 with 4 Axes>"
      ]
     },
     "metadata": {},
     "output_type": "display_data"
    },
    {
     "name": "stderr",
     "output_type": "stream",
     "text": [
      "INFO 06:48PM [hfss_report_full_convergence]: Creating report for variation 1\n",
      "INFO 06:48PM [hfss_report_f_convergence]: Saved convergences to C:\\data-pyEPR\\three_coupled_xmons_project\\HFSSDesign1\\hfss_eig_f_convergence.csv\n"
     ]
    },
    {
     "data": {
      "image/png": "[encoded data removed]",
      "text/plain": [
       "<Figure size 792x216 with 4 Axes>"
      ]
     },
     "metadata": {},
     "output_type": "display_data"
    },
    {
     "name": "stderr",
     "output_type": "stream",
     "text": [
      "INFO 06:48PM [hfss_report_full_convergence]: Creating report for variation 2\n",
      "INFO 06:48PM [hfss_report_f_convergence]: Saved convergences to C:\\data-pyEPR\\three_coupled_xmons_project\\HFSSDesign1\\hfss_eig_f_convergence.csv\n"
     ]
    }
   ],
   "source": [
    "eprh.hfss_report_full_convergence()"
   ]
  },
  {
   "cell_type": "markdown",
   "id": "05e81569-9e4f-4279-a587-55f1b01629f2",
   "metadata": {},
   "source": [
    "Computes electromagnetic field energies and Q factors for dissipation (if Cj given in `junctions` above)"
   ]
  },
  {
   "cell_type": "code",
   "execution_count": 15,
   "id": "eb4d251d-a47f-4264-a692-5e6fd0f1b36d",
   "metadata": {
    "tags": []
   },
   "outputs": [
    {
     "name": "stderr",
     "output_type": "stream",
     "text": [
      "c:\\users\\iqm\\pyepr\\pyEPR\\project_info.py:239: FutureWarning: The default dtype for empty Series will be 'object' instead of 'float64' in a future version. Specify a dtype explicitly to silence this warning.\n",
      "  options=pd.Series(get_instance_vars(self.options)),\n"
     ]
    },
    {
     "name": "stdout",
     "output_type": "stream",
     "text": [
      "\n",
      "Variation 0  [1/6]\n"
     ]
    },
    {
     "name": "stderr",
     "output_type": "stream",
     "text": [
      "c:\\users\\iqm\\pyepr\\pyEPR\\core_distributed_analysis.py:1101: FutureWarning: The default dtype for empty Series will be 'object' instead of 'float64' in a future version. Specify a dtype explicitly to silence this warning.\n",
      "  Ljs = pd.Series({})\n",
      "c:\\users\\iqm\\pyepr\\pyEPR\\core_distributed_analysis.py:1102: FutureWarning: The default dtype for empty Series will be 'object' instead of 'float64' in a future version. Specify a dtype explicitly to silence this warning.\n",
      "  Cjs = pd.Series({})\n",
      "c:\\users\\iqm\\pyepr\\pyEPR\\core_distributed_analysis.py:1245: FutureWarning: The default dtype for empty Series will be 'object' instead of 'float64' in a future version. Specify a dtype explicitly to silence this warning.\n",
      "  _Om = pd.Series({})\n"
     ]
    },
    {
     "name": "stdout",
     "output_type": "stream",
     "text": [
      "\n",
      "  \u001b[1mMode 0 at 3.41 GHz   [1/2]\u001b[0m\n",
      "    Calculating ℰ_magnetic,ℰ_electric\n",
      "       (ℰ_E-ℰ_H)/ℰ_E       ℰ_E       ℰ_H\n",
      "               99.5%  2.443e-26 1.114e-28\n",
      "\n",
      "    Calculating junction energy participation ration (EPR)\n",
      "\tmethod=`line_voltage`. First estimates:\n",
      "\tjunction        EPR p_0j   sign s_0j    (p_capacitive)\n"
     ]
    },
    {
     "name": "stderr",
     "output_type": "stream",
     "text": [
      "c:\\users\\iqm\\pyepr\\pyEPR\\core_distributed_analysis.py:981: FutureWarning: The default dtype for empty Series will be 'object' instead of 'float64' in a future version. Specify a dtype explicitly to silence this warning.\n",
      "  Sj = pd.Series({})\n"
     ]
    },
    {
     "name": "stdout",
     "output_type": "stream",
     "text": [
      "\t\tEnergy fraction (Lj over Lj&Cj)= 98.77%\n",
      "\tj7              0.000311467  (+)        3.86404e-06\n",
      "\t\tEnergy fraction (Lj over Lj&Cj)= 98.77%\n",
      "\tj8              0.994381  (+)        0.0123362\n",
      "\t\tEnergy fraction (Lj over Lj&Cj)= 98.77%\n",
      "\tj9              0.000312618  (+)        3.87831e-06\n",
      "\t\t(U_tot_cap-U_tot_ind)/mean=0.64%\n",
      "Calculating Qdielectric_Substrate for mode 0 (0/1)\n"
     ]
    },
    {
     "name": "stderr",
     "output_type": "stream",
     "text": [
      "c:\\users\\iqm\\pyepr\\pyEPR\\core_distributed_analysis.py:933: FutureWarning: The default dtype for empty Series will be 'object' instead of 'float64' in a future version. Specify a dtype explicitly to silence this warning.\n",
      "  Qp = pd.Series({})\n"
     ]
    },
    {
     "name": "stdout",
     "output_type": "stream",
     "text": [
      "p_dielectric_Substrate_0 = 0.9183562367767784\n"
     ]
    },
    {
     "name": "stderr",
     "output_type": "stream",
     "text": [
      "c:\\users\\iqm\\pyepr\\pyEPR\\core_distributed_analysis.py:1307: FutureWarning: The series.append method is deprecated and will be removed from pandas in a future version. Use pandas.concat instead.\n",
      "  sol = sol.append(self.get_Qdielectric(\n",
      "c:\\users\\iqm\\pyepr\\pyEPR\\core_distributed_analysis.py:1245: FutureWarning: The default dtype for empty Series will be 'object' instead of 'float64' in a future version. Specify a dtype explicitly to silence this warning.\n",
      "  _Om = pd.Series({})\n"
     ]
    },
    {
     "name": "stdout",
     "output_type": "stream",
     "text": [
      "\n",
      "  \u001b[1mMode 1 at 4.93 GHz   [2/2]\u001b[0m\n",
      "    Calculating ℰ_magnetic,ℰ_electric\n",
      "       (ℰ_E-ℰ_H)/ℰ_E       ℰ_E       ℰ_H\n",
      "               99.3%  5.271e-26 3.599e-28\n",
      "\n",
      "    Calculating junction energy participation ration (EPR)\n",
      "\tmethod=`line_voltage`. First estimates:\n",
      "\tjunction        EPR p_1j   sign s_1j    (p_capacitive)\n"
     ]
    },
    {
     "name": "stderr",
     "output_type": "stream",
     "text": [
      "c:\\users\\iqm\\pyepr\\pyEPR\\core_distributed_analysis.py:981: FutureWarning: The default dtype for empty Series will be 'object' instead of 'float64' in a future version. Specify a dtype explicitly to silence this warning.\n",
      "  Sj = pd.Series({})\n"
     ]
    },
    {
     "name": "stdout",
     "output_type": "stream",
     "text": [
      "\t\tEnergy fraction (Lj over Lj&Cj)= 97.47%\n",
      "\tj7              0.0420205  (+)        0.00109047\n",
      "\t\tEnergy fraction (Lj over Lj&Cj)= 97.47%\n",
      "\tj8              0.000182701  (+)        4.74126e-06\n",
      "\t\tEnergy fraction (Lj over Lj&Cj)= 97.47%\n",
      "\tj9               0.95125  (+)        0.0246858\n",
      "\t\t(U_tot_cap-U_tot_ind)/mean=1.26%\n",
      "Calculating Qdielectric_Substrate for mode 1 (1/1)\n"
     ]
    },
    {
     "name": "stderr",
     "output_type": "stream",
     "text": [
      "c:\\users\\iqm\\pyepr\\pyEPR\\core_distributed_analysis.py:933: FutureWarning: The default dtype for empty Series will be 'object' instead of 'float64' in a future version. Specify a dtype explicitly to silence this warning.\n",
      "  Qp = pd.Series({})\n"
     ]
    },
    {
     "name": "stdout",
     "output_type": "stream",
     "text": [
      "p_dielectric_Substrate_1 = 0.9189301582525747\n"
     ]
    },
    {
     "name": "stderr",
     "output_type": "stream",
     "text": [
      "c:\\users\\iqm\\pyepr\\pyEPR\\core_distributed_analysis.py:1307: FutureWarning: The series.append method is deprecated and will be removed from pandas in a future version. Use pandas.concat instead.\n",
      "  sol = sol.append(self.get_Qdielectric(\n",
      "c:\\users\\iqm\\pyepr\\pyEPR\\project_info.py:239: FutureWarning: The default dtype for empty Series will be 'object' instead of 'float64' in a future version. Specify a dtype explicitly to silence this warning.\n",
      "  options=pd.Series(get_instance_vars(self.options)),\n"
     ]
    },
    {
     "name": "stdout",
     "output_type": "stream",
     "text": [
      "\n",
      "Variation 1  [2/6]\n"
     ]
    },
    {
     "name": "stderr",
     "output_type": "stream",
     "text": [
      "c:\\users\\iqm\\pyepr\\pyEPR\\core_distributed_analysis.py:1101: FutureWarning: The default dtype for empty Series will be 'object' instead of 'float64' in a future version. Specify a dtype explicitly to silence this warning.\n",
      "  Ljs = pd.Series({})\n",
      "c:\\users\\iqm\\pyepr\\pyEPR\\core_distributed_analysis.py:1102: FutureWarning: The default dtype for empty Series will be 'object' instead of 'float64' in a future version. Specify a dtype explicitly to silence this warning.\n",
      "  Cjs = pd.Series({})\n",
      "c:\\users\\iqm\\pyepr\\pyEPR\\core_distributed_analysis.py:1245: FutureWarning: The default dtype for empty Series will be 'object' instead of 'float64' in a future version. Specify a dtype explicitly to silence this warning.\n",
      "  _Om = pd.Series({})\n"
     ]
    },
    {
     "name": "stdout",
     "output_type": "stream",
     "text": [
      "\n",
      "  \u001b[1mMode 0 at 3.40 GHz   [1/2]\u001b[0m\n",
      "    Calculating ℰ_magnetic,ℰ_electric\n",
      "       (ℰ_E-ℰ_H)/ℰ_E       ℰ_E       ℰ_H\n",
      "               99.5%  2.484e-26 1.129e-28\n",
      "\n",
      "    Calculating junction energy participation ration (EPR)\n",
      "\tmethod=`line_voltage`. First estimates:\n",
      "\tjunction        EPR p_0j   sign s_0j    (p_capacitive)\n"
     ]
    },
    {
     "name": "stderr",
     "output_type": "stream",
     "text": [
      "c:\\users\\iqm\\pyepr\\pyEPR\\core_distributed_analysis.py:981: FutureWarning: The default dtype for empty Series will be 'object' instead of 'float64' in a future version. Specify a dtype explicitly to silence this warning.\n",
      "  Sj = pd.Series({})\n"
     ]
    },
    {
     "name": "stdout",
     "output_type": "stream",
     "text": [
      "\t\tEnergy fraction (Lj over Lj&Cj)= 98.84%\n",
      "\tj7              0.000284753  (+)        3.33407e-06\n",
      "\t\tEnergy fraction (Lj over Lj&Cj)= 98.78%\n",
      "\tj8              0.994431  (+)        0.0122802\n",
      "\t\tEnergy fraction (Lj over Lj&Cj)= 98.78%\n",
      "\tj9              0.000302521  (+)        3.73581e-06\n",
      "\t\t(U_tot_cap-U_tot_ind)/mean=0.63%\n",
      "Calculating Qdielectric_Substrate for mode 0 (0/1)\n"
     ]
    },
    {
     "name": "stderr",
     "output_type": "stream",
     "text": [
      "c:\\users\\iqm\\pyepr\\pyEPR\\core_distributed_analysis.py:933: FutureWarning: The default dtype for empty Series will be 'object' instead of 'float64' in a future version. Specify a dtype explicitly to silence this warning.\n",
      "  Qp = pd.Series({})\n"
     ]
    },
    {
     "name": "stdout",
     "output_type": "stream",
     "text": [
      "p_dielectric_Substrate_0 = 0.9181299025424536\n"
     ]
    },
    {
     "name": "stderr",
     "output_type": "stream",
     "text": [
      "c:\\users\\iqm\\pyepr\\pyEPR\\core_distributed_analysis.py:1307: FutureWarning: The series.append method is deprecated and will be removed from pandas in a future version. Use pandas.concat instead.\n",
      "  sol = sol.append(self.get_Qdielectric(\n",
      "c:\\users\\iqm\\pyepr\\pyEPR\\core_distributed_analysis.py:1245: FutureWarning: The default dtype for empty Series will be 'object' instead of 'float64' in a future version. Specify a dtype explicitly to silence this warning.\n",
      "  _Om = pd.Series({})\n"
     ]
    },
    {
     "name": "stdout",
     "output_type": "stream",
     "text": [
      "\n",
      "  \u001b[1mMode 1 at 4.95 GHz   [2/2]\u001b[0m\n",
      "    Calculating ℰ_magnetic,ℰ_electric\n",
      "       (ℰ_E-ℰ_H)/ℰ_E       ℰ_E       ℰ_H\n",
      "               99.3%  4.237e-26  2.92e-28\n",
      "\n",
      "    Calculating junction energy participation ration (EPR)\n",
      "\tmethod=`line_voltage`. First estimates:\n",
      "\tjunction        EPR p_1j   sign s_1j    (p_capacitive)\n"
     ]
    },
    {
     "name": "stderr",
     "output_type": "stream",
     "text": [
      "c:\\users\\iqm\\pyepr\\pyEPR\\core_distributed_analysis.py:981: FutureWarning: The default dtype for empty Series will be 'object' instead of 'float64' in a future version. Specify a dtype explicitly to silence this warning.\n",
      "  Sj = pd.Series({})\n"
     ]
    },
    {
     "name": "stdout",
     "output_type": "stream",
     "text": [
      "\t\tEnergy fraction (Lj over Lj&Cj)= 97.58%\n",
      "\tj7              0.00788914  (+)        0.000195574\n",
      "\t\tEnergy fraction (Lj over Lj&Cj)= 97.45%\n",
      "\tj8              0.000244387  (+)        6.38974e-06\n",
      "\t\tEnergy fraction (Lj over Lj&Cj)= 97.45%\n",
      "\tj9              0.985225  (+)        0.0257597\n",
      "\t\t(U_tot_cap-U_tot_ind)/mean=1.27%\n",
      "Calculating Qdielectric_Substrate for mode 1 (1/1)\n"
     ]
    },
    {
     "name": "stderr",
     "output_type": "stream",
     "text": [
      "c:\\users\\iqm\\pyepr\\pyEPR\\core_distributed_analysis.py:933: FutureWarning: The default dtype for empty Series will be 'object' instead of 'float64' in a future version. Specify a dtype explicitly to silence this warning.\n",
      "  Qp = pd.Series({})\n"
     ]
    },
    {
     "name": "stdout",
     "output_type": "stream",
     "text": [
      "p_dielectric_Substrate_1 = 0.9191855956256221\n"
     ]
    },
    {
     "name": "stderr",
     "output_type": "stream",
     "text": [
      "c:\\users\\iqm\\pyepr\\pyEPR\\core_distributed_analysis.py:1307: FutureWarning: The series.append method is deprecated and will be removed from pandas in a future version. Use pandas.concat instead.\n",
      "  sol = sol.append(self.get_Qdielectric(\n",
      "c:\\users\\iqm\\pyepr\\pyEPR\\project_info.py:239: FutureWarning: The default dtype for empty Series will be 'object' instead of 'float64' in a future version. Specify a dtype explicitly to silence this warning.\n",
      "  options=pd.Series(get_instance_vars(self.options)),\n"
     ]
    },
    {
     "name": "stdout",
     "output_type": "stream",
     "text": [
      "\n",
      "Variation 2  [3/6]\n"
     ]
    },
    {
     "name": "stderr",
     "output_type": "stream",
     "text": [
      "c:\\users\\iqm\\pyepr\\pyEPR\\core_distributed_analysis.py:1101: FutureWarning: The default dtype for empty Series will be 'object' instead of 'float64' in a future version. Specify a dtype explicitly to silence this warning.\n",
      "  Ljs = pd.Series({})\n",
      "c:\\users\\iqm\\pyepr\\pyEPR\\core_distributed_analysis.py:1102: FutureWarning: The default dtype for empty Series will be 'object' instead of 'float64' in a future version. Specify a dtype explicitly to silence this warning.\n",
      "  Cjs = pd.Series({})\n",
      "c:\\users\\iqm\\pyepr\\pyEPR\\core_distributed_analysis.py:1245: FutureWarning: The default dtype for empty Series will be 'object' instead of 'float64' in a future version. Specify a dtype explicitly to silence this warning.\n",
      "  _Om = pd.Series({})\n"
     ]
    },
    {
     "name": "stdout",
     "output_type": "stream",
     "text": [
      "\n",
      "  \u001b[1mMode 0 at 3.40 GHz   [1/2]\u001b[0m\n",
      "    Calculating ℰ_magnetic,ℰ_electric\n",
      "       (ℰ_E-ℰ_H)/ℰ_E       ℰ_E       ℰ_H\n",
      "               99.5%  2.484e-26 1.129e-28\n",
      "\n",
      "    Calculating junction energy participation ration (EPR)\n",
      "\tmethod=`line_voltage`. First estimates:\n",
      "\tjunction        EPR p_0j   sign s_0j    (p_capacitive)\n"
     ]
    },
    {
     "name": "stderr",
     "output_type": "stream",
     "text": [
      "c:\\users\\iqm\\pyepr\\pyEPR\\core_distributed_analysis.py:981: FutureWarning: The default dtype for empty Series will be 'object' instead of 'float64' in a future version. Specify a dtype explicitly to silence this warning.\n",
      "  Sj = pd.Series({})\n"
     ]
    },
    {
     "name": "stdout",
     "output_type": "stream",
     "text": [
      "\t\tEnergy fraction (Lj over Lj&Cj)= 98.82%\n",
      "\tj7              0.000297284  (+)        3.53516e-06\n",
      "\t\tEnergy fraction (Lj over Lj&Cj)= 98.78%\n",
      "\tj8              0.994419  (+)         0.01228\n",
      "\t\tEnergy fraction (Lj over Lj&Cj)= 98.78%\n",
      "\tj9              0.000302506  (+)        3.73561e-06\n",
      "\t\t(U_tot_cap-U_tot_ind)/mean=0.63%\n",
      "Calculating Qdielectric_Substrate for mode 0 (0/1)\n"
     ]
    },
    {
     "name": "stderr",
     "output_type": "stream",
     "text": [
      "c:\\users\\iqm\\pyepr\\pyEPR\\core_distributed_analysis.py:933: FutureWarning: The default dtype for empty Series will be 'object' instead of 'float64' in a future version. Specify a dtype explicitly to silence this warning.\n",
      "  Qp = pd.Series({})\n"
     ]
    },
    {
     "name": "stdout",
     "output_type": "stream",
     "text": [
      "p_dielectric_Substrate_0 = 0.9181298838419443\n"
     ]
    },
    {
     "name": "stderr",
     "output_type": "stream",
     "text": [
      "c:\\users\\iqm\\pyepr\\pyEPR\\core_distributed_analysis.py:1307: FutureWarning: The series.append method is deprecated and will be removed from pandas in a future version. Use pandas.concat instead.\n",
      "  sol = sol.append(self.get_Qdielectric(\n",
      "c:\\users\\iqm\\pyepr\\pyEPR\\core_distributed_analysis.py:1245: FutureWarning: The default dtype for empty Series will be 'object' instead of 'float64' in a future version. Specify a dtype explicitly to silence this warning.\n",
      "  _Om = pd.Series({})\n"
     ]
    },
    {
     "name": "stdout",
     "output_type": "stream",
     "text": [
      "\n",
      "  \u001b[1mMode 1 at 4.93 GHz   [2/2]\u001b[0m\n",
      "    Calculating ℰ_magnetic,ℰ_electric\n",
      "       (ℰ_E-ℰ_H)/ℰ_E       ℰ_E       ℰ_H\n",
      "               99.3%   1.02e-25 6.937e-28\n",
      "\n",
      "    Calculating junction energy participation ration (EPR)\n",
      "\tmethod=`line_voltage`. First estimates:\n",
      "\tjunction        EPR p_1j   sign s_1j    (p_capacitive)\n"
     ]
    },
    {
     "name": "stderr",
     "output_type": "stream",
     "text": [
      "c:\\users\\iqm\\pyepr\\pyEPR\\core_distributed_analysis.py:981: FutureWarning: The default dtype for empty Series will be 'object' instead of 'float64' in a future version. Specify a dtype explicitly to silence this warning.\n",
      "  Sj = pd.Series({})\n"
     ]
    },
    {
     "name": "stdout",
     "output_type": "stream",
     "text": [
      "\t\tEnergy fraction (Lj over Lj&Cj)= 97.56%\n",
      "\tj7              0.985983  (+)        0.0246293\n",
      "\t\tEnergy fraction (Lj over Lj&Cj)= 97.47%\n",
      "\tj8              0.000240628  (+)        6.24193e-06\n",
      "\t\tEnergy fraction (Lj over Lj&Cj)= 97.47%\n",
      "\tj9              0.00715708  (+)        0.000185656\n",
      "\t\t(U_tot_cap-U_tot_ind)/mean=1.22%\n",
      "Calculating Qdielectric_Substrate for mode 1 (1/1)\n"
     ]
    },
    {
     "name": "stderr",
     "output_type": "stream",
     "text": [
      "c:\\users\\iqm\\pyepr\\pyEPR\\core_distributed_analysis.py:933: FutureWarning: The default dtype for empty Series will be 'object' instead of 'float64' in a future version. Specify a dtype explicitly to silence this warning.\n",
      "  Qp = pd.Series({})\n"
     ]
    },
    {
     "name": "stdout",
     "output_type": "stream",
     "text": [
      "p_dielectric_Substrate_1 = 0.9167137650799908\n"
     ]
    },
    {
     "name": "stderr",
     "output_type": "stream",
     "text": [
      "c:\\users\\iqm\\pyepr\\pyEPR\\core_distributed_analysis.py:1307: FutureWarning: The series.append method is deprecated and will be removed from pandas in a future version. Use pandas.concat instead.\n",
      "  sol = sol.append(self.get_Qdielectric(\n",
      "c:\\users\\iqm\\pyepr\\pyEPR\\project_info.py:239: FutureWarning: The default dtype for empty Series will be 'object' instead of 'float64' in a future version. Specify a dtype explicitly to silence this warning.\n",
      "  options=pd.Series(get_instance_vars(self.options)),\n"
     ]
    },
    {
     "name": "stdout",
     "output_type": "stream",
     "text": [
      "\n",
      "Variation 3  [4/6]\n"
     ]
    },
    {
     "name": "stderr",
     "output_type": "stream",
     "text": [
      "c:\\users\\iqm\\pyepr\\pyEPR\\core_distributed_analysis.py:1101: FutureWarning: The default dtype for empty Series will be 'object' instead of 'float64' in a future version. Specify a dtype explicitly to silence this warning.\n",
      "  Ljs = pd.Series({})\n",
      "c:\\users\\iqm\\pyepr\\pyEPR\\core_distributed_analysis.py:1102: FutureWarning: The default dtype for empty Series will be 'object' instead of 'float64' in a future version. Specify a dtype explicitly to silence this warning.\n",
      "  Cjs = pd.Series({})\n",
      "c:\\users\\iqm\\pyepr\\pyEPR\\core_distributed_analysis.py:1245: FutureWarning: The default dtype for empty Series will be 'object' instead of 'float64' in a future version. Specify a dtype explicitly to silence this warning.\n",
      "  _Om = pd.Series({})\n"
     ]
    },
    {
     "name": "stdout",
     "output_type": "stream",
     "text": [
      "\n",
      "  \u001b[1mMode 0 at 3.40 GHz   [1/2]\u001b[0m\n",
      "    Calculating ℰ_magnetic,ℰ_electric\n",
      "       (ℰ_E-ℰ_H)/ℰ_E       ℰ_E       ℰ_H\n",
      "               99.5%  2.484e-26 1.129e-28\n",
      "\n",
      "    Calculating junction energy participation ration (EPR)\n",
      "\tmethod=`line_voltage`. First estimates:\n",
      "\tjunction        EPR p_0j   sign s_0j    (p_capacitive)\n"
     ]
    },
    {
     "name": "stderr",
     "output_type": "stream",
     "text": [
      "c:\\users\\iqm\\pyepr\\pyEPR\\core_distributed_analysis.py:981: FutureWarning: The default dtype for empty Series will be 'object' instead of 'float64' in a future version. Specify a dtype explicitly to silence this warning.\n",
      "  Sj = pd.Series({})\n"
     ]
    },
    {
     "name": "stdout",
     "output_type": "stream",
     "text": [
      "\t\tEnergy fraction (Lj over Lj&Cj)= 98.81%\n",
      "\tj7              0.000310412  (+)        3.74805e-06\n",
      "\t\tEnergy fraction (Lj over Lj&Cj)= 98.78%\n",
      "\tj8              0.994406  (+)        0.0122798\n",
      "\t\tEnergy fraction (Lj over Lj&Cj)= 98.78%\n",
      "\tj9              0.00030249  (+)        3.7354e-06\n",
      "\t\t(U_tot_cap-U_tot_ind)/mean=0.63%\n",
      "Calculating Qdielectric_Substrate for mode 0 (0/1)\n"
     ]
    },
    {
     "name": "stderr",
     "output_type": "stream",
     "text": [
      "c:\\users\\iqm\\pyepr\\pyEPR\\core_distributed_analysis.py:933: FutureWarning: The default dtype for empty Series will be 'object' instead of 'float64' in a future version. Specify a dtype explicitly to silence this warning.\n",
      "  Qp = pd.Series({})\n"
     ]
    },
    {
     "name": "stdout",
     "output_type": "stream",
     "text": [
      "p_dielectric_Substrate_0 = 0.9181298642908986\n"
     ]
    },
    {
     "name": "stderr",
     "output_type": "stream",
     "text": [
      "c:\\users\\iqm\\pyepr\\pyEPR\\core_distributed_analysis.py:1307: FutureWarning: The series.append method is deprecated and will be removed from pandas in a future version. Use pandas.concat instead.\n",
      "  sol = sol.append(self.get_Qdielectric(\n",
      "c:\\users\\iqm\\pyepr\\pyEPR\\core_distributed_analysis.py:1245: FutureWarning: The default dtype for empty Series will be 'object' instead of 'float64' in a future version. Specify a dtype explicitly to silence this warning.\n",
      "  _Om = pd.Series({})\n"
     ]
    },
    {
     "name": "stdout",
     "output_type": "stream",
     "text": [
      "\n",
      "  \u001b[1mMode 1 at 4.90 GHz   [2/2]\u001b[0m\n",
      "    Calculating ℰ_magnetic,ℰ_electric\n",
      "       (ℰ_E-ℰ_H)/ℰ_E       ℰ_E       ℰ_H\n",
      "               99.3%  1.013e-25 6.798e-28\n",
      "\n",
      "    Calculating junction energy participation ration (EPR)\n",
      "\tmethod=`line_voltage`. First estimates:\n",
      "\tjunction        EPR p_1j   sign s_1j    (p_capacitive)\n"
     ]
    },
    {
     "name": "stderr",
     "output_type": "stream",
     "text": [
      "c:\\users\\iqm\\pyepr\\pyEPR\\core_distributed_analysis.py:981: FutureWarning: The default dtype for empty Series will be 'object' instead of 'float64' in a future version. Specify a dtype explicitly to silence this warning.\n",
      "  Sj = pd.Series({})\n"
     ]
    },
    {
     "name": "stdout",
     "output_type": "stream",
     "text": [
      "\t\tEnergy fraction (Lj over Lj&Cj)= 97.56%\n",
      "\tj7              0.992318  (+)        0.0247911\n",
      "\t\tEnergy fraction (Lj over Lj&Cj)= 97.51%\n",
      "\tj8              0.000285393  (+)        7.29204e-06\n",
      "\t\tEnergy fraction (Lj over Lj&Cj)= 97.51%\n",
      "\tj9              0.000871822  (+)        2.22758e-05\n",
      "\t\t(U_tot_cap-U_tot_ind)/mean=1.22%\n",
      "Calculating Qdielectric_Substrate for mode 1 (1/1)\n"
     ]
    },
    {
     "name": "stderr",
     "output_type": "stream",
     "text": [
      "c:\\users\\iqm\\pyepr\\pyEPR\\core_distributed_analysis.py:933: FutureWarning: The default dtype for empty Series will be 'object' instead of 'float64' in a future version. Specify a dtype explicitly to silence this warning.\n",
      "  Qp = pd.Series({})\n"
     ]
    },
    {
     "name": "stdout",
     "output_type": "stream",
     "text": [
      "p_dielectric_Substrate_1 = 0.9166997091640486\n"
     ]
    },
    {
     "name": "stderr",
     "output_type": "stream",
     "text": [
      "c:\\users\\iqm\\pyepr\\pyEPR\\core_distributed_analysis.py:1307: FutureWarning: The series.append method is deprecated and will be removed from pandas in a future version. Use pandas.concat instead.\n",
      "  sol = sol.append(self.get_Qdielectric(\n",
      "c:\\users\\iqm\\pyepr\\pyEPR\\project_info.py:239: FutureWarning: The default dtype for empty Series will be 'object' instead of 'float64' in a future version. Specify a dtype explicitly to silence this warning.\n",
      "  options=pd.Series(get_instance_vars(self.options)),\n"
     ]
    },
    {
     "name": "stdout",
     "output_type": "stream",
     "text": [
      "\n",
      "Variation 4  [5/6]\n"
     ]
    },
    {
     "name": "stderr",
     "output_type": "stream",
     "text": [
      "c:\\users\\iqm\\pyepr\\pyEPR\\core_distributed_analysis.py:1101: FutureWarning: The default dtype for empty Series will be 'object' instead of 'float64' in a future version. Specify a dtype explicitly to silence this warning.\n",
      "  Ljs = pd.Series({})\n",
      "c:\\users\\iqm\\pyepr\\pyEPR\\core_distributed_analysis.py:1102: FutureWarning: The default dtype for empty Series will be 'object' instead of 'float64' in a future version. Specify a dtype explicitly to silence this warning.\n",
      "  Cjs = pd.Series({})\n",
      "c:\\users\\iqm\\pyepr\\pyEPR\\core_distributed_analysis.py:1245: FutureWarning: The default dtype for empty Series will be 'object' instead of 'float64' in a future version. Specify a dtype explicitly to silence this warning.\n",
      "  _Om = pd.Series({})\n"
     ]
    },
    {
     "name": "stdout",
     "output_type": "stream",
     "text": [
      "\n",
      "  \u001b[1mMode 0 at 3.40 GHz   [1/2]\u001b[0m\n",
      "    Calculating ℰ_magnetic,ℰ_electric\n",
      "       (ℰ_E-ℰ_H)/ℰ_E       ℰ_E       ℰ_H\n",
      "               99.5%  2.484e-26 1.129e-28\n",
      "\n",
      "    Calculating junction energy participation ration (EPR)\n",
      "\tmethod=`line_voltage`. First estimates:\n",
      "\tjunction        EPR p_0j   sign s_0j    (p_capacitive)\n"
     ]
    },
    {
     "name": "stderr",
     "output_type": "stream",
     "text": [
      "c:\\users\\iqm\\pyepr\\pyEPR\\core_distributed_analysis.py:981: FutureWarning: The default dtype for empty Series will be 'object' instead of 'float64' in a future version. Specify a dtype explicitly to silence this warning.\n",
      "  Sj = pd.Series({})\n"
     ]
    },
    {
     "name": "stdout",
     "output_type": "stream",
     "text": [
      "\t\tEnergy fraction (Lj over Lj&Cj)= 98.79%\n",
      "\tj7              0.000324174  (+)        3.9735e-06\n",
      "\t\tEnergy fraction (Lj over Lj&Cj)= 98.78%\n",
      "\tj8              0.994392  (+)        0.0122795\n",
      "\t\tEnergy fraction (Lj over Lj&Cj)= 98.78%\n",
      "\tj9              0.000302474  (+)        3.73519e-06\n",
      "\t\t(U_tot_cap-U_tot_ind)/mean=0.63%\n",
      "Calculating Qdielectric_Substrate for mode 0 (0/1)\n"
     ]
    },
    {
     "name": "stderr",
     "output_type": "stream",
     "text": [
      "c:\\users\\iqm\\pyepr\\pyEPR\\core_distributed_analysis.py:933: FutureWarning: The default dtype for empty Series will be 'object' instead of 'float64' in a future version. Specify a dtype explicitly to silence this warning.\n",
      "  Qp = pd.Series({})\n"
     ]
    },
    {
     "name": "stdout",
     "output_type": "stream",
     "text": [
      "p_dielectric_Substrate_0 = 0.9181298437354818\n"
     ]
    },
    {
     "name": "stderr",
     "output_type": "stream",
     "text": [
      "c:\\users\\iqm\\pyepr\\pyEPR\\core_distributed_analysis.py:1307: FutureWarning: The series.append method is deprecated and will be removed from pandas in a future version. Use pandas.concat instead.\n",
      "  sol = sol.append(self.get_Qdielectric(\n",
      "c:\\users\\iqm\\pyepr\\pyEPR\\core_distributed_analysis.py:1245: FutureWarning: The default dtype for empty Series will be 'object' instead of 'float64' in a future version. Specify a dtype explicitly to silence this warning.\n",
      "  _Om = pd.Series({})\n"
     ]
    },
    {
     "name": "stdout",
     "output_type": "stream",
     "text": [
      "\n",
      "  \u001b[1mMode 1 at 4.86 GHz   [2/2]\u001b[0m\n",
      "    Calculating ℰ_magnetic,ℰ_electric\n",
      "       (ℰ_E-ℰ_H)/ℰ_E       ℰ_E       ℰ_H\n",
      "               99.3%  1.013e-25 6.696e-28\n",
      "\n",
      "    Calculating junction energy participation ration (EPR)\n",
      "\tmethod=`line_voltage`. First estimates:\n",
      "\tjunction        EPR p_1j   sign s_1j    (p_capacitive)\n"
     ]
    },
    {
     "name": "stderr",
     "output_type": "stream",
     "text": [
      "c:\\users\\iqm\\pyepr\\pyEPR\\core_distributed_analysis.py:981: FutureWarning: The default dtype for empty Series will be 'object' instead of 'float64' in a future version. Specify a dtype explicitly to silence this warning.\n",
      "  Sj = pd.Series({})\n"
     ]
    },
    {
     "name": "stdout",
     "output_type": "stream",
     "text": [
      "\t\tEnergy fraction (Lj over Lj&Cj)= 97.56%\n",
      "\tj7              0.992941  (+)        0.0248095\n",
      "\t\tEnergy fraction (Lj over Lj&Cj)= 97.54%\n",
      "\tj8              0.000305662  (+)        7.69423e-06\n",
      "\t\tEnergy fraction (Lj over Lj&Cj)= 97.54%\n",
      "\tj9              0.000327372  (+)        8.24072e-06\n",
      "\t\t(U_tot_cap-U_tot_ind)/mean=1.22%\n",
      "Calculating Qdielectric_Substrate for mode 1 (1/1)\n"
     ]
    },
    {
     "name": "stderr",
     "output_type": "stream",
     "text": [
      "c:\\users\\iqm\\pyepr\\pyEPR\\core_distributed_analysis.py:933: FutureWarning: The default dtype for empty Series will be 'object' instead of 'float64' in a future version. Specify a dtype explicitly to silence this warning.\n",
      "  Qp = pd.Series({})\n"
     ]
    },
    {
     "name": "stdout",
     "output_type": "stream",
     "text": [
      "p_dielectric_Substrate_1 = 0.9166984712094026\n"
     ]
    },
    {
     "name": "stderr",
     "output_type": "stream",
     "text": [
      "c:\\users\\iqm\\pyepr\\pyEPR\\core_distributed_analysis.py:1307: FutureWarning: The series.append method is deprecated and will be removed from pandas in a future version. Use pandas.concat instead.\n",
      "  sol = sol.append(self.get_Qdielectric(\n",
      "c:\\users\\iqm\\pyepr\\pyEPR\\project_info.py:239: FutureWarning: The default dtype for empty Series will be 'object' instead of 'float64' in a future version. Specify a dtype explicitly to silence this warning.\n",
      "  options=pd.Series(get_instance_vars(self.options)),\n"
     ]
    },
    {
     "name": "stdout",
     "output_type": "stream",
     "text": [
      "\n",
      "Variation 5  [6/6]\n"
     ]
    },
    {
     "name": "stderr",
     "output_type": "stream",
     "text": [
      "c:\\users\\iqm\\pyepr\\pyEPR\\core_distributed_analysis.py:1101: FutureWarning: The default dtype for empty Series will be 'object' instead of 'float64' in a future version. Specify a dtype explicitly to silence this warning.\n",
      "  Ljs = pd.Series({})\n",
      "c:\\users\\iqm\\pyepr\\pyEPR\\core_distributed_analysis.py:1102: FutureWarning: The default dtype for empty Series will be 'object' instead of 'float64' in a future version. Specify a dtype explicitly to silence this warning.\n",
      "  Cjs = pd.Series({})\n",
      "c:\\users\\iqm\\pyepr\\pyEPR\\core_distributed_analysis.py:1245: FutureWarning: The default dtype for empty Series will be 'object' instead of 'float64' in a future version. Specify a dtype explicitly to silence this warning.\n",
      "  _Om = pd.Series({})\n"
     ]
    },
    {
     "name": "stdout",
     "output_type": "stream",
     "text": [
      "\n",
      "  \u001b[1mMode 0 at 3.40 GHz   [1/2]\u001b[0m\n",
      "    Calculating ℰ_magnetic,ℰ_electric\n",
      "       (ℰ_E-ℰ_H)/ℰ_E       ℰ_E       ℰ_H\n",
      "               99.5%  2.484e-26 1.129e-28\n",
      "\n",
      "    Calculating junction energy participation ration (EPR)\n",
      "\tmethod=`line_voltage`. First estimates:\n",
      "\tjunction        EPR p_0j   sign s_0j    (p_capacitive)\n"
     ]
    },
    {
     "name": "stderr",
     "output_type": "stream",
     "text": [
      "c:\\users\\iqm\\pyepr\\pyEPR\\core_distributed_analysis.py:981: FutureWarning: The default dtype for empty Series will be 'object' instead of 'float64' in a future version. Specify a dtype explicitly to silence this warning.\n",
      "  Sj = pd.Series({})\n"
     ]
    },
    {
     "name": "stdout",
     "output_type": "stream",
     "text": [
      "\t\tEnergy fraction (Lj over Lj&Cj)= 98.77%\n",
      "\tj7              0.000338608  (+)        4.21234e-06\n",
      "\t\tEnergy fraction (Lj over Lj&Cj)= 98.78%\n",
      "\tj8              0.994378  (+)        0.0122793\n",
      "\t\tEnergy fraction (Lj over Lj&Cj)= 98.78%\n",
      "\tj9              0.000302458  (+)        3.73497e-06\n",
      "\t\t(U_tot_cap-U_tot_ind)/mean=0.63%\n",
      "Calculating Qdielectric_Substrate for mode 0 (0/1)\n"
     ]
    },
    {
     "name": "stderr",
     "output_type": "stream",
     "text": [
      "c:\\users\\iqm\\pyepr\\pyEPR\\core_distributed_analysis.py:933: FutureWarning: The default dtype for empty Series will be 'object' instead of 'float64' in a future version. Specify a dtype explicitly to silence this warning.\n",
      "  Qp = pd.Series({})\n"
     ]
    },
    {
     "name": "stdout",
     "output_type": "stream",
     "text": [
      "p_dielectric_Substrate_0 = 0.9181298222355107\n"
     ]
    },
    {
     "name": "stderr",
     "output_type": "stream",
     "text": [
      "c:\\users\\iqm\\pyepr\\pyEPR\\core_distributed_analysis.py:1307: FutureWarning: The series.append method is deprecated and will be removed from pandas in a future version. Use pandas.concat instead.\n",
      "  sol = sol.append(self.get_Qdielectric(\n",
      "c:\\users\\iqm\\pyepr\\pyEPR\\core_distributed_analysis.py:1245: FutureWarning: The default dtype for empty Series will be 'object' instead of 'float64' in a future version. Specify a dtype explicitly to silence this warning.\n",
      "  _Om = pd.Series({})\n"
     ]
    },
    {
     "name": "stdout",
     "output_type": "stream",
     "text": [
      "\n",
      "  \u001b[1mMode 1 at 4.82 GHz   [2/2]\u001b[0m\n",
      "    Calculating ℰ_magnetic,ℰ_electric\n",
      "       (ℰ_E-ℰ_H)/ℰ_E       ℰ_E       ℰ_H\n",
      "               99.3%  1.013e-25 6.598e-28\n",
      "\n",
      "    Calculating junction energy participation ration (EPR)\n",
      "\tmethod=`line_voltage`. First estimates:\n",
      "\tjunction        EPR p_1j   sign s_1j    (p_capacitive)\n"
     ]
    },
    {
     "name": "stderr",
     "output_type": "stream",
     "text": [
      "c:\\users\\iqm\\pyepr\\pyEPR\\core_distributed_analysis.py:981: FutureWarning: The default dtype for empty Series will be 'object' instead of 'float64' in a future version. Specify a dtype explicitly to silence this warning.\n",
      "  Sj = pd.Series({})\n"
     ]
    },
    {
     "name": "stdout",
     "output_type": "stream",
     "text": [
      "\t\tEnergy fraction (Lj over Lj&Cj)= 97.56%\n",
      "\tj7              0.993175  (+)        0.0248179\n",
      "\t\tEnergy fraction (Lj over Lj&Cj)= 97.58%\n",
      "\tj8              0.000322833  (+)        8.0078e-06\n",
      "\t\tEnergy fraction (Lj over Lj&Cj)= 97.58%\n",
      "\tj9              0.000173197  (+)        4.29611e-06\n",
      "\t\t(U_tot_cap-U_tot_ind)/mean=1.22%\n",
      "Calculating Qdielectric_Substrate for mode 1 (1/1)\n"
     ]
    },
    {
     "name": "stderr",
     "output_type": "stream",
     "text": [
      "c:\\users\\iqm\\pyepr\\pyEPR\\core_distributed_analysis.py:933: FutureWarning: The default dtype for empty Series will be 'object' instead of 'float64' in a future version. Specify a dtype explicitly to silence this warning.\n",
      "  Qp = pd.Series({})\n"
     ]
    },
    {
     "name": "stdout",
     "output_type": "stream",
     "text": [
      "p_dielectric_Substrate_1 = 0.9166979851895489\n"
     ]
    },
    {
     "name": "stderr",
     "output_type": "stream",
     "text": [
      "c:\\users\\iqm\\pyepr\\pyEPR\\core_distributed_analysis.py:1307: FutureWarning: The series.append method is deprecated and will be removed from pandas in a future version. Use pandas.concat instead.\n",
      "  sol = sol.append(self.get_Qdielectric(\n"
     ]
    },
    {
     "name": "stdout",
     "output_type": "stream",
     "text": [
      "\n",
      "ANALYSIS DONE. Data saved to:\n",
      "\n",
      "C:\\data-pyEPR\\three_coupled_xmons_project\\HFSSDesign1\\2022-08-10 18-48-00.npz\n",
      "\n",
      "\n"
     ]
    },
    {
     "name": "stderr",
     "output_type": "stream",
     "text": [
      "c:\\users\\iqm\\pyepr\\pyEPR\\project_info.py:239: FutureWarning: The default dtype for empty Series will be 'object' instead of 'float64' in a future version. Specify a dtype explicitly to silence this warning.\n",
      "  options=pd.Series(get_instance_vars(self.options)),\n"
     ]
    },
    {
     "data": {
      "text/plain": [
       "(WindowsPath('C:/data-pyEPR/three_coupled_xmons_project/HFSSDesign1/2022-08-10 18-48-00.npz'),\n",
       " ['0', '1', '2', '3', '4', '5'])"
      ]
     },
     "execution_count": 15,
     "metadata": {},
     "output_type": "execute_result"
    }
   ],
   "source": [
    "eprh.do_EPR_analysis()"
   ]
  },
  {
   "cell_type": "markdown",
   "id": "e09f6399-8c19-4ac9-8186-1726d34d9d51",
   "metadata": {},
   "source": [
    "#### Show Q factors\n",
    "…if dissipation was modelled"
   ]
  },
  {
   "cell_type": "code",
   "execution_count": 16,
   "id": "7c725c95-158f-4084-a50e-f311a77cd7c3",
   "metadata": {},
   "outputs": [
    {
     "data": {
      "text/html": [
       "<div>\n",
       "<style scoped>\n",
       "    .dataframe tbody tr th:only-of-type {\n",
       "        vertical-align: middle;\n",
       "    }\n",
       "\n",
       "    .dataframe tbody tr th {\n",
       "        vertical-align: top;\n",
       "    }\n",
       "\n",
       "    .dataframe thead th {\n",
       "        text-align: right;\n",
       "    }\n",
       "</style>\n",
       "<table border=\"1\" class=\"dataframe\">\n",
       "  <thead>\n",
       "    <tr style=\"text-align: right;\">\n",
       "      <th></th>\n",
       "      <th>Freq. (GHz)</th>\n",
       "      <th>Quality Factor</th>\n",
       "    </tr>\n",
       "  </thead>\n",
       "  <tbody>\n",
       "    <tr>\n",
       "      <th>0</th>\n",
       "      <td>3.411559</td>\n",
       "      <td>1.089575e+06</td>\n",
       "    </tr>\n",
       "    <tr>\n",
       "      <th>1</th>\n",
       "      <td>4.934170</td>\n",
       "      <td>1.089626e+06</td>\n",
       "    </tr>\n",
       "  </tbody>\n",
       "</table>\n",
       "</div>"
      ],
      "text/plain": [
       "   Freq. (GHz)  Quality Factor\n",
       "0     3.411559    1.089575e+06\n",
       "1     4.934170    1.089626e+06"
      ]
     },
     "metadata": {},
     "output_type": "display_data"
    },
    {
     "data": {
      "text/html": [
       "<div>\n",
       "<style scoped>\n",
       "    .dataframe tbody tr th:only-of-type {\n",
       "        vertical-align: middle;\n",
       "    }\n",
       "\n",
       "    .dataframe tbody tr th {\n",
       "        vertical-align: top;\n",
       "    }\n",
       "\n",
       "    .dataframe thead th {\n",
       "        text-align: right;\n",
       "    }\n",
       "</style>\n",
       "<table border=\"1\" class=\"dataframe\">\n",
       "  <thead>\n",
       "    <tr style=\"text-align: right;\">\n",
       "      <th></th>\n",
       "      <th>Freq. (GHz)</th>\n",
       "      <th>Quality Factor</th>\n",
       "    </tr>\n",
       "  </thead>\n",
       "  <tbody>\n",
       "    <tr>\n",
       "      <th>0</th>\n",
       "      <td>3.403715</td>\n",
       "      <td>1.089840e+06</td>\n",
       "    </tr>\n",
       "    <tr>\n",
       "      <th>1</th>\n",
       "      <td>4.952685</td>\n",
       "      <td>1.089333e+06</td>\n",
       "    </tr>\n",
       "  </tbody>\n",
       "</table>\n",
       "</div>"
      ],
      "text/plain": [
       "   Freq. (GHz)  Quality Factor\n",
       "0     3.403715    1.089840e+06\n",
       "1     4.952685    1.089333e+06"
      ]
     },
     "metadata": {},
     "output_type": "display_data"
    }
   ],
   "source": [
    "for variation in eprh.variations[:2]: # just for the first 2\n",
    "    Fs, Qs = eprh.get_freqs_bare_pd(variation=variation, frame=False)\n",
    "    display(pd.DataFrame({'Freq. (GHz)': Fs, 'Quality Factor': Qs}))"
   ]
  },
  {
   "cell_type": "markdown",
   "id": "9d0fb29b-55d1-4b7d-9c1e-67ca0611c9bc",
   "metadata": {},
   "source": [
    "## Post processing\n",
    "This shouldn't need Ansys anymore.\n",
    "\n",
    "Check [pyEPR.calcs.back_box_numeric module](https://pyepr-docs.readthedocs.io/en/latest/api/pyEPR.calcs.back_box_numeric.html) for detailed info on Hamiltonian, Kerr etc."
   ]
  },
  {
   "cell_type": "code",
   "execution_count": 17,
   "id": "d9b9cc95-82f9-4d98-827a-fb7da98560f7",
   "metadata": {
    "tags": []
   },
   "outputs": [
    {
     "name": "stdout",
     "output_type": "stream",
     "text": [
      "\t Differences in variations:\n"
     ]
    },
    {
     "data": {
      "text/html": [
       "<div>\n",
       "<style scoped>\n",
       "    .dataframe tbody tr th:only-of-type {\n",
       "        vertical-align: middle;\n",
       "    }\n",
       "\n",
       "    .dataframe tbody tr th {\n",
       "        vertical-align: top;\n",
       "    }\n",
       "\n",
       "    .dataframe thead th {\n",
       "        text-align: right;\n",
       "    }\n",
       "</style>\n",
       "<table border=\"1\" class=\"dataframe\">\n",
       "  <thead>\n",
       "    <tr style=\"text-align: right;\">\n",
       "      <th>variation</th>\n",
       "      <th>0</th>\n",
       "      <th>1</th>\n",
       "      <th>2</th>\n",
       "      <th>3</th>\n",
       "      <th>4</th>\n",
       "      <th>5</th>\n",
       "    </tr>\n",
       "  </thead>\n",
       "  <tbody>\n",
       "    <tr>\n",
       "      <th>_Lj_7</th>\n",
       "      <td>1.35e-08H</td>\n",
       "      <td>1.28e-08H</td>\n",
       "      <td>1.3000000000000001e-08H</td>\n",
       "      <td>1.3200000000000001e-08H</td>\n",
       "      <td>1.3399999999999999e-08H</td>\n",
       "      <td>1.3599999999999999e-08H</td>\n",
       "    </tr>\n",
       "  </tbody>\n",
       "</table>\n",
       "</div>"
      ],
      "text/plain": [
       "variation          0          1                        2  \\\n",
       "_Lj_7      1.35e-08H  1.28e-08H  1.3000000000000001e-08H   \n",
       "\n",
       "variation                        3                        4  \\\n",
       "_Lj_7      1.3200000000000001e-08H  1.3399999999999999e-08H   \n",
       "\n",
       "variation                        5  \n",
       "_Lj_7      1.3599999999999999e-08H  "
      ]
     },
     "metadata": {},
     "output_type": "display_data"
    },
    {
     "name": "stdout",
     "output_type": "stream",
     "text": [
      "\n",
      "\n",
      "\n",
      " . . . . . . . . . . . . . . . . . . . . . . . . . . . . . . . . . . . . . . . . \n",
      "Variation 0\n",
      "\n",
      "Pm_norm=\n",
      "modes\n",
      "0    1.012813\n",
      "1    1.025581\n",
      "dtype: float64\n",
      "\n",
      "Pm_norm idx =\n",
      "      j7     j8     j9\n",
      "0  False   True  False\n",
      "1  False  False   True\n",
      "\n",
      "*** Different parameters\n"
     ]
    },
    {
     "name": "stderr",
     "output_type": "stream",
     "text": [
      "c:\\users\\iqm\\pyepr\\pyEPR\\core_quantum_analysis.py:693: FutureWarning: The default dtype for empty Series will be 'object' instead of 'float64' in a future version. Specify a dtype explicitly to silence this warning.\n",
      "  result['f_ND'] = pd.Series(f1_ND)*1E-6  # MHz\n",
      "c:\\users\\iqm\\pyepr\\pyEPR\\core_quantum_analysis.py:712: FutureWarning: Support for multi-dimensional indexing (e.g. `obj[:, None]`) is deprecated and will be removed in a future version.  Convert to a numpy array before indexing instead.\n",
      "  result['Q_coupling'] = self.Qm_coupling[variation][self.Qm_coupling[variation].columns[junctions]][modes]#TODO change the columns to junctions\n",
      "c:\\users\\iqm\\pyepr\\pyEPR\\core_quantum_analysis.py:717: FutureWarning: Support for multi-dimensional indexing (e.g. `obj[:, None]`) is deprecated and will be removed in a future version.  Convert to a numpy array before indexing instead.\n",
      "  result['Qs'] = self.Qs[variation][self.PM[variation].columns[junctions]][modes] #TODO change the columns to junctions\n"
     ]
    },
    {
     "data": {
      "text/plain": [
       "_Lj_7    1.35e-08H\n",
       "Name: 0, dtype: object"
      ]
     },
     "metadata": {},
     "output_type": "display_data"
    },
    {
     "name": "stdout",
     "output_type": "stream",
     "text": [
      "\n",
      "\n",
      "*** P (participation matrix, not normlz.)\n",
      "         j7        j8        j9\n",
      "0  0.000308  0.982256  0.000309\n",
      "1  0.040964  0.000178  0.927342\n",
      "\n",
      "*** S (sign-bit matrix)\n",
      "   s_j7  s_j8  s_j9\n",
      "0    -1     1    -1\n",
      "1    -1     1     1\n",
      "*** P (participation matrix, normalized.)\n",
      "   0.00031     0.99  0.00031\n",
      "     0.041  0.00018     0.95\n",
      "\n",
      "*** Chi matrix O1 PT (MHz)\n",
      "    Diag is anharmonicity, off diag is full cross-Kerr.\n",
      "       119    0.168\n",
      "     0.168      228\n",
      "\n",
      "*** Chi matrix ND (MHz) \n",
      "\n",
      "*** Frequencies O1 PT (MHz)\n",
      "0    3292.558441\n",
      "1    4706.323477\n",
      "dtype: float64\n",
      "\n",
      "*** Frequencies ND (MHz)\n",
      "Series([], dtype: float64)\n",
      "\n",
      "*** Q_coupling\n",
      "Empty DataFrame\n",
      "Columns: []\n",
      "Index: [0, 1]\n",
      "\n",
      " . . . . . . . . . . . . . . . . . . . . . . . . . . . . . . . . . . . . . . . . \n",
      "Variation 1\n",
      "\n",
      "Pm_norm=\n",
      "modes\n",
      "0    1.012759\n",
      "1    1.025797\n",
      "dtype: float64\n"
     ]
    },
    {
     "name": "stderr",
     "output_type": "stream",
     "text": [
      "c:\\users\\iqm\\pyepr\\pyEPR\\core_quantum_analysis.py:693: FutureWarning: The default dtype for empty Series will be 'object' instead of 'float64' in a future version. Specify a dtype explicitly to silence this warning.\n",
      "  result['f_ND'] = pd.Series(f1_ND)*1E-6  # MHz\n",
      "c:\\users\\iqm\\pyepr\\pyEPR\\core_quantum_analysis.py:712: FutureWarning: Support for multi-dimensional indexing (e.g. `obj[:, None]`) is deprecated and will be removed in a future version.  Convert to a numpy array before indexing instead.\n",
      "  result['Q_coupling'] = self.Qm_coupling[variation][self.Qm_coupling[variation].columns[junctions]][modes]#TODO change the columns to junctions\n"
     ]
    },
    {
     "name": "stdout",
     "output_type": "stream",
     "text": [
      "\n",
      "Pm_norm idx =\n",
      "      j7     j8     j9\n",
      "0  False   True  False\n",
      "1  False  False   True\n",
      "\n",
      "*** Different parameters\n"
     ]
    },
    {
     "name": "stderr",
     "output_type": "stream",
     "text": [
      "c:\\users\\iqm\\pyepr\\pyEPR\\core_quantum_analysis.py:717: FutureWarning: Support for multi-dimensional indexing (e.g. `obj[:, None]`) is deprecated and will be removed in a future version.  Convert to a numpy array before indexing instead.\n",
      "  result['Qs'] = self.Qs[variation][self.PM[variation].columns[junctions]][modes] #TODO change the columns to junctions\n"
     ]
    },
    {
     "data": {
      "text/plain": [
       "_Lj_7    1.28e-08H\n",
       "Name: 1, dtype: object"
      ]
     },
     "metadata": {},
     "output_type": "display_data"
    },
    {
     "name": "stdout",
     "output_type": "stream",
     "text": [
      "\n",
      "\n",
      "*** P (participation matrix, not normlz.)\n",
      "         j7        j8        j9\n",
      "0  0.000281  0.982360  0.000299\n",
      "1  0.007690  0.000238  0.960294\n",
      "\n",
      "*** S (sign-bit matrix)\n",
      "   s_j7  s_j8  s_j9\n",
      "0    -1     1    -1\n",
      "1    -1     1     1\n",
      "*** P (participation matrix, normalized.)\n",
      "   0.00028     0.99   0.0003\n",
      "    0.0077  0.00024     0.99\n",
      "\n",
      "*** Chi matrix O1 PT (MHz)\n",
      "    Diag is anharmonicity, off diag is full cross-Kerr.\n",
      "       118    0.186\n",
      "     0.186      246\n",
      "\n",
      "*** Chi matrix ND (MHz) \n",
      "\n",
      "*** Frequencies O1 PT (MHz)\n",
      "0    3285.239658\n",
      "1    4706.857546\n",
      "dtype: float64\n",
      "\n",
      "*** Frequencies ND (MHz)\n",
      "Series([], dtype: float64)\n",
      "\n",
      "*** Q_coupling\n",
      "Empty DataFrame\n",
      "Columns: []\n",
      "Index: [0, 1]\n",
      "\n",
      " . . . . . . . . . . . . . . . . . . . . . . . . . . . . . . . . . . . . . . . . \n",
      "Variation 2\n",
      "\n",
      "Pm_norm=\n",
      "modes\n",
      "0    1.012759\n",
      "1    1.024718\n",
      "dtype: float64\n",
      "\n",
      "Pm_norm idx =\n",
      "      j7     j8     j9\n",
      "0  False   True  False\n",
      "1   True  False  False\n"
     ]
    },
    {
     "name": "stderr",
     "output_type": "stream",
     "text": [
      "c:\\users\\iqm\\pyepr\\pyEPR\\core_quantum_analysis.py:693: FutureWarning: The default dtype for empty Series will be 'object' instead of 'float64' in a future version. Specify a dtype explicitly to silence this warning.\n",
      "  result['f_ND'] = pd.Series(f1_ND)*1E-6  # MHz\n",
      "c:\\users\\iqm\\pyepr\\pyEPR\\core_quantum_analysis.py:712: FutureWarning: Support for multi-dimensional indexing (e.g. `obj[:, None]`) is deprecated and will be removed in a future version.  Convert to a numpy array before indexing instead.\n",
      "  result['Q_coupling'] = self.Qm_coupling[variation][self.Qm_coupling[variation].columns[junctions]][modes]#TODO change the columns to junctions\n"
     ]
    },
    {
     "name": "stdout",
     "output_type": "stream",
     "text": [
      "\n",
      "*** Different parameters\n"
     ]
    },
    {
     "name": "stderr",
     "output_type": "stream",
     "text": [
      "c:\\users\\iqm\\pyepr\\pyEPR\\core_quantum_analysis.py:717: FutureWarning: Support for multi-dimensional indexing (e.g. `obj[:, None]`) is deprecated and will be removed in a future version.  Convert to a numpy array before indexing instead.\n",
      "  result['Qs'] = self.Qs[variation][self.PM[variation].columns[junctions]][modes] #TODO change the columns to junctions\n"
     ]
    },
    {
     "data": {
      "text/plain": [
       "_Lj_7    1.3000000000000001e-08H\n",
       "Name: 2, dtype: object"
      ]
     },
     "metadata": {},
     "output_type": "display_data"
    },
    {
     "name": "stdout",
     "output_type": "stream",
     "text": [
      "\n",
      "\n",
      "*** P (participation matrix, not normlz.)\n",
      "         j7        j8        j9\n",
      "0  0.000294  0.982348  0.000299\n",
      "1  0.962103  0.000235  0.006984\n",
      "\n",
      "*** S (sign-bit matrix)\n",
      "   s_j7  s_j8  s_j9\n",
      "0    -1     1    -1\n",
      "1    -1    -1     1\n",
      "*** P (participation matrix, normalized.)\n",
      "   0.00029     0.99   0.0003\n",
      "      0.99  0.00023    0.007\n",
      "\n",
      "*** Chi matrix O1 PT (MHz)\n",
      "    Diag is anharmonicity, off diag is full cross-Kerr.\n",
      "       118    0.178\n",
      "     0.178      235\n",
      "\n",
      "*** Chi matrix ND (MHz) \n",
      "\n",
      "*** Frequencies O1 PT (MHz)\n",
      "0    3285.239119\n",
      "1    4697.905621\n",
      "dtype: float64\n",
      "\n",
      "*** Frequencies ND (MHz)\n",
      "Series([], dtype: float64)\n",
      "\n",
      "*** Q_coupling\n",
      "Empty DataFrame\n",
      "Columns: []\n",
      "Index: [0, 1]\n",
      "\n",
      " . . . . . . . . . . . . . . . . . . . . . . . . . . . . . . . . . . . . . . . . \n",
      "Variation 3\n",
      "\n"
     ]
    },
    {
     "name": "stderr",
     "output_type": "stream",
     "text": [
      "c:\\users\\iqm\\pyepr\\pyEPR\\core_quantum_analysis.py:693: FutureWarning: The default dtype for empty Series will be 'object' instead of 'float64' in a future version. Specify a dtype explicitly to silence this warning.\n",
      "  result['f_ND'] = pd.Series(f1_ND)*1E-6  # MHz\n"
     ]
    },
    {
     "name": "stdout",
     "output_type": "stream",
     "text": [
      "Pm_norm=\n",
      "modes\n",
      "0    1.012759\n",
      "1    1.024715\n",
      "dtype: float64\n",
      "\n",
      "Pm_norm idx =\n",
      "      j7     j8     j9\n",
      "0  False   True  False\n",
      "1   True  False  False\n",
      "\n",
      "*** Different parameters\n"
     ]
    },
    {
     "name": "stderr",
     "output_type": "stream",
     "text": [
      "c:\\users\\iqm\\pyepr\\pyEPR\\core_quantum_analysis.py:712: FutureWarning: Support for multi-dimensional indexing (e.g. `obj[:, None]`) is deprecated and will be removed in a future version.  Convert to a numpy array before indexing instead.\n",
      "  result['Q_coupling'] = self.Qm_coupling[variation][self.Qm_coupling[variation].columns[junctions]][modes]#TODO change the columns to junctions\n",
      "c:\\users\\iqm\\pyepr\\pyEPR\\core_quantum_analysis.py:717: FutureWarning: Support for multi-dimensional indexing (e.g. `obj[:, None]`) is deprecated and will be removed in a future version.  Convert to a numpy array before indexing instead.\n",
      "  result['Qs'] = self.Qs[variation][self.PM[variation].columns[junctions]][modes] #TODO change the columns to junctions\n"
     ]
    },
    {
     "data": {
      "text/plain": [
       "_Lj_7    1.3200000000000001e-08H\n",
       "Name: 3, dtype: object"
      ]
     },
     "metadata": {},
     "output_type": "display_data"
    },
    {
     "name": "stdout",
     "output_type": "stream",
     "text": [
      "\n",
      "\n",
      "*** P (participation matrix, not normlz.)\n",
      "         j7        j8        j9\n",
      "0  0.000307  0.982335  0.000299\n",
      "1  0.968285  0.000278  0.000851\n",
      "\n",
      "*** S (sign-bit matrix)\n",
      "   s_j7  s_j8  s_j9\n",
      "0    -1     1    -1\n",
      "1    -1    -1     1\n",
      "*** P (participation matrix, normalized.)\n",
      "   0.00031     0.99   0.0003\n",
      "      0.99  0.00028  0.00085\n",
      "\n",
      "*** Chi matrix O1 PT (MHz)\n",
      "    Diag is anharmonicity, off diag is full cross-Kerr.\n",
      "       118    0.198\n",
      "     0.198      238\n",
      "\n",
      "*** Chi matrix ND (MHz) \n",
      "\n",
      "*** Frequencies O1 PT (MHz)\n",
      "0    3285.225151\n",
      "1    4657.683339\n",
      "dtype: float64\n",
      "\n",
      "*** Frequencies ND (MHz)\n",
      "Series([], dtype: float64)\n",
      "\n",
      "*** Q_coupling\n",
      "Empty DataFrame\n",
      "Columns: []\n",
      "Index: [0, 1]\n",
      "\n",
      " . . . . . . . . . . . . . . . . . . . . . . . . . . . . . . . . . . . . . . . . \n",
      "Variation 4\n",
      "\n",
      "Pm_norm=\n",
      "modes\n",
      "0    1.012759\n",
      "1    1.024718\n",
      "dtype: float64\n"
     ]
    },
    {
     "name": "stderr",
     "output_type": "stream",
     "text": [
      "c:\\users\\iqm\\pyepr\\pyEPR\\core_quantum_analysis.py:693: FutureWarning: The default dtype for empty Series will be 'object' instead of 'float64' in a future version. Specify a dtype explicitly to silence this warning.\n",
      "  result['f_ND'] = pd.Series(f1_ND)*1E-6  # MHz\n"
     ]
    },
    {
     "name": "stdout",
     "output_type": "stream",
     "text": [
      "\n",
      "Pm_norm idx =\n",
      "      j7     j8     j9\n",
      "0  False   True  False\n",
      "1   True  False  False\n"
     ]
    },
    {
     "name": "stderr",
     "output_type": "stream",
     "text": [
      "c:\\users\\iqm\\pyepr\\pyEPR\\core_quantum_analysis.py:712: FutureWarning: Support for multi-dimensional indexing (e.g. `obj[:, None]`) is deprecated and will be removed in a future version.  Convert to a numpy array before indexing instead.\n",
      "  result['Q_coupling'] = self.Qm_coupling[variation][self.Qm_coupling[variation].columns[junctions]][modes]#TODO change the columns to junctions\n",
      "c:\\users\\iqm\\pyepr\\pyEPR\\core_quantum_analysis.py:717: FutureWarning: Support for multi-dimensional indexing (e.g. `obj[:, None]`) is deprecated and will be removed in a future version.  Convert to a numpy array before indexing instead.\n",
      "  result['Qs'] = self.Qs[variation][self.PM[variation].columns[junctions]][modes] #TODO change the columns to junctions\n"
     ]
    },
    {
     "name": "stdout",
     "output_type": "stream",
     "text": [
      "\n",
      "*** Different parameters\n"
     ]
    },
    {
     "data": {
      "text/plain": [
       "_Lj_7    1.3399999999999999e-08H\n",
       "Name: 4, dtype: object"
      ]
     },
     "metadata": {},
     "output_type": "display_data"
    },
    {
     "name": "stdout",
     "output_type": "stream",
     "text": [
      "\n",
      "\n",
      "*** P (participation matrix, not normlz.)\n",
      "         j7        j8        j9\n",
      "0  0.000320  0.982322  0.000299\n",
      "1  0.968888  0.000298  0.000319\n",
      "\n",
      "*** S (sign-bit matrix)\n",
      "   s_j7  s_j8  s_j9\n",
      "0    -1     1    -1\n",
      "1    -1    -1     1\n",
      "*** P (participation matrix, normalized.)\n",
      "   0.00032     0.99   0.0003\n",
      "      0.99   0.0003  0.00032\n",
      "\n",
      "*** Chi matrix O1 PT (MHz)\n",
      "    Diag is anharmonicity, off diag is full cross-Kerr.\n",
      "       118    0.209\n",
      "     0.209      239\n",
      "\n",
      "*** Chi matrix ND (MHz) \n",
      "\n",
      "*** Frequencies O1 PT (MHz)\n",
      "0    3285.215144\n",
      "1    4620.951612\n",
      "dtype: float64\n",
      "\n",
      "*** Frequencies ND (MHz)\n",
      "Series([], dtype: float64)\n",
      "\n",
      "*** Q_coupling\n",
      "Empty DataFrame\n",
      "Columns: []\n",
      "Index: [0, 1]\n",
      "\n",
      " . . . . . . . . . . . . . . . . . . . . . . . . . . . . . . . . . . . . . . . . \n",
      "Variation 5\n",
      "\n"
     ]
    },
    {
     "name": "stderr",
     "output_type": "stream",
     "text": [
      "c:\\users\\iqm\\pyepr\\pyEPR\\core_quantum_analysis.py:693: FutureWarning: The default dtype for empty Series will be 'object' instead of 'float64' in a future version. Specify a dtype explicitly to silence this warning.\n",
      "  result['f_ND'] = pd.Series(f1_ND)*1E-6  # MHz\n",
      "c:\\users\\iqm\\pyepr\\pyEPR\\core_quantum_analysis.py:712: FutureWarning: Support for multi-dimensional indexing (e.g. `obj[:, None]`) is deprecated and will be removed in a future version.  Convert to a numpy array before indexing instead.\n",
      "  result['Q_coupling'] = self.Qm_coupling[variation][self.Qm_coupling[variation].columns[junctions]][modes]#TODO change the columns to junctions\n"
     ]
    },
    {
     "name": "stdout",
     "output_type": "stream",
     "text": [
      "Pm_norm=\n",
      "modes\n",
      "0    1.012759\n",
      "1    1.024720\n",
      "dtype: float64\n",
      "\n",
      "Pm_norm idx =\n",
      "      j7     j8     j9\n",
      "0  False   True  False\n",
      "1   True  False  False\n"
     ]
    },
    {
     "name": "stderr",
     "output_type": "stream",
     "text": [
      "c:\\users\\iqm\\pyepr\\pyEPR\\core_quantum_analysis.py:717: FutureWarning: Support for multi-dimensional indexing (e.g. `obj[:, None]`) is deprecated and will be removed in a future version.  Convert to a numpy array before indexing instead.\n",
      "  result['Qs'] = self.Qs[variation][self.PM[variation].columns[junctions]][modes] #TODO change the columns to junctions\n"
     ]
    },
    {
     "name": "stdout",
     "output_type": "stream",
     "text": [
      "\n",
      "*** Different parameters\n"
     ]
    },
    {
     "data": {
      "text/plain": [
       "_Lj_7    1.3599999999999999e-08H\n",
       "Name: 5, dtype: object"
      ]
     },
     "metadata": {},
     "output_type": "display_data"
    },
    {
     "name": "stdout",
     "output_type": "stream",
     "text": [
      "\n",
      "\n",
      "*** P (participation matrix, not normlz.)\n",
      "         j7        j8        j9\n",
      "0  0.000334  0.982308  0.000299\n",
      "1  0.969112  0.000315  0.000169\n",
      "\n",
      "*** S (sign-bit matrix)\n",
      "   s_j7  s_j8  s_j9\n",
      "0    -1     1    -1\n",
      "1    -1    -1     1\n",
      "*** P (participation matrix, normalized.)\n",
      "   0.00033     0.99   0.0003\n",
      "      0.99  0.00032  0.00017\n",
      "\n",
      "*** Chi matrix O1 PT (MHz)\n",
      "    Diag is anharmonicity, off diag is full cross-Kerr.\n",
      "       118     0.22\n",
      "      0.22      239\n",
      "\n",
      "*** Chi matrix ND (MHz) \n",
      "\n",
      "*** Frequencies O1 PT (MHz)\n",
      "0    3285.205505\n",
      "1    4585.199133\n",
      "dtype: float64\n",
      "\n",
      "*** Frequencies ND (MHz)\n",
      "Series([], dtype: float64)\n",
      "\n",
      "*** Q_coupling\n",
      "Empty DataFrame\n",
      "Columns: []\n",
      "Index: [0, 1]\n"
     ]
    },
    {
     "data": {
      "text/plain": [
       "OrderedDict([('0',\n",
       "              OrderedDict([('f_0', 0    3411.559031\n",
       "                            1    4934.169785\n",
       "                            Name: 0, dtype: float64),\n",
       "                           ('f_1',\n",
       "                            0    3292.558441\n",
       "                            1    4706.323477\n",
       "                            dtype: float64),\n",
       "                           ('f_ND', Series([], dtype: float64)),\n",
       "                           ('chi_O1',\n",
       "                                       0           1\n",
       "                            0  118.91657    0.168040\n",
       "                            1    0.16804  227.762288),\n",
       "                           ('chi_ND',\n",
       "                            Empty DataFrame\n",
       "                            Columns: []\n",
       "                            Index: []),\n",
       "                           ('ZPF',\n",
       "                            array([[-0.00658359,  0.37436707, -0.00659574],\n",
       "                                   [-0.09135961,  0.00602414,  0.44020632]])),\n",
       "                           ('Pm_normed',\n",
       "                            array([[3.07669243e-04, 9.94842022e-01, 3.08805833e-04],\n",
       "                                   [4.09643539e-02, 1.78109543e-04, 9.51064997e-01]])),\n",
       "                           ('Pm_raw',\n",
       "                            0    0.000308\n",
       "                            1    0.040964\n",
       "                            Name: j7, dtype: float64),\n",
       "                           ('_Pm_norm',\n",
       "                            modes\n",
       "                            0    1.012813\n",
       "                            1    1.025581\n",
       "                            dtype: float64),\n",
       "                           ('_Pm_cap_norm',\n",
       "                            modes\n",
       "                            0    0.485481\n",
       "                            1    0.511815\n",
       "                            dtype: float64),\n",
       "                           ('hfss_variables',\n",
       "                            _Cj_7    9.9999999999999998e-17farad\n",
       "                            _Cj_8    9.9999999999999998e-17farad\n",
       "                            _Cj_9    9.9999999999999998e-17farad\n",
       "                            _Lj_7                      1.35e-08H\n",
       "                            _Lj_8                      1.35e-08H\n",
       "                            _Lj_9                      1.35e-08H\n",
       "                            Name: 0, dtype: object),\n",
       "                           ('Ljs',\n",
       "                            j7    1.350000e-08\n",
       "                            j8    1.350000e-08\n",
       "                            j9    1.350000e-08\n",
       "                            Name: 0, dtype: float64),\n",
       "                           ('Cjs',\n",
       "                            j7    2.000000e-15\n",
       "                            j8    2.000000e-15\n",
       "                            j9    2.000000e-15\n",
       "                            Name: 0, dtype: float64),\n",
       "                           ('Q_coupling',\n",
       "                            Empty DataFrame\n",
       "                            Columns: []\n",
       "                            Index: [0, 1]),\n",
       "                           ('Qs',\n",
       "                            0    1.089575e+06\n",
       "                            1    1.089626e+06\n",
       "                            Name: 0, dtype: float64),\n",
       "                           ('fock_trunc', None),\n",
       "                           ('cos_trunc', None)])),\n",
       "             ('1',\n",
       "              OrderedDict([('f_0', 0    3403.715415\n",
       "                            1    4952.684584\n",
       "                            Name: 1, dtype: float64),\n",
       "                           ('f_1',\n",
       "                            0    3285.239658\n",
       "                            1    4706.857546\n",
       "                            dtype: float64),\n",
       "                           ('f_ND', Series([], dtype: float64)),\n",
       "                           ('chi_O1',\n",
       "                                        0           1\n",
       "                            0  118.382926    0.185662\n",
       "                            1    0.185662  245.734207),\n",
       "                           ('chi_ND',\n",
       "                            Empty DataFrame\n",
       "                            Columns: []\n",
       "                            Index: []),\n",
       "                           ('ZPF',\n",
       "                            array([[-0.00612267,  0.37394636, -0.00648106],\n",
       "                                   [-0.03861464,  0.00697972,  0.44884582]])),\n",
       "                           ('Pm_normed',\n",
       "                            array([[2.81296689e-04, 9.94894713e-01, 2.98848538e-04],\n",
       "                                   [7.68951247e-03, 2.38202872e-04, 9.85066263e-01]])),\n",
       "                           ('Pm_raw',\n",
       "                            0    0.000281\n",
       "                            1    0.007690\n",
       "                            Name: j7, dtype: float64),\n",
       "                           ('_Pm_norm',\n",
       "                            modes\n",
       "                            0    1.012759\n",
       "                            1    1.025797\n",
       "                            dtype: float64),\n",
       "                           ('_Pm_cap_norm',\n",
       "                            modes\n",
       "                            0    0.485254\n",
       "                            1    0.511197\n",
       "                            dtype: float64),\n",
       "                           ('hfss_variables',\n",
       "                            _Cj_7    9.9999999999999998e-17farad\n",
       "                            _Cj_8    9.9999999999999998e-17farad\n",
       "                            _Cj_9    9.9999999999999998e-17farad\n",
       "                            _Lj_7                      1.28e-08H\n",
       "                            _Lj_8                      1.35e-08H\n",
       "                            _Lj_9                      1.35e-08H\n",
       "                            Name: 1, dtype: object),\n",
       "                           ('Ljs',\n",
       "                            j7    1.280000e-08\n",
       "                            j8    1.350000e-08\n",
       "                            j9    1.350000e-08\n",
       "                            Name: 1, dtype: float64),\n",
       "                           ('Cjs',\n",
       "                            j7    2.000000e-15\n",
       "                            j8    2.000000e-15\n",
       "                            j9    2.000000e-15\n",
       "                            Name: 1, dtype: float64),\n",
       "                           ('Q_coupling',\n",
       "                            Empty DataFrame\n",
       "                            Columns: []\n",
       "                            Index: [0, 1]),\n",
       "                           ('Qs',\n",
       "                            0    1.089840e+06\n",
       "                            1    1.089333e+06\n",
       "                            Name: 1, dtype: float64),\n",
       "                           ('fock_trunc', None),\n",
       "                           ('cos_trunc', None)])),\n",
       "             ('2',\n",
       "              OrderedDict([('f_0', 0    3403.707735\n",
       "                            1    4933.153517\n",
       "                            Name: 2, dtype: float64),\n",
       "                           ('f_1',\n",
       "                            0    3285.239119\n",
       "                            1    4697.905621\n",
       "                            dtype: float64),\n",
       "                           ('f_ND', Series([], dtype: float64)),\n",
       "                           ('chi_O1',\n",
       "                                        0           1\n",
       "                            0  118.379433    0.178367\n",
       "                            1    0.178367  235.158713),\n",
       "                           ('chi_ND',\n",
       "                            Empty DataFrame\n",
       "                            Columns: []\n",
       "                            Index: []),\n",
       "                           ('ZPF',\n",
       "                            array([[-0.00630462,  0.3739436 , -0.0064809 ],\n",
       "                                   [-0.43976844, -0.00691601,  0.03771814]])),\n",
       "                           ('Pm_normed',\n",
       "                            array([[2.93675485e-04, 9.94882276e-01, 2.98833838e-04],\n",
       "                                   [9.85883624e-01, 2.34800158e-04, 6.98373181e-03]])),\n",
       "                           ('Pm_raw',\n",
       "                            0    0.000294\n",
       "                            1    0.962103\n",
       "                            Name: j7, dtype: float64),\n",
       "                           ('_Pm_norm',\n",
       "                            modes\n",
       "                            0    1.012759\n",
       "                            1    1.024718\n",
       "                            dtype: float64),\n",
       "                           ('_Pm_cap_norm',\n",
       "                            modes\n",
       "                            0    0.485256\n",
       "                            1    0.509840\n",
       "                            dtype: float64),\n",
       "                           ('hfss_variables',\n",
       "                            _Cj_7    9.9999999999999998e-17farad\n",
       "                            _Cj_8    9.9999999999999998e-17farad\n",
       "                            _Cj_9    9.9999999999999998e-17farad\n",
       "                            _Lj_7        1.3000000000000001e-08H\n",
       "                            _Lj_8                      1.35e-08H\n",
       "                            _Lj_9                      1.35e-08H\n",
       "                            Name: 2, dtype: object),\n",
       "                           ('Ljs',\n",
       "                            j7    1.300000e-08\n",
       "                            j8    1.350000e-08\n",
       "                            j9    1.350000e-08\n",
       "                            Name: 2, dtype: float64),\n",
       "                           ('Cjs',\n",
       "                            j7    2.000000e-15\n",
       "                            j8    2.000000e-15\n",
       "                            j9    2.000000e-15\n",
       "                            Name: 2, dtype: float64),\n",
       "                           ('Q_coupling',\n",
       "                            Empty DataFrame\n",
       "                            Columns: []\n",
       "                            Index: [0, 1]),\n",
       "                           ('Qs',\n",
       "                            0    1.089840e+06\n",
       "                            1    1.092208e+06\n",
       "                            Name: 2, dtype: float64),\n",
       "                           ('fock_trunc', None),\n",
       "                           ('cos_trunc', None)])),\n",
       "             ('3',\n",
       "              OrderedDict([('f_0', 0    3403.699838\n",
       "                            1    4895.993981\n",
       "                            Name: 3, dtype: float64),\n",
       "                           ('f_1',\n",
       "                            0    3285.225151\n",
       "                            1    4657.683339\n",
       "                            dtype: float64),\n",
       "                           ('f_ND', Series([], dtype: float64)),\n",
       "                           ('chi_O1',\n",
       "                                        0           1\n",
       "                            0  118.375800    0.197774\n",
       "                            1    0.197774  238.211756),\n",
       "                           ('chi_ND',\n",
       "                            Empty DataFrame\n",
       "                            Columns: []\n",
       "                            Index: []),\n",
       "                           ('ZPF',\n",
       "                            array([[-0.00649168,  0.37394073, -0.00648073],\n",
       "                                   [-0.44288178, -0.00750348,  0.01311458]])),\n",
       "                           ('Pm_normed',\n",
       "                            array([[3.06644316e-04, 9.94869314e-01, 2.98818638e-04],\n",
       "                                   [9.92216224e-01, 2.78481211e-04, 8.50706461e-04]])),\n",
       "                           ('Pm_raw',\n",
       "                            0    0.000307\n",
       "                            1    0.968285\n",
       "                            Name: j7, dtype: float64),\n",
       "                           ('_Pm_norm',\n",
       "                            modes\n",
       "                            0    1.012759\n",
       "                            1    1.024715\n",
       "                            dtype: float64),\n",
       "                           ('_Pm_cap_norm',\n",
       "                            modes\n",
       "                            0    0.485254\n",
       "                            1    0.509856\n",
       "                            dtype: float64),\n",
       "                           ('hfss_variables',\n",
       "                            _Cj_7    9.9999999999999998e-17farad\n",
       "                            _Cj_8    9.9999999999999998e-17farad\n",
       "                            _Cj_9    9.9999999999999998e-17farad\n",
       "                            _Lj_7        1.3200000000000001e-08H\n",
       "                            _Lj_8                      1.35e-08H\n",
       "                            _Lj_9                      1.35e-08H\n",
       "                            Name: 3, dtype: object),\n",
       "                           ('Ljs',\n",
       "                            j7    1.320000e-08\n",
       "                            j8    1.350000e-08\n",
       "                            j9    1.350000e-08\n",
       "                            Name: 3, dtype: float64),\n",
       "                           ('Cjs',\n",
       "                            j7    2.000000e-15\n",
       "                            j8    2.000000e-15\n",
       "                            j9    2.000000e-15\n",
       "                            Name: 3, dtype: float64),\n",
       "                           ('Q_coupling',\n",
       "                            Empty DataFrame\n",
       "                            Columns: []\n",
       "                            Index: [0, 1]),\n",
       "                           ('Qs',\n",
       "                            0    1.089840e+06\n",
       "                            1    1.092225e+06\n",
       "                            Name: 3, dtype: float64),\n",
       "                           ('fock_trunc', None),\n",
       "                           ('cos_trunc', None)])),\n",
       "             ('4',\n",
       "              OrderedDict([('f_0', 0    3403.691716\n",
       "                            1    4859.592723\n",
       "                            Name: 4, dtype: float64),\n",
       "                           ('f_1',\n",
       "                            0    3285.215144\n",
       "                            1    4620.951612\n",
       "                            dtype: float64),\n",
       "                           ('f_ND', Series([], dtype: float64)),\n",
       "                           ('chi_O1',\n",
       "                                        0           1\n",
       "                            0  118.372000    0.209146\n",
       "                            1    0.209146  238.536538),\n",
       "                           ('chi_ND',\n",
       "                            Empty DataFrame\n",
       "                            Columns: []\n",
       "                            Index: []),\n",
       "                           ('ZPF',\n",
       "                            array([[-0.00668408,  0.37393773, -0.00648055],\n",
       "                                   [-0.44470143, -0.00773642,  0.00800645]])),\n",
       "                           ('Pm_normed',\n",
       "                            array([[3.20238869e-04, 9.94855714e-01, 2.98802924e-04],\n",
       "                                   [9.92836858e-01, 2.98257758e-04, 3.19442009e-04]])),\n",
       "                           ('Pm_raw',\n",
       "                            0    0.000320\n",
       "                            1    0.968888\n",
       "                            Name: j7, dtype: float64),\n",
       "                           ('_Pm_norm',\n",
       "                            modes\n",
       "                            0    1.012759\n",
       "                            1    1.024718\n",
       "                            dtype: float64),\n",
       "                           ('_Pm_cap_norm',\n",
       "                            modes\n",
       "                            0    0.485252\n",
       "                            1    0.509876\n",
       "                            dtype: float64),\n",
       "                           ('hfss_variables',\n",
       "                            _Cj_7    9.9999999999999998e-17farad\n",
       "                            _Cj_8    9.9999999999999998e-17farad\n",
       "                            _Cj_9    9.9999999999999998e-17farad\n",
       "                            _Lj_7        1.3399999999999999e-08H\n",
       "                            _Lj_8                      1.35e-08H\n",
       "                            _Lj_9                      1.35e-08H\n",
       "                            Name: 4, dtype: object),\n",
       "                           ('Ljs',\n",
       "                            j7    1.340000e-08\n",
       "                            j8    1.350000e-08\n",
       "                            j9    1.350000e-08\n",
       "                            Name: 4, dtype: float64),\n",
       "                           ('Cjs',\n",
       "                            j7    2.000000e-15\n",
       "                            j8    2.000000e-15\n",
       "                            j9    2.000000e-15\n",
       "                            Name: 4, dtype: float64),\n",
       "                           ('Q_coupling',\n",
       "                            Empty DataFrame\n",
       "                            Columns: []\n",
       "                            Index: [0, 1]),\n",
       "                           ('Qs',\n",
       "                            0    1.089840e+06\n",
       "                            1    1.092227e+06\n",
       "                            Name: 4, dtype: float64),\n",
       "                           ('fock_trunc', None),\n",
       "                           ('cos_trunc', None)])),\n",
       "             ('5',\n",
       "              OrderedDict([('f_0', 0    3403.683359\n",
       "                            1    4823.981954\n",
       "                            Name: 5, dtype: float64),\n",
       "                           ('f_1',\n",
       "                            0    3285.205505\n",
       "                            1    4585.199133\n",
       "                            dtype: float64),\n",
       "                           ('f_ND', Series([], dtype: float64)),\n",
       "                           ('chi_O1',\n",
       "                                        0           1\n",
       "                            0  118.368002    0.219705\n",
       "                            1    0.219705  238.672969),\n",
       "                           ('chi_ND',\n",
       "                            Empty DataFrame\n",
       "                            Columns: []\n",
       "                            Index: []),\n",
       "                           ('ZPF',\n",
       "                            array([[-0.00688205,  0.37393457, -0.00648036],\n",
       "                                   [-0.44641537, -0.00792155,  0.00580218]])),\n",
       "                           ('Pm_normed',\n",
       "                            array([[3.34497608e-04, 9.94841354e-01, 2.98786706e-04],\n",
       "                                   [9.93068512e-01, 3.15011382e-04, 1.69000651e-04]])),\n",
       "                           ('Pm_raw',\n",
       "                            0    0.000334\n",
       "                            1    0.969112\n",
       "                            Name: j7, dtype: float64),\n",
       "                           ('_Pm_norm',\n",
       "                            modes\n",
       "                            0    1.012759\n",
       "                            1    1.024720\n",
       "                            dtype: float64),\n",
       "                           ('_Pm_cap_norm',\n",
       "                            modes\n",
       "                            0    0.485255\n",
       "                            1    0.509900\n",
       "                            dtype: float64),\n",
       "                           ('hfss_variables',\n",
       "                            _Cj_7    9.9999999999999998e-17farad\n",
       "                            _Cj_8    9.9999999999999998e-17farad\n",
       "                            _Cj_9    9.9999999999999998e-17farad\n",
       "                            _Lj_7        1.3599999999999999e-08H\n",
       "                            _Lj_8                      1.35e-08H\n",
       "                            _Lj_9                      1.35e-08H\n",
       "                            Name: 5, dtype: object),\n",
       "                           ('Ljs',\n",
       "                            j7    1.360000e-08\n",
       "                            j8    1.350000e-08\n",
       "                            j9    1.350000e-08\n",
       "                            Name: 5, dtype: float64),\n",
       "                           ('Cjs',\n",
       "                            j7    2.000000e-15\n",
       "                            j8    2.000000e-15\n",
       "                            j9    2.000000e-15\n",
       "                            Name: 5, dtype: float64),\n",
       "                           ('Q_coupling',\n",
       "                            Empty DataFrame\n",
       "                            Columns: []\n",
       "                            Index: [0, 1]),\n",
       "                           ('Qs',\n",
       "                            0    1.089840e+06\n",
       "                            1    1.092228e+06\n",
       "                            Name: 5, dtype: float64),\n",
       "                           ('fock_trunc', None),\n",
       "                           ('cos_trunc', None)]))])"
      ]
     },
     "execution_count": 17,
     "metadata": {},
     "output_type": "execute_result"
    }
   ],
   "source": [
    "epra = epr.QuantumAnalysis(eprh.data_filename)\n",
    "\n",
    "# Analyze\n",
    "epra.analyze_all_variations()"
   ]
  },
  {
   "cell_type": "code",
   "execution_count": 18,
   "id": "d9e797f7-65c7-4c2a-931b-4e55ac9e0c86",
   "metadata": {},
   "outputs": [
    {
     "name": "stdout",
     "output_type": "stream",
     "text": [
      "\t Differences in variations:\n"
     ]
    },
    {
     "data": {
      "text/html": [
       "<div>\n",
       "<style scoped>\n",
       "    .dataframe tbody tr th:only-of-type {\n",
       "        vertical-align: middle;\n",
       "    }\n",
       "\n",
       "    .dataframe tbody tr th {\n",
       "        vertical-align: top;\n",
       "    }\n",
       "\n",
       "    .dataframe thead th {\n",
       "        text-align: right;\n",
       "    }\n",
       "</style>\n",
       "<table border=\"1\" class=\"dataframe\">\n",
       "  <thead>\n",
       "    <tr style=\"text-align: right;\">\n",
       "      <th>variation</th>\n",
       "      <th>0</th>\n",
       "      <th>1</th>\n",
       "      <th>2</th>\n",
       "      <th>3</th>\n",
       "      <th>4</th>\n",
       "      <th>5</th>\n",
       "    </tr>\n",
       "  </thead>\n",
       "  <tbody>\n",
       "    <tr>\n",
       "      <th>_Lj_7</th>\n",
       "      <td>1.35e-08H</td>\n",
       "      <td>1.28e-08H</td>\n",
       "      <td>1.3000000000000001e-08H</td>\n",
       "      <td>1.3200000000000001e-08H</td>\n",
       "      <td>1.3399999999999999e-08H</td>\n",
       "      <td>1.3599999999999999e-08H</td>\n",
       "    </tr>\n",
       "  </tbody>\n",
       "</table>\n",
       "</div>"
      ],
      "text/plain": [
       "variation          0          1                        2  \\\n",
       "_Lj_7      1.35e-08H  1.28e-08H  1.3000000000000001e-08H   \n",
       "\n",
       "variation                        3                        4  \\\n",
       "_Lj_7      1.3200000000000001e-08H  1.3399999999999999e-08H   \n",
       "\n",
       "variation                        5  \n",
       "_Lj_7      1.3599999999999999e-08H  "
      ]
     },
     "metadata": {},
     "output_type": "display_data"
    },
    {
     "name": "stdout",
     "output_type": "stream",
     "text": [
      "\n",
      "\n"
     ]
    }
   ],
   "source": [
    "epra.print_info()"
   ]
  },
  {
   "cell_type": "code",
   "execution_count": 19,
   "id": "d484ae29-3f08-47c7-b51b-fe5f6aa4db62",
   "metadata": {},
   "outputs": [
    {
     "data": {
      "text/markdown": [
       "#### Mode frequencies (MHz)"
      ],
      "text/plain": [
       "<IPython.core.display.Markdown object>"
      ]
     },
     "metadata": {},
     "output_type": "display_data"
    },
    {
     "data": {
      "text/markdown": [
       "###### Numerical diagonalization"
      ],
      "text/plain": [
       "<IPython.core.display.Markdown object>"
      ]
     },
     "metadata": {},
     "output_type": "display_data"
    },
    {
     "data": {
      "text/html": [
       "<div>\n",
       "<style scoped>\n",
       "    .dataframe tbody tr th:only-of-type {\n",
       "        vertical-align: middle;\n",
       "    }\n",
       "\n",
       "    .dataframe tbody tr th {\n",
       "        vertical-align: top;\n",
       "    }\n",
       "\n",
       "    .dataframe thead th {\n",
       "        text-align: right;\n",
       "    }\n",
       "</style>\n",
       "<table border=\"1\" class=\"dataframe\">\n",
       "  <thead>\n",
       "    <tr style=\"text-align: right;\">\n",
       "      <th>variation</th>\n",
       "      <th>0</th>\n",
       "      <th>1</th>\n",
       "      <th>2</th>\n",
       "      <th>3</th>\n",
       "      <th>4</th>\n",
       "      <th>5</th>\n",
       "    </tr>\n",
       "  </thead>\n",
       "  <tbody>\n",
       "  </tbody>\n",
       "</table>\n",
       "</div>"
      ],
      "text/plain": [
       "Empty DataFrame\n",
       "Columns: [0, 1, 2, 3, 4, 5]\n",
       "Index: []"
      ]
     },
     "metadata": {},
     "output_type": "display_data"
    },
    {
     "data": {
      "text/markdown": [
       "#### Kerr Non-linear coefficient table (MHz)"
      ],
      "text/plain": [
       "<IPython.core.display.Markdown object>"
      ]
     },
     "metadata": {},
     "output_type": "display_data"
    },
    {
     "data": {
      "text/markdown": [
       "###### Numerical diagonalization"
      ],
      "text/plain": [
       "<IPython.core.display.Markdown object>"
      ]
     },
     "metadata": {},
     "output_type": "display_data"
    },
    {
     "data": {
      "text/html": [
       "<div>\n",
       "<style scoped>\n",
       "    .dataframe tbody tr th:only-of-type {\n",
       "        vertical-align: middle;\n",
       "    }\n",
       "\n",
       "    .dataframe tbody tr th {\n",
       "        vertical-align: top;\n",
       "    }\n",
       "\n",
       "    .dataframe thead th {\n",
       "        text-align: right;\n",
       "    }\n",
       "</style>\n",
       "<table border=\"1\" class=\"dataframe\">\n",
       "  <thead>\n",
       "    <tr style=\"text-align: right;\">\n",
       "      <th></th>\n",
       "      <th></th>\n",
       "    </tr>\n",
       "    <tr>\n",
       "      <th>variation</th>\n",
       "      <th></th>\n",
       "    </tr>\n",
       "  </thead>\n",
       "  <tbody>\n",
       "  </tbody>\n",
       "</table>\n",
       "</div>"
      ],
      "text/plain": [
       "Empty DataFrame\n",
       "Columns: []\n",
       "Index: []"
      ]
     },
     "metadata": {},
     "output_type": "display_data"
    }
   ],
   "source": [
    "epra.report_results()"
   ]
  },
  {
   "cell_type": "markdown",
   "id": "c8c5e026-47ff-404e-ac17-d2d5de2e368e",
   "metadata": {},
   "source": [
    "This already has anharmonicity and Kerr"
   ]
  },
  {
   "cell_type": "code",
   "execution_count": 20,
   "id": "4dc559b8-95eb-4960-a9a9-f71b35536b44",
   "metadata": {
    "tags": []
   },
   "outputs": [
    {
     "data": {
      "text/plain": [
       "(<Figure size 720x432 with 4 Axes>,\n",
       " array([[<AxesSubplot:title={'center':'Modal frequencies (MHz)'}, xlabel='Lj_8'>,\n",
       "         <AxesSubplot:title={'center':'Anharmonicities (MHz)'}, xlabel='Lj_8'>],\n",
       "        [<AxesSubplot:title={'center':'Quality factors'}, xlabel='Lj_8'>,\n",
       "         <AxesSubplot:title={'center':'Cross-Kerr frequencies (MHz)'}, xlabel='Lj_8'>]],\n",
       "       dtype=object))"
      ]
     },
     "execution_count": 20,
     "metadata": {},
     "output_type": "execute_result"
    },
    {
     "data": {
      "image/png": "[encoded data removed]",
      "text/plain": [
       "<Figure size 720x432 with 4 Axes>"
      ]
     },
     "metadata": {
      "needs_background": "light"
     },
     "output_type": "display_data"
    }
   ],
   "source": [
    "epra.plot_hamiltonian_results(swp_variable='Lj_8')"
   ]
  },
  {
   "cell_type": "markdown",
   "id": "2affe9b9-cd3f-4c6e-9906-f0715b2fd4d6",
   "metadata": {},
   "source": [
    "## Example: Manipulating fields directly\n",
    "\n",
    "Easiest way to get computed fields"
   ]
  },
  {
   "cell_type": "code",
   "execution_count": 21,
   "id": "74d3a1da-272f-48b9-85c8-7a8e5645e181",
   "metadata": {},
   "outputs": [
    {
     "name": "stdout",
     "output_type": "stream",
     "text": [
      "Energy in silicon substrate  = 91.8%\n",
      "Energy in vacuum = 8.2%\n"
     ]
    }
   ],
   "source": [
    "eprh.set_mode(0) # selects qubit\n",
    "\n",
    "# Calculate the EPR p_dielectic\n",
    "p_dielectric, (ℰ_substr, ℰ_total) = eprh.calc_p_electric_volume('Substrate', 'AllObjects')\n",
    "print(f'Energy in silicon substrate  = {100*p_dielectric:.1f}%')\n",
    "\n",
    "p_vac, (ℰ_vac, ℰ_total) = eprh.calc_p_electric_volume('Box', E_total=ℰ_total)  # Vacuum\n",
    "print(f'Energy in vacuum = {100*p_vac:.1f}%')"
   ]
  },
  {
   "cell_type": "markdown",
   "id": "321a8844-ed00-4934-a87e-46ae358dd391",
   "metadata": {},
   "source": [
    "There's also an interface for the _Fields Calculator_ in Ansys which can be used for arbitrary computations"
   ]
  },
  {
   "cell_type": "code",
   "execution_count": 22,
   "id": "353e5152-6f15-4b39-bf13-71a7837c89ca",
   "metadata": {},
   "outputs": [
    {
     "data": {
      "text/plain": [
       "4.85213797214913e-26"
      ]
     },
     "execution_count": 22,
     "metadata": {},
     "output_type": "execute_result"
    }
   ],
   "source": [
    "volume = 'AllObjects'\n",
    "\n",
    "calcobject = epr.ansys.CalcObject([], eprh.setup)\n",
    "vecE = calcobject.getQty(\"E\").smooth()\n",
    "A = vecE.times_eps()\n",
    "B = vecE.conj()\n",
    "A = A.dot(B)\n",
    "A = A.real()\n",
    "A = A.integrate_vol(name=volume)\n",
    "\n",
    "E_total = A.evaluate(lv=eprh._get_lv())  # lv stands for variation\n",
    "# This command numerically evaluates and displays the\n",
    "# results of calculator operation\n",
    "E_total"
   ]
  },
  {
   "cell_type": "markdown",
   "id": "cc2a8c20-f1d2-4e3d-8d55-b29ca0eaa7d3",
   "metadata": {},
   "source": [
    "## Quit Ansys"
   ]
  },
  {
   "cell_type": "code",
   "execution_count": 23,
   "id": "033cb9e8-1369-428a-ac01-90692a84bc67",
   "metadata": {},
   "outputs": [],
   "source": [
    "# Save HFSS project file\n",
    "pinfo.project.save()\n",
    "# This allows Ansys to be closed, but doesn't close it\n",
    "pinfo.disconnect()"
   ]
  },
  {
   "cell_type": "code",
   "execution_count": 24,
   "id": "95767b60-9ee6-4c51-a26d-fc0bc4944c82",
   "metadata": {},
   "outputs": [
    {
     "data": {
      "text/plain": [
       "0"
      ]
     },
     "execution_count": 24,
     "metadata": {},
     "output_type": "execute_result"
    }
   ],
   "source": [
    "# This closes Ansys as well\n",
    "subprocess.call(\"taskkill /f /im ansysedt.exe\", shell=True)"
   ]
  },
  {
   "cell_type": "code",
   "execution_count": null,
   "id": "e4465b28-e114-472e-8036-7a8550cefc05",
   "metadata": {},
   "outputs": [],
   "source": []
  }
 ],
 "metadata": {
  "kernelspec": {
   "display_name": "Python 3 (ipykernel)",
   "language": "python",
   "name": "python3"
  },
  "language_info": {
   "codemirror_mode": {
    "name": "ipython",
    "version": 3
   },
   "file_extension": ".py",
   "mimetype": "text/x-python",
   "name": "python",
   "nbconvert_exporter": "python",
   "pygments_lexer": "ipython3",
   "version": "3.9.13"
  },
  "vscode": {
   "interpreter": {
    "hash": "11938c6bc6919ae2720b4d5011047913343b08a43b18698fd82dedb0d4417594"
   }
  }
 },
 "nbformat": 4,
 "nbformat_minor": 5
}
